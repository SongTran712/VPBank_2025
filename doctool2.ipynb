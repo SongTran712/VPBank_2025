{
 "cells": [
  {
   "cell_type": "code",
   "execution_count": 10,
   "id": "9ddb4250",
   "metadata": {},
   "outputs": [],
   "source": [
    "import fitz  # PyMuPDF\n",
    "from PIL import Image\n",
    "import io\n",
    "import base64\n",
    "import json\n",
    "import boto3\n",
    "import os\n",
    "import dotenv"
   ]
  },
  {
   "cell_type": "code",
   "execution_count": 11,
   "id": "99769971",
   "metadata": {},
   "outputs": [
    {
     "data": {
      "text/plain": [
       "True"
      ]
     },
     "execution_count": 11,
     "metadata": {},
     "output_type": "execute_result"
    }
   ],
   "source": [
    "dotenv.load_dotenv(\".env\", override=True)"
   ]
  },
  {
   "cell_type": "code",
   "execution_count": 12,
   "id": "966d361d",
   "metadata": {},
   "outputs": [],
   "source": [
    "session = boto3.Session(\n",
    "    aws_access_key_id=os.environ.get('AWS_ACCESS_KEY_ID'),\n",
    "    aws_secret_access_key= os.environ.get('AWS_SECRET_ACCESS_KEY'),\n",
    "    region_name= os.environ.get('AWS_REGION')\n",
    ")\n",
    "client = session.client(\"bedrock-runtime\")"
   ]
  },
  {
   "cell_type": "code",
   "execution_count": null,
   "id": "7a01754a",
   "metadata": {},
   "outputs": [
    {
     "name": "stdout",
     "output_type": "stream",
     "text": [
      "Found PDF files:\n"
     ]
    }
   ],
   "source": [
    "pdf_dir = \"./pdf/vlg/\"\n",
    "pdf_files = [os.path.join(pdf_dir, f) for f in os.listdir(pdf_dir) if f.endswith(\".pdf\")]\n",
    "\n",
    "print(\"Found PDF files:\")\n",
    "for i, path in enumerate(pdf_files):\n",
    "\n",
    "    doc = fitz.open(path)\n",
    "\n",
    "    image_contents = []\n",
    "\n",
    "    for page_number in range(0, 19):  # page 10 to 30 → index 9 to 29\n",
    "        if page_number >= len(doc):\n",
    "            break  # avoid out-of-bounds error\n",
    "            \n",
    "        page = doc.load_page(page_number)\n",
    "        pix = page.get_pixmap(dpi=200)\n",
    "\n",
    "        # Convert to PIL Image\n",
    "        img_data = Image.open(io.BytesIO(pix.tobytes(\"png\")))\n",
    "\n",
    "        # Encode to base64\n",
    "        buffered = io.BytesIO()\n",
    "        img_data.save(buffered, format=\"JPEG\")\n",
    "        img_base64 = base64.b64encode(buffered.getvalue()).decode(\"utf-8\")\n",
    "\n",
    "        image_contents.append({\n",
    "            \"type\": \"image\",\n",
    "            \"source\": {\n",
    "                \"type\": \"base64\",\n",
    "                \"media_type\": \"image/jpeg\",\n",
    "                \"data\": img_base64\n",
    "            }\n",
    "        })\n",
    "    if i == 0:\n",
    "        image_contents_temp = image_contents\n",
    "            # === Add your question ===\n",
    "        image_contents_temp.append({\n",
    "            \"type\": \"text\",\n",
    "            \"text\": \"\"\"Hãy đọc báo cáo tài chính và trích xuất các thông tin của công ty, với các trường dưới đây:\n",
    "            Tên công ty, Mã chứng khoán, Địa chỉ trụ sở, Số điện thoại, Email, Lĩnh vực kinh doanh.\n",
    "        Hãy trả kết quả dưới dạng JSON. Ví dụ như sau:\n",
    "        {\n",
    "        \"TenCongTy\": \"Abc\",\n",
    "        \"MaChungKhoan\": ...,\n",
    "        \"DiaTri\": ...,\n",
    "        ...\n",
    "        }\n",
    "        Nếu một trường không tìm thấy, hãy ghi là `null`. Không cần giải thích, chỉ xuất JSON kết quả.\"\"\"\n",
    "        })\n",
    "        # === Claude payload ===\n",
    "        payload = {\n",
    "            \"anthropic_version\": \"bedrock-2023-05-31\",\n",
    "            \"max_tokens\": 4096,\n",
    "            \"temperature\": 0,\n",
    "            \"system\": \"Bạn là chuyên gia tài chính, hãy trích thông tin chính xác từ ảnh báo cáo tài chính.\",\n",
    "            \"messages\": [\n",
    "                {\n",
    "                    \"role\": \"user\",\n",
    "                    \"content\": image_contents\n",
    "                }\n",
    "            ]\n",
    "        }\n",
    "        # === Gửi tới Claude ===\n",
    "        response = client.invoke_model(\n",
    "            modelId='anthropic.claude-3-5-sonnet-20240620-v1:0',\n",
    "            contentType='application/json',\n",
    "            accept='application/json',\n",
    "            body=json.dumps(payload)\n",
    "        )\n",
    "        # === Step 6: In kết quả ===\n",
    "        response_body = json.loads(response['body'].read())\n",
    "        # claude_output = \"\"\n",
    "\n",
    "        # print(\"\\nClaude Response:\\n\")\n",
    "        for part in response_body.get(\"content\", []):\n",
    "            # claude_output += part.get(\"text\", \"\")\n",
    "            print(part.get(\"text\", \"\"))\n",
    "\n",
    "    # === Add your question ===\n",
    "    image_contents.append({\n",
    "        \"type\": \"text\",\n",
    "        \"text\": \"\"\"Hãy đọc báo cáo tài chính và trích xuất các thông tin của công ty và chỉ số tài chính sau đây theo từng quý, nếu có:\n",
    "        Tổng tài sản cuối quý, Lợi nhuận sau thuế, Lợi nhuận gộp, Vốn chủ sở hữu, Tổng doanh thu, Tổng tài sản, Tổng nợ,  Giá vốn hàng bán,Lợi nhuận gộp về BH và CCDV, Lợi nhuận tài chính, Lợi nhuận trước thuế, Tổng tài sản lưu động ngắn hạn, Tổng tài sản, Nợ ngắn hạn\n",
    "    Hãy trả kết quả dưới dạng JSON. Ví dụ như sau:\n",
    "    {\n",
    "    \"quy\": \"Qx/YYYY\",\n",
    "    \"tong_tai_san_cuoi_quy\": ...,\n",
    "    \"loi_nhuan_sau_thue\": ...,\n",
    "    ...\n",
    "    }\n",
    "    Nếu một trường không tìm thấy, hãy ghi là `null`. Không cần giải thích, chỉ xuất JSON kết quả.\"\"\"\n",
    "    })\n",
    "\n",
    "    # === Claude payload ===\n",
    "    payload = {\n",
    "        \"anthropic_version\": \"bedrock-2023-05-31\",\n",
    "        \"max_tokens\": 4096,\n",
    "        \"temperature\": 0,\n",
    "        \"system\": \"Bạn là chuyên gia tài chính, hãy trích thông tin chính xác từ ảnh báo cáo tài chính.\",\n",
    "        \"messages\": [\n",
    "            {\n",
    "                \"role\": \"user\",\n",
    "                \"content\": image_contents\n",
    "            }\n",
    "        ]\n",
    "    }\n",
    "    # === Gửi tới Claude ===\n",
    "    response = client.invoke_model(\n",
    "        modelId='anthropic.claude-3-5-sonnet-20240620-v1:0',\n",
    "        contentType='application/json',\n",
    "        accept='application/json',\n",
    "        body=json.dumps(payload)\n",
    "    )\n",
    "    # === Step 6: In kết quả ===\n",
    "    response_body = json.loads(response['body'].read())\n",
    "    # claude_output = \"\"\n",
    "\n",
    "    # print(\"\\nClaude Response:\\n\")\n",
    "    for part in response_body.get(\"content\", []):\n",
    "        # claude_output += part.get(\"text\", \"\")\n",
    "        print(\"OK\")\n",
    "        print(part.get(\"text\", \"\"))\n",
    "    "
   ]
  },
  {
   "cell_type": "code",
   "execution_count": 7,
   "id": "714eecf1",
   "metadata": {},
   "outputs": [
    {
     "data": {
      "text/plain": [
       "['./pdf/dff/duafat_quy1_2025.pdf',\n",
       " './pdf/dff/duafat_quy2_2024.pdf',\n",
       " './pdf/dff/duafat_quy3_2024.pdf',\n",
       " './pdf/dff/duafat_quy4_2024.pdf']"
      ]
     },
     "execution_count": 7,
     "metadata": {},
     "output_type": "execute_result"
    }
   ],
   "source": [
    "pdf_files"
   ]
  },
  {
   "cell_type": "code",
   "execution_count": null,
   "id": "fb35d7ef",
   "metadata": {},
   "outputs": [],
   "source": []
  }
 ],
 "metadata": {
  "kernelspec": {
   "display_name": "awsvpbank",
   "language": "python",
   "name": "python3"
  },
  "language_info": {
   "codemirror_mode": {
    "name": "ipython",
    "version": 3
   },
   "file_extension": ".py",
   "mimetype": "text/x-python",
   "name": "python",
   "nbconvert_exporter": "python",
   "pygments_lexer": "ipython3",
   "version": "3.10.18"
  }
 },
 "nbformat": 4,
 "nbformat_minor": 5
}
