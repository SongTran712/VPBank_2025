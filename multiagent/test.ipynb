{
 "cells": [
  {
   "cell_type": "code",
   "execution_count": 22,
   "id": "dceb7382",
   "metadata": {},
   "outputs": [
    {
     "name": "stderr",
     "output_type": "stream",
     "text": [
      "defaulted to us-west-2 because no region was specified\n",
      "issue=<https://github.com/strands-agents/sdk-python/issues/238> | this behavior will change in an upcoming release\n"
     ]
    }
   ],
   "source": [
    "import boto3\n",
    "from strands.models import BedrockModel\n",
    "from botocore.config import Config as BotocoreConfig\n",
    "from strands import Agent\n",
    "from pydantic import BaseModel\n",
    "import dotenv\n",
    "import os\n",
    "from strands import Agent, tool\n",
    "\n",
    "dotenv.load_dotenv(\".env\", override=True)\n",
    "# Create a custom boto3 session\n",
    "session = boto3.Session(\n",
    "    aws_access_key_id= os.environ.get('AWS_ACCESS_KEY'),\n",
    "    aws_secret_access_key= os.environ.get('AWS_SECRET_KEY'),\n",
    "    region_name= 'ap-southeast-1'\n",
    "    \n",
    ")\n",
    "boto_config = BotocoreConfig(\n",
    "    retries={\"max_attempts\": 3, \"mode\": \"standard\"},\n",
    "    connect_timeout=5,\n",
    "    read_timeout=60\n",
    ")\n",
    "# Create a Bedrock model with the custom session\n",
    "bedrock_model = BedrockModel(\n",
    "    model_id=\"arn:aws:bedrock:ap-southeast-1:389903776084:inference-profile/apac.anthropic.claude-3-5-sonnet-20240620-v1:0\",\n",
    "    boto_session=session,\n",
    "    temperature=0.7,\n",
    "    top_p=0.8,\n",
    "    stop_sequences=[\"###\", \"END\"],\n",
    "    boto_client_config=boto_config,\n",
    ")\n",
    "\n",
    "def safe_del(self):\n",
    "    if hasattr(self, \"thread_pool_wrapper\") and hasattr(self.thread_pool_wrapper, \"shutdown\"):\n",
    "        self.thread_pool_wrapper.shutdown()\n",
    "\n",
    "Agent.__del__ = safe_del"
   ]
  },
  {
   "cell_type": "code",
   "execution_count": 25,
   "id": "82368586",
   "metadata": {},
   "outputs": [
    {
     "name": "stdout",
     "output_type": "stream",
     "text": [
      "Để phân tích tình hình tài chính của công ty dựa trên dữ liệu được cung cấp, tôi sẽ sử dụng công cụ analyze_financial_data để tính toán các chỉ số tài chính quan trọng và tạo biểu đồ phân tích. Sau đó, tôi sẽ cung cấp một báo cáo chi tiết về tình hình tài chính của công ty.\n",
      "\n",
      "<think>\n",
      "1. Chuẩn bị dữ liệu đầu vào cho công cụ analyze_financial_data\n",
      "2. Gọi công cụ để tính toán các chỉ số và tạo biểu đồ\n",
      "3. Phân tích kết quả và viết báo cáo\n",
      "</think>\n",
      "\n",
      "Đầu tiên, tôi sẽ gọi công cụ analyze_financial_data:\n",
      "Tool #1: analyze_financial_data\n",
      "Saved chart: charts\\tai_san_va_hieu_qua_sinh_loi.png\n",
      "Saved chart: charts\\von_chu_va_sinh_loi.png\n",
      "Saved chart: charts\\doanh_thu_va_hieu_qua.png\n",
      "Saved chart: charts\\bien_loi_nhuan_va_loi_nhuan.png\n",
      "Saved chart: charts\\co_cau_tai_san_no.png\n",
      "Saved chart: charts\\phan_tich_loi_nhuan.png\n",
      "Saved chart: charts\\co_cau_von.png\n",
      "Saved chart: charts\\hieu_suat_va_kha_nang_thanh_toan.png\n",
      "{'ResponseMetadata': {'RequestId': '77534a13-6e96-4a06-a71f-c2ef189c2d5d', 'HTTPStatusCode': 200, 'HTTPHeaders': {'date': 'Tue, 15 Jul 2025 10:03:22 GMT', 'content-type': 'application/json', 'content-length': '3429', 'connection': 'keep-alive', 'x-amzn-requestid': '77534a13-6e96-4a06-a71f-c2ef189c2d5d', 'x-amzn-bedrock-invocation-latency': '28042', 'x-amzn-bedrock-output-token-count': '1302', 'x-amzn-bedrock-input-token-count': '12663'}, 'RetryAttempts': 0}, 'contentType': 'application/json', 'body': <botocore.response.StreamingBody object at 0x0000020277B37E50>}\n",
      "\n",
      "\n",
      "Dựa trên kết quả phân tích từ công cụ analyze_financial_data, tôi sẽ cung cấp một báo cáo chi tiết về tình hình tài chính của công ty:\n",
      "\n",
      "<think>\n",
      "1. Phân tích các chỉ số tài chính chính\n",
      "2. Xem xét biến động giữa các quý\n",
      "3. Đánh giá điểm mạnh và điểm yếu của công ty\n",
      "4. Xác định các rủi ro tiềm ẩn\n",
      "5. Tổng hợp và đưa ra kết luận\n",
      "</think>\n",
      "\n",
      "Báo cáo Phân tích Tài chính\n",
      "\n",
      "1. Tổng quan:\n",
      "\n",
      "Dữ liệu tài chính được cung cấp cho 4 quý, từ Q2/2024 đến Q1/2025. Qua phân tích, chúng ta có thể thấy công ty đã trải qua những biến động đáng kể trong hiệu quả hoạt động và tình hình tài chính.\n",
      "\n",
      "2. Phân tích các chỉ số tài chính chính:\n",
      "\n",
      "a) Khả năng sinh lời:\n",
      "- ROE (Tỷ suất lợi nhuận trên vốn chủ sở hữu):\n",
      "  Q2/2024: 6.33%\n",
      "  Q3/2024: 7.66%\n",
      "  Q4/2024: -2.15%\n",
      "  Q1/2025: 0.63%\n",
      "\n",
      "- ROA (Tỷ suất lợi nhuận trên tổng tài sản):\n",
      "  Q2/2024: 4.99%\n",
      "  Q3/2024: 6.10%\n",
      "  Q4/2024: -1.66%\n",
      "  Q1/2025: 0.47%\n",
      "\n",
      "- ROS (Tỷ suất lợi nhuận trên doanh thu):\n",
      "  Q2/2024: 25.16%\n",
      "  Q3/2024: 33.05%\n",
      "  Q4/2024: -6.11%\n",
      "  Q1/2025: 1.86%\n",
      "\n",
      "b) Cấu trúc tài chính:\n",
      "- Tỷ lệ nợ (Debt Ratio):\n",
      "  Q2/2024: 21.16%\n",
      "  Q3/2024: 20.34%\n",
      "  Q4/2024: 22.82%\n",
      "  Q1/2025: 24.44%\n",
      "\n",
      "c) Khả năng thanh toán:\n",
      "- Tỷ số thanh toán hiện hành (Current Ratio):\n",
      "  Q2/2024: 3.24\n",
      "  Q3/2024: 3.51\n",
      "  Q4/2024: 3.14\n",
      "  Q1/2025: 2.99\n",
      "\n",
      "d) Hiệu quả hoạt động:\n",
      "- Tỷ suất lợi nhuận gộp (Gross Profit Margin):\n",
      "  Q2/2024: 5.43%\n",
      "  Q3/2024: 4.27%\n",
      "  Q4/2024: 3.39%\n",
      "  Q1/2025: 3.83%\n",
      "\n",
      "- Tỷ lệ quay vòng tài sản (Asset Turnover Ratio):\n",
      "  Q2/2024: 0.20\n",
      "  Q3/2024: 0.18\n",
      "  Q4/2024: 0.27\n",
      "  Q1/2025: 0.25\n",
      "\n",
      "3. Phân tích biến động giữa các quý:\n",
      "\n",
      "a) Doanh thu và lợi nhuận:\n",
      "- Doanh thu tăng mạnh từ Q3/2024 (41.98 tỷ) đến Q4/2024 (62.29 tỷ) và duy trì ở mức cao trong Q1/2025 (60.11 tỷ).\n",
      "- Tuy nhiên, lợi nhuận sau thuế giảm mạnh từ Q3/2024 (13.88 tỷ) xuống mức âm trong Q4/2024 (-3.81 tỷ) và chỉ phục hồi nhẹ trong Q1/2025 (1.12 tỷ).\n",
      "\n",
      "b) Tài sản và nợ:\n",
      "- Tổng tài sản tăng dần qua các quý, từ 212.15 tỷ (Q2/2024) lên 236.16 tỷ (Q1/2025).\n",
      "- Tổng nợ cũng tăng theo, từ 44.88 tỷ (Q2/2024) lên 57.71 tỷ (Q1/2025).\n",
      "\n",
      "c) Vốn chủ sở hữu:\n",
      "- Vốn chủ sở hữu tăng từ Q2/2024 (167.26 tỷ) đến Q3/2024 (181.14 tỷ), sau đó giảm nhẹ trong Q4/2024 (177.33 tỷ) và tăng lại trong Q1/2025 (178.45 tỷ).\n",
      "\n",
      "4. Điểm mạnh và điểm yếu:\n",
      "\n",
      "Điểm mạnh:\n",
      "- Khả năng thanh toán tốt: Tỷ số thanh toán hiện hành luôn duy trì ở mức cao (>2.5), cho thấy công ty có khả năng đáp ứng các nghĩa vụ ngắn hạn.\n",
      "- Cấu trúc vốn ổn định: Tỷ lệ nợ duy trì ở mức thấp (<25%), cho thấy công ty không quá phụ thuộc vào nợ vay.\n",
      "\n",
      "Điểm yếu:\n",
      "- Biến động lớn về lợi nhuận: Lợi nhuận sau thuế giảm mạnh từ Q3/2024 đến Q4/2024, thậm chí âm trong Q4/2024.\n",
      "- Giảm hiệu quả sử dụng tài sản: Tỷ suất lợi nhuận gộp giảm dần qua các quý.\n",
      "\n",
      "5. Rủi ro tiềm ẩn:\n",
      "\n",
      "- Rủi ro kinh doanh: Sự sụt giảm mạnh về lợi nhuận trong Q4/2024 cho thấy có thể có vấn đề trong hoạt động kinh doanh cốt lõi của công ty.\n",
      "- Rủi ro tài chính: Mặc dù tỷ lệ nợ thấp, nhưng xu hướng tăng của nợ cần được theo dõi để tránh gánh nặng tài chính trong tương lai.\n",
      "- Rủi ro hiệu quả hoạt động: Tỷ suất lợi nhuận gộp giảm có thể ảnh hưởng đến khả năng sinh lời dài hạn của công ty.\n",
      "\n",
      "6. Kết luận và đề xuất:\n",
      "\n",
      "Công ty đang trải qua giai đoạn biến động về hiệu quả hoạt động. Mặc dù doanh thu tăng trong hai quý gần nhất, lợi nhuận lại giảm mạnh, đặc biệt là trong Q4/2024. Điều này cho thấy có thể có vấn đề về kiểm soát chi phí hoặc hiệu quả hoạt động.\n",
      "\n",
      "Đề xuất:\n",
      "1. Tập trung vào việc cải thiện biên lợi nhuận gộp bằng cách kiểm soát chi phí và tối ưu hóa quy trình sản xuất.\n",
      "2. Đánh giá lại chiến lược kinh doanh để xác định nguyên nhân của sự sụt giảm lợi nhuận trong Q4/2024.\n",
      "3. Duy trì cấu trúc vốn hiện tại với tỷ lệ nợ thấp để đảm bảo tính linh hoạt tài chính.\n",
      "4. Tìm cách tăng hiệu quả sử dụng tài sản để cải thiện ROA và ROE.\n",
      "5. Theo dõi chặt chẽ dòng tiền và khả năng thanh toán để đảm bảo công ty luôn có đủ thanh khoản.\n",
      "\n",
      "Với những biện pháp này, công ty có thể cải thiện hiệu quả hoạt động và ổn định tình hình tài chính trong các quý tiếp theo."
     ]
    }
   ],
   "source": [
    "from chartool import analyze_financial_data\n",
    "# from strands_tools import\n",
    "\n",
    "\n",
    "class TaiChinh(BaseModel):\n",
    "    status: bool\n",
    "    error: str\n",
    "    content: str\n",
    "    thongso: str\n",
    "    diemmanh: str\n",
    "    diemyeu: str\n",
    "    ruiro: str\n",
    "    ketluan: str\n",
    "    \n",
    "agent = Agent(model = bedrock_model, tools=[analyze_financial_data], system_prompt=\"\"\"\n",
    "You are a financial analysis expert. \n",
    "\n",
    "You can use the analyze_financial_data tool to calculate key financial metrics such as ROE, ROA, ROS, Debt Ratio,...  automatically generate insightful analytical charts.\n",
    "\n",
    "You are provided with the company’s full quarterly financial data in the form of a JSON list. For example:\n",
    "\n",
    "[\n",
    "  {\n",
    "    \"quy\": \"Q1/2025\",\n",
    "    \"tong_tai_san\": 1000000,\n",
    "    \"tong_no\": 800000,\n",
    "    \"von_chu_so_huu\": 200000,\n",
    "    \"tong_doanh_thu\": 500000,\n",
    "    \"loi_nhuan_sau_thue\": 25000,\n",
    "    \"loi_nhuan_truoc_thue\": 30000,\n",
    "    \"loi_nhuan_gop\": 80000,\n",
    "    \"tong_tai_san_luu_dong_ngan_han\": 400000,\n",
    "    \"no_ngan_han\": 250000\n",
    "  },\n",
    "  ...\n",
    "]\n",
    "\n",
    "Your task includes the following:\n",
    "\n",
    "    Always thinking clearly and including <think></think> to show step in your response\n",
    "\n",
    "    Calculate and report key financial indicators (ROE, ROA, ROS, Debt Ratio, CurrentRatio, GrossProfitMargin, AssetTurnoverRatio, etc.) for each quarter.\n",
    "\n",
    "    Generate charts to visualize trends and changes over time.\n",
    "\n",
    "    Provide a clear and structured financial analysis, highlighting:\n",
    "\n",
    "        Significant changes between quarters.\n",
    "\n",
    "        Strengths and weaknesses in the company’s financial position.\n",
    "\n",
    "        Potential risks based on financial ratios and trends.\n",
    "\n",
    "\n",
    "Your report should be accurate, insightful, and visually supported by charts for better decision-making.\n",
    "Your report must contains reasoning step that you have done\n",
    "Report in Vietnamese with well structured and clearly. \n",
    "\n",
    "\"\"\")\n",
    "\n",
    "output = agent(\"\"\"{\n",
    "        \"quy\": \"Q1/2025\",\n",
    "        \"tong_tai_san_cuoi_quy\": 236156479630,\n",
    "        \"loi_nhuan_sau_thue\": 1116027647,\n",
    "        \"loi_nhuan_gop\": 2304572679,\n",
    "        \"von_chu_so_huu\": 178445053214,\n",
    "        \"tong_doanh_thu\": 60107916752,\n",
    "        \"tong_tai_san\": 236156479630,\n",
    "        \"tong_no\": 57711426416,\n",
    "        \"gia_von_hang_ban\": 57803344073,\n",
    "        \"loi_nhuan_gop_ve_BH_va_CCDV\": 2304572679,\n",
    "        \"loi_nhuan_tai_chinh\": 622690374,\n",
    "        \"loi_nhuan_truoc_thue\": 1402037633,\n",
    "        \"tong_tai_san_luu_dong_ngan_han\": 172374527886,\n",
    "        \"no_ngan_han\": 57711426416\n",
    "      },\n",
    "      {\n",
    "        \"quy\": \"Q2/2024\",\n",
    "        \"tong_tai_san_cuoi_quy\": 212146243168,\n",
    "        \"loi_nhuan_sau_thue\": 10588556972,\n",
    "        \"loi_nhuan_gop\": 2283265819,\n",
    "        \"von_chu_so_huu\": 167262603675,\n",
    "        \"tong_doanh_thu\": 42083671325,\n",
    "        \"tong_tai_san\": 212146243168,\n",
    "        \"tong_no\": 44883639493,\n",
    "        \"gia_von_hang_ban\": 39800405506,\n",
    "        \"loi_nhuan_gop_ve_BH_va_CCDV\": 2283265819,\n",
    "        \"loi_nhuan_tai_chinh\": 189638689,\n",
    "        \"loi_nhuan_truoc_thue\": 13259726458,\n",
    "        \"tong_tai_san_luu_dong_ngan_han\": 145623535885,\n",
    "        \"no_ngan_han\": 44883639493\n",
    "      },\n",
    "      {\n",
    "        \"quy\": \"Q3/2024\",\n",
    "        \"tong_tai_san_cuoi_quy\": 227375689868,\n",
    "        \"loi_nhuan_sau_thue\": 13875548792,\n",
    "        \"loi_nhuan_gop\": 1791245409,\n",
    "        \"von_chu_so_huu\": 181138152467,\n",
    "        \"tong_doanh_thu\": 41977528911,\n",
    "        \"tong_tai_san\": 227375689868,\n",
    "        \"tong_no\": 46237537401,\n",
    "        \"gia_von_hang_ban\": 40186283502,\n",
    "        \"loi_nhuan_gop_ve_BH_va_CCDV\": 1791245409,\n",
    "        \"loi_nhuan_tai_chinh\": 834803115,\n",
    "        \"loi_nhuan_truoc_thue\": 17204922944,\n",
    "        \"tong_tai_san_luu_dong_ngan_han\": 162255806260,\n",
    "        \"no_ngan_han\": 46237537401\n",
    "      },\n",
    "      {\n",
    "        \"quy\": \"Q4/2024\",\n",
    "        \"tong_tai_san_cuoi_quy\": 229773312284,\n",
    "        \"loi_nhuan_sau_thue\": -3809126900,\n",
    "        \"loi_nhuan_gop\": 2114408986,\n",
    "        \"von_chu_so_huu\": 177329025567,\n",
    "        \"tong_doanh_thu\": 62287700880,\n",
    "        \"tong_tai_san\": 229773312284,\n",
    "        \"tong_no\": 52444286717,\n",
    "        \"gia_von_hang_ban\": 60173291894,\n",
    "        \"loi_nhuan_gop_ve_BH_va_CCDV\": 2114408986,\n",
    "        \"loi_nhuan_tai_chinh\": 617879595,\n",
    "        \"loi_nhuan_truoc_thue\": -513742519,\n",
    "        \"tong_tai_san_luu_dong_ngan_han\": 164800586261,\n",
    "        \"no_ngan_han\": 52444286717\n",
    "      }\"\"\")"
   ]
  },
  {
   "cell_type": "code",
   "execution_count": 26,
   "id": "2c4958e3",
   "metadata": {},
   "outputs": [
    {
     "data": {
      "text/plain": [
       "'\\n\\nDựa trên kết quả phân tích từ công cụ analyze_financial_data, tôi sẽ cung cấp một báo cáo chi tiết về tình hình tài chính của công ty:\\n\\n<think>\\n1. Phân tích các chỉ số tài chính chính\\n2. Xem xét biến động giữa các quý\\n3. Đánh giá điểm mạnh và điểm yếu của công ty\\n4. Xác định các rủi ro tiềm ẩn\\n5. Tổng hợp và đưa ra kết luận\\n</think>\\n\\nBáo cáo Phân tích Tài chính\\n\\n1. Tổng quan:\\n\\nDữ liệu tài chính được cung cấp cho 4 quý, từ Q2/2024 đến Q1/2025. Qua phân tích, chúng ta có thể thấy công ty đã trải qua những biến động đáng kể trong hiệu quả hoạt động và tình hình tài chính.\\n\\n2. Phân tích các chỉ số tài chính chính:\\n\\na) Khả năng sinh lời:\\n- ROE (Tỷ suất lợi nhuận trên vốn chủ sở hữu):\\n  Q2/2024: 6.33%\\n  Q3/2024: 7.66%\\n  Q4/2024: -2.15%\\n  Q1/2025: 0.63%\\n\\n- ROA (Tỷ suất lợi nhuận trên tổng tài sản):\\n  Q2/2024: 4.99%\\n  Q3/2024: 6.10%\\n  Q4/2024: -1.66%\\n  Q1/2025: 0.47%\\n\\n- ROS (Tỷ suất lợi nhuận trên doanh thu):\\n  Q2/2024: 25.16%\\n  Q3/2024: 33.05%\\n  Q4/2024: -6.11%\\n  Q1/2025: 1.86%\\n\\nb) Cấu trúc tài chính:\\n- Tỷ lệ nợ (Debt Ratio):\\n  Q2/2024: 21.16%\\n  Q3/2024: 20.34%\\n  Q4/2024: 22.82%\\n  Q1/2025: 24.44%\\n\\nc) Khả năng thanh toán:\\n- Tỷ số thanh toán hiện hành (Current Ratio):\\n  Q2/2024: 3.24\\n  Q3/2024: 3.51\\n  Q4/2024: 3.14\\n  Q1/2025: 2.99\\n\\nd) Hiệu quả hoạt động:\\n- Tỷ suất lợi nhuận gộp (Gross Profit Margin):\\n  Q2/2024: 5.43%\\n  Q3/2024: 4.27%\\n  Q4/2024: 3.39%\\n  Q1/2025: 3.83%\\n\\n- Tỷ lệ quay vòng tài sản (Asset Turnover Ratio):\\n  Q2/2024: 0.20\\n  Q3/2024: 0.18\\n  Q4/2024: 0.27\\n  Q1/2025: 0.25\\n\\n3. Phân tích biến động giữa các quý:\\n\\na) Doanh thu và lợi nhuận:\\n- Doanh thu tăng mạnh từ Q3/2024 (41.98 tỷ) đến Q4/2024 (62.29 tỷ) và duy trì ở mức cao trong Q1/2025 (60.11 tỷ).\\n- Tuy nhiên, lợi nhuận sau thuế giảm mạnh từ Q3/2024 (13.88 tỷ) xuống mức âm trong Q4/2024 (-3.81 tỷ) và chỉ phục hồi nhẹ trong Q1/2025 (1.12 tỷ).\\n\\nb) Tài sản và nợ:\\n- Tổng tài sản tăng dần qua các quý, từ 212.15 tỷ (Q2/2024) lên 236.16 tỷ (Q1/2025).\\n- Tổng nợ cũng tăng theo, từ 44.88 tỷ (Q2/2024) lên 57.71 tỷ (Q1/2025).\\n\\nc) Vốn chủ sở hữu:\\n- Vốn chủ sở hữu tăng từ Q2/2024 (167.26 tỷ) đến Q3/2024 (181.14 tỷ), sau đó giảm nhẹ trong Q4/2024 (177.33 tỷ) và tăng lại trong Q1/2025 (178.45 tỷ).\\n\\n4. Điểm mạnh và điểm yếu:\\n\\nĐiểm mạnh:\\n- Khả năng thanh toán tốt: Tỷ số thanh toán hiện hành luôn duy trì ở mức cao (>2.5), cho thấy công ty có khả năng đáp ứng các nghĩa vụ ngắn hạn.\\n- Cấu trúc vốn ổn định: Tỷ lệ nợ duy trì ở mức thấp (<25%), cho thấy công ty không quá phụ thuộc vào nợ vay.\\n\\nĐiểm yếu:\\n- Biến động lớn về lợi nhuận: Lợi nhuận sau thuế giảm mạnh từ Q3/2024 đến Q4/2024, thậm chí âm trong Q4/2024.\\n- Giảm hiệu quả sử dụng tài sản: Tỷ suất lợi nhuận gộp giảm dần qua các quý.\\n\\n5. Rủi ro tiềm ẩn:\\n\\n- Rủi ro kinh doanh: Sự sụt giảm mạnh về lợi nhuận trong Q4/2024 cho thấy có thể có vấn đề trong hoạt động kinh doanh cốt lõi của công ty.\\n- Rủi ro tài chính: Mặc dù tỷ lệ nợ thấp, nhưng xu hướng tăng của nợ cần được theo dõi để tránh gánh nặng tài chính trong tương lai.\\n- Rủi ro hiệu quả hoạt động: Tỷ suất lợi nhuận gộp giảm có thể ảnh hưởng đến khả năng sinh lời dài hạn của công ty.\\n\\n6. Kết luận và đề xuất:\\n\\nCông ty đang trải qua giai đoạn biến động về hiệu quả hoạt động. Mặc dù doanh thu tăng trong hai quý gần nhất, lợi nhuận lại giảm mạnh, đặc biệt là trong Q4/2024. Điều này cho thấy có thể có vấn đề về kiểm soát chi phí hoặc hiệu quả hoạt động.\\n\\nĐề xuất:\\n1. Tập trung vào việc cải thiện biên lợi nhuận gộp bằng cách kiểm soát chi phí và tối ưu hóa quy trình sản xuất.\\n2. Đánh giá lại chiến lược kinh doanh để xác định nguyên nhân của sự sụt giảm lợi nhuận trong Q4/2024.\\n3. Duy trì cấu trúc vốn hiện tại với tỷ lệ nợ thấp để đảm bảo tính linh hoạt tài chính.\\n4. Tìm cách tăng hiệu quả sử dụng tài sản để cải thiện ROA và ROE.\\n5. Theo dõi chặt chẽ dòng tiền và khả năng thanh toán để đảm bảo công ty luôn có đủ thanh khoản.\\n\\nVới những biện pháp này, công ty có thể cải thiện hiệu quả hoạt động và ổn định tình hình tài chính trong các quý tiếp theo.\\n'"
      ]
     },
     "execution_count": 26,
     "metadata": {},
     "output_type": "execute_result"
    }
   ],
   "source": [
    "str(output)"
   ]
  },
  {
   "cell_type": "code",
   "execution_count": 11,
   "id": "77f7bd16",
   "metadata": {},
   "outputs": [
    {
     "data": {
      "text/plain": [
       "ToolMetrics(tool={'toolUseId': 'tooluse_VfwjnClkT6GxlVQZtQEQ0Q', 'name': 'analyze_financial_data', 'input': {'quarterly_data': [{'quy': 'Q1/2025', 'tong_tai_san_cuoi_quy': 236156479630, 'loi_nhuan_sau_thue': 1116027647, 'loi_nhuan_gop': 2304572679, 'von_chu_so_huu': 178445053214, 'tong_doanh_thu': 60107916752, 'tong_tai_san': 236156479630, 'tong_no': 57711426416, 'gia_von_hang_ban': 57803344073, 'loi_nhuan_gop_ve_BH_va_CCDV': 2304572679, 'loi_nhuan_tai_chinh': 622690374, 'loi_nhuan_truoc_thue': 1402037633, 'tong_tai_san_luu_dong_ngan_han': 172374527886, 'no_ngan_han': 57711426416}, {'quy': 'Q4/2024', 'tong_tai_san_cuoi_quy': 229773312284, 'loi_nhuan_sau_thue': -3809126900, 'loi_nhuan_gop': 2114408986, 'von_chu_so_huu': 177329025567, 'tong_doanh_thu': 62287700880, 'tong_tai_san': 229773312284, 'tong_no': 52444286717, 'gia_von_hang_ban': 60173291894, 'loi_nhuan_gop_ve_BH_va_CCDV': 2114408986, 'loi_nhuan_tai_chinh': 617879595, 'loi_nhuan_truoc_thue': -513742519, 'tong_tai_san_luu_dong_ngan_han': 164800586261, 'no_ngan_han': 52444286717}, {'quy': 'Q3/2024', 'tong_tai_san_cuoi_quy': 227375689868, 'loi_nhuan_sau_thue': 13875548792, 'loi_nhuan_gop': 1791245409, 'von_chu_so_huu': 181138152467, 'tong_doanh_thu': 41977528911, 'tong_tai_san': 227375689868, 'tong_no': 46237537401, 'gia_von_hang_ban': 40186283502, 'loi_nhuan_gop_ve_BH_va_CCDV': 1791245409, 'loi_nhuan_tai_chinh': 834803115, 'loi_nhuan_truoc_thue': 17204922944, 'tong_tai_san_luu_dong_ngan_han': 162255806260, 'no_ngan_han': 46237537401}, {'quy': 'Q2/2024', 'tong_tai_san_cuoi_quy': 212146243168, 'loi_nhuan_sau_thue': 10588556972, 'loi_nhuan_gop': 2283265819, 'von_chu_so_huu': 167262603675, 'tong_doanh_thu': 42083671325, 'tong_tai_san': 212146243168, 'tong_no': 44883639493, 'gia_von_hang_ban': 39800405506, 'loi_nhuan_gop_ve_BH_va_CCDV': 2283265819, 'loi_nhuan_tai_chinh': 189638689, 'loi_nhuan_truoc_thue': 13259726458, 'tong_tai_san_luu_dong_ngan_han': 145623535885, 'no_ngan_han': 44883639493}]}}, call_count=1, success_count=1, error_count=0, total_time=41.025797605514526)"
      ]
     },
     "execution_count": 11,
     "metadata": {},
     "output_type": "execute_result"
    }
   ],
   "source": [
    "output.metrics.tool_metrics.get('analyze_financial_data','')"
   ]
  },
  {
   "cell_type": "code",
   "execution_count": 7,
   "id": "d705f674",
   "metadata": {},
   "outputs": [],
   "source": [
    "tool_logs = []\n",
    "\n",
    "# Nếu bạn muốn lấy log đã lưu từ công cụ\n",
    "if output.metrics.tool_metrics.get(\"analyze_financial_data\"):\n",
    "    tool_result = output.metrics.tool_metrics[\"analyze_financial_data\"].tool\n",
    "    tool_input = tool_result.get(\"input\", {})\n",
    "    saved_paths = tool_result.get(\"output\", {}).get(\"saved_chart_paths\", [])  # nếu bạn custom trả về paths\n",
    "\n",
    "    tool_logs = [f\"Saved chart: {p}\" for p in saved_paths]"
   ]
  },
  {
   "cell_type": "code",
   "execution_count": 8,
   "id": "7c3aef55",
   "metadata": {},
   "outputs": [
    {
     "data": {
      "text/plain": [
       "[]"
      ]
     },
     "execution_count": 8,
     "metadata": {},
     "output_type": "execute_result"
    }
   ],
   "source": [
    "tool_logs"
   ]
  },
  {
   "cell_type": "code",
   "execution_count": 4,
   "id": "e571cc08",
   "metadata": {},
   "outputs": [
    {
     "name": "stdout",
     "output_type": "stream",
     "text": [
      "[\n",
      "  {\n",
      "    \"company\": {\n",
      "      \"TenCongTy\": \"CÔNG TY CỔ PHẦN VIMC LOGISTICS\",\n",
      "      \"MaChungKhoan\": \"VLG\",\n",
      "      \"DiaChi\": \"Tầng 4, tòa nhà Ocean Park, số 1 Đào Duy Anh, phường Phương Mai, quận Đống Đa, TP.Hà Nội, Việt Nam\",\n",
      "      \"SoDienThoai\": \"04-35772047/48\",\n",
      "      \"Email\": \"info@vimclogistics.vn\",\n",
      "      \"LinhVucKinhDoanh\": \"Kinh doanh xuất nhập khẩu hàng hóa, môi giới thương mại, đại lý mua bán, ký gửi hàng hóa; Vận tải đa phương thức; vận tải hàng hóa, container, hàng hóa siêu trường, siêu trọng bằng đường bộ, đường sắt, đường biển\"\n",
      "    },\n",
      "    \"bctc\": [\n",
      "      {\n",
      "        \"quy\": \"Q1/2025\",\n",
      "        \"tong_tai_san_cuoi_quy\": 236156479630,\n",
      "        \"loi_nhuan_sau_thue\": 1116027647,\n",
      "        \"loi_nhuan_gop\": 2304572679,\n",
      "        \"von_chu_so_huu\": 178445053214,\n",
      "        \"tong_doanh_thu\": 60107916752,\n",
      "        \"tong_tai_san\": 236156479630,\n",
      "        \"tong_no\": 57711426416,\n",
      "        \"gia_von_hang_ban\": 57803344073,\n",
      "        \"loi_nhuan_gop_ve_BH_va_CCDV\": 2304572679,\n",
      "        \"loi_nhuan_tai_chinh\": 622690374,\n",
      "        \"loi_nhuan_truoc_thue\": 1402037633,\n",
      "        \"tong_tai_san_luu_dong_ngan_han\": 172374527886,\n",
      "        \"no_ngan_han\": 57711426416\n",
      "      },\n",
      "      {\n",
      "        \"quy\": \"Q2/2024\",\n",
      "        \"tong_tai_san_cuoi_quy\": 212146243168,\n",
      "        \"loi_nhuan_sau_thue\": 10588556972,\n",
      "        \"loi_nhuan_gop\": 2283265819,\n",
      "        \"von_chu_so_huu\": 167262603675,\n",
      "        \"tong_doanh_thu\": 42083671325,\n",
      "        \"tong_tai_san\": 212146243168,\n",
      "        \"tong_no\": 44883639493,\n",
      "        \"gia_von_hang_ban\": 39800405506,\n",
      "        \"loi_nhuan_gop_ve_BH_va_CCDV\": 2283265819,\n",
      "        \"loi_nhuan_tai_chinh\": 189638689,\n",
      "        \"loi_nhuan_truoc_thue\": 13259726458,\n",
      "        \"tong_tai_san_luu_dong_ngan_han\": 145623535885,\n",
      "        \"no_ngan_han\": 44883639493\n",
      "      },\n",
      "      {\n",
      "        \"quy\": \"Q3/2024\",\n",
      "        \"tong_tai_san_cuoi_quy\": 227375689868,\n",
      "        \"loi_nhuan_sau_thue\": 13875548792,\n",
      "        \"loi_nhuan_gop\": 1791245409,\n",
      "        \"von_chu_so_huu\": 181138152467,\n",
      "        \"tong_doanh_thu\": 41977528911,\n",
      "        \"tong_tai_san\": 227375689868,\n",
      "        \"tong_no\": 46237537401,\n",
      "        \"gia_von_hang_ban\": 40186283502,\n",
      "        \"loi_nhuan_gop_ve_BH_va_CCDV\": 1791245409,\n",
      "        \"loi_nhuan_tai_chinh\": 834803115,\n",
      "        \"loi_nhuan_truoc_thue\": 17204922944,\n",
      "        \"tong_tai_san_luu_dong_ngan_han\": 162255806260,\n",
      "        \"no_ngan_han\": 46237537401\n",
      "      },\n",
      "      {\n",
      "        \"quy\": \"Q4/2024\",\n",
      "        \"tong_tai_san_cuoi_quy\": 229773312284,\n",
      "        \"loi_nhuan_sau_thue\": -3809126900,\n",
      "        \"loi_nhuan_gop\": 2114408986,\n",
      "        \"von_chu_so_huu\": 177329025567,\n",
      "        \"tong_doanh_thu\": 62287700880,\n",
      "        \"tong_tai_san\": 229773312284,\n",
      "        \"tong_no\": 52444286717,\n",
      "        \"gia_von_hang_ban\": 60173291894,\n",
      "        \"loi_nhuan_gop_ve_BH_va_CCDV\": 2114408986,\n",
      "        \"loi_nhuan_tai_chinh\": 617879595,\n",
      "        \"loi_nhuan_truoc_thue\": -513742519,\n",
      "        \"tong_tai_san_luu_dong_ngan_han\": 164800586261,\n",
      "        \"no_ngan_han\": 52444286717\n",
      "      }\n",
      "    ]\n",
      "  },\n",
      "  null\n",
      "]\n"
     ]
    }
   ],
   "source": [
    "from doc_extr import doc_extr_s3\n",
    "import json \n",
    "data = doc_extr_s3(bucket=\"testworkflow123\", prefix=\"pdf/vlg/\")\n",
    "print(json.dumps(data, indent=2, ensure_ascii=False))"
   ]
  },
  {
   "cell_type": "code",
   "execution_count": 5,
   "id": "26120a78",
   "metadata": {},
   "outputs": [
    {
     "data": {
      "text/plain": [
       "({'company': {'TenCongTy': 'CÔNG TY CỔ PHẦN VIMC LOGISTICS',\n",
       "   'MaChungKhoan': 'VLG',\n",
       "   'DiaChi': 'Tầng 4, tòa nhà Ocean Park, số 1 Đào Duy Anh, phường Phương Mai, quận Đống Đa, TP.Hà Nội, Việt Nam',\n",
       "   'SoDienThoai': '04-35772047/48',\n",
       "   'Email': 'info@vimclogistics.vn',\n",
       "   'LinhVucKinhDoanh': 'Kinh doanh xuất nhập khẩu hàng hóa, môi giới thương mại, đại lý mua bán, ký gửi hàng hóa; Vận tải đa phương thức; vận tải hàng hóa, container, hàng hóa siêu trường, siêu trọng bằng đường bộ, đường sắt, đường biển'},\n",
       "  'bctc': [{'quy': 'Q1/2025',\n",
       "    'tong_tai_san_cuoi_quy': 236156479630,\n",
       "    'loi_nhuan_sau_thue': 1116027647,\n",
       "    'loi_nhuan_gop': 2304572679,\n",
       "    'von_chu_so_huu': 178445053214,\n",
       "    'tong_doanh_thu': 60107916752,\n",
       "    'tong_tai_san': 236156479630,\n",
       "    'tong_no': 57711426416,\n",
       "    'gia_von_hang_ban': 57803344073,\n",
       "    'loi_nhuan_gop_ve_BH_va_CCDV': 2304572679,\n",
       "    'loi_nhuan_tai_chinh': 622690374,\n",
       "    'loi_nhuan_truoc_thue': 1402037633,\n",
       "    'tong_tai_san_luu_dong_ngan_han': 172374527886,\n",
       "    'no_ngan_han': 57711426416},\n",
       "   {'quy': 'Q2/2024',\n",
       "    'tong_tai_san_cuoi_quy': 212146243168,\n",
       "    'loi_nhuan_sau_thue': 10588556972,\n",
       "    'loi_nhuan_gop': 2283265819,\n",
       "    'von_chu_so_huu': 167262603675,\n",
       "    'tong_doanh_thu': 42083671325,\n",
       "    'tong_tai_san': 212146243168,\n",
       "    'tong_no': 44883639493,\n",
       "    'gia_von_hang_ban': 39800405506,\n",
       "    'loi_nhuan_gop_ve_BH_va_CCDV': 2283265819,\n",
       "    'loi_nhuan_tai_chinh': 189638689,\n",
       "    'loi_nhuan_truoc_thue': 13259726458,\n",
       "    'tong_tai_san_luu_dong_ngan_han': 145623535885,\n",
       "    'no_ngan_han': 44883639493},\n",
       "   {'quy': 'Q3/2024',\n",
       "    'tong_tai_san_cuoi_quy': 227375689868,\n",
       "    'loi_nhuan_sau_thue': 13875548792,\n",
       "    'loi_nhuan_gop': 1791245409,\n",
       "    'von_chu_so_huu': 181138152467,\n",
       "    'tong_doanh_thu': 41977528911,\n",
       "    'tong_tai_san': 227375689868,\n",
       "    'tong_no': 46237537401,\n",
       "    'gia_von_hang_ban': 40186283502,\n",
       "    'loi_nhuan_gop_ve_BH_va_CCDV': 1791245409,\n",
       "    'loi_nhuan_tai_chinh': 834803115,\n",
       "    'loi_nhuan_truoc_thue': 17204922944,\n",
       "    'tong_tai_san_luu_dong_ngan_han': 162255806260,\n",
       "    'no_ngan_han': 46237537401},\n",
       "   {'quy': 'Q4/2024',\n",
       "    'tong_tai_san_cuoi_quy': 229773312284,\n",
       "    'loi_nhuan_sau_thue': -3809126900,\n",
       "    'loi_nhuan_gop': 2114408986,\n",
       "    'von_chu_so_huu': 177329025567,\n",
       "    'tong_doanh_thu': 62287700880,\n",
       "    'tong_tai_san': 229773312284,\n",
       "    'tong_no': 52444286717,\n",
       "    'gia_von_hang_ban': 60173291894,\n",
       "    'loi_nhuan_gop_ve_BH_va_CCDV': 2114408986,\n",
       "    'loi_nhuan_tai_chinh': 617879595,\n",
       "    'loi_nhuan_truoc_thue': -513742519,\n",
       "    'tong_tai_san_luu_dong_ngan_han': 164800586261,\n",
       "    'no_ngan_han': 52444286717}]},\n",
       " None)"
      ]
     },
     "execution_count": 5,
     "metadata": {},
     "output_type": "execute_result"
    }
   ],
   "source": [
    "data"
   ]
  },
  {
   "cell_type": "code",
   "execution_count": 7,
   "id": "e8e69305",
   "metadata": {},
   "outputs": [],
   "source": [
    "structure_agent = Agent(model =bedrock_model)"
   ]
  },
  {
   "cell_type": "code",
   "execution_count": 12,
   "id": "8d616d94",
   "metadata": {},
   "outputs": [
    {
     "name": "stdout",
     "output_type": "stream",
     "text": [
      "Tôi sẽ phân tích và sắp xếp dữ liệu báo cáo tài chính của công ty VIMC LOGISTICS theo thứ tự thời gian tăng dần.\n",
      "Tool #3: CongTy\n"
     ]
    }
   ],
   "source": [
    "from dataclasses import dataclass, asdict\n",
    "from typing import List\n",
    "@dataclass\n",
    "class CompanyInfo:\n",
    "    ten_cty: str\n",
    "    ma_ck: str\n",
    "    dia_chi: str\n",
    "    so_dt: str\n",
    "    email: str\n",
    "    linhvuckinhdoanh: str\n",
    "\n",
    "@dataclass\n",
    "class BctcItem:\n",
    "    quy: str\n",
    "    tong_tai_san_cuoi_quy: int\n",
    "    loi_nhuan_sau_thue: int\n",
    "    loi_nhuan_gop: int\n",
    "    tong_doanh_thu: int\n",
    "    tong_tai_san: int\n",
    "    tong_no: int\n",
    "    gia_von_hang_ban: int\n",
    "    loi_nhuan_gop_ve_BH_va_CCDV: int\n",
    "    loi_nhuan_tai_chinh: int\n",
    "    loi_nhuan_truoc_thue: int\n",
    "    tong_tai_san_luu_dong_ngan_han: int\n",
    "    no_ngan_han: int\n",
    "\n",
    "\n",
    "class CongTy(BaseModel):\n",
    "    status: bool\n",
    "    error: str\n",
    "    companyInfo: CompanyInfo\n",
    "    bctc: List[BctcItem]\n",
    "out = json.dumps(data, ensure_ascii=False)\n",
    "cty_extract = structure_agent.structured_output(CongTy, f\"\"\"\n",
    "Hãy phân tích và sắp xếp dữ liệu lại đặc biệt về dữ liệu báo cáo tài chính, sắp xếp lại theo list các quý ứng với các biến sắp xếp theo chiều tăng dần về thời gian.\n",
    "Trả về status: False khi không trích xuất được đủ trường cho 4 quý, và error khi status là False sẽ chỉ ra các trường còn thiếu. \n",
    "{out}\n",
    "\"\"\")"
   ]
  },
  {
   "cell_type": "code",
   "execution_count": 14,
   "id": "bccbcc66",
   "metadata": {},
   "outputs": [
    {
     "data": {
      "text/plain": [
       "CompanyInfo(ten_cty='CÔNG TY CỔ PHẦN VIMC LOGISTICS', ma_ck='VLG', dia_chi='Tầng 4, tòa nhà Ocean Park, số 1 Đào Duy Anh, phường Phương Mai, quận Đống Đa, TP.Hà Nội, Việt Nam', so_dt='04-35772047/48', email='info@vimclogistics.vn', linhvuckinhdoanh='Kinh doanh xuất nhập khẩu hàng hóa, môi giới thương mại, đại lý mua bán, ký gửi hàng hóa; Vận tải đa phương thức; vận tải hàng hóa, container, hàng hóa siêu trường, siêu trọng bằng đường bộ, đường sắt, đường biển')"
      ]
     },
     "execution_count": 14,
     "metadata": {},
     "output_type": "execute_result"
    }
   ],
   "source": [
    "cty_extract.companyInfo"
   ]
  },
  {
   "cell_type": "code",
   "execution_count": 15,
   "id": "0c29f588",
   "metadata": {},
   "outputs": [
    {
     "data": {
      "text/plain": [
       "'{\"ten_cty\": \"CÔNG TY CỔ PHẦN VIMC LOGISTICS\", \"ma_ck\": \"VLG\", \"dia_chi\": \"Tầng 4, tòa nhà Ocean Park, số 1 Đào Duy Anh, phường Phương Mai, quận Đống Đa, TP.Hà Nội, Việt Nam\", \"so_dt\": \"04-35772047/48\", \"email\": \"info@vimclogistics.vn\", \"linhvuckinhdoanh\": \"Kinh doanh xuất nhập khẩu hàng hóa, môi giới thương mại, đại lý mua bán, ký gửi hàng hóa; Vận tải đa phương thức; vận tải hàng hóa, container, hàng hóa siêu trường, siêu trọng bằng đường bộ, đường sắt, đường biển\"}'"
      ]
     },
     "execution_count": 15,
     "metadata": {},
     "output_type": "execute_result"
    }
   ],
   "source": [
    "json.dumps(asdict(cty_extract.companyInfo), ensure_ascii=False)"
   ]
  },
  {
   "cell_type": "code",
   "execution_count": 4,
   "id": "c985c870",
   "metadata": {},
   "outputs": [],
   "source": [
    "output = {'company': {'TenCongTy': 'CÔNG TY CỔ PHẦN VIMC LOGISTICS',\n",
    "  'MaChungKhoan': 'VLG',\n",
    "  'DiaChi': 'Phòng 806, tòa nhà Ocean Park, số 1 Đào Duy Anh, phường Phương Mai, quận Đống Đa, TP.Hà Nội, Việt Nam',\n",
    "  'SoDienThoai': '024-35772047/48',\n",
    "  'Email': 'info@vimclogistics.vn',\n",
    "  'LinhVucKinhDoanh': 'Kinh doanh xuất nhập khẩu hàng hóa, môi giới thương mại, đại lý mua bán, ký gửi hàng hóa; Vận tải đa phương thức; vận tải hàng hóa, container, hàng hóa siêu trường, siêu trọng bằng đường bộ, đường sắt, đường biển'},\n",
    " 'bctc': [{'quy': 'Q1/2025',\n",
    "   'tong_tai_san_cuoi_quy': 236156479630,\n",
    "   'loi_nhuan_sau_thue': 1116027647,\n",
    "   'loi_nhuan_gop': 2304572679,\n",
    "   'von_chu_so_huu': 178445053214,\n",
    "   'tong_doanh_thu': 60107916752,\n",
    "   'tong_tai_san': 236156479630,\n",
    "   'tong_no': 57711426416,\n",
    "   'gia_von_hang_ban': 57803344073,\n",
    "   'loi_nhuan_gop_ve_BH_va_CCDV': 2304572679,\n",
    "   'loi_nhuan_tai_chinh': 622690374,\n",
    "   'loi_nhuan_truoc_thue': 1402037633,\n",
    "   'tong_tai_san_luu_dong_ngan_han': 172374527886,\n",
    "   'no_ngan_han': 57711426416},\n",
    "  {'quy': 'Q2/2024',\n",
    "   'tong_tai_san_cuoi_quy': 212146243168,\n",
    "   'loi_nhuan_sau_thue': 10588556972,\n",
    "   'loi_nhuan_gop': 2283265819,\n",
    "   'von_chu_so_huu': 167262603675,\n",
    "   'tong_doanh_thu': 42083671325,\n",
    "   'tong_tai_san': 212146243168,\n",
    "   'tong_no': 44883639493,\n",
    "   'gia_von_hang_ban': 39800405506,\n",
    "   'loi_nhuan_gop_ve_BH_va_CCDV': 2283265819,\n",
    "   'loi_nhuan_tai_chinh': 190238689,\n",
    "   'loi_nhuan_truoc_thue': 13259726458,\n",
    "   'tong_tai_san_luu_dong_ngan_han': 145623535885,\n",
    "   'no_ngan_han': 44883639493},\n",
    "  {'quy': 'Q3/2024',\n",
    "   'tong_tai_san_cuoi_quy': 227375689868,\n",
    "   'loi_nhuan_sau_thue': 13875548792,\n",
    "   'loi_nhuan_gop': 1791245409,\n",
    "   'von_chu_so_huu': 181138152467,\n",
    "   'tong_doanh_thu': 41977528911,\n",
    "   'tong_tai_san': 227375689868,\n",
    "   'tong_no': 46237537401,\n",
    "   'gia_von_hang_ban': 40186283502,\n",
    "   'loi_nhuan_gop_ve_BH_va_CCDV': 1791245409,\n",
    "   'loi_nhuan_tai_chinh': 834803115,\n",
    "   'loi_nhuan_truoc_thue': 17204922944,\n",
    "   'tong_tai_san_luu_dong_ngan_han': 162255806260,\n",
    "   'no_ngan_han': 46237537401},\n",
    "  {'quy': 'Q4/2024',\n",
    "   'tong_tai_san_cuoi_quy': 229773312284,\n",
    "   'loi_nhuan_sau_thue': -3809126900,\n",
    "   'loi_nhuan_gop': 2114408986,\n",
    "   'von_chu_so_huu': 177329025567,\n",
    "   'tong_doanh_thu': 62287700880,\n",
    "   'tong_tai_san': 229773312284,\n",
    "   'tong_no': 52444286717,\n",
    "   'gia_von_hang_ban': 60173291894,\n",
    "   'loi_nhuan_gop_ve_BH_va_CCDV': 2114408986,\n",
    "   'loi_nhuan_tai_chinh': 617879595,\n",
    "   'loi_nhuan_truoc_thue': -513742519,\n",
    "   'tong_tai_san_luu_dong_ngan_han': 164800586261,\n",
    "   'no_ngan_han': 52444286717}]}"
   ]
  },
  {
   "cell_type": "code",
   "execution_count": null,
   "id": "473e0284",
   "metadata": {},
   "outputs": [
    {
     "name": "stdout",
     "output_type": "stream",
     "text": [
      "Hello! How are you doing today? Is there anything I can help you with?"
     ]
    },
    {
     "data": {
      "text/plain": [
       "AgentResult(stop_reason='end_turn', message={'role': 'assistant', 'content': [{'text': 'Hello! How are you doing today? Is there anything I can help you with?'}]}, metrics=EventLoopMetrics(cycle_count=1, tool_metrics={}, cycle_durations=[1.7326014041900635], traces=[<strands.telemetry.metrics.Trace object at 0x000001E8D62F6080>], accumulated_usage={'inputTokens': 8, 'outputTokens': 20, 'totalTokens': 28}, accumulated_metrics={'latencyMs': 1575}), state={})"
      ]
     },
     "execution_count": 2,
     "metadata": {},
     "output_type": "execute_result"
    }
   ],
   "source": [
    "agent = Agent(model = bedrock_model, )\n",
    "agent(\"Hello\")"
   ]
  },
  {
   "cell_type": "code",
   "execution_count": 3,
   "id": "b8405b5b",
   "metadata": {},
   "outputs": [
    {
     "ename": "NameError",
     "evalue": "name 'CongTy' is not defined",
     "output_type": "error",
     "traceback": [
      "\u001b[1;31m---------------------------------------------------------------------------\u001b[0m",
      "\u001b[1;31mNameError\u001b[0m                                 Traceback (most recent call last)",
      "Cell \u001b[1;32mIn[3], line 4\u001b[0m\n\u001b[0;32m      1\u001b[0m \u001b[38;5;28;01mfrom\u001b[39;00m\u001b[38;5;250m \u001b[39m\u001b[38;5;21;01mstrands\u001b[39;00m\u001b[38;5;250m \u001b[39m\u001b[38;5;28;01mimport\u001b[39;00m Agent\n\u001b[0;32m      3\u001b[0m structure_agent \u001b[38;5;241m=\u001b[39m Agent(model \u001b[38;5;241m=\u001b[39mbedrock_model)\n\u001b[1;32m----> 4\u001b[0m trichxuat \u001b[38;5;241m=\u001b[39m structure_agent\u001b[38;5;241m.\u001b[39mstructured_output(\u001b[43mCongTy\u001b[49m, \u001b[38;5;124mf\u001b[39m\u001b[38;5;124m\"\"\"\u001b[39m\n\u001b[0;32m      5\u001b[0m \u001b[38;5;124mHãy phân tích và sắp xếp dữ liệu lại đặc biệt về dữ liệu báo cáo tài chính, sắp xếp lại theo list các quý ứng với các biến sắp xếp theo chiều tăng dần về thời gian.\u001b[39m\n\u001b[0;32m      6\u001b[0m \u001b[38;5;124mTrả về status: False khi không trích xuất được đủ trường cho 4 quý\u001b[39m\n\u001b[0;32m      7\u001b[0m \u001b[38;5;132;01m{\u001b[39;00mjson\u001b[38;5;241m.\u001b[39mdumps(output,\u001b[38;5;250m \u001b[39mensure_ascii\u001b[38;5;241m=\u001b[39m\u001b[38;5;28;01mFalse\u001b[39;00m)\u001b[38;5;132;01m}\u001b[39;00m\n\u001b[0;32m      8\u001b[0m \u001b[38;5;124m                                           \u001b[39m\u001b[38;5;124m\"\"\"\u001b[39m)\n",
      "\u001b[1;31mNameError\u001b[0m: name 'CongTy' is not defined"
     ]
    }
   ],
   "source": [
    "from strands import Agent\n",
    "\n",
    "structure_agent = Agent(model =bedrock_model)\n",
    "trichxuat = structure_agent.structured_output(CongTy, f\"\"\"\n",
    "Hãy phân tích và sắp xếp dữ liệu lại đặc biệt về dữ liệu báo cáo tài chính, sắp xếp lại theo list các quý ứng với các biến sắp xếp theo chiều tăng dần về thời gian.\n",
    "Trả về status: False khi không trích xuất được đủ trường cho 4 quý\n",
    "{json.dumps(output, ensure_ascii=False)}\n",
    "                                           \"\"\")"
   ]
  },
  {
   "cell_type": "code",
   "execution_count": 6,
   "id": "89c79cba",
   "metadata": {},
   "outputs": [
    {
     "data": {
      "text/plain": [
       "[BctcItem(quy='Q2/2024', tong_tai_san_cuoi_quy=212146243168, loi_nhuan_sau_thue=10588556972, loi_nhuan_gop=2283265819, tong_doanh_thu=42083671325, tong_tai_san=212146243168, tong_no=44883639493, gia_von_hang_ban=39800405506, loi_nhuan_gop_ve_BH_va_CCDV=2283265819, loi_nhuan_tai_chinh=190238689, loi_nhuan_truoc_thue=13259726458, tong_tai_san_luu_dong_ngan_han=145623535885, no_ngan_han=44883639493),\n",
       " BctcItem(quy='Q3/2024', tong_tai_san_cuoi_quy=227375689868, loi_nhuan_sau_thue=13875548792, loi_nhuan_gop=1791245409, tong_doanh_thu=41977528911, tong_tai_san=227375689868, tong_no=46237537401, gia_von_hang_ban=40186283502, loi_nhuan_gop_ve_BH_va_CCDV=1791245409, loi_nhuan_tai_chinh=834803115, loi_nhuan_truoc_thue=17204922944, tong_tai_san_luu_dong_ngan_han=162255806260, no_ngan_han=46237537401),\n",
       " BctcItem(quy='Q4/2024', tong_tai_san_cuoi_quy=229773312284, loi_nhuan_sau_thue=-3809126900, loi_nhuan_gop=2114408986, tong_doanh_thu=62287700880, tong_tai_san=229773312284, tong_no=52444286717, gia_von_hang_ban=60173291894, loi_nhuan_gop_ve_BH_va_CCDV=2114408986, loi_nhuan_tai_chinh=617879595, loi_nhuan_truoc_thue=-513742519, tong_tai_san_luu_dong_ngan_han=164800586261, no_ngan_han=52444286717),\n",
       " BctcItem(quy='Q1/2025', tong_tai_san_cuoi_quy=236156479630, loi_nhuan_sau_thue=1116027647, loi_nhuan_gop=2304572679, tong_doanh_thu=60107916752, tong_tai_san=236156479630, tong_no=57711426416, gia_von_hang_ban=57803344073, loi_nhuan_gop_ve_BH_va_CCDV=2304572679, loi_nhuan_tai_chinh=622690374, loi_nhuan_truoc_thue=1402037633, tong_tai_san_luu_dong_ngan_han=172374527886, no_ngan_han=57711426416)]"
      ]
     },
     "execution_count": 6,
     "metadata": {},
     "output_type": "execute_result"
    }
   ],
   "source": [
    "trichxuat.bctc"
   ]
  },
  {
   "cell_type": "code",
   "execution_count": 7,
   "id": "68e601ed",
   "metadata": {},
   "outputs": [],
   "source": [
    "from dataclasses import dataclass, asdict\n",
    "json_data = [json.dumps(asdict(item), ensure_ascii=False) for item in trichxuat.bctc]"
   ]
  },
  {
   "cell_type": "code",
   "execution_count": 8,
   "id": "69df3673",
   "metadata": {},
   "outputs": [
    {
     "data": {
      "text/plain": [
       "['{\"quy\": \"Q2/2024\", \"tong_tai_san_cuoi_quy\": 212146243168, \"loi_nhuan_sau_thue\": 10588556972, \"loi_nhuan_gop\": 2283265819, \"tong_doanh_thu\": 42083671325, \"tong_tai_san\": 212146243168, \"tong_no\": 44883639493, \"gia_von_hang_ban\": 39800405506, \"loi_nhuan_gop_ve_BH_va_CCDV\": 2283265819, \"loi_nhuan_tai_chinh\": 190238689, \"loi_nhuan_truoc_thue\": 13259726458, \"tong_tai_san_luu_dong_ngan_han\": 145623535885, \"no_ngan_han\": 44883639493}',\n",
       " '{\"quy\": \"Q3/2024\", \"tong_tai_san_cuoi_quy\": 227375689868, \"loi_nhuan_sau_thue\": 13875548792, \"loi_nhuan_gop\": 1791245409, \"tong_doanh_thu\": 41977528911, \"tong_tai_san\": 227375689868, \"tong_no\": 46237537401, \"gia_von_hang_ban\": 40186283502, \"loi_nhuan_gop_ve_BH_va_CCDV\": 1791245409, \"loi_nhuan_tai_chinh\": 834803115, \"loi_nhuan_truoc_thue\": 17204922944, \"tong_tai_san_luu_dong_ngan_han\": 162255806260, \"no_ngan_han\": 46237537401}',\n",
       " '{\"quy\": \"Q4/2024\", \"tong_tai_san_cuoi_quy\": 229773312284, \"loi_nhuan_sau_thue\": -3809126900, \"loi_nhuan_gop\": 2114408986, \"tong_doanh_thu\": 62287700880, \"tong_tai_san\": 229773312284, \"tong_no\": 52444286717, \"gia_von_hang_ban\": 60173291894, \"loi_nhuan_gop_ve_BH_va_CCDV\": 2114408986, \"loi_nhuan_tai_chinh\": 617879595, \"loi_nhuan_truoc_thue\": -513742519, \"tong_tai_san_luu_dong_ngan_han\": 164800586261, \"no_ngan_han\": 52444286717}',\n",
       " '{\"quy\": \"Q1/2025\", \"tong_tai_san_cuoi_quy\": 236156479630, \"loi_nhuan_sau_thue\": 1116027647, \"loi_nhuan_gop\": 2304572679, \"tong_doanh_thu\": 60107916752, \"tong_tai_san\": 236156479630, \"tong_no\": 57711426416, \"gia_von_hang_ban\": 57803344073, \"loi_nhuan_gop_ve_BH_va_CCDV\": 2304572679, \"loi_nhuan_tai_chinh\": 622690374, \"loi_nhuan_truoc_thue\": 1402037633, \"tong_tai_san_luu_dong_ngan_han\": 172374527886, \"no_ngan_han\": 57711426416}']"
      ]
     },
     "execution_count": 8,
     "metadata": {},
     "output_type": "execute_result"
    }
   ],
   "source": [
    "json_data"
   ]
  },
  {
   "cell_type": "code",
   "execution_count": 9,
   "id": "9e8fae04",
   "metadata": {},
   "outputs": [
    {
     "data": {
      "text/plain": [
       "list"
      ]
     },
     "execution_count": 9,
     "metadata": {},
     "output_type": "execute_result"
    }
   ],
   "source": [
    "type(json_data)"
   ]
  },
  {
   "cell_type": "code",
   "execution_count": 10,
   "id": "0206eafe",
   "metadata": {},
   "outputs": [],
   "source": [
    "from finance_agent import FinancialAgent"
   ]
  },
  {
   "cell_type": "code",
   "execution_count": 11,
   "id": "23a320e2",
   "metadata": {},
   "outputs": [
    {
     "name": "stderr",
     "output_type": "stream",
     "text": [
      "defaulted to us-west-2 because no region was specified\n",
      "issue=<https://github.com/strands-agents/sdk-python/issues/238> | this behavior will change in an upcoming release\n"
     ]
    }
   ],
   "source": [
    "fin_agent = FinancialAgent()"
   ]
  },
  {
   "cell_type": "code",
   "execution_count": null,
   "id": "dd0ec368",
   "metadata": {},
   "outputs": [],
   "source": [
    "fin_data = fin_agent.compute(str(json_data))"
   ]
  },
  {
   "cell_type": "code",
   "execution_count": 15,
   "id": "0800fd34",
   "metadata": {},
   "outputs": [
    {
     "data": {
      "text/plain": [
       "str"
      ]
     },
     "execution_count": 15,
     "metadata": {},
     "output_type": "execute_result"
    }
   ],
   "source": [
    "type(fin_data)"
   ]
  },
  {
   "cell_type": "code",
   "execution_count": 18,
   "id": "50d3d15d",
   "metadata": {},
   "outputs": [
    {
     "name": "stdout",
     "output_type": "stream",
     "text": [
      "\n",
      "Tool #1: TaiChinh\n"
     ]
    }
   ],
   "source": [
    "class TaiChinh(BaseModel):\n",
    "    status: bool\n",
    "    thongso: str\n",
    "    diemmanh: str\n",
    "    diemyeu: str\n",
    "    ruiro: str\n",
    "    ketluan: str\n",
    "\n",
    "fin_struct_agent = Agent(model = bedrock_model, system_prompt=\"You are an extracted agent that extract agent based on financial analyst. Status is true if result show that previous agent actually use tool\")\n",
    "fin_analyst = fin_struct_agent.structured_output(TaiChinh, fin_data)\n",
    "\n"
   ]
  },
  {
   "cell_type": "code",
   "execution_count": 21,
   "id": "b145735d",
   "metadata": {},
   "outputs": [
    {
     "data": {
      "text/plain": [
       "'Khả năng thanh toán ngắn hạn xuất sắc với Current Ratio luôn trên 2.9. Cấu trúc vốn an toàn với tỷ lệ nợ thấp (dưới 25%). Doanh thu tăng trưởng mạnh 48% trong Q4/2024. Tổng tài sản tăng ổn định từ 212 tỷ lên 236 tỷ đồng. Vốn chủ sở hữu duy trì ổn định khoảng 178 tỷ đồng.'"
      ]
     },
     "execution_count": 21,
     "metadata": {},
     "output_type": "execute_result"
    }
   ],
   "source": [
    "fin_analyst.diemmanh"
   ]
  },
  {
   "cell_type": "code",
   "execution_count": 22,
   "id": "517ea239",
   "metadata": {},
   "outputs": [],
   "source": [
    "fin_sum = f\"\"\"\n",
    "Điểm mạnh: {fin_analyst.diemmanh}\n",
    "Điểm yếu: {fin_analyst.diemyeu}\n",
    "Rủi ro: {fin_analyst.ruiro}\n",
    "\"\"\""
   ]
  }
 ],
 "metadata": {
  "kernelspec": {
   "display_name": "aws",
   "language": "python",
   "name": "python3"
  },
  "language_info": {
   "codemirror_mode": {
    "name": "ipython",
    "version": 3
   },
   "file_extension": ".py",
   "mimetype": "text/x-python",
   "name": "python",
   "nbconvert_exporter": "python",
   "pygments_lexer": "ipython3",
   "version": "3.10.18"
  }
 },
 "nbformat": 4,
 "nbformat_minor": 5
}
