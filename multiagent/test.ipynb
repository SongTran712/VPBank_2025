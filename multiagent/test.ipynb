{
 "cells": [
  {
   "cell_type": "code",
   "execution_count": null,
   "id": "dceb7382",
   "metadata": {},
   "outputs": [
    {
     "name": "stderr",
     "output_type": "stream",
     "text": [
      "defaulted to us-west-2 because no region was specified\n",
      "issue=<https://github.com/strands-agents/sdk-python/issues/238> | this behavior will change in an upcoming release\n"
     ]
    },
    {
     "ename": "ValidationException",
     "evalue": "An error occurred (ValidationException) when calling the InvokeModel operation: Malformed input request: #/system: expected type: JSONArray, found: String, please reformat your input and try again.",
     "output_type": "error",
     "traceback": [
      "\u001b[1;31m---------------------------------------------------------------------------\u001b[0m",
      "\u001b[1;31mValidationException\u001b[0m                       Traceback (most recent call last)",
      "Cell \u001b[1;32mIn[3], line 54\u001b[0m\n\u001b[0;32m     37\u001b[0m     img_b64 \u001b[38;5;241m=\u001b[39m base64\u001b[38;5;241m.\u001b[39mb64encode(f\u001b[38;5;241m.\u001b[39mread())\u001b[38;5;241m.\u001b[39mdecode(\u001b[38;5;124m\"\u001b[39m\u001b[38;5;124mutf-8\u001b[39m\u001b[38;5;124m\"\u001b[39m)\n\u001b[0;32m     39\u001b[0m payload \u001b[38;5;241m=\u001b[39m {\n\u001b[0;32m     40\u001b[0m     \u001b[38;5;124m\"\u001b[39m\u001b[38;5;124msystem\u001b[39m\u001b[38;5;124m\"\u001b[39m: \u001b[38;5;124m\"\u001b[39m\u001b[38;5;124mBạn là chuyên gia tài chính, hãy trích thông tin chính xác từ ảnh báo cáo tài chính.\u001b[39m\u001b[38;5;124m\"\u001b[39m,\n\u001b[0;32m     41\u001b[0m     \u001b[38;5;124m\"\u001b[39m\u001b[38;5;124mmessages\u001b[39m\u001b[38;5;124m\"\u001b[39m: [\n\u001b[1;32m   (...)\u001b[0m\n\u001b[0;32m     51\u001b[0m     \u001b[38;5;66;03m# \"anthropic_version\": \"bedrock-2023-05-31\"\u001b[39;00m\n\u001b[0;32m     52\u001b[0m }\n\u001b[1;32m---> 54\u001b[0m response \u001b[38;5;241m=\u001b[39m \u001b[43mclient\u001b[49m\u001b[38;5;241;43m.\u001b[39;49m\u001b[43minvoke_model\u001b[49m\u001b[43m(\u001b[49m\n\u001b[0;32m     55\u001b[0m \u001b[43m    \u001b[49m\u001b[43mmodelId\u001b[49m\u001b[38;5;241;43m=\u001b[39;49m\u001b[38;5;124;43m\"\u001b[39;49m\u001b[38;5;124;43marn:aws:bedrock:ap-southeast-1:389903776084:inference-profile/apac.amazon.nova-pro-v1:0\u001b[39;49m\u001b[38;5;124;43m\"\u001b[39;49m\u001b[43m,\u001b[49m\n\u001b[0;32m     56\u001b[0m \u001b[43m    \u001b[49m\u001b[43mcontentType\u001b[49m\u001b[38;5;241;43m=\u001b[39;49m\u001b[38;5;124;43m\"\u001b[39;49m\u001b[38;5;124;43mapplication/json\u001b[39;49m\u001b[38;5;124;43m\"\u001b[39;49m\u001b[43m,\u001b[49m\n\u001b[0;32m     57\u001b[0m \u001b[43m    \u001b[49m\u001b[43maccept\u001b[49m\u001b[38;5;241;43m=\u001b[39;49m\u001b[38;5;124;43m\"\u001b[39;49m\u001b[38;5;124;43mapplication/json\u001b[39;49m\u001b[38;5;124;43m\"\u001b[39;49m\u001b[43m,\u001b[49m\n\u001b[0;32m     58\u001b[0m \u001b[43m    \u001b[49m\u001b[43mbody\u001b[49m\u001b[38;5;241;43m=\u001b[39;49m\u001b[43mjson\u001b[49m\u001b[38;5;241;43m.\u001b[39;49m\u001b[43mdumps\u001b[49m\u001b[43m(\u001b[49m\u001b[43mpayload\u001b[49m\u001b[43m)\u001b[49m\n\u001b[0;32m     59\u001b[0m \u001b[43m)\u001b[49m\n\u001b[0;32m     61\u001b[0m \u001b[38;5;28mprint\u001b[39m(response[\u001b[38;5;124m\"\u001b[39m\u001b[38;5;124mbody\u001b[39m\u001b[38;5;124m\"\u001b[39m]\u001b[38;5;241m.\u001b[39mread()\u001b[38;5;241m.\u001b[39mdecode())\n",
      "File \u001b[1;32mc:\\Users\\Song\\anaconda3\\envs\\aws\\lib\\site-packages\\botocore\\client.py:595\u001b[0m, in \u001b[0;36mClientCreator._create_api_method.<locals>._api_call\u001b[1;34m(self, *args, **kwargs)\u001b[0m\n\u001b[0;32m    591\u001b[0m     \u001b[38;5;28;01mraise\u001b[39;00m \u001b[38;5;167;01mTypeError\u001b[39;00m(\n\u001b[0;32m    592\u001b[0m         \u001b[38;5;124mf\u001b[39m\u001b[38;5;124m\"\u001b[39m\u001b[38;5;132;01m{\u001b[39;00mpy_operation_name\u001b[38;5;132;01m}\u001b[39;00m\u001b[38;5;124m() only accepts keyword arguments.\u001b[39m\u001b[38;5;124m\"\u001b[39m\n\u001b[0;32m    593\u001b[0m     )\n\u001b[0;32m    594\u001b[0m \u001b[38;5;66;03m# The \"self\" in this scope is referring to the BaseClient.\u001b[39;00m\n\u001b[1;32m--> 595\u001b[0m \u001b[38;5;28;01mreturn\u001b[39;00m \u001b[38;5;28;43mself\u001b[39;49m\u001b[38;5;241;43m.\u001b[39;49m\u001b[43m_make_api_call\u001b[49m\u001b[43m(\u001b[49m\u001b[43moperation_name\u001b[49m\u001b[43m,\u001b[49m\u001b[43m \u001b[49m\u001b[43mkwargs\u001b[49m\u001b[43m)\u001b[49m\n",
      "File \u001b[1;32mc:\\Users\\Song\\anaconda3\\envs\\aws\\lib\\site-packages\\botocore\\context.py:123\u001b[0m, in \u001b[0;36mwith_current_context.<locals>.decorator.<locals>.wrapper\u001b[1;34m(*args, **kwargs)\u001b[0m\n\u001b[0;32m    121\u001b[0m \u001b[38;5;28;01mif\u001b[39;00m hook:\n\u001b[0;32m    122\u001b[0m     hook()\n\u001b[1;32m--> 123\u001b[0m \u001b[38;5;28;01mreturn\u001b[39;00m func(\u001b[38;5;241m*\u001b[39margs, \u001b[38;5;241m*\u001b[39m\u001b[38;5;241m*\u001b[39mkwargs)\n",
      "File \u001b[1;32mc:\\Users\\Song\\anaconda3\\envs\\aws\\lib\\site-packages\\botocore\\client.py:1058\u001b[0m, in \u001b[0;36mBaseClient._make_api_call\u001b[1;34m(self, operation_name, api_params)\u001b[0m\n\u001b[0;32m   1054\u001b[0m     error_code \u001b[38;5;241m=\u001b[39m error_info\u001b[38;5;241m.\u001b[39mget(\u001b[38;5;124m\"\u001b[39m\u001b[38;5;124mQueryErrorCode\u001b[39m\u001b[38;5;124m\"\u001b[39m) \u001b[38;5;129;01mor\u001b[39;00m error_info\u001b[38;5;241m.\u001b[39mget(\n\u001b[0;32m   1055\u001b[0m         \u001b[38;5;124m\"\u001b[39m\u001b[38;5;124mCode\u001b[39m\u001b[38;5;124m\"\u001b[39m\n\u001b[0;32m   1056\u001b[0m     )\n\u001b[0;32m   1057\u001b[0m     error_class \u001b[38;5;241m=\u001b[39m \u001b[38;5;28mself\u001b[39m\u001b[38;5;241m.\u001b[39mexceptions\u001b[38;5;241m.\u001b[39mfrom_code(error_code)\n\u001b[1;32m-> 1058\u001b[0m     \u001b[38;5;28;01mraise\u001b[39;00m error_class(parsed_response, operation_name)\n\u001b[0;32m   1059\u001b[0m \u001b[38;5;28;01melse\u001b[39;00m:\n\u001b[0;32m   1060\u001b[0m     \u001b[38;5;28;01mreturn\u001b[39;00m parsed_response\n",
      "\u001b[1;31mValidationException\u001b[0m: An error occurred (ValidationException) when calling the InvokeModel operation: Malformed input request: #/system: expected type: JSONArray, found: String, please reformat your input and try again."
     ]
    }
   ],
   "source": [
    "import boto3\n",
    "from strands.models import BedrockModel\n",
    "from botocore.config import Config as BotocoreConfig\n",
    "from strands import Agent\n",
    "from pydantic import BaseModel\n",
    "import dotenv\n",
    "import os\n",
    "from strands import Agent, tool\n",
    "import base64\n",
    "import json\n",
    "dotenv.load_dotenv(\".env\", override=True)\n",
    "# Create a custom boto3 session\n",
    "session = boto3.Session(\n",
    "    aws_access_key_id= os.environ.get('AWS_ACCESS_KEY'),\n",
    "    aws_secret_access_key= os.environ.get('AWS_SECRET_KEY'),\n",
    "    region_name= 'ap-southeast-1'\n",
    "    \n",
    ")\n",
    "boto_config = BotocoreConfig(\n",
    "    retries={\"max_attempts\": 3, \"mode\": \"standard\"},\n",
    "    connect_timeout=5,\n",
    "    read_timeout=60\n",
    ")\n",
    "# Create a Bedrock model with the custom session\n",
    "bedrock_model = BedrockModel(\n",
    "    model_id=\"arn:aws:bedrock:ap-southeast-1:389903776084:inference-profile/apac.anthropic.claude-3-5-sonnet-20240620-v1:0\",\n",
    "    boto_session=session,\n",
    "    temperature=0.7,\n",
    "    top_p=0.8,\n",
    "    stop_sequences=[\"###\", \"END\"],\n",
    "    boto_client_config=boto_config,\n",
    ")\n",
    "\n",
    "client = session.client(\"bedrock-runtime\")\n",
    "\n",
    "with open(\"test.pdf\", \"rb\") as f:\n",
    "    img_b64 = base64.b64encode(f.read()).decode(\"utf-8\")\n",
    "    \n",
    "payload = {\n",
    "    \"system\": [{\"type\": \"text\", \"text\": \"Bạn là chuyên gia tài chính, hãy trích thông tin chính xác từ ảnh báo cáo tài chính.\"}] ,\n",
    "    \"messages\": [\n",
    "        {\n",
    "            \"role\": \"user\",\n",
    "            \"content\": [\n",
    "                {\"type\": \"text\", \"text\": \"Please summarize the content of this document page.\"},\n",
    "                {\"type\": \"pdf\", \"source\": {\"type\": \"base64\", \"media_type\": \"application/pdf\", \"data\": img_b64}}\n",
    "            ]\n",
    "        }\n",
    "    ],\n",
    "    # \"max_tokens\": 1024,\n",
    "    # \"anthropic_version\": \"bedrock-2023-05-31\"\n",
    "}\n",
    "\n",
    "response = client.invoke_model(\n",
    "    modelId=\"arn:aws:bedrock:ap-southeast-1:389903776084:inference-profile/apac.amazon.nova-pro-v1:0\",\n",
    "    contentType=\"application/json\",\n",
    "    accept=\"application/json\",\n",
    "    body=json.dumps(payload)\n",
    ")\n",
    "\n",
    "print(response[\"body\"].read().decode())"
   ]
  },
  {
   "cell_type": "code",
   "execution_count": 25,
   "id": "82368586",
   "metadata": {},
   "outputs": [
    {
     "name": "stdout",
     "output_type": "stream",
     "text": [
      "Để phân tích tình hình tài chính của công ty dựa trên dữ liệu được cung cấp, tôi sẽ sử dụng công cụ analyze_financial_data để tính toán các chỉ số tài chính quan trọng và tạo biểu đồ phân tích. Sau đó, tôi sẽ cung cấp một báo cáo chi tiết về tình hình tài chính của công ty.\n",
      "\n",
      "<think>\n",
      "1. Chuẩn bị dữ liệu đầu vào cho công cụ analyze_financial_data\n",
      "2. Gọi công cụ để tính toán các chỉ số và tạo biểu đồ\n",
      "3. Phân tích kết quả và viết báo cáo\n",
      "</think>\n",
      "\n",
      "Đầu tiên, tôi sẽ gọi công cụ analyze_financial_data:\n",
      "Tool #1: analyze_financial_data\n",
      "Saved chart: charts\\tai_san_va_hieu_qua_sinh_loi.png\n",
      "Saved chart: charts\\von_chu_va_sinh_loi.png\n",
      "Saved chart: charts\\doanh_thu_va_hieu_qua.png\n",
      "Saved chart: charts\\bien_loi_nhuan_va_loi_nhuan.png\n",
      "Saved chart: charts\\co_cau_tai_san_no.png\n",
      "Saved chart: charts\\phan_tich_loi_nhuan.png\n",
      "Saved chart: charts\\co_cau_von.png\n",
      "Saved chart: charts\\hieu_suat_va_kha_nang_thanh_toan.png\n",
      "{'ResponseMetadata': {'RequestId': '77534a13-6e96-4a06-a71f-c2ef189c2d5d', 'HTTPStatusCode': 200, 'HTTPHeaders': {'date': 'Tue, 15 Jul 2025 10:03:22 GMT', 'content-type': 'application/json', 'content-length': '3429', 'connection': 'keep-alive', 'x-amzn-requestid': '77534a13-6e96-4a06-a71f-c2ef189c2d5d', 'x-amzn-bedrock-invocation-latency': '28042', 'x-amzn-bedrock-output-token-count': '1302', 'x-amzn-bedrock-input-token-count': '12663'}, 'RetryAttempts': 0}, 'contentType': 'application/json', 'body': <botocore.response.StreamingBody object at 0x0000020277B37E50>}\n",
      "\n",
      "\n",
      "Dựa trên kết quả phân tích từ công cụ analyze_financial_data, tôi sẽ cung cấp một báo cáo chi tiết về tình hình tài chính của công ty:\n",
      "\n",
      "<think>\n",
      "1. Phân tích các chỉ số tài chính chính\n",
      "2. Xem xét biến động giữa các quý\n",
      "3. Đánh giá điểm mạnh và điểm yếu của công ty\n",
      "4. Xác định các rủi ro tiềm ẩn\n",
      "5. Tổng hợp và đưa ra kết luận\n",
      "</think>\n",
      "\n",
      "Báo cáo Phân tích Tài chính\n",
      "\n",
      "1. Tổng quan:\n",
      "\n",
      "Dữ liệu tài chính được cung cấp cho 4 quý, từ Q2/2024 đến Q1/2025. Qua phân tích, chúng ta có thể thấy công ty đã trải qua những biến động đáng kể trong hiệu quả hoạt động và tình hình tài chính.\n",
      "\n",
      "2. Phân tích các chỉ số tài chính chính:\n",
      "\n",
      "a) Khả năng sinh lời:\n",
      "- ROE (Tỷ suất lợi nhuận trên vốn chủ sở hữu):\n",
      "  Q2/2024: 6.33%\n",
      "  Q3/2024: 7.66%\n",
      "  Q4/2024: -2.15%\n",
      "  Q1/2025: 0.63%\n",
      "\n",
      "- ROA (Tỷ suất lợi nhuận trên tổng tài sản):\n",
      "  Q2/2024: 4.99%\n",
      "  Q3/2024: 6.10%\n",
      "  Q4/2024: -1.66%\n",
      "  Q1/2025: 0.47%\n",
      "\n",
      "- ROS (Tỷ suất lợi nhuận trên doanh thu):\n",
      "  Q2/2024: 25.16%\n",
      "  Q3/2024: 33.05%\n",
      "  Q4/2024: -6.11%\n",
      "  Q1/2025: 1.86%\n",
      "\n",
      "b) Cấu trúc tài chính:\n",
      "- Tỷ lệ nợ (Debt Ratio):\n",
      "  Q2/2024: 21.16%\n",
      "  Q3/2024: 20.34%\n",
      "  Q4/2024: 22.82%\n",
      "  Q1/2025: 24.44%\n",
      "\n",
      "c) Khả năng thanh toán:\n",
      "- Tỷ số thanh toán hiện hành (Current Ratio):\n",
      "  Q2/2024: 3.24\n",
      "  Q3/2024: 3.51\n",
      "  Q4/2024: 3.14\n",
      "  Q1/2025: 2.99\n",
      "\n",
      "d) Hiệu quả hoạt động:\n",
      "- Tỷ suất lợi nhuận gộp (Gross Profit Margin):\n",
      "  Q2/2024: 5.43%\n",
      "  Q3/2024: 4.27%\n",
      "  Q4/2024: 3.39%\n",
      "  Q1/2025: 3.83%\n",
      "\n",
      "- Tỷ lệ quay vòng tài sản (Asset Turnover Ratio):\n",
      "  Q2/2024: 0.20\n",
      "  Q3/2024: 0.18\n",
      "  Q4/2024: 0.27\n",
      "  Q1/2025: 0.25\n",
      "\n",
      "3. Phân tích biến động giữa các quý:\n",
      "\n",
      "a) Doanh thu và lợi nhuận:\n",
      "- Doanh thu tăng mạnh từ Q3/2024 (41.98 tỷ) đến Q4/2024 (62.29 tỷ) và duy trì ở mức cao trong Q1/2025 (60.11 tỷ).\n",
      "- Tuy nhiên, lợi nhuận sau thuế giảm mạnh từ Q3/2024 (13.88 tỷ) xuống mức âm trong Q4/2024 (-3.81 tỷ) và chỉ phục hồi nhẹ trong Q1/2025 (1.12 tỷ).\n",
      "\n",
      "b) Tài sản và nợ:\n",
      "- Tổng tài sản tăng dần qua các quý, từ 212.15 tỷ (Q2/2024) lên 236.16 tỷ (Q1/2025).\n",
      "- Tổng nợ cũng tăng theo, từ 44.88 tỷ (Q2/2024) lên 57.71 tỷ (Q1/2025).\n",
      "\n",
      "c) Vốn chủ sở hữu:\n",
      "- Vốn chủ sở hữu tăng từ Q2/2024 (167.26 tỷ) đến Q3/2024 (181.14 tỷ), sau đó giảm nhẹ trong Q4/2024 (177.33 tỷ) và tăng lại trong Q1/2025 (178.45 tỷ).\n",
      "\n",
      "4. Điểm mạnh và điểm yếu:\n",
      "\n",
      "Điểm mạnh:\n",
      "- Khả năng thanh toán tốt: Tỷ số thanh toán hiện hành luôn duy trì ở mức cao (>2.5), cho thấy công ty có khả năng đáp ứng các nghĩa vụ ngắn hạn.\n",
      "- Cấu trúc vốn ổn định: Tỷ lệ nợ duy trì ở mức thấp (<25%), cho thấy công ty không quá phụ thuộc vào nợ vay.\n",
      "\n",
      "Điểm yếu:\n",
      "- Biến động lớn về lợi nhuận: Lợi nhuận sau thuế giảm mạnh từ Q3/2024 đến Q4/2024, thậm chí âm trong Q4/2024.\n",
      "- Giảm hiệu quả sử dụng tài sản: Tỷ suất lợi nhuận gộp giảm dần qua các quý.\n",
      "\n",
      "5. Rủi ro tiềm ẩn:\n",
      "\n",
      "- Rủi ro kinh doanh: Sự sụt giảm mạnh về lợi nhuận trong Q4/2024 cho thấy có thể có vấn đề trong hoạt động kinh doanh cốt lõi của công ty.\n",
      "- Rủi ro tài chính: Mặc dù tỷ lệ nợ thấp, nhưng xu hướng tăng của nợ cần được theo dõi để tránh gánh nặng tài chính trong tương lai.\n",
      "- Rủi ro hiệu quả hoạt động: Tỷ suất lợi nhuận gộp giảm có thể ảnh hưởng đến khả năng sinh lời dài hạn của công ty.\n",
      "\n",
      "6. Kết luận và đề xuất:\n",
      "\n",
      "Công ty đang trải qua giai đoạn biến động về hiệu quả hoạt động. Mặc dù doanh thu tăng trong hai quý gần nhất, lợi nhuận lại giảm mạnh, đặc biệt là trong Q4/2024. Điều này cho thấy có thể có vấn đề về kiểm soát chi phí hoặc hiệu quả hoạt động.\n",
      "\n",
      "Đề xuất:\n",
      "1. Tập trung vào việc cải thiện biên lợi nhuận gộp bằng cách kiểm soát chi phí và tối ưu hóa quy trình sản xuất.\n",
      "2. Đánh giá lại chiến lược kinh doanh để xác định nguyên nhân của sự sụt giảm lợi nhuận trong Q4/2024.\n",
      "3. Duy trì cấu trúc vốn hiện tại với tỷ lệ nợ thấp để đảm bảo tính linh hoạt tài chính.\n",
      "4. Tìm cách tăng hiệu quả sử dụng tài sản để cải thiện ROA và ROE.\n",
      "5. Theo dõi chặt chẽ dòng tiền và khả năng thanh toán để đảm bảo công ty luôn có đủ thanh khoản.\n",
      "\n",
      "Với những biện pháp này, công ty có thể cải thiện hiệu quả hoạt động và ổn định tình hình tài chính trong các quý tiếp theo."
     ]
    }
   ],
   "source": [
    "from chartool import analyze_financial_data\n",
    "# from strands_tools import\n",
    "\n",
    "\n",
    "class TaiChinh(BaseModel):\n",
    "    status: bool\n",
    "    error: str\n",
    "    content: str\n",
    "    thongso: str\n",
    "    diemmanh: str\n",
    "    diemyeu: str\n",
    "    ruiro: str\n",
    "    ketluan: str\n",
    "    \n",
    "agent = Agent(model = bedrock_model, tools=[analyze_financial_data], system_prompt=\"\"\"\n",
    "You are a financial analysis expert. \n",
    "\n",
    "You can use the analyze_financial_data tool to calculate key financial metrics such as ROE, ROA, ROS, Debt Ratio,...  automatically generate insightful analytical charts.\n",
    "\n",
    "You are provided with the company’s full quarterly financial data in the form of a JSON list. For example:\n",
    "\n",
    "[\n",
    "  {\n",
    "    \"quy\": \"Q1/2025\",\n",
    "    \"tong_tai_san\": 1000000,\n",
    "    \"tong_no\": 800000,\n",
    "    \"von_chu_so_huu\": 200000,\n",
    "    \"tong_doanh_thu\": 500000,\n",
    "    \"loi_nhuan_sau_thue\": 25000,\n",
    "    \"loi_nhuan_truoc_thue\": 30000,\n",
    "    \"loi_nhuan_gop\": 80000,\n",
    "    \"tong_tai_san_luu_dong_ngan_han\": 400000,\n",
    "    \"no_ngan_han\": 250000\n",
    "  },\n",
    "  ...\n",
    "]\n",
    "\n",
    "Your task includes the following:\n",
    "\n",
    "    Always thinking clearly and including <think></think> to show step in your response\n",
    "\n",
    "    Calculate and report key financial indicators (ROE, ROA, ROS, Debt Ratio, CurrentRatio, GrossProfitMargin, AssetTurnoverRatio, etc.) for each quarter.\n",
    "\n",
    "    Generate charts to visualize trends and changes over time.\n",
    "\n",
    "    Provide a clear and structured financial analysis, highlighting:\n",
    "\n",
    "        Significant changes between quarters.\n",
    "\n",
    "        Strengths and weaknesses in the company’s financial position.\n",
    "\n",
    "        Potential risks based on financial ratios and trends.\n",
    "\n",
    "\n",
    "Your report should be accurate, insightful, and visually supported by charts for better decision-making.\n",
    "Your report must contains reasoning step that you have done\n",
    "Report in Vietnamese with well structured and clearly. \n",
    "\n",
    "\"\"\")\n",
    "\n",
    "output = agent(\"\"\"{\n",
    "        \"quy\": \"Q1/2025\",\n",
    "        \"tong_tai_san_cuoi_quy\": 236156479630,\n",
    "        \"loi_nhuan_sau_thue\": 1116027647,\n",
    "        \"loi_nhuan_gop\": 2304572679,\n",
    "        \"von_chu_so_huu\": 178445053214,\n",
    "        \"tong_doanh_thu\": 60107916752,\n",
    "        \"tong_tai_san\": 236156479630,\n",
    "        \"tong_no\": 57711426416,\n",
    "        \"gia_von_hang_ban\": 57803344073,\n",
    "        \"loi_nhuan_gop_ve_BH_va_CCDV\": 2304572679,\n",
    "        \"loi_nhuan_tai_chinh\": 622690374,\n",
    "        \"loi_nhuan_truoc_thue\": 1402037633,\n",
    "        \"tong_tai_san_luu_dong_ngan_han\": 172374527886,\n",
    "        \"no_ngan_han\": 57711426416\n",
    "      },\n",
    "      {\n",
    "        \"quy\": \"Q2/2024\",\n",
    "        \"tong_tai_san_cuoi_quy\": 212146243168,\n",
    "        \"loi_nhuan_sau_thue\": 10588556972,\n",
    "        \"loi_nhuan_gop\": 2283265819,\n",
    "        \"von_chu_so_huu\": 167262603675,\n",
    "        \"tong_doanh_thu\": 42083671325,\n",
    "        \"tong_tai_san\": 212146243168,\n",
    "        \"tong_no\": 44883639493,\n",
    "        \"gia_von_hang_ban\": 39800405506,\n",
    "        \"loi_nhuan_gop_ve_BH_va_CCDV\": 2283265819,\n",
    "        \"loi_nhuan_tai_chinh\": 189638689,\n",
    "        \"loi_nhuan_truoc_thue\": 13259726458,\n",
    "        \"tong_tai_san_luu_dong_ngan_han\": 145623535885,\n",
    "        \"no_ngan_han\": 44883639493\n",
    "      },\n",
    "      {\n",
    "        \"quy\": \"Q3/2024\",\n",
    "        \"tong_tai_san_cuoi_quy\": 227375689868,\n",
    "        \"loi_nhuan_sau_thue\": 13875548792,\n",
    "        \"loi_nhuan_gop\": 1791245409,\n",
    "        \"von_chu_so_huu\": 181138152467,\n",
    "        \"tong_doanh_thu\": 41977528911,\n",
    "        \"tong_tai_san\": 227375689868,\n",
    "        \"tong_no\": 46237537401,\n",
    "        \"gia_von_hang_ban\": 40186283502,\n",
    "        \"loi_nhuan_gop_ve_BH_va_CCDV\": 1791245409,\n",
    "        \"loi_nhuan_tai_chinh\": 834803115,\n",
    "        \"loi_nhuan_truoc_thue\": 17204922944,\n",
    "        \"tong_tai_san_luu_dong_ngan_han\": 162255806260,\n",
    "        \"no_ngan_han\": 46237537401\n",
    "      },\n",
    "      {\n",
    "        \"quy\": \"Q4/2024\",\n",
    "        \"tong_tai_san_cuoi_quy\": 229773312284,\n",
    "        \"loi_nhuan_sau_thue\": -3809126900,\n",
    "        \"loi_nhuan_gop\": 2114408986,\n",
    "        \"von_chu_so_huu\": 177329025567,\n",
    "        \"tong_doanh_thu\": 62287700880,\n",
    "        \"tong_tai_san\": 229773312284,\n",
    "        \"tong_no\": 52444286717,\n",
    "        \"gia_von_hang_ban\": 60173291894,\n",
    "        \"loi_nhuan_gop_ve_BH_va_CCDV\": 2114408986,\n",
    "        \"loi_nhuan_tai_chinh\": 617879595,\n",
    "        \"loi_nhuan_truoc_thue\": -513742519,\n",
    "        \"tong_tai_san_luu_dong_ngan_han\": 164800586261,\n",
    "        \"no_ngan_han\": 52444286717\n",
    "      }\"\"\")"
   ]
  },
  {
   "cell_type": "code",
   "execution_count": 26,
   "id": "2c4958e3",
   "metadata": {},
   "outputs": [
    {
     "data": {
      "text/plain": [
       "'\\n\\nDựa trên kết quả phân tích từ công cụ analyze_financial_data, tôi sẽ cung cấp một báo cáo chi tiết về tình hình tài chính của công ty:\\n\\n<think>\\n1. Phân tích các chỉ số tài chính chính\\n2. Xem xét biến động giữa các quý\\n3. Đánh giá điểm mạnh và điểm yếu của công ty\\n4. Xác định các rủi ro tiềm ẩn\\n5. Tổng hợp và đưa ra kết luận\\n</think>\\n\\nBáo cáo Phân tích Tài chính\\n\\n1. Tổng quan:\\n\\nDữ liệu tài chính được cung cấp cho 4 quý, từ Q2/2024 đến Q1/2025. Qua phân tích, chúng ta có thể thấy công ty đã trải qua những biến động đáng kể trong hiệu quả hoạt động và tình hình tài chính.\\n\\n2. Phân tích các chỉ số tài chính chính:\\n\\na) Khả năng sinh lời:\\n- ROE (Tỷ suất lợi nhuận trên vốn chủ sở hữu):\\n  Q2/2024: 6.33%\\n  Q3/2024: 7.66%\\n  Q4/2024: -2.15%\\n  Q1/2025: 0.63%\\n\\n- ROA (Tỷ suất lợi nhuận trên tổng tài sản):\\n  Q2/2024: 4.99%\\n  Q3/2024: 6.10%\\n  Q4/2024: -1.66%\\n  Q1/2025: 0.47%\\n\\n- ROS (Tỷ suất lợi nhuận trên doanh thu):\\n  Q2/2024: 25.16%\\n  Q3/2024: 33.05%\\n  Q4/2024: -6.11%\\n  Q1/2025: 1.86%\\n\\nb) Cấu trúc tài chính:\\n- Tỷ lệ nợ (Debt Ratio):\\n  Q2/2024: 21.16%\\n  Q3/2024: 20.34%\\n  Q4/2024: 22.82%\\n  Q1/2025: 24.44%\\n\\nc) Khả năng thanh toán:\\n- Tỷ số thanh toán hiện hành (Current Ratio):\\n  Q2/2024: 3.24\\n  Q3/2024: 3.51\\n  Q4/2024: 3.14\\n  Q1/2025: 2.99\\n\\nd) Hiệu quả hoạt động:\\n- Tỷ suất lợi nhuận gộp (Gross Profit Margin):\\n  Q2/2024: 5.43%\\n  Q3/2024: 4.27%\\n  Q4/2024: 3.39%\\n  Q1/2025: 3.83%\\n\\n- Tỷ lệ quay vòng tài sản (Asset Turnover Ratio):\\n  Q2/2024: 0.20\\n  Q3/2024: 0.18\\n  Q4/2024: 0.27\\n  Q1/2025: 0.25\\n\\n3. Phân tích biến động giữa các quý:\\n\\na) Doanh thu và lợi nhuận:\\n- Doanh thu tăng mạnh từ Q3/2024 (41.98 tỷ) đến Q4/2024 (62.29 tỷ) và duy trì ở mức cao trong Q1/2025 (60.11 tỷ).\\n- Tuy nhiên, lợi nhuận sau thuế giảm mạnh từ Q3/2024 (13.88 tỷ) xuống mức âm trong Q4/2024 (-3.81 tỷ) và chỉ phục hồi nhẹ trong Q1/2025 (1.12 tỷ).\\n\\nb) Tài sản và nợ:\\n- Tổng tài sản tăng dần qua các quý, từ 212.15 tỷ (Q2/2024) lên 236.16 tỷ (Q1/2025).\\n- Tổng nợ cũng tăng theo, từ 44.88 tỷ (Q2/2024) lên 57.71 tỷ (Q1/2025).\\n\\nc) Vốn chủ sở hữu:\\n- Vốn chủ sở hữu tăng từ Q2/2024 (167.26 tỷ) đến Q3/2024 (181.14 tỷ), sau đó giảm nhẹ trong Q4/2024 (177.33 tỷ) và tăng lại trong Q1/2025 (178.45 tỷ).\\n\\n4. Điểm mạnh và điểm yếu:\\n\\nĐiểm mạnh:\\n- Khả năng thanh toán tốt: Tỷ số thanh toán hiện hành luôn duy trì ở mức cao (>2.5), cho thấy công ty có khả năng đáp ứng các nghĩa vụ ngắn hạn.\\n- Cấu trúc vốn ổn định: Tỷ lệ nợ duy trì ở mức thấp (<25%), cho thấy công ty không quá phụ thuộc vào nợ vay.\\n\\nĐiểm yếu:\\n- Biến động lớn về lợi nhuận: Lợi nhuận sau thuế giảm mạnh từ Q3/2024 đến Q4/2024, thậm chí âm trong Q4/2024.\\n- Giảm hiệu quả sử dụng tài sản: Tỷ suất lợi nhuận gộp giảm dần qua các quý.\\n\\n5. Rủi ro tiềm ẩn:\\n\\n- Rủi ro kinh doanh: Sự sụt giảm mạnh về lợi nhuận trong Q4/2024 cho thấy có thể có vấn đề trong hoạt động kinh doanh cốt lõi của công ty.\\n- Rủi ro tài chính: Mặc dù tỷ lệ nợ thấp, nhưng xu hướng tăng của nợ cần được theo dõi để tránh gánh nặng tài chính trong tương lai.\\n- Rủi ro hiệu quả hoạt động: Tỷ suất lợi nhuận gộp giảm có thể ảnh hưởng đến khả năng sinh lời dài hạn của công ty.\\n\\n6. Kết luận và đề xuất:\\n\\nCông ty đang trải qua giai đoạn biến động về hiệu quả hoạt động. Mặc dù doanh thu tăng trong hai quý gần nhất, lợi nhuận lại giảm mạnh, đặc biệt là trong Q4/2024. Điều này cho thấy có thể có vấn đề về kiểm soát chi phí hoặc hiệu quả hoạt động.\\n\\nĐề xuất:\\n1. Tập trung vào việc cải thiện biên lợi nhuận gộp bằng cách kiểm soát chi phí và tối ưu hóa quy trình sản xuất.\\n2. Đánh giá lại chiến lược kinh doanh để xác định nguyên nhân của sự sụt giảm lợi nhuận trong Q4/2024.\\n3. Duy trì cấu trúc vốn hiện tại với tỷ lệ nợ thấp để đảm bảo tính linh hoạt tài chính.\\n4. Tìm cách tăng hiệu quả sử dụng tài sản để cải thiện ROA và ROE.\\n5. Theo dõi chặt chẽ dòng tiền và khả năng thanh toán để đảm bảo công ty luôn có đủ thanh khoản.\\n\\nVới những biện pháp này, công ty có thể cải thiện hiệu quả hoạt động và ổn định tình hình tài chính trong các quý tiếp theo.\\n'"
      ]
     },
     "execution_count": 26,
     "metadata": {},
     "output_type": "execute_result"
    }
   ],
   "source": [
    "str(output)"
   ]
  },
  {
   "cell_type": "code",
   "execution_count": 11,
   "id": "77f7bd16",
   "metadata": {},
   "outputs": [
    {
     "data": {
      "text/plain": [
       "ToolMetrics(tool={'toolUseId': 'tooluse_VfwjnClkT6GxlVQZtQEQ0Q', 'name': 'analyze_financial_data', 'input': {'quarterly_data': [{'quy': 'Q1/2025', 'tong_tai_san_cuoi_quy': 236156479630, 'loi_nhuan_sau_thue': 1116027647, 'loi_nhuan_gop': 2304572679, 'von_chu_so_huu': 178445053214, 'tong_doanh_thu': 60107916752, 'tong_tai_san': 236156479630, 'tong_no': 57711426416, 'gia_von_hang_ban': 57803344073, 'loi_nhuan_gop_ve_BH_va_CCDV': 2304572679, 'loi_nhuan_tai_chinh': 622690374, 'loi_nhuan_truoc_thue': 1402037633, 'tong_tai_san_luu_dong_ngan_han': 172374527886, 'no_ngan_han': 57711426416}, {'quy': 'Q4/2024', 'tong_tai_san_cuoi_quy': 229773312284, 'loi_nhuan_sau_thue': -3809126900, 'loi_nhuan_gop': 2114408986, 'von_chu_so_huu': 177329025567, 'tong_doanh_thu': 62287700880, 'tong_tai_san': 229773312284, 'tong_no': 52444286717, 'gia_von_hang_ban': 60173291894, 'loi_nhuan_gop_ve_BH_va_CCDV': 2114408986, 'loi_nhuan_tai_chinh': 617879595, 'loi_nhuan_truoc_thue': -513742519, 'tong_tai_san_luu_dong_ngan_han': 164800586261, 'no_ngan_han': 52444286717}, {'quy': 'Q3/2024', 'tong_tai_san_cuoi_quy': 227375689868, 'loi_nhuan_sau_thue': 13875548792, 'loi_nhuan_gop': 1791245409, 'von_chu_so_huu': 181138152467, 'tong_doanh_thu': 41977528911, 'tong_tai_san': 227375689868, 'tong_no': 46237537401, 'gia_von_hang_ban': 40186283502, 'loi_nhuan_gop_ve_BH_va_CCDV': 1791245409, 'loi_nhuan_tai_chinh': 834803115, 'loi_nhuan_truoc_thue': 17204922944, 'tong_tai_san_luu_dong_ngan_han': 162255806260, 'no_ngan_han': 46237537401}, {'quy': 'Q2/2024', 'tong_tai_san_cuoi_quy': 212146243168, 'loi_nhuan_sau_thue': 10588556972, 'loi_nhuan_gop': 2283265819, 'von_chu_so_huu': 167262603675, 'tong_doanh_thu': 42083671325, 'tong_tai_san': 212146243168, 'tong_no': 44883639493, 'gia_von_hang_ban': 39800405506, 'loi_nhuan_gop_ve_BH_va_CCDV': 2283265819, 'loi_nhuan_tai_chinh': 189638689, 'loi_nhuan_truoc_thue': 13259726458, 'tong_tai_san_luu_dong_ngan_han': 145623535885, 'no_ngan_han': 44883639493}]}}, call_count=1, success_count=1, error_count=0, total_time=41.025797605514526)"
      ]
     },
     "execution_count": 11,
     "metadata": {},
     "output_type": "execute_result"
    }
   ],
   "source": [
    "output.metrics.tool_metrics.get('analyze_financial_data','')"
   ]
  },
  {
   "cell_type": "code",
   "execution_count": 7,
   "id": "d705f674",
   "metadata": {},
   "outputs": [],
   "source": [
    "tool_logs = []\n",
    "\n",
    "# Nếu bạn muốn lấy log đã lưu từ công cụ\n",
    "if output.metrics.tool_metrics.get(\"analyze_financial_data\"):\n",
    "    tool_result = output.metrics.tool_metrics[\"analyze_financial_data\"].tool\n",
    "    tool_input = tool_result.get(\"input\", {})\n",
    "    saved_paths = tool_result.get(\"output\", {}).get(\"saved_chart_paths\", [])  # nếu bạn custom trả về paths\n",
    "\n",
    "    tool_logs = [f\"Saved chart: {p}\" for p in saved_paths]"
   ]
  },
  {
   "cell_type": "code",
   "execution_count": 8,
   "id": "7c3aef55",
   "metadata": {},
   "outputs": [
    {
     "data": {
      "text/plain": [
       "[]"
      ]
     },
     "execution_count": 8,
     "metadata": {},
     "output_type": "execute_result"
    }
   ],
   "source": [
    "tool_logs"
   ]
  },
  {
   "cell_type": "code",
   "execution_count": 4,
   "id": "e571cc08",
   "metadata": {},
   "outputs": [
    {
     "name": "stdout",
     "output_type": "stream",
     "text": [
      "[\n",
      "  {\n",
      "    \"company\": {\n",
      "      \"TenCongTy\": \"CÔNG TY CỔ PHẦN VIMC LOGISTICS\",\n",
      "      \"MaChungKhoan\": \"VLG\",\n",
      "      \"DiaChi\": \"Tầng 4, tòa nhà Ocean Park, số 1 Đào Duy Anh, phường Phương Mai, quận Đống Đa, TP.Hà Nội, Việt Nam\",\n",
      "      \"SoDienThoai\": \"04-35772047/48\",\n",
      "      \"Email\": \"info@vimclogistics.vn\",\n",
      "      \"LinhVucKinhDoanh\": \"Kinh doanh xuất nhập khẩu hàng hóa, môi giới thương mại, đại lý mua bán, ký gửi hàng hóa; Vận tải đa phương thức; vận tải hàng hóa, container, hàng hóa siêu trường, siêu trọng bằng đường bộ, đường sắt, đường biển\"\n",
      "    },\n",
      "    \"bctc\": [\n",
      "      {\n",
      "        \"quy\": \"Q1/2025\",\n",
      "        \"tong_tai_san_cuoi_quy\": 236156479630,\n",
      "        \"loi_nhuan_sau_thue\": 1116027647,\n",
      "        \"loi_nhuan_gop\": 2304572679,\n",
      "        \"von_chu_so_huu\": 178445053214,\n",
      "        \"tong_doanh_thu\": 60107916752,\n",
      "        \"tong_tai_san\": 236156479630,\n",
      "        \"tong_no\": 57711426416,\n",
      "        \"gia_von_hang_ban\": 57803344073,\n",
      "        \"loi_nhuan_gop_ve_BH_va_CCDV\": 2304572679,\n",
      "        \"loi_nhuan_tai_chinh\": 622690374,\n",
      "        \"loi_nhuan_truoc_thue\": 1402037633,\n",
      "        \"tong_tai_san_luu_dong_ngan_han\": 172374527886,\n",
      "        \"no_ngan_han\": 57711426416\n",
      "      },\n",
      "      {\n",
      "        \"quy\": \"Q2/2024\",\n",
      "        \"tong_tai_san_cuoi_quy\": 212146243168,\n",
      "        \"loi_nhuan_sau_thue\": 10588556972,\n",
      "        \"loi_nhuan_gop\": 2283265819,\n",
      "        \"von_chu_so_huu\": 167262603675,\n",
      "        \"tong_doanh_thu\": 42083671325,\n",
      "        \"tong_tai_san\": 212146243168,\n",
      "        \"tong_no\": 44883639493,\n",
      "        \"gia_von_hang_ban\": 39800405506,\n",
      "        \"loi_nhuan_gop_ve_BH_va_CCDV\": 2283265819,\n",
      "        \"loi_nhuan_tai_chinh\": 189638689,\n",
      "        \"loi_nhuan_truoc_thue\": 13259726458,\n",
      "        \"tong_tai_san_luu_dong_ngan_han\": 145623535885,\n",
      "        \"no_ngan_han\": 44883639493\n",
      "      },\n",
      "      {\n",
      "        \"quy\": \"Q3/2024\",\n",
      "        \"tong_tai_san_cuoi_quy\": 227375689868,\n",
      "        \"loi_nhuan_sau_thue\": 13875548792,\n",
      "        \"loi_nhuan_gop\": 1791245409,\n",
      "        \"von_chu_so_huu\": 181138152467,\n",
      "        \"tong_doanh_thu\": 41977528911,\n",
      "        \"tong_tai_san\": 227375689868,\n",
      "        \"tong_no\": 46237537401,\n",
      "        \"gia_von_hang_ban\": 40186283502,\n",
      "        \"loi_nhuan_gop_ve_BH_va_CCDV\": 1791245409,\n",
      "        \"loi_nhuan_tai_chinh\": 834803115,\n",
      "        \"loi_nhuan_truoc_thue\": 17204922944,\n",
      "        \"tong_tai_san_luu_dong_ngan_han\": 162255806260,\n",
      "        \"no_ngan_han\": 46237537401\n",
      "      },\n",
      "      {\n",
      "        \"quy\": \"Q4/2024\",\n",
      "        \"tong_tai_san_cuoi_quy\": 229773312284,\n",
      "        \"loi_nhuan_sau_thue\": -3809126900,\n",
      "        \"loi_nhuan_gop\": 2114408986,\n",
      "        \"von_chu_so_huu\": 177329025567,\n",
      "        \"tong_doanh_thu\": 62287700880,\n",
      "        \"tong_tai_san\": 229773312284,\n",
      "        \"tong_no\": 52444286717,\n",
      "        \"gia_von_hang_ban\": 60173291894,\n",
      "        \"loi_nhuan_gop_ve_BH_va_CCDV\": 2114408986,\n",
      "        \"loi_nhuan_tai_chinh\": 617879595,\n",
      "        \"loi_nhuan_truoc_thue\": -513742519,\n",
      "        \"tong_tai_san_luu_dong_ngan_han\": 164800586261,\n",
      "        \"no_ngan_han\": 52444286717\n",
      "      }\n",
      "    ]\n",
      "  },\n",
      "  null\n",
      "]\n"
     ]
    }
   ],
   "source": [
    "from doc_extr import doc_extr_s3\n",
    "import json \n",
    "data = doc_extr_s3(bucket=\"testworkflow123\", prefix=\"pdf/vlg/\")\n",
    "print(json.dumps(data, indent=2, ensure_ascii=False))"
   ]
  },
  {
   "cell_type": "code",
   "execution_count": 5,
   "id": "26120a78",
   "metadata": {},
   "outputs": [
    {
     "data": {
      "text/plain": [
       "({'company': {'TenCongTy': 'CÔNG TY CỔ PHẦN VIMC LOGISTICS',\n",
       "   'MaChungKhoan': 'VLG',\n",
       "   'DiaChi': 'Tầng 4, tòa nhà Ocean Park, số 1 Đào Duy Anh, phường Phương Mai, quận Đống Đa, TP.Hà Nội, Việt Nam',\n",
       "   'SoDienThoai': '04-35772047/48',\n",
       "   'Email': 'info@vimclogistics.vn',\n",
       "   'LinhVucKinhDoanh': 'Kinh doanh xuất nhập khẩu hàng hóa, môi giới thương mại, đại lý mua bán, ký gửi hàng hóa; Vận tải đa phương thức; vận tải hàng hóa, container, hàng hóa siêu trường, siêu trọng bằng đường bộ, đường sắt, đường biển'},\n",
       "  'bctc': [{'quy': 'Q1/2025',\n",
       "    'tong_tai_san_cuoi_quy': 236156479630,\n",
       "    'loi_nhuan_sau_thue': 1116027647,\n",
       "    'loi_nhuan_gop': 2304572679,\n",
       "    'von_chu_so_huu': 178445053214,\n",
       "    'tong_doanh_thu': 60107916752,\n",
       "    'tong_tai_san': 236156479630,\n",
       "    'tong_no': 57711426416,\n",
       "    'gia_von_hang_ban': 57803344073,\n",
       "    'loi_nhuan_gop_ve_BH_va_CCDV': 2304572679,\n",
       "    'loi_nhuan_tai_chinh': 622690374,\n",
       "    'loi_nhuan_truoc_thue': 1402037633,\n",
       "    'tong_tai_san_luu_dong_ngan_han': 172374527886,\n",
       "    'no_ngan_han': 57711426416},\n",
       "   {'quy': 'Q2/2024',\n",
       "    'tong_tai_san_cuoi_quy': 212146243168,\n",
       "    'loi_nhuan_sau_thue': 10588556972,\n",
       "    'loi_nhuan_gop': 2283265819,\n",
       "    'von_chu_so_huu': 167262603675,\n",
       "    'tong_doanh_thu': 42083671325,\n",
       "    'tong_tai_san': 212146243168,\n",
       "    'tong_no': 44883639493,\n",
       "    'gia_von_hang_ban': 39800405506,\n",
       "    'loi_nhuan_gop_ve_BH_va_CCDV': 2283265819,\n",
       "    'loi_nhuan_tai_chinh': 189638689,\n",
       "    'loi_nhuan_truoc_thue': 13259726458,\n",
       "    'tong_tai_san_luu_dong_ngan_han': 145623535885,\n",
       "    'no_ngan_han': 44883639493},\n",
       "   {'quy': 'Q3/2024',\n",
       "    'tong_tai_san_cuoi_quy': 227375689868,\n",
       "    'loi_nhuan_sau_thue': 13875548792,\n",
       "    'loi_nhuan_gop': 1791245409,\n",
       "    'von_chu_so_huu': 181138152467,\n",
       "    'tong_doanh_thu': 41977528911,\n",
       "    'tong_tai_san': 227375689868,\n",
       "    'tong_no': 46237537401,\n",
       "    'gia_von_hang_ban': 40186283502,\n",
       "    'loi_nhuan_gop_ve_BH_va_CCDV': 1791245409,\n",
       "    'loi_nhuan_tai_chinh': 834803115,\n",
       "    'loi_nhuan_truoc_thue': 17204922944,\n",
       "    'tong_tai_san_luu_dong_ngan_han': 162255806260,\n",
       "    'no_ngan_han': 46237537401},\n",
       "   {'quy': 'Q4/2024',\n",
       "    'tong_tai_san_cuoi_quy': 229773312284,\n",
       "    'loi_nhuan_sau_thue': -3809126900,\n",
       "    'loi_nhuan_gop': 2114408986,\n",
       "    'von_chu_so_huu': 177329025567,\n",
       "    'tong_doanh_thu': 62287700880,\n",
       "    'tong_tai_san': 229773312284,\n",
       "    'tong_no': 52444286717,\n",
       "    'gia_von_hang_ban': 60173291894,\n",
       "    'loi_nhuan_gop_ve_BH_va_CCDV': 2114408986,\n",
       "    'loi_nhuan_tai_chinh': 617879595,\n",
       "    'loi_nhuan_truoc_thue': -513742519,\n",
       "    'tong_tai_san_luu_dong_ngan_han': 164800586261,\n",
       "    'no_ngan_han': 52444286717}]},\n",
       " None)"
      ]
     },
     "execution_count": 5,
     "metadata": {},
     "output_type": "execute_result"
    }
   ],
   "source": [
    "data"
   ]
  },
  {
   "cell_type": "code",
   "execution_count": 7,
   "id": "e8e69305",
   "metadata": {},
   "outputs": [],
   "source": [
    "structure_agent = Agent(model =bedrock_model)"
   ]
  },
  {
   "cell_type": "code",
   "execution_count": 12,
   "id": "8d616d94",
   "metadata": {},
   "outputs": [
    {
     "name": "stdout",
     "output_type": "stream",
     "text": [
      "Tôi sẽ phân tích và sắp xếp dữ liệu báo cáo tài chính của công ty VIMC LOGISTICS theo thứ tự thời gian tăng dần.\n",
      "Tool #3: CongTy\n"
     ]
    }
   ],
   "source": [
    "from dataclasses import dataclass, asdict\n",
    "from typing import List\n",
    "@dataclass\n",
    "class CompanyInfo:\n",
    "    ten_cty: str\n",
    "    ma_ck: str\n",
    "    dia_chi: str\n",
    "    so_dt: str\n",
    "    email: str\n",
    "    linhvuckinhdoanh: str\n",
    "\n",
    "@dataclass\n",
    "class BctcItem:\n",
    "    quy: str\n",
    "    tong_tai_san_cuoi_quy: int\n",
    "    loi_nhuan_sau_thue: int\n",
    "    loi_nhuan_gop: int\n",
    "    tong_doanh_thu: int\n",
    "    tong_tai_san: int\n",
    "    tong_no: int\n",
    "    gia_von_hang_ban: int\n",
    "    loi_nhuan_gop_ve_BH_va_CCDV: int\n",
    "    loi_nhuan_tai_chinh: int\n",
    "    loi_nhuan_truoc_thue: int\n",
    "    tong_tai_san_luu_dong_ngan_han: int\n",
    "    no_ngan_han: int\n",
    "\n",
    "\n",
    "class CongTy(BaseModel):\n",
    "    status: bool\n",
    "    error: str\n",
    "    companyInfo: CompanyInfo\n",
    "    bctc: List[BctcItem]\n",
    "out = json.dumps(data, ensure_ascii=False)\n",
    "cty_extract = structure_agent.structured_output(CongTy, f\"\"\"\n",
    "Hãy phân tích và sắp xếp dữ liệu lại đặc biệt về dữ liệu báo cáo tài chính, sắp xếp lại theo list các quý ứng với các biến sắp xếp theo chiều tăng dần về thời gian.\n",
    "Trả về status: False khi không trích xuất được đủ trường cho 4 quý, và error khi status là False sẽ chỉ ra các trường còn thiếu. \n",
    "{out}\n",
    "\"\"\")"
   ]
  },
  {
   "cell_type": "code",
   "execution_count": 14,
   "id": "bccbcc66",
   "metadata": {},
   "outputs": [
    {
     "data": {
      "text/plain": [
       "CompanyInfo(ten_cty='CÔNG TY CỔ PHẦN VIMC LOGISTICS', ma_ck='VLG', dia_chi='Tầng 4, tòa nhà Ocean Park, số 1 Đào Duy Anh, phường Phương Mai, quận Đống Đa, TP.Hà Nội, Việt Nam', so_dt='04-35772047/48', email='info@vimclogistics.vn', linhvuckinhdoanh='Kinh doanh xuất nhập khẩu hàng hóa, môi giới thương mại, đại lý mua bán, ký gửi hàng hóa; Vận tải đa phương thức; vận tải hàng hóa, container, hàng hóa siêu trường, siêu trọng bằng đường bộ, đường sắt, đường biển')"
      ]
     },
     "execution_count": 14,
     "metadata": {},
     "output_type": "execute_result"
    }
   ],
   "source": [
    "cty_extract.companyInfo"
   ]
  },
  {
   "cell_type": "code",
   "execution_count": 15,
   "id": "0c29f588",
   "metadata": {},
   "outputs": [
    {
     "data": {
      "text/plain": [
       "'{\"ten_cty\": \"CÔNG TY CỔ PHẦN VIMC LOGISTICS\", \"ma_ck\": \"VLG\", \"dia_chi\": \"Tầng 4, tòa nhà Ocean Park, số 1 Đào Duy Anh, phường Phương Mai, quận Đống Đa, TP.Hà Nội, Việt Nam\", \"so_dt\": \"04-35772047/48\", \"email\": \"info@vimclogistics.vn\", \"linhvuckinhdoanh\": \"Kinh doanh xuất nhập khẩu hàng hóa, môi giới thương mại, đại lý mua bán, ký gửi hàng hóa; Vận tải đa phương thức; vận tải hàng hóa, container, hàng hóa siêu trường, siêu trọng bằng đường bộ, đường sắt, đường biển\"}'"
      ]
     },
     "execution_count": 15,
     "metadata": {},
     "output_type": "execute_result"
    }
   ],
   "source": [
    "json.dumps(asdict(cty_extract.companyInfo), ensure_ascii=False)"
   ]
  },
  {
   "cell_type": "code",
   "execution_count": 4,
   "id": "c985c870",
   "metadata": {},
   "outputs": [],
   "source": [
    "output = {'company': {'TenCongTy': 'CÔNG TY CỔ PHẦN VIMC LOGISTICS',\n",
    "  'MaChungKhoan': 'VLG',\n",
    "  'DiaChi': 'Phòng 806, tòa nhà Ocean Park, số 1 Đào Duy Anh, phường Phương Mai, quận Đống Đa, TP.Hà Nội, Việt Nam',\n",
    "  'SoDienThoai': '024-35772047/48',\n",
    "  'Email': 'info@vimclogistics.vn',\n",
    "  'LinhVucKinhDoanh': 'Kinh doanh xuất nhập khẩu hàng hóa, môi giới thương mại, đại lý mua bán, ký gửi hàng hóa; Vận tải đa phương thức; vận tải hàng hóa, container, hàng hóa siêu trường, siêu trọng bằng đường bộ, đường sắt, đường biển'},\n",
    " 'bctc': [{'quy': 'Q1/2025',\n",
    "   'tong_tai_san_cuoi_quy': 236156479630,\n",
    "   'loi_nhuan_sau_thue': 1116027647,\n",
    "   'loi_nhuan_gop': 2304572679,\n",
    "   'von_chu_so_huu': 178445053214,\n",
    "   'tong_doanh_thu': 60107916752,\n",
    "   'tong_tai_san': 236156479630,\n",
    "   'tong_no': 57711426416,\n",
    "   'gia_von_hang_ban': 57803344073,\n",
    "   'loi_nhuan_gop_ve_BH_va_CCDV': 2304572679,\n",
    "   'loi_nhuan_tai_chinh': 622690374,\n",
    "   'loi_nhuan_truoc_thue': 1402037633,\n",
    "   'tong_tai_san_luu_dong_ngan_han': 172374527886,\n",
    "   'no_ngan_han': 57711426416},\n",
    "  {'quy': 'Q2/2024',\n",
    "   'tong_tai_san_cuoi_quy': 212146243168,\n",
    "   'loi_nhuan_sau_thue': 10588556972,\n",
    "   'loi_nhuan_gop': 2283265819,\n",
    "   'von_chu_so_huu': 167262603675,\n",
    "   'tong_doanh_thu': 42083671325,\n",
    "   'tong_tai_san': 212146243168,\n",
    "   'tong_no': 44883639493,\n",
    "   'gia_von_hang_ban': 39800405506,\n",
    "   'loi_nhuan_gop_ve_BH_va_CCDV': 2283265819,\n",
    "   'loi_nhuan_tai_chinh': 190238689,\n",
    "   'loi_nhuan_truoc_thue': 13259726458,\n",
    "   'tong_tai_san_luu_dong_ngan_han': 145623535885,\n",
    "   'no_ngan_han': 44883639493},\n",
    "  {'quy': 'Q3/2024',\n",
    "   'tong_tai_san_cuoi_quy': 227375689868,\n",
    "   'loi_nhuan_sau_thue': 13875548792,\n",
    "   'loi_nhuan_gop': 1791245409,\n",
    "   'von_chu_so_huu': 181138152467,\n",
    "   'tong_doanh_thu': 41977528911,\n",
    "   'tong_tai_san': 227375689868,\n",
    "   'tong_no': 46237537401,\n",
    "   'gia_von_hang_ban': 40186283502,\n",
    "   'loi_nhuan_gop_ve_BH_va_CCDV': 1791245409,\n",
    "   'loi_nhuan_tai_chinh': 834803115,\n",
    "   'loi_nhuan_truoc_thue': 17204922944,\n",
    "   'tong_tai_san_luu_dong_ngan_han': 162255806260,\n",
    "   'no_ngan_han': 46237537401},\n",
    "  {'quy': 'Q4/2024',\n",
    "   'tong_tai_san_cuoi_quy': 229773312284,\n",
    "   'loi_nhuan_sau_thue': -3809126900,\n",
    "   'loi_nhuan_gop': 2114408986,\n",
    "   'von_chu_so_huu': 177329025567,\n",
    "   'tong_doanh_thu': 62287700880,\n",
    "   'tong_tai_san': 229773312284,\n",
    "   'tong_no': 52444286717,\n",
    "   'gia_von_hang_ban': 60173291894,\n",
    "   'loi_nhuan_gop_ve_BH_va_CCDV': 2114408986,\n",
    "   'loi_nhuan_tai_chinh': 617879595,\n",
    "   'loi_nhuan_truoc_thue': -513742519,\n",
    "   'tong_tai_san_luu_dong_ngan_han': 164800586261,\n",
    "   'no_ngan_han': 52444286717}]}"
   ]
  },
  {
   "cell_type": "code",
   "execution_count": null,
   "id": "473e0284",
   "metadata": {},
   "outputs": [
    {
     "name": "stdout",
     "output_type": "stream",
     "text": [
      "Hello! How are you doing today? Is there anything I can help you with?"
     ]
    },
    {
     "data": {
      "text/plain": [
       "AgentResult(stop_reason='end_turn', message={'role': 'assistant', 'content': [{'text': 'Hello! How are you doing today? Is there anything I can help you with?'}]}, metrics=EventLoopMetrics(cycle_count=1, tool_metrics={}, cycle_durations=[1.7326014041900635], traces=[<strands.telemetry.metrics.Trace object at 0x000001E8D62F6080>], accumulated_usage={'inputTokens': 8, 'outputTokens': 20, 'totalTokens': 28}, accumulated_metrics={'latencyMs': 1575}), state={})"
      ]
     },
     "execution_count": 2,
     "metadata": {},
     "output_type": "execute_result"
    }
   ],
   "source": [
    "agent = Agent(model = bedrock_model, )\n",
    "agent(\"Hello\")"
   ]
  },
  {
   "cell_type": "code",
   "execution_count": 3,
   "id": "b8405b5b",
   "metadata": {},
   "outputs": [
    {
     "ename": "NameError",
     "evalue": "name 'CongTy' is not defined",
     "output_type": "error",
     "traceback": [
      "\u001b[1;31m---------------------------------------------------------------------------\u001b[0m",
      "\u001b[1;31mNameError\u001b[0m                                 Traceback (most recent call last)",
      "Cell \u001b[1;32mIn[3], line 4\u001b[0m\n\u001b[0;32m      1\u001b[0m \u001b[38;5;28;01mfrom\u001b[39;00m\u001b[38;5;250m \u001b[39m\u001b[38;5;21;01mstrands\u001b[39;00m\u001b[38;5;250m \u001b[39m\u001b[38;5;28;01mimport\u001b[39;00m Agent\n\u001b[0;32m      3\u001b[0m structure_agent \u001b[38;5;241m=\u001b[39m Agent(model \u001b[38;5;241m=\u001b[39mbedrock_model)\n\u001b[1;32m----> 4\u001b[0m trichxuat \u001b[38;5;241m=\u001b[39m structure_agent\u001b[38;5;241m.\u001b[39mstructured_output(\u001b[43mCongTy\u001b[49m, \u001b[38;5;124mf\u001b[39m\u001b[38;5;124m\"\"\"\u001b[39m\n\u001b[0;32m      5\u001b[0m \u001b[38;5;124mHãy phân tích và sắp xếp dữ liệu lại đặc biệt về dữ liệu báo cáo tài chính, sắp xếp lại theo list các quý ứng với các biến sắp xếp theo chiều tăng dần về thời gian.\u001b[39m\n\u001b[0;32m      6\u001b[0m \u001b[38;5;124mTrả về status: False khi không trích xuất được đủ trường cho 4 quý\u001b[39m\n\u001b[0;32m      7\u001b[0m \u001b[38;5;132;01m{\u001b[39;00mjson\u001b[38;5;241m.\u001b[39mdumps(output,\u001b[38;5;250m \u001b[39mensure_ascii\u001b[38;5;241m=\u001b[39m\u001b[38;5;28;01mFalse\u001b[39;00m)\u001b[38;5;132;01m}\u001b[39;00m\n\u001b[0;32m      8\u001b[0m \u001b[38;5;124m                                           \u001b[39m\u001b[38;5;124m\"\"\"\u001b[39m)\n",
      "\u001b[1;31mNameError\u001b[0m: name 'CongTy' is not defined"
     ]
    }
   ],
   "source": [
    "from strands import Agent\n",
    "\n",
    "structure_agent = Agent(model =bedrock_model)\n",
    "trichxuat = structure_agent.structured_output(CongTy, f\"\"\"\n",
    "Hãy phân tích và sắp xếp dữ liệu lại đặc biệt về dữ liệu báo cáo tài chính, sắp xếp lại theo list các quý ứng với các biến sắp xếp theo chiều tăng dần về thời gian.\n",
    "Trả về status: False khi không trích xuất được đủ trường cho 4 quý\n",
    "{json.dumps(output, ensure_ascii=False)}\n",
    "                                           \"\"\")"
   ]
  },
  {
   "cell_type": "code",
   "execution_count": 6,
   "id": "89c79cba",
   "metadata": {},
   "outputs": [
    {
     "data": {
      "text/plain": [
       "[BctcItem(quy='Q2/2024', tong_tai_san_cuoi_quy=212146243168, loi_nhuan_sau_thue=10588556972, loi_nhuan_gop=2283265819, tong_doanh_thu=42083671325, tong_tai_san=212146243168, tong_no=44883639493, gia_von_hang_ban=39800405506, loi_nhuan_gop_ve_BH_va_CCDV=2283265819, loi_nhuan_tai_chinh=190238689, loi_nhuan_truoc_thue=13259726458, tong_tai_san_luu_dong_ngan_han=145623535885, no_ngan_han=44883639493),\n",
       " BctcItem(quy='Q3/2024', tong_tai_san_cuoi_quy=227375689868, loi_nhuan_sau_thue=13875548792, loi_nhuan_gop=1791245409, tong_doanh_thu=41977528911, tong_tai_san=227375689868, tong_no=46237537401, gia_von_hang_ban=40186283502, loi_nhuan_gop_ve_BH_va_CCDV=1791245409, loi_nhuan_tai_chinh=834803115, loi_nhuan_truoc_thue=17204922944, tong_tai_san_luu_dong_ngan_han=162255806260, no_ngan_han=46237537401),\n",
       " BctcItem(quy='Q4/2024', tong_tai_san_cuoi_quy=229773312284, loi_nhuan_sau_thue=-3809126900, loi_nhuan_gop=2114408986, tong_doanh_thu=62287700880, tong_tai_san=229773312284, tong_no=52444286717, gia_von_hang_ban=60173291894, loi_nhuan_gop_ve_BH_va_CCDV=2114408986, loi_nhuan_tai_chinh=617879595, loi_nhuan_truoc_thue=-513742519, tong_tai_san_luu_dong_ngan_han=164800586261, no_ngan_han=52444286717),\n",
       " BctcItem(quy='Q1/2025', tong_tai_san_cuoi_quy=236156479630, loi_nhuan_sau_thue=1116027647, loi_nhuan_gop=2304572679, tong_doanh_thu=60107916752, tong_tai_san=236156479630, tong_no=57711426416, gia_von_hang_ban=57803344073, loi_nhuan_gop_ve_BH_va_CCDV=2304572679, loi_nhuan_tai_chinh=622690374, loi_nhuan_truoc_thue=1402037633, tong_tai_san_luu_dong_ngan_han=172374527886, no_ngan_han=57711426416)]"
      ]
     },
     "execution_count": 6,
     "metadata": {},
     "output_type": "execute_result"
    }
   ],
   "source": [
    "trichxuat.bctc"
   ]
  },
  {
   "cell_type": "code",
   "execution_count": 7,
   "id": "68e601ed",
   "metadata": {},
   "outputs": [],
   "source": [
    "from dataclasses import dataclass, asdict\n",
    "json_data = [json.dumps(asdict(item), ensure_ascii=False) for item in trichxuat.bctc]"
   ]
  },
  {
   "cell_type": "code",
   "execution_count": 8,
   "id": "69df3673",
   "metadata": {},
   "outputs": [
    {
     "data": {
      "text/plain": [
       "['{\"quy\": \"Q2/2024\", \"tong_tai_san_cuoi_quy\": 212146243168, \"loi_nhuan_sau_thue\": 10588556972, \"loi_nhuan_gop\": 2283265819, \"tong_doanh_thu\": 42083671325, \"tong_tai_san\": 212146243168, \"tong_no\": 44883639493, \"gia_von_hang_ban\": 39800405506, \"loi_nhuan_gop_ve_BH_va_CCDV\": 2283265819, \"loi_nhuan_tai_chinh\": 190238689, \"loi_nhuan_truoc_thue\": 13259726458, \"tong_tai_san_luu_dong_ngan_han\": 145623535885, \"no_ngan_han\": 44883639493}',\n",
       " '{\"quy\": \"Q3/2024\", \"tong_tai_san_cuoi_quy\": 227375689868, \"loi_nhuan_sau_thue\": 13875548792, \"loi_nhuan_gop\": 1791245409, \"tong_doanh_thu\": 41977528911, \"tong_tai_san\": 227375689868, \"tong_no\": 46237537401, \"gia_von_hang_ban\": 40186283502, \"loi_nhuan_gop_ve_BH_va_CCDV\": 1791245409, \"loi_nhuan_tai_chinh\": 834803115, \"loi_nhuan_truoc_thue\": 17204922944, \"tong_tai_san_luu_dong_ngan_han\": 162255806260, \"no_ngan_han\": 46237537401}',\n",
       " '{\"quy\": \"Q4/2024\", \"tong_tai_san_cuoi_quy\": 229773312284, \"loi_nhuan_sau_thue\": -3809126900, \"loi_nhuan_gop\": 2114408986, \"tong_doanh_thu\": 62287700880, \"tong_tai_san\": 229773312284, \"tong_no\": 52444286717, \"gia_von_hang_ban\": 60173291894, \"loi_nhuan_gop_ve_BH_va_CCDV\": 2114408986, \"loi_nhuan_tai_chinh\": 617879595, \"loi_nhuan_truoc_thue\": -513742519, \"tong_tai_san_luu_dong_ngan_han\": 164800586261, \"no_ngan_han\": 52444286717}',\n",
       " '{\"quy\": \"Q1/2025\", \"tong_tai_san_cuoi_quy\": 236156479630, \"loi_nhuan_sau_thue\": 1116027647, \"loi_nhuan_gop\": 2304572679, \"tong_doanh_thu\": 60107916752, \"tong_tai_san\": 236156479630, \"tong_no\": 57711426416, \"gia_von_hang_ban\": 57803344073, \"loi_nhuan_gop_ve_BH_va_CCDV\": 2304572679, \"loi_nhuan_tai_chinh\": 622690374, \"loi_nhuan_truoc_thue\": 1402037633, \"tong_tai_san_luu_dong_ngan_han\": 172374527886, \"no_ngan_han\": 57711426416}']"
      ]
     },
     "execution_count": 8,
     "metadata": {},
     "output_type": "execute_result"
    }
   ],
   "source": [
    "json_data"
   ]
  },
  {
   "cell_type": "code",
   "execution_count": 9,
   "id": "9e8fae04",
   "metadata": {},
   "outputs": [
    {
     "data": {
      "text/plain": [
       "list"
      ]
     },
     "execution_count": 9,
     "metadata": {},
     "output_type": "execute_result"
    }
   ],
   "source": [
    "type(json_data)"
   ]
  },
  {
   "cell_type": "code",
   "execution_count": 10,
   "id": "0206eafe",
   "metadata": {},
   "outputs": [],
   "source": [
    "from finance_agent import FinancialAgent"
   ]
  },
  {
   "cell_type": "code",
   "execution_count": 11,
   "id": "23a320e2",
   "metadata": {},
   "outputs": [
    {
     "name": "stderr",
     "output_type": "stream",
     "text": [
      "defaulted to us-west-2 because no region was specified\n",
      "issue=<https://github.com/strands-agents/sdk-python/issues/238> | this behavior will change in an upcoming release\n"
     ]
    }
   ],
   "source": [
    "fin_agent = FinancialAgent()"
   ]
  },
  {
   "cell_type": "code",
   "execution_count": null,
   "id": "dd0ec368",
   "metadata": {},
   "outputs": [],
   "source": [
    "fin_data = fin_agent.compute(str(json_data))"
   ]
  },
  {
   "cell_type": "code",
   "execution_count": 15,
   "id": "0800fd34",
   "metadata": {},
   "outputs": [
    {
     "data": {
      "text/plain": [
       "str"
      ]
     },
     "execution_count": 15,
     "metadata": {},
     "output_type": "execute_result"
    }
   ],
   "source": [
    "type(fin_data)"
   ]
  },
  {
   "cell_type": "code",
   "execution_count": 18,
   "id": "50d3d15d",
   "metadata": {},
   "outputs": [
    {
     "name": "stdout",
     "output_type": "stream",
     "text": [
      "\n",
      "Tool #1: TaiChinh\n"
     ]
    }
   ],
   "source": [
    "class TaiChinh(BaseModel):\n",
    "    status: bool\n",
    "    thongso: str\n",
    "    diemmanh: str\n",
    "    diemyeu: str\n",
    "    ruiro: str\n",
    "    ketluan: str\n",
    "\n",
    "fin_struct_agent = Agent(model = bedrock_model, system_prompt=\"You are an extracted agent that extract agent based on financial analyst. Status is true if result show that previous agent actually use tool\")\n",
    "fin_analyst = fin_struct_agent.structured_output(TaiChinh, fin_data)\n",
    "\n"
   ]
  },
  {
   "cell_type": "code",
   "execution_count": 21,
   "id": "b145735d",
   "metadata": {},
   "outputs": [
    {
     "data": {
      "text/plain": [
       "'Khả năng thanh toán ngắn hạn xuất sắc với Current Ratio luôn trên 2.9. Cấu trúc vốn an toàn với tỷ lệ nợ thấp (dưới 25%). Doanh thu tăng trưởng mạnh 48% trong Q4/2024. Tổng tài sản tăng ổn định từ 212 tỷ lên 236 tỷ đồng. Vốn chủ sở hữu duy trì ổn định khoảng 178 tỷ đồng.'"
      ]
     },
     "execution_count": 21,
     "metadata": {},
     "output_type": "execute_result"
    }
   ],
   "source": [
    "fin_analyst.diemmanh"
   ]
  },
  {
   "cell_type": "code",
   "execution_count": 22,
   "id": "517ea239",
   "metadata": {},
   "outputs": [],
   "source": [
    "fin_sum = f\"\"\"\n",
    "Điểm mạnh: {fin_analyst.diemmanh}\n",
    "Điểm yếu: {fin_analyst.diemyeu}\n",
    "Rủi ro: {fin_analyst.ruiro}\n",
    "\"\"\""
   ]
  },
  {
   "cell_type": "code",
   "execution_count": null,
   "id": "9db4910d",
   "metadata": {},
   "outputs": [
    {
     "name": "stdout",
     "output_type": "stream",
     "text": [
      "Available tables: ['chatbot-history', 'chathistory', 'users']\n",
      "dynamodb.Table(name='chathistory')\n"
     ]
    }
   ],
   "source": [
    "from dynamodb import DynamoDBConversationManager, truncate_tool_results, wrapper_callback_handler, system_prompt\n",
    "import uuid\n",
    "from dotenv import load_dotenv\n",
    "import os\n",
    "import boto3\n",
    "from botocore.config import Config as BotocoreConfig\n",
    "from strands.models import BedrockModel\n",
    "from strands.agent.conversation_manager import SlidingWindowConversationManager,SummarizingConversationManager\n",
    "from strands import Agent, tool\n",
    "load_dotenv()\n",
    "access = os.getenv('AWS_ACCESS_KEY')\n",
    "secret = os.getenv('AWS_SECRET_KEY')\n",
    "session_id = '240101'\n",
    "conversation_manager_window_size = 10\n",
    "\n",
    "dynamo_db_conversation_manager = DynamoDBConversationManager(truncate_tools=truncate_tool_results)\n",
    "messages = dynamo_db_conversation_manager.get_messages(session_id)\n",
    "session = boto3.Session(\n",
    "aws_access_key_id= access,\n",
    "aws_secret_access_key= secret,\n",
    "region_name= 'ap-southeast-1'\n",
    "\n",
    ")\n",
    "boto_config = BotocoreConfig(\n",
    "    retries={\"max_attempts\": 5, \"mode\": \"standard\"},\n",
    "    connect_timeout=5,\n",
    "    read_timeout=120\n",
    ")\n",
    "# Create a Bedrock model with the custom session\n",
    "bedrock_model = BedrockModel(\n",
    "    model_id = \"arn:aws:bedrock:ap-southeast-1:389903776084:inference-profile/apac.anthropic.claude-sonnet-4-20250514-v1:0\",\n",
    "    boto_session=session,\n",
    "    temperature=0.1,\n",
    "    top_p=0.8,\n",
    "    # stop_sequences=[\"###\", \"END\"],\n",
    "    boto_client_config=boto_config,\n",
    "    guardrail_id=\"yqlokwoh1qod\",\n",
    "    guardrail_version=\"defense\",                    # Guardrail version\n",
    "    guardrail_trace=\"enabled\",\n",
    ")\n",
    "strands_conversation_manager = SlidingWindowConversationManager(window_size=conversation_manager_window_size)\n",
    "\n",
    "client = session.client(\"bedrock-runtime\")\n",
    "\n",
    "os.environ[\"KNOWLEDGE_BASE_ID\"] = 'LXTS8BCTDL'\n",
    "os.environ[\"AWS_REGION\"] = 'ap-southeast-1'\n",
    "os.environ[\"MIN_SCORE\"] = \"0.05\"\n",
    "\n",
    "os.environ[\"AWS_ACCESS_KEY_ID\"] =os.environ.get('AWS_ACCESS_KEY')\n",
    "\n",
    "os.environ[\"AWS_SECRET_ACCESS_KEY\"] = os.environ.get('AWS_SECRET_KEY')"
   ]
  },
  {
   "cell_type": "code",
   "execution_count": 11,
   "id": "5843956f",
   "metadata": {},
   "outputs": [
    {
     "name": "stdout",
     "output_type": "stream",
     "text": [
      "240101\n"
     ]
    },
    {
     "name": "stderr",
     "output_type": "stream",
     "text": [
      "07/17/2025 11:08:03 AM - Cleared 17 messages for session 240101\n"
     ]
    },
    {
     "data": {
      "text/plain": [
       "17"
      ]
     },
     "execution_count": 11,
     "metadata": {},
     "output_type": "execute_result"
    }
   ],
   "source": [
    "dynamo_db_conversation_manager.clear_history('240101')"
   ]
  },
  {
   "cell_type": "code",
   "execution_count": 13,
   "id": "77d92bbe",
   "metadata": {},
   "outputs": [
    {
     "name": "stdout",
     "output_type": "stream",
     "text": [
      "hello m ngu vl\n"
     ]
    },
    {
     "ename": "ValidationException",
     "evalue": "An error occurred (ValidationException) when calling the ConverseStream operation: The model returned the following errors: The guardrail identifier or version provided in the request does not exist.",
     "output_type": "error",
     "traceback": [
      "\u001b[1;31m---------------------------------------------------------------------------\u001b[0m",
      "\u001b[1;31mValidationException\u001b[0m                       Traceback (most recent call last)",
      "Cell \u001b[1;32mIn[13], line 129\u001b[0m\n\u001b[0;32m    127\u001b[0m dynamo_db_conversation_manager\u001b[38;5;241m.\u001b[39madd_user_message(session_id, user)\n\u001b[0;32m    128\u001b[0m messages \u001b[38;5;241m=\u001b[39m dynamo_db_conversation_manager\u001b[38;5;241m.\u001b[39mget_messages(session_id)\n\u001b[1;32m--> 129\u001b[0m output \u001b[38;5;241m=\u001b[39m \u001b[43msimple_agent\u001b[49m\u001b[43m(\u001b[49m\u001b[43muser\u001b[49m\u001b[43m)\u001b[49m\n\u001b[0;32m    130\u001b[0m \u001b[38;5;28mprint\u001b[39m(output)\n",
      "File \u001b[1;32mc:\\Users\\Song\\anaconda3\\envs\\aws\\lib\\site-packages\\strands\\agent\\agent.py:391\u001b[0m, in \u001b[0;36mAgent.__call__\u001b[1;34m(self, prompt, **kwargs)\u001b[0m\n\u001b[0;32m    387\u001b[0m \u001b[38;5;28mself\u001b[39m\u001b[38;5;241m.\u001b[39m_start_agent_trace_span(prompt)\n\u001b[0;32m    389\u001b[0m \u001b[38;5;28;01mtry\u001b[39;00m:\n\u001b[0;32m    390\u001b[0m     \u001b[38;5;66;03m# Run the event loop and get the result\u001b[39;00m\n\u001b[1;32m--> 391\u001b[0m     result \u001b[38;5;241m=\u001b[39m \u001b[38;5;28;43mself\u001b[39;49m\u001b[38;5;241;43m.\u001b[39;49m\u001b[43m_run_loop\u001b[49m\u001b[43m(\u001b[49m\u001b[43mprompt\u001b[49m\u001b[43m,\u001b[49m\u001b[43m \u001b[49m\u001b[43mkwargs\u001b[49m\u001b[43m)\u001b[49m\n\u001b[0;32m    393\u001b[0m     \u001b[38;5;28mself\u001b[39m\u001b[38;5;241m.\u001b[39m_end_agent_trace_span(response\u001b[38;5;241m=\u001b[39mresult)\n\u001b[0;32m    395\u001b[0m     \u001b[38;5;28;01mreturn\u001b[39;00m result\n",
      "File \u001b[1;32mc:\\Users\\Song\\anaconda3\\envs\\aws\\lib\\site-packages\\strands\\agent\\agent.py:521\u001b[0m, in \u001b[0;36mAgent._run_loop\u001b[1;34m(self, prompt, kwargs, supplementary_callback_handler)\u001b[0m\n\u001b[0;32m    518\u001b[0m     \u001b[38;5;28mself\u001b[39m\u001b[38;5;241m.\u001b[39mmessages\u001b[38;5;241m.\u001b[39mappend(new_message)\n\u001b[0;32m    520\u001b[0m     \u001b[38;5;66;03m# Execute the event loop cycle with retry logic for context limits\u001b[39;00m\n\u001b[1;32m--> 521\u001b[0m     \u001b[38;5;28;01mreturn\u001b[39;00m \u001b[38;5;28;43mself\u001b[39;49m\u001b[38;5;241;43m.\u001b[39;49m\u001b[43m_execute_event_loop_cycle\u001b[49m\u001b[43m(\u001b[49m\u001b[43minvocation_callback_handler\u001b[49m\u001b[43m,\u001b[49m\u001b[43m \u001b[49m\u001b[43mkwargs\u001b[49m\u001b[43m)\u001b[49m\n\u001b[0;32m    523\u001b[0m \u001b[38;5;28;01mfinally\u001b[39;00m:\n\u001b[0;32m    524\u001b[0m     \u001b[38;5;28mself\u001b[39m\u001b[38;5;241m.\u001b[39mconversation_manager\u001b[38;5;241m.\u001b[39mapply_management(\u001b[38;5;28mself\u001b[39m)\n",
      "File \u001b[1;32mc:\\Users\\Song\\anaconda3\\envs\\aws\\lib\\site-packages\\strands\\agent\\agent.py:549\u001b[0m, in \u001b[0;36mAgent._execute_event_loop_cycle\u001b[1;34m(self, callback_handler, kwargs)\u001b[0m\n\u001b[0;32m    545\u001b[0m kwargs\u001b[38;5;241m.\u001b[39mpop(\u001b[38;5;124m\"\u001b[39m\u001b[38;5;124magent\u001b[39m\u001b[38;5;124m\"\u001b[39m, \u001b[38;5;28;01mNone\u001b[39;00m)  \u001b[38;5;66;03m# Remove agent to avoid conflicts\u001b[39;00m\n\u001b[0;32m    547\u001b[0m \u001b[38;5;28;01mtry\u001b[39;00m:\n\u001b[0;32m    548\u001b[0m     \u001b[38;5;66;03m# Execute the main event loop cycle\u001b[39;00m\n\u001b[1;32m--> 549\u001b[0m     stop_reason, message, metrics, state \u001b[38;5;241m=\u001b[39m event_loop_cycle(\n\u001b[0;32m    550\u001b[0m         model\u001b[38;5;241m=\u001b[39mmodel,\n\u001b[0;32m    551\u001b[0m         system_prompt\u001b[38;5;241m=\u001b[39msystem_prompt,\n\u001b[0;32m    552\u001b[0m         messages\u001b[38;5;241m=\u001b[39mmessages,  \u001b[38;5;66;03m# will be modified by event_loop_cycle\u001b[39;00m\n\u001b[0;32m    553\u001b[0m         tool_config\u001b[38;5;241m=\u001b[39mtool_config,\n\u001b[0;32m    554\u001b[0m         callback_handler\u001b[38;5;241m=\u001b[39mcallback_handler_override,\n\u001b[0;32m    555\u001b[0m         tool_handler\u001b[38;5;241m=\u001b[39mtool_handler,\n\u001b[0;32m    556\u001b[0m         tool_execution_handler\u001b[38;5;241m=\u001b[39mtool_execution_handler,\n\u001b[0;32m    557\u001b[0m         event_loop_metrics\u001b[38;5;241m=\u001b[39mevent_loop_metrics,\n\u001b[0;32m    558\u001b[0m         agent\u001b[38;5;241m=\u001b[39m\u001b[38;5;28mself\u001b[39m,\n\u001b[0;32m    559\u001b[0m         event_loop_parent_span\u001b[38;5;241m=\u001b[39m\u001b[38;5;28mself\u001b[39m\u001b[38;5;241m.\u001b[39mtrace_span,\n\u001b[0;32m    560\u001b[0m         \u001b[38;5;241m*\u001b[39m\u001b[38;5;241m*\u001b[39mkwargs,\n\u001b[0;32m    561\u001b[0m     )\n\u001b[0;32m    563\u001b[0m     \u001b[38;5;28;01mreturn\u001b[39;00m AgentResult(stop_reason, message, metrics, state)\n\u001b[0;32m    565\u001b[0m \u001b[38;5;28;01mexcept\u001b[39;00m ContextWindowOverflowException \u001b[38;5;28;01mas\u001b[39;00m e:\n\u001b[0;32m    566\u001b[0m     \u001b[38;5;66;03m# Try reducing the context size and retrying\u001b[39;00m\n",
      "File \u001b[1;32mc:\\Users\\Song\\anaconda3\\envs\\aws\\lib\\site-packages\\strands\\event_loop\\event_loop.py:171\u001b[0m, in \u001b[0;36mevent_loop_cycle\u001b[1;34m(model, system_prompt, messages, tool_config, callback_handler, tool_handler, tool_execution_handler, **kwargs)\u001b[0m\n\u001b[0;32m    169\u001b[0m         \u001b[38;5;28;01mif\u001b[39;00m model_invoke_span:\n\u001b[0;32m    170\u001b[0m             tracer\u001b[38;5;241m.\u001b[39mend_span_with_error(model_invoke_span, \u001b[38;5;28mstr\u001b[39m(e), e)\n\u001b[1;32m--> 171\u001b[0m         \u001b[38;5;28;01mraise\u001b[39;00m e\n\u001b[0;32m    173\u001b[0m \u001b[38;5;28;01mtry\u001b[39;00m:\n\u001b[0;32m    174\u001b[0m     \u001b[38;5;66;03m# Add message in trace and mark the end of the stream messages trace\u001b[39;00m\n\u001b[0;32m    175\u001b[0m     stream_trace\u001b[38;5;241m.\u001b[39madd_message(message)\n",
      "File \u001b[1;32mc:\\Users\\Song\\anaconda3\\envs\\aws\\lib\\site-packages\\strands\\event_loop\\event_loop.py:138\u001b[0m, in \u001b[0;36mevent_loop_cycle\u001b[1;34m(model, system_prompt, messages, tool_config, callback_handler, tool_handler, tool_execution_handler, **kwargs)\u001b[0m\n\u001b[0;32m    126\u001b[0m model_invoke_span \u001b[38;5;241m=\u001b[39m tracer\u001b[38;5;241m.\u001b[39mstart_model_invoke_span(\n\u001b[0;32m    127\u001b[0m     parent_span\u001b[38;5;241m=\u001b[39mcycle_span,\n\u001b[0;32m    128\u001b[0m     messages\u001b[38;5;241m=\u001b[39mmessages,\n\u001b[0;32m    129\u001b[0m     model_id\u001b[38;5;241m=\u001b[39mmodel_id,\n\u001b[0;32m    130\u001b[0m )\n\u001b[0;32m    132\u001b[0m \u001b[38;5;28;01mtry\u001b[39;00m:\n\u001b[0;32m    133\u001b[0m     \u001b[38;5;66;03m# TODO: As part of the migration to async-iterator, we will continue moving callback_handler calls up the\u001b[39;00m\n\u001b[0;32m    134\u001b[0m     \u001b[38;5;66;03m#       call stack. At this point, we converted all events that were previously passed to the handler in\u001b[39;00m\n\u001b[0;32m    135\u001b[0m     \u001b[38;5;66;03m#       `stream_messages` into yielded events that now have the \"callback\" key. To maintain backwards\u001b[39;00m\n\u001b[0;32m    136\u001b[0m     \u001b[38;5;66;03m#       compatability, we need to combine the event with kwargs before passing to the handler. This we will\u001b[39;00m\n\u001b[0;32m    137\u001b[0m     \u001b[38;5;66;03m#       revisit when migrating to strongly typed events.\u001b[39;00m\n\u001b[1;32m--> 138\u001b[0m     \u001b[38;5;28;01mfor\u001b[39;00m event \u001b[38;5;129;01min\u001b[39;00m stream_messages(model, system_prompt, messages, tool_config):\n\u001b[0;32m    139\u001b[0m         \u001b[38;5;28;01mif\u001b[39;00m \u001b[38;5;124m\"\u001b[39m\u001b[38;5;124mcallback\u001b[39m\u001b[38;5;124m\"\u001b[39m \u001b[38;5;129;01min\u001b[39;00m event:\n\u001b[0;32m    140\u001b[0m             inputs \u001b[38;5;241m=\u001b[39m {\u001b[38;5;241m*\u001b[39m\u001b[38;5;241m*\u001b[39mevent[\u001b[38;5;124m\"\u001b[39m\u001b[38;5;124mcallback\u001b[39m\u001b[38;5;124m\"\u001b[39m], \u001b[38;5;241m*\u001b[39m\u001b[38;5;241m*\u001b[39m(kwargs \u001b[38;5;28;01mif\u001b[39;00m \u001b[38;5;124m\"\u001b[39m\u001b[38;5;124mdelta\u001b[39m\u001b[38;5;124m\"\u001b[39m \u001b[38;5;129;01min\u001b[39;00m event[\u001b[38;5;124m\"\u001b[39m\u001b[38;5;124mcallback\u001b[39m\u001b[38;5;124m\"\u001b[39m] \u001b[38;5;28;01melse\u001b[39;00m {})}\n",
      "File \u001b[1;32mc:\\Users\\Song\\anaconda3\\envs\\aws\\lib\\site-packages\\strands\\event_loop\\streaming.py:326\u001b[0m, in \u001b[0;36mstream_messages\u001b[1;34m(model, system_prompt, messages, tool_config)\u001b[0m\n\u001b[0;32m    323\u001b[0m tool_specs \u001b[38;5;241m=\u001b[39m [tool[\u001b[38;5;124m\"\u001b[39m\u001b[38;5;124mtoolSpec\u001b[39m\u001b[38;5;124m\"\u001b[39m] \u001b[38;5;28;01mfor\u001b[39;00m tool \u001b[38;5;129;01min\u001b[39;00m tool_config\u001b[38;5;241m.\u001b[39mget(\u001b[38;5;124m\"\u001b[39m\u001b[38;5;124mtools\u001b[39m\u001b[38;5;124m\"\u001b[39m, [])] \u001b[38;5;129;01mor\u001b[39;00m \u001b[38;5;28;01mNone\u001b[39;00m \u001b[38;5;28;01mif\u001b[39;00m tool_config \u001b[38;5;28;01melse\u001b[39;00m \u001b[38;5;28;01mNone\u001b[39;00m\n\u001b[0;32m    325\u001b[0m chunks \u001b[38;5;241m=\u001b[39m model\u001b[38;5;241m.\u001b[39mconverse(messages, tool_specs, system_prompt)\n\u001b[1;32m--> 326\u001b[0m \u001b[38;5;28;01myield from\u001b[39;00m process_stream(chunks, messages)\n",
      "File \u001b[1;32mc:\\Users\\Song\\anaconda3\\envs\\aws\\lib\\site-packages\\strands\\event_loop\\streaming.py:281\u001b[0m, in \u001b[0;36mprocess_stream\u001b[1;34m(chunks, messages)\u001b[0m\n\u001b[0;32m    278\u001b[0m usage: Usage \u001b[38;5;241m=\u001b[39m Usage(inputTokens\u001b[38;5;241m=\u001b[39m\u001b[38;5;241m0\u001b[39m, outputTokens\u001b[38;5;241m=\u001b[39m\u001b[38;5;241m0\u001b[39m, totalTokens\u001b[38;5;241m=\u001b[39m\u001b[38;5;241m0\u001b[39m)\n\u001b[0;32m    279\u001b[0m metrics: Metrics \u001b[38;5;241m=\u001b[39m Metrics(latencyMs\u001b[38;5;241m=\u001b[39m\u001b[38;5;241m0\u001b[39m)\n\u001b[1;32m--> 281\u001b[0m \u001b[38;5;28;01mfor\u001b[39;00m chunk \u001b[38;5;129;01min\u001b[39;00m chunks:\n\u001b[0;32m    282\u001b[0m     \u001b[38;5;28;01myield\u001b[39;00m {\u001b[38;5;124m\"\u001b[39m\u001b[38;5;124mcallback\u001b[39m\u001b[38;5;124m\"\u001b[39m: {\u001b[38;5;124m\"\u001b[39m\u001b[38;5;124mevent\u001b[39m\u001b[38;5;124m\"\u001b[39m: chunk}}\n\u001b[0;32m    284\u001b[0m     \u001b[38;5;28;01mif\u001b[39;00m \u001b[38;5;124m\"\u001b[39m\u001b[38;5;124mmessageStart\u001b[39m\u001b[38;5;124m\"\u001b[39m \u001b[38;5;129;01min\u001b[39;00m chunk:\n",
      "File \u001b[1;32mc:\\Users\\Song\\anaconda3\\envs\\aws\\lib\\site-packages\\strands\\types\\models\\model.py:139\u001b[0m, in \u001b[0;36mModel.converse\u001b[1;34m(self, messages, tool_specs, system_prompt)\u001b[0m\n\u001b[0;32m    136\u001b[0m response \u001b[38;5;241m=\u001b[39m \u001b[38;5;28mself\u001b[39m\u001b[38;5;241m.\u001b[39mstream(request)\n\u001b[0;32m    138\u001b[0m logger\u001b[38;5;241m.\u001b[39mdebug(\u001b[38;5;124m\"\u001b[39m\u001b[38;5;124mgot response from model\u001b[39m\u001b[38;5;124m\"\u001b[39m)\n\u001b[1;32m--> 139\u001b[0m \u001b[38;5;28;01mfor\u001b[39;00m event \u001b[38;5;129;01min\u001b[39;00m response:\n\u001b[0;32m    140\u001b[0m     \u001b[38;5;28;01myield\u001b[39;00m \u001b[38;5;28mself\u001b[39m\u001b[38;5;241m.\u001b[39mformat_chunk(event)\n\u001b[0;32m    142\u001b[0m logger\u001b[38;5;241m.\u001b[39mdebug(\u001b[38;5;124m\"\u001b[39m\u001b[38;5;124mfinished streaming response from model\u001b[39m\u001b[38;5;124m\"\u001b[39m)\n",
      "File \u001b[1;32mc:\\Users\\Song\\anaconda3\\envs\\aws\\lib\\site-packages\\strands\\models\\bedrock.py:384\u001b[0m, in \u001b[0;36mBedrockModel.stream\u001b[1;34m(self, request)\u001b[0m\n\u001b[0;32m    381\u001b[0m     \u001b[38;5;28;01mraise\u001b[39;00m ContextWindowOverflowException(e) \u001b[38;5;28;01mfrom\u001b[39;00m\u001b[38;5;250m \u001b[39m\u001b[38;5;21;01me\u001b[39;00m\n\u001b[0;32m    383\u001b[0m \u001b[38;5;66;03m# Otherwise raise the error\u001b[39;00m\n\u001b[1;32m--> 384\u001b[0m \u001b[38;5;28;01mraise\u001b[39;00m e\n",
      "File \u001b[1;32mc:\\Users\\Song\\anaconda3\\envs\\aws\\lib\\site-packages\\strands\\models\\bedrock.py:345\u001b[0m, in \u001b[0;36mBedrockModel.stream\u001b[1;34m(self, request)\u001b[0m\n\u001b[0;32m    342\u001b[0m \u001b[38;5;28;01mtry\u001b[39;00m:\n\u001b[0;32m    343\u001b[0m     \u001b[38;5;28;01mif\u001b[39;00m streaming:\n\u001b[0;32m    344\u001b[0m         \u001b[38;5;66;03m# Streaming implementation\u001b[39;00m\n\u001b[1;32m--> 345\u001b[0m         response \u001b[38;5;241m=\u001b[39m \u001b[38;5;28mself\u001b[39m\u001b[38;5;241m.\u001b[39mclient\u001b[38;5;241m.\u001b[39mconverse_stream(\u001b[38;5;241m*\u001b[39m\u001b[38;5;241m*\u001b[39mrequest)\n\u001b[0;32m    346\u001b[0m         \u001b[38;5;28;01mfor\u001b[39;00m chunk \u001b[38;5;129;01min\u001b[39;00m response[\u001b[38;5;124m\"\u001b[39m\u001b[38;5;124mstream\u001b[39m\u001b[38;5;124m\"\u001b[39m]:\n\u001b[0;32m    347\u001b[0m             \u001b[38;5;28;01mif\u001b[39;00m (\n\u001b[0;32m    348\u001b[0m                 \u001b[38;5;124m\"\u001b[39m\u001b[38;5;124mmetadata\u001b[39m\u001b[38;5;124m\"\u001b[39m \u001b[38;5;129;01min\u001b[39;00m chunk\n\u001b[0;32m    349\u001b[0m                 \u001b[38;5;129;01mand\u001b[39;00m \u001b[38;5;124m\"\u001b[39m\u001b[38;5;124mtrace\u001b[39m\u001b[38;5;124m\"\u001b[39m \u001b[38;5;129;01min\u001b[39;00m chunk[\u001b[38;5;124m\"\u001b[39m\u001b[38;5;124mmetadata\u001b[39m\u001b[38;5;124m\"\u001b[39m]\n\u001b[0;32m    350\u001b[0m                 \u001b[38;5;129;01mand\u001b[39;00m \u001b[38;5;124m\"\u001b[39m\u001b[38;5;124mguardrail\u001b[39m\u001b[38;5;124m\"\u001b[39m \u001b[38;5;129;01min\u001b[39;00m chunk[\u001b[38;5;124m\"\u001b[39m\u001b[38;5;124mmetadata\u001b[39m\u001b[38;5;124m\"\u001b[39m][\u001b[38;5;124m\"\u001b[39m\u001b[38;5;124mtrace\u001b[39m\u001b[38;5;124m\"\u001b[39m]\n\u001b[0;32m    351\u001b[0m             ):\n",
      "File \u001b[1;32mc:\\Users\\Song\\anaconda3\\envs\\aws\\lib\\site-packages\\botocore\\client.py:595\u001b[0m, in \u001b[0;36mClientCreator._create_api_method.<locals>._api_call\u001b[1;34m(self, *args, **kwargs)\u001b[0m\n\u001b[0;32m    591\u001b[0m     \u001b[38;5;28;01mraise\u001b[39;00m \u001b[38;5;167;01mTypeError\u001b[39;00m(\n\u001b[0;32m    592\u001b[0m         \u001b[38;5;124mf\u001b[39m\u001b[38;5;124m\"\u001b[39m\u001b[38;5;132;01m{\u001b[39;00mpy_operation_name\u001b[38;5;132;01m}\u001b[39;00m\u001b[38;5;124m() only accepts keyword arguments.\u001b[39m\u001b[38;5;124m\"\u001b[39m\n\u001b[0;32m    593\u001b[0m     )\n\u001b[0;32m    594\u001b[0m \u001b[38;5;66;03m# The \"self\" in this scope is referring to the BaseClient.\u001b[39;00m\n\u001b[1;32m--> 595\u001b[0m \u001b[38;5;28;01mreturn\u001b[39;00m \u001b[38;5;28;43mself\u001b[39;49m\u001b[38;5;241;43m.\u001b[39;49m\u001b[43m_make_api_call\u001b[49m\u001b[43m(\u001b[49m\u001b[43moperation_name\u001b[49m\u001b[43m,\u001b[49m\u001b[43m \u001b[49m\u001b[43mkwargs\u001b[49m\u001b[43m)\u001b[49m\n",
      "File \u001b[1;32mc:\\Users\\Song\\anaconda3\\envs\\aws\\lib\\site-packages\\botocore\\context.py:123\u001b[0m, in \u001b[0;36mwith_current_context.<locals>.decorator.<locals>.wrapper\u001b[1;34m(*args, **kwargs)\u001b[0m\n\u001b[0;32m    121\u001b[0m \u001b[38;5;28;01mif\u001b[39;00m hook:\n\u001b[0;32m    122\u001b[0m     hook()\n\u001b[1;32m--> 123\u001b[0m \u001b[38;5;28;01mreturn\u001b[39;00m func(\u001b[38;5;241m*\u001b[39margs, \u001b[38;5;241m*\u001b[39m\u001b[38;5;241m*\u001b[39mkwargs)\n",
      "File \u001b[1;32mc:\\Users\\Song\\anaconda3\\envs\\aws\\lib\\site-packages\\botocore\\client.py:1058\u001b[0m, in \u001b[0;36mBaseClient._make_api_call\u001b[1;34m(self, operation_name, api_params)\u001b[0m\n\u001b[0;32m   1054\u001b[0m     error_code \u001b[38;5;241m=\u001b[39m error_info\u001b[38;5;241m.\u001b[39mget(\u001b[38;5;124m\"\u001b[39m\u001b[38;5;124mQueryErrorCode\u001b[39m\u001b[38;5;124m\"\u001b[39m) \u001b[38;5;129;01mor\u001b[39;00m error_info\u001b[38;5;241m.\u001b[39mget(\n\u001b[0;32m   1055\u001b[0m         \u001b[38;5;124m\"\u001b[39m\u001b[38;5;124mCode\u001b[39m\u001b[38;5;124m\"\u001b[39m\n\u001b[0;32m   1056\u001b[0m     )\n\u001b[0;32m   1057\u001b[0m     error_class \u001b[38;5;241m=\u001b[39m \u001b[38;5;28mself\u001b[39m\u001b[38;5;241m.\u001b[39mexceptions\u001b[38;5;241m.\u001b[39mfrom_code(error_code)\n\u001b[1;32m-> 1058\u001b[0m     \u001b[38;5;28;01mraise\u001b[39;00m error_class(parsed_response, operation_name)\n\u001b[0;32m   1059\u001b[0m \u001b[38;5;28;01melse\u001b[39;00m:\n\u001b[0;32m   1060\u001b[0m     \u001b[38;5;28;01mreturn\u001b[39;00m parsed_response\n",
      "\u001b[1;31mValidationException\u001b[0m: An error occurred (ValidationException) when calling the ConverseStream operation: The model returned the following errors: The guardrail identifier or version provided in the request does not exist."
     ]
    }
   ],
   "source": [
    "\n",
    "from totrinh import create_to_trinh, update_to_trinh, get_data\n",
    "from upload import download_and_insert_image_from_s3\n",
    "from strands_tools import retrieve\n",
    "from basic_info import get_basic_info\n",
    "from finance_agent import get_finance_data\n",
    "from risk_analyst import get_risk_data\n",
    "\n",
    "callback_handler = wrapper_callback_handler(session_id, dynamo_db_conversation_manager)\n",
    "\n",
    "simple_agent = Agent(\n",
    "    model = bedrock_model,\n",
    "    tools=[retrieve, create_to_trinh, get_data, get_basic_info, get_finance_data, get_risk_data],\n",
    "    system_prompt = \"\"\"\n",
    "🧠 Bạn là một agent hỗ trợ tạo báo cáo tín dụng doanh nghiệp. Hỗ trợ người dùng có thể sửa lại nội dung.\n",
    "\n",
    "Thay vì điền trực tiếp văn bản, bạn cần sử dụng thông tin từ các trường dữ liệu JSON đầu vào, tổng hợp lại và trình bày thành đoạn văn bản phù hợp.\n",
    "\n",
    "📦 Cấu trúc dữ liệu JSON đầu vào bao gồm các trường sau:\n",
    "\n",
    "{\n",
    "  \"customer\": \"Thông tin chung của khách hàng, bao gồm: tên công ty, mã số thuế, số điện thoại, địa chỉ, email, người đại diện pháp luật.\",\n",
    "  \"lich_su_phat_trien\": \"Lịch sử phát triển của công ty, có thể bao gồm thông tin về công ty mẹ, công ty con.\",\n",
    "  \"ban_lanh_dao\": \"Cơ cấu tổ chức, danh sách và vai trò của các thành viên trong ban lãnh đạo, hội đồng quản trị.\",\n",
    "  \"danh_gia_thi_truong\": \"Đánh giá tình hình thị trường mà công ty đang hoạt động.\",\n",
    "  \"danh_gia_san_pham\": \"Đánh giá sản phẩm, khả năng cạnh tranh và điểm nổi bật của công ty trên thị trường.\",\n",
    "  \"danh_gia_kiem_toan\": \"Tình trạng kiểm toán báo cáo tài chính, đơn vị kiểm toán, nội dung nổi bật của báo cáo. Bạn cần tìm trong dữ liệu JSON trường `kiem_toan` để lấy thông tin `status`.\",\n",
    "  \"tinh_hinh_tai_chinh\": \"Phân tích, trình bày rõ ràng cụ thể tất cả tình hình tài chính của công ty.\",\n",
    "  \"ruiro\": \"Trình bày những rủi ro công ty 1 cách có cấu trúc và đưa ra giải pháp nếu có.\",\n",
    "  \"ketluan\": \"Từ toàn bộ thông tin trong kho dữ liệu, phân tích, đưa ra kết luận về công ty và đề xuất có nên cho công ty vay vốn với tình hình đó không\"\n",
    "}\n",
    "\n",
    "🛠 Các công cụ sẵn có:\n",
    "\n",
    "    retrieve: Truy xuất dữ liệu từ kho tài liệu.\n",
    "\n",
    "    create_to_trinh: Dùng hàm như sau:\n",
    "    create_to_trinh({'customer': '...', ...})\n",
    "    (Chỉ giữ nguyên nội dung bên trong các trường JSON sau khi tổng hợp thành đoạn văn.)\n",
    "\n",
    "    update_to_trinh: Dùng hàm như sau:\n",
    "    update_to_trinh(field, noidung )\n",
    "    Bạn có nhiệm vụ cập nhật lại nội dung mới cho 1 trường thông tin.\n",
    "\n",
    "\n",
    "    get_data: dùng để lấy thông tin trong báo cáo tài chính đã trình bày trước đó\n",
    "    \n",
    "    get_basic_info: đây là agent chuyên cho việc tìm kiếm thông tin cơ bản của công ty, những nội dung chung nhất\n",
    "    \n",
    "    get_finance_data: đây là agent chuyên cho việc phân tích tình hình tài chính của công ty\n",
    "    \n",
    "    get_risk_data: đây là agent dùng để phân tích và đưa ra các tình hình rủi ro của công ty\n",
    "\n",
    "<guideline>\n",
    "\n",
    "**Khi người dùng có yêu cầu viết/tạo 1 tờ trình mới:**\n",
    "1. Dùng công cụ retrieve để lấy toàn bộ dữ liệu cần thiết từ hệ thống. Đặc biệt không sử dụng các agent để phân tích lại.\n",
    "\n",
    "2. Với từng trường dữ liệu nhận được:\n",
    "\n",
    "    - Phân tích và viết lại nội dung thành một đoạn văn ngắn, khoảng 200–300 từ.\n",
    "    - Trình bày văn bản rõ ràng, chuyên nghiệp theo phong cách báo cáo tín dụng.\n",
    "    - **Bắt buộc**: Sau mỗi ý hoặc đoạn chính, cần **xuống dòng bằng \\\\n\\\\n** để đảm bảo cách đoạn khi xuất file PDF.\n",
    "\n",
    "3. Gắn nội dung đã viết lại vào từng trường tương ứng trong một cấu trúc JSON mới.\n",
    "\n",
    "    - Mỗi trường là một chuỗi (str) có định dạng xuống dòng rõ ràng.\n",
    "    - Ưu tiên dùng \\\\n\\\\n để tách các đoạn văn khi cần truyền nội dung qua create_to_trinh.\n",
    "\n",
    "4. In ra JSON kết quả để kiểm tra lỗi định dạng nếu cần.\n",
    "\n",
    "5. Cuối cùng, gọi create_to_trinh(...) để tạo file totrinh.pdf.\n",
    "\n",
    "\n",
    "**Khi người dùng yêu cầu sửa nội dung một phần:**\n",
    "    \n",
    "1. Dùng tool rerieve để lấy thông tin về thông tin cần chỉnh sửa lại từ kho dữ liệu\n",
    "\n",
    "2. Dùng tool get_data để lấy thông tin đã trình bày trong tờ trình\n",
    "\n",
    "3. Phân tích và cập nhật lại nội dung mới trên trường cần thiết. Nhớ vẫn phải giữ các phần khác trong tờ trình.\n",
    "- Phân tích và viết lại nội dung thành một đoạn văn ngắn, khoảng 200–300 từ.\n",
    "- Trình bày văn bản rõ ràng, chuyên nghiệp theo phong cách báo cáo tín dụng.\n",
    "- **Bắt buộc**: Sau mỗi ý hoặc đoạn chính, cần **xuống dòng bằng \\\\n\\\\n** để đảm bảo cách đoạn khi xuất file PDF.\n",
    "\n",
    "4. Cuối cùng, gọi create_to_trinh(...) để tạo lại file totrinh.pdf.\n",
    "\n",
    "\n",
    "\n",
    "**Khi người dùng cảm thấy thông tin đưa ra chưa đủ, còn thiếu và có yêu cầu cần cập nhật hay làm lại:**\n",
    "\n",
    "1. Phân tích xem thông tin đó nào trong field nào. Và nên tìm lại thông tin theo hướng mới nào\n",
    "\n",
    "2. Dùng get_data để lấy lại các nội dung trong tờ trinh trước đó\n",
    "\n",
    "3. Sử dụng các agent để thực hiện lại việc tìm kiếm, đào sâu dữ liệu đó\n",
    "\n",
    "4. Sử dụng retrieve tool để truy vấn lại kho dữ liệu mới\n",
    "\n",
    "5. Phân tích cập nhật lại dữ liệu trên trường cần thiết\n",
    "- Phân tích và viết lại nội dung thành một đoạn văn ngắn, khoảng 200–300 từ.\n",
    "- Trình bày văn bản rõ ràng, chuyên nghiệp theo phong cách báo cáo tín dụng.\n",
    "- **Bắt buộc**: Sau mỗi ý hoặc đoạn chính, cần **xuống dòng bằng \\\\n\\\\n** để đảm bảo cách đoạn khi xuất file PDF.\n",
    "\n",
    "6. Cuối cùng, gọi create_to_trinh(...) để tạo lại file totrinh.pdf.\n",
    "\n",
    "\n",
    "\n",
    "**Khi người dùng chỉ muốn hỏi về thông tin công ty: **\n",
    "Dùng tool retrieve truy vấn lại dữ liệu và phản hồi cho người dùng\n",
    "\n",
    "</guideline>\n",
    "✅ Yêu cầu đặc biệt:\n",
    "\n",
    "- Văn phong nghiêm túc, đúng chuẩn ngôn ngữ báo cáo tài chính – tín dụng doanh nghiệp.\n",
    "- Tuyệt đối không để các đoạn văn bị dính liền nhau; phải cách đoạn rõ ràng bằng `\\\\n\\\\n`.\n",
    "- Tất cả nội dung đầu ra phải bằng **tiếng Việt**.\n",
    "\n",
    "\n",
    "\"\"\",\n",
    "messages=messages[: len(messages) - 1],\n",
    "    conversation_manager=strands_conversation_manager,\n",
    "    callback_handler=callback_handler\n",
    "    )\n",
    "\n",
    "while True:\n",
    "    user = input(\"You: \")\n",
    "    dynamo_db_conversation_manager.add_user_message(session_id, user)\n",
    "    messages = dynamo_db_conversation_manager.get_messages(session_id)\n",
    "    output = simple_agent(user)\n",
    "    print(output)\n",
    "\n"
   ]
  },
  {
   "cell_type": "markdown",
   "id": "498f3be6",
   "metadata": {},
   "source": [
    "## TỜ TRÌNH"
   ]
  },
  {
   "cell_type": "code",
   "execution_count": null,
   "id": "9f605853",
   "metadata": {},
   "outputs": [
    {
     "name": "stderr",
     "output_type": "stream",
     "text": [
      "07/17/2025 10:05:16 AM - Creating Strands MetricsClient\n"
     ]
    },
    {
     "name": "stdout",
     "output_type": "stream",
     "text": [
      "Tôi sẽ giúp bạn tạo một tờ trình báo cáo tín dụng doanh nghiệp đầy đủ. Để làm điều này, tôi cần thu thập thông tin từ kho dữ liệu trước.\n",
      "Tool #1: retrieve\n"
     ]
    },
    {
     "name": "stderr",
     "output_type": "stream",
     "text": [
      "07/17/2025 10:05:21 AM - Found credentials in environment variables.\n"
     ]
    },
    {
     "name": "stdout",
     "output_type": "stream",
     "text": [
      "Bây giờ tôi sẽ thu thập thêm thông tin về lịch sử phát triển và đánh giá thị trường:\n",
      "Tool #2: retrieve\n",
      "Tiếp tục thu thập thông tin về đánh giá thị trường và sản phẩm:\n",
      "Tool #3: retrieve\n",
      "Bây giờ tôi sẽ thu thập thông tin về tình hình tài chính và kiểm toán:\n",
      "Tool #4: retrieve\n",
      "Cuối cùng, tôi sẽ thu thập thông tin về rủi ro:\n",
      "Tool #5: retrieve\n",
      "Bây giờ tôi đã thu thập đủ thông tin, tôi sẽ tổng hợp và tạo tờ trình báo cáo tín dụng doanh nghiệp đầy đủ:\n",
      "Tool #6: create_to_trinh\n",
      "content/fin_analyst/fin_charts/Bảng tài chính tổng hơp.png\n",
      "✅ Ảnh đã được tải từ S3 và chèn vào Word.\n",
      "content/fin_analyst/fin_charts/Cơ cấu vốn.png\n",
      "✅ Ảnh đã được tải từ S3 và chèn vào ô bảng.\n",
      "content/fin_analyst/fin_charts/Cơ cấu tài sản nợ.png\n",
      "✅ Ảnh đã được tải từ S3 và chèn vào ô bảng.\n",
      "content/fin_analyst/fin_charts/Biên lợi nhuận và lợi nhuận.png\n",
      "✅ Ảnh đã được tải từ S3 và chèn vào ô bảng.\n",
      "content/fin_analyst/fin_charts/Phân tích lợi nhuận.png\n",
      "✅ Ảnh đã được tải từ S3 và chèn vào ô bảng.\n",
      "content/fin_analyst/fin_charts/Tài sản và hiệu quả sinh lời.png\n",
      "✅ Ảnh đã được tải từ S3 và chèn vào ô bảng.\n",
      "content/fin_analyst/fin_charts/Vốn chủ sở hữu và khả năng sinh lời.png\n",
      "✅ Ảnh đã được tải từ S3 và chèn vào ô bảng.\n"
     ]
    },
    {
     "name": "stderr",
     "output_type": "stream",
     "text": [
      "100%|██████████| 1/1 [00:13<00:00, 13.17s/it]\n"
     ]
    },
    {
     "name": "stdout",
     "output_type": "stream",
     "text": [
      "✅ JSON uploaded to s3://testworkflow123/totrinh/totrinh.json\n",
      "Tôi đã hoàn thành việc tạo tờ trình báo cáo tín dụng doanh nghiệp đầy đủ cho Công ty Cổ phần VIMC Logistics. Báo cáo bao gồm tất cả các phần quan trọng:\n",
      "\n",
      "## 📋 **Nội dung tờ trình đã hoàn thành:**\n",
      "\n",
      "1. **Thông tin khách hàng**: Thông tin cơ bản về công ty, mã số thuế, địa chỉ, liên hệ và người đại diện pháp luật\n",
      "\n",
      "2. **Lịch sử phát triển**: Từ khi thành lập năm 2007 với tên Vinalines Logistics đến khi đổi tên thành VIMC Logistics năm 2021\n",
      "\n",
      "3. **Ban lãnh đạo**: Cơ cấu tổ chức chi tiết với HĐQT, Ban điều hành và Ban kiểm soát\n",
      "\n",
      "4. **Đánh giá thị trường**: Phân tích tình hình ngành logistics và vận tải Việt Nam\n",
      "\n",
      "5. **Đánh giá sản phẩm**: Các dịch vụ chính và lợi thế cạnh tranh của công ty\n",
      "\n",
      "6. **Đánh giá kiểm toán**: Tình trạng chưa có kiểm toán độc lập và các rủi ro liên quan\n",
      "\n",
      "7. **Tình hình tài chính**: Phân tích chi tiết các chỉ số tài chính từ Q2/2024 đến Q1/2025\n",
      "\n",
      "8. **Rủi ro**: Các rủi ro chính và giải pháp khắc phục\n",
      "\n",
      "9. **Kết luận**: Đánh giá tổng thể và khuyến nghị về việc cấp tín dụng\n",
      "\n",
      "## 🎯 **Kết luận chính:**\n",
      "- **Mức độ rủi ro**: TRUNG BÌNH - CAO\n",
      "- **Khuyến nghị**: KHÔNG nên cấp tín dụng trong thời điểm hiện tại\n",
      "- **Lý do**: Biến động lợi nhuận bất thường, vấn đề quản trị, thiếu kiểm toán độc lập\n",
      "\n",
      "Tờ trình đã được tạo thành công dưới dạng file **totrinh.pdf** và **totrinh.docx** để bạn có thể sử dụng và chỉnh sửa theo nhu cầu."
     ]
    },
    {
     "data": {
      "text/plain": [
       "AgentResult(stop_reason='end_turn', message={'role': 'assistant', 'content': [{'text': 'Tôi đã hoàn thành việc tạo tờ trình báo cáo tín dụng doanh nghiệp đầy đủ cho Công ty Cổ phần VIMC Logistics. Báo cáo bao gồm tất cả các phần quan trọng:\\n\\n## 📋 **Nội dung tờ trình đã hoàn thành:**\\n\\n1. **Thông tin khách hàng**: Thông tin cơ bản về công ty, mã số thuế, địa chỉ, liên hệ và người đại diện pháp luật\\n\\n2. **Lịch sử phát triển**: Từ khi thành lập năm 2007 với tên Vinalines Logistics đến khi đổi tên thành VIMC Logistics năm 2021\\n\\n3. **Ban lãnh đạo**: Cơ cấu tổ chức chi tiết với HĐQT, Ban điều hành và Ban kiểm soát\\n\\n4. **Đánh giá thị trường**: Phân tích tình hình ngành logistics và vận tải Việt Nam\\n\\n5. **Đánh giá sản phẩm**: Các dịch vụ chính và lợi thế cạnh tranh của công ty\\n\\n6. **Đánh giá kiểm toán**: Tình trạng chưa có kiểm toán độc lập và các rủi ro liên quan\\n\\n7. **Tình hình tài chính**: Phân tích chi tiết các chỉ số tài chính từ Q2/2024 đến Q1/2025\\n\\n8. **Rủi ro**: Các rủi ro chính và giải pháp khắc phục\\n\\n9. **Kết luận**: Đánh giá tổng thể và khuyến nghị về việc cấp tín dụng\\n\\n## 🎯 **Kết luận chính:**\\n- **Mức độ rủi ro**: TRUNG BÌNH - CAO\\n- **Khuyến nghị**: KHÔNG nên cấp tín dụng trong thời điểm hiện tại\\n- **Lý do**: Biến động lợi nhuận bất thường, vấn đề quản trị, thiếu kiểm toán độc lập\\n\\nTờ trình đã được tạo thành công dưới dạng file **totrinh.pdf** và **totrinh.docx** để bạn có thể sử dụng và chỉnh sửa theo nhu cầu.'}]}, metrics=EventLoopMetrics(cycle_count=7, tool_metrics={'retrieve': ToolMetrics(tool={'toolUseId': 'tooluse_v-0DT3hxTzS3nN4aFvCqHQ', 'name': 'retrieve', 'input': {'numberOfResults': 10, 'text': 'rủi ro VIMC Logistics vấn đề pháp lý tài chính thách thức'}}, call_count=5, success_count=5, error_count=0, total_time=2.4804866313934326), 'create_to_trinh': ToolMetrics(tool={'toolUseId': 'tooluse_nnophlCqSfOezbLdtw9Mcg', 'name': 'create_to_trinh', 'input': {'data': '{\\n  \"customer\": \"Công ty Cổ phần VIMC Logistics (mã chứng khoán: VLG) là một doanh nghiệp hoạt động trong lĩnh vực logistics và vận tải đa phương thức tại Việt Nam. Công ty có mã số thuế 0102345275, trụ sở chính tại tầng 4, tòa nhà Ocean Park, số 1 Đào Duy Anh, phường Phương Mai, quận Đống Đa, TP.Hà Nội.\\\\n\\\\nThông tin liên hệ của công ty bao gồm số điện thoại 04-35772047/48 và email info@vimclogistics.vn. Người đại diện pháp luật hiện tại là bà Đinh Thị Việt Hà, đồng thời giữ chức vụ Tổng Giám đốc và thành viên Hội đồng quản trị.\\\\n\\\\nLĩnh vực kinh doanh chính của VIMC Logistics bao gồm: kinh doanh xuất nhập khẩu hàng hóa, môi giới thương mại, đại lý mua bán và ký gửi hàng hóa; vận tải đa phương thức; vận tải hàng hóa, container, hàng hóa siêu trường, siêu trọng bằng đường bộ, đường sắt và đường biển.\",\\n  \\n  \"lich_su_phat_trien\": \"Công ty Cổ phần VIMC Logistics được thành lập vào năm 2007 với tên gọi ban đầu là Công ty Cổ phần Vinalines Logistics Việt Nam. Công ty được thành lập bởi các cổ đông chiến lược có uy tín trong ngành hàng hải và logistics, bao gồm Tổng Công ty Hàng hải Việt Nam, Cảng Hải Phòng, Cảng Sài Gòn, Vosa Việt Nam, Công ty Cổ phần Đại lý vận tải SAFI, Công ty Cổ phần Vận tải biển và Hợp tác Lao động quốc tế, và Công ty Cổ phần Container Phía Nam.\\\\n\\\\nNăm 2021 đánh dấu một bước ngoặt quan trọng trong lịch sử phát triển của công ty khi được đổi tên thành Công ty Cổ phần VIMC Logistics theo Giấy chứng nhận đăng ký doanh nghiệp ngày 24/05/2021. Tổng công ty Hàng Hải Việt Nam hiện là cổ đông nắm cổ phần chi phối của công ty.\\\\n\\\\nTrong suốt hành trình phát triển, VIMC Logistics đã khẳng định vị thế là đơn vị tiên phong trong lĩnh vực vận tải đa phương thức và dịch vụ logistics tại Việt Nam, luôn nỗ lực mang tới khách hàng chất lượng dịch vụ hiệu quả và những giải pháp hướng tới phát triển bền vững.\",\\n  \\n  \"ban_lanh_dao\": \"Cơ cấu tổ chức của VIMC Logistics được xây dựng theo mô hình công ty cổ phần với Hội đồng quản trị và Ban điều hành. Hội đồng quản trị gồm 5 thành viên do ông Mai Lê Lợi (sinh năm 1973, quê Hồng Gai, Quảng Ninh) làm Chủ tịch. Các thành viên khác bao gồm bà Dương Thu Hiền (Tỉnh ủy viên, Phó Chủ tịch Thường trực Ủy ban MTTQ Việt Nam), ông Phan Nhân Hải (nhạc sĩ nổi tiếng), ông Nguyễn Quốc Cường (doanh nhân có biệt danh \\\\\"Cường đô la\\\\\"), và bà Đinh Thị Việt Hà (sinh năm 1979).\\\\n\\\\nBan điều hành do bà Đinh Thị Việt Hà làm Tổng Giám đốc, ông Phạm Bá Ngân (sinh năm 1976) làm Phó Tổng Giám đốc. Bà Vũ Thị Thanh Nhàn đảm nhận vai trò Phụ trách quản trị và là người được ủy quyền công bố thông tin. Bà Trần Thị Loan giữ chức vụ Trưởng phòng Tài chính - Kế toán kiêm Kế toán trưởng.\\\\n\\\\nBan Kiểm soát gồm 3 thành viên: bà Vũ Lan Phương (sinh năm 1980, Trưởng BKS), bà Nguyễn Thị Hằng (sinh năm 1944, từng là Bộ trưởng Bộ Lao động - Thương binh và Xã hội), và bà Nguyễn Thị Hà Trang (sinh viên năm cuối ngành Sư phạm Công nghệ).\",\\n  \\n  \"danh_gia_thi_truong\": \"Thị trường logistics và vận tải Việt Nam đang trong giai đoạn phát triển mạnh mẽ, được thúc đẩy bởi sự tăng trưởng của thương mại quốc tế và nhu cầu vận chuyển hàng hóa ngày càng cao. Việt Nam với vị trí địa lý thuận lợi, là cửa ngõ kết nối các nước trong khu vực và thế giới, tạo ra nhiều cơ hội cho các doanh nghiệp logistics.\\\\n\\\\nNgành vận tải đa phương thức đang trở thành xu hướng chủ đạo, đáp ứng nhu cầu tối ưu hóa chi phí và thời gian vận chuyển của khách hàng. Tuy nhiên, thị trường cũng đối mặt với nhiều thách thức như cạnh tranh gay gắt từ các doanh nghiệp trong nước và nước ngoài, yêu cầu ngày càng cao về chất lượng dịch vụ và công nghệ.\\\\n\\\\nVIMC Logistics với lợi thế có cổ đông chiến lược là các doanh nghiệp lớn trong ngành hàng hải và cảng biển, công ty có điều kiện thuận lợi để phát triển dịch vụ logistics tích hợp và mở rộng thị phần. Việc sở hữu mạng lưới đối tác rộng khắp và kinh nghiệm lâu năm trong ngành tạo nên lợi thế cạnh tranh đáng kể.\",\\n  \\n  \"danh_gia_san_pham\": \"VIMC Logistics cung cấp dịch vụ logistics toàn diện với ba lĩnh vực hoạt động chính. Thứ nhất là dịch vụ vận tải đa phương thức bao gồm đường bộ, đường sắt, đường biển và đường hàng không, đáp ứng đa dạng nhu cầu vận chuyển của khách hàng. Thứ hai là dịch vụ tạm nhập tái xuất, hỗ trợ các doanh nghiệp trong hoạt động thương mại quốc tế. Thứ ba là dịch vụ kho ngoại quan, cung cấp giải pháp lưu trữ và bảo quản hàng hóa chuyên nghiệp.\\\\n\\\\nCông ty còn cung cấp các dịch vụ bổ trợ như kinh doanh xuất nhập khẩu hàng hóa, môi giới thương mại, đại lý mua bán và ký gửi hàng hóa. Đặc biệt, VIMC Logistics có khả năng vận chuyển các loại hàng hóa đặc biệt như container, hàng hóa siêu trường và siêu trọng, thể hiện năng lực kỹ thuật và kinh nghiệm chuyên môn cao.\\\\n\\\\nVới vị thế là đơn vị tiên phong trong lĩnh vực vận tải đa phương thức, công ty luôn hướng tới việc cung cấp các giải pháp logistics tối ưu, góp phần nâng cao hiệu quả hoạt động kinh doanh cho khách hàng và xây dựng mối quan hệ hợp tác lâu dài.\",\\n  \\n  \"danh_gia_kiem_toan\": \"Theo thông tin từ báo cáo tài chính, VIMC Logistics hiện chưa thực hiện kiểm toán độc lập cho báo cáo tài chính của mình. Trạng thái kiểm toán được ghi nhận là \\\\\"False\\\\\", nghĩa là các báo cáo tài chính của công ty chưa được kiểm toán bởi đơn vị kiểm toán độc lập.\\\\n\\\\nBáo cáo tài chính của công ty bao gồm đầy đủ các thành phần cơ bản: Bảng Cân đối Kế toán, Báo cáo Kết quả Kinh doanh, Báo cáo Lưu chuyển Tiền tệ và Bản Thuyết minh Báo cáo Tài chính. Tuy nhiên, việc không có ý kiến kiểm toán độc lập có thể ảnh hưởng đến độ tin cậy và tính minh bạch của thông tin tài chính.\\\\n\\\\nĐây là một điểm cần lưu ý trong việc đánh giá rủi ro tín dụng, vì việc thiếu kiểm toán độc lập có thể làm giảm mức độ tin cậy của các số liệu tài chính được công bố, đồng thời không có sự xác nhận từ bên thứ ba về tính chính xác và tuân thủ các chuẩn mực kế toán.\",\\n  \\n  \"tinh_hinh_tai_chinh\": \"Tình hình tài chính của VIMC Logistics trong giai đoạn từ Q2/2024 đến Q1/2025 cho thấy những biến động đáng chú ý. Về quy mô, tổng tài sản của công ty tăng trưởng ổn định từ 212,15 tỷ đồng (Q2/2024) lên 236,16 tỷ đồng (Q1/2025), tăng 11,3% trong vòng 3 quý, thể hiện sự mở rộng quy mô hoạt động.\\\\n\\\\nDoanh thu có sự biến động mạnh, tăng đột biến từ 41,98 tỷ đồng (Q3/2024) lên 62,29 tỷ đồng (Q4/2024), tăng 48%, sau đó giảm nhẹ xuống 60,11 tỷ đồng (Q1/2025). Tuy nhiên, lợi nhuận sau thuế lại có biến động cực kỳ bất thường: từ mức cao 13,88 tỷ đồng (Q3/2024) xuống âm 3,81 tỷ đồng (Q4/2024), rồi phục hồi lên 1,12 tỷ đồng (Q1/2025).\\\\n\\\\nCác chỉ số tài chính quan trọng cho thấy: ROE giảm từ 7,66% (Q3/2024) xuống 0,63% (Q1/2025), ROA từ 6,10% xuống 0,47%. Tỷ lệ nợ tăng dần từ 20,34% lên 24,44% nhưng vẫn ở mức an toàn. Tỷ lệ thanh toán hiện hành duy trì ở mức cao trên 2,9, cho thấy khả năng thanh toán ngắn hạn tốt. Tỷ suất lợi nhuận gộp giảm dần từ 5,43% xuống 3,83%, phản ánh áp lực cạnh tranh và chi phí gia tăng.\",\\n  \\n  \"ruiro\": \"VIMC Logistics đối mặt với nhiều rủi ro cần được quản lý chặt chẽ. Rủi ro tài chính là mối quan tâm hàng đầu với biến động lợi nhuận cực kỳ bất thường, đặc biệt là khoản lỗ 3,81 tỷ đồng trong Q4/2024. Tỷ suất lợi nhuận gộp giảm liên tục cho thấy áp lực về chi phí và cạnh tranh gia tăng. Giải pháp cần tập trung vào tối ưu hóa cơ cấu chi phí, đa dạng hóa dịch vụ và nâng cao giá trị gia tăng.\\\\n\\\\nRủi ro quản trị doanh nghiệp xuất hiện qua việc bà Vũ Thị Thanh Nhàn - người phụ trách quản trị - từng bị truy nã trong vụ án gây thiệt hại 17 tỷ đồng. Điều này có thể ảnh hưởng đến uy tín và khả năng quản lý của công ty. Giải pháp là cần rà soát lại cơ cấu quản trị, tăng cường giám sát nội bộ và minh bạch hóa hoạt động.\\\\n\\\\nRủi ro về kiểm toán và minh bạch thông tin khi công ty chưa thực hiện kiểm toán độc lập, làm giảm độ tin cậy của báo cáo tài chính. Cần thực hiện kiểm toán độc lập để tăng tính minh bạch và tuân thủ quy định.\\\\n\\\\nRủi ro thị trường từ cạnh tranh gay gắt trong ngành logistics và sự biến động của thương mại quốc tế. Giải pháp là đầu tư công nghệ, nâng cao chất lượng dịch vụ và mở rộng mạng lưới đối tác chiến lược.\",\\n  \\n  \"ketluan\": \"Dựa trên phân tích toàn diện, VIMC Logistics là một doanh nghiệp có tiềm năng trong ngành logistics nhưng đang đối mặt với nhiều thách thức đáng kể. Về mặt tích cực, công ty có nền tảng vững chắc với các cổ đông chiến lược uy tín, kinh nghiệm lâu năm trong ngành và vị thế tốt trên thị trường. Quy mô tài sản tăng trưởng ổn định và khả năng thanh toán ngắn hạn tốt là những điểm mạnh đáng ghi nhận.\\\\n\\\\nTuy nhiên, những rủi ro nghiêm trọng không thể bỏ qua bao gồm: biến động lợi nhuận cực kỳ bất thường với khoản lỗ lớn trong Q4/2024, xu hướng giảm tỷ suất lợi nhuận gộp, vấn đề quản trị với nhân sự có tiền sử pháp lý, và việc thiếu kiểm toán độc lập làm giảm độ tin cậy thông tin tài chính.\\\\n\\\\nKết luận: Với tình hình hiện tại, VIMC Logistics được đánh giá ở mức rủi ro TRUNG BÌNH - CAO. Không khuyến nghị cấp tín dụng trong thời điểm hiện tại cho đến khi công ty khắc phục được các vấn đề về quản trị, thực hiện kiểm toán độc lập và chứng minh khả năng ổn định lợi nhuận trong ít nhất 2-3 quý liên tiếp. Nếu xem xét cấp tín dụng, cần áp dụng các biện pháp đảm bảo nghiêm ngặt và hạn mức tín dụng thấp.\"\\n}'}}, call_count=1, success_count=1, error_count=0, total_time=36.20684885978699)}, cycle_durations=[15.914726734161377], traces=[<strands.telemetry.metrics.Trace object at 0x000001FA99EA3BE0>, <strands.telemetry.metrics.Trace object at 0x000001FA99EA3D30>, <strands.telemetry.metrics.Trace object at 0x000001FAF3553C10>, <strands.telemetry.metrics.Trace object at 0x000001FA99668EE0>, <strands.telemetry.metrics.Trace object at 0x000001FA99669420>, <strands.telemetry.metrics.Trace object at 0x000001FA99FD7160>, <strands.telemetry.metrics.Trace object at 0x000001FA99FD63B0>], accumulated_usage={'inputTokens': 113908, 'outputTokens': 6258, 'totalTokens': 120166}, accumulated_metrics={'latencyMs': 138876}), state={})"
      ]
     },
     "execution_count": 3,
     "metadata": {},
     "output_type": "execute_result"
    },
    {
     "name": "stdout",
     "output_type": "stream",
     "text": [
      "<thinking> Tôi cần thu thập thông tin cơ bản về công ty VIMC Logistics. Tôi sẽ bắt đầu bằng cách sử dụng công cụ `fetch_company_info` để lấy thông tin cơ bản về công ty. </thinking>\n",
      "\n",
      "Tool #1: fetch_company_info\n"
     ]
    },
    {
     "name": "stderr",
     "output_type": "stream",
     "text": [
      "f:\\aws\\VPBank_2025\\multiagent\\crawl.py:131: RuntimeWarning: This package (`duckduckgo_search`) has been renamed to `ddgs`! Use `pip install ddgs` instead.\n",
      "  with DDGS() as ddgs:\n",
      "07/17/2025 10:14:33 AM - response: https://www.bing.com/search?q=VIMC+Logistics+m%C3%A3+s%E1%BB%91+thu%E1%BA%BF 200\n",
      "07/17/2025 10:14:33 AM - Task exception was never retrieved\n",
      "future: <Task finished name='Task-6' coro=<Connection.run() done, defined at c:\\Users\\Song\\anaconda3\\envs\\aws\\lib\\site-packages\\playwright\\_impl\\_connection.py:303> exception=NotImplementedError()>\n",
      "Traceback (most recent call last):\n",
      "  File \"c:\\Users\\Song\\anaconda3\\envs\\aws\\lib\\site-packages\\playwright\\_impl\\_connection.py\", line 310, in run\n",
      "    await self._transport.connect()\n",
      "  File \"c:\\Users\\Song\\anaconda3\\envs\\aws\\lib\\site-packages\\playwright\\_impl\\_transport.py\", line 133, in connect\n",
      "    raise exc\n",
      "  File \"c:\\Users\\Song\\anaconda3\\envs\\aws\\lib\\site-packages\\playwright\\_impl\\_transport.py\", line 120, in connect\n",
      "    self._proc = await asyncio.create_subprocess_exec(\n",
      "  File \"c:\\Users\\Song\\anaconda3\\envs\\aws\\lib\\asyncio\\subprocess.py\", line 218, in create_subprocess_exec\n",
      "    transport, protocol = await loop.subprocess_exec(\n",
      "  File \"c:\\Users\\Song\\anaconda3\\envs\\aws\\lib\\asyncio\\base_events.py\", line 1681, in subprocess_exec\n",
      "    transport = await self._make_subprocess_transport(\n",
      "  File \"c:\\Users\\Song\\anaconda3\\envs\\aws\\lib\\asyncio\\base_events.py\", line 498, in _make_subprocess_transport\n",
      "    raise NotImplementedError\n",
      "NotImplementedError\n",
      "07/17/2025 10:14:33 AM - Failed to crawl URL 'https://masothue.com/0102345275-cong-ty-co-phan-vimc-logistics' on attempt 1: \n"
     ]
    },
    {
     "name": "stdout",
     "output_type": "stream",
     "text": [
      "[Attempt 1] Error: \n"
     ]
    },
    {
     "name": "stderr",
     "output_type": "stream",
     "text": [
      "07/17/2025 10:14:35 AM - Task exception was never retrieved\n",
      "future: <Task finished name='Task-7' coro=<Connection.run() done, defined at c:\\Users\\Song\\anaconda3\\envs\\aws\\lib\\site-packages\\playwright\\_impl\\_connection.py:303> exception=NotImplementedError()>\n",
      "Traceback (most recent call last):\n",
      "  File \"c:\\Users\\Song\\anaconda3\\envs\\aws\\lib\\site-packages\\playwright\\_impl\\_connection.py\", line 310, in run\n",
      "    await self._transport.connect()\n",
      "  File \"c:\\Users\\Song\\anaconda3\\envs\\aws\\lib\\site-packages\\playwright\\_impl\\_transport.py\", line 133, in connect\n",
      "    raise exc\n",
      "  File \"c:\\Users\\Song\\anaconda3\\envs\\aws\\lib\\site-packages\\playwright\\_impl\\_transport.py\", line 120, in connect\n",
      "    self._proc = await asyncio.create_subprocess_exec(\n",
      "  File \"c:\\Users\\Song\\anaconda3\\envs\\aws\\lib\\asyncio\\subprocess.py\", line 218, in create_subprocess_exec\n",
      "    transport, protocol = await loop.subprocess_exec(\n",
      "  File \"c:\\Users\\Song\\anaconda3\\envs\\aws\\lib\\asyncio\\base_events.py\", line 1681, in subprocess_exec\n",
      "    transport = await self._make_subprocess_transport(\n",
      "  File \"c:\\Users\\Song\\anaconda3\\envs\\aws\\lib\\asyncio\\base_events.py\", line 498, in _make_subprocess_transport\n",
      "    raise NotImplementedError\n",
      "NotImplementedError\n",
      "07/17/2025 10:14:35 AM - Failed to crawl URL 'https://masothue.com/0102345275-cong-ty-co-phan-vimc-logistics' on attempt 2: \n"
     ]
    },
    {
     "name": "stdout",
     "output_type": "stream",
     "text": [
      "[Attempt 2] Error: \n"
     ]
    },
    {
     "name": "stderr",
     "output_type": "stream",
     "text": [
      "07/17/2025 10:14:37 AM - Task exception was never retrieved\n",
      "future: <Task finished name='Task-8' coro=<Connection.run() done, defined at c:\\Users\\Song\\anaconda3\\envs\\aws\\lib\\site-packages\\playwright\\_impl\\_connection.py:303> exception=NotImplementedError()>\n",
      "Traceback (most recent call last):\n",
      "  File \"c:\\Users\\Song\\anaconda3\\envs\\aws\\lib\\site-packages\\playwright\\_impl\\_connection.py\", line 310, in run\n",
      "    await self._transport.connect()\n",
      "  File \"c:\\Users\\Song\\anaconda3\\envs\\aws\\lib\\site-packages\\playwright\\_impl\\_transport.py\", line 133, in connect\n",
      "    raise exc\n",
      "  File \"c:\\Users\\Song\\anaconda3\\envs\\aws\\lib\\site-packages\\playwright\\_impl\\_transport.py\", line 120, in connect\n",
      "    self._proc = await asyncio.create_subprocess_exec(\n",
      "  File \"c:\\Users\\Song\\anaconda3\\envs\\aws\\lib\\asyncio\\subprocess.py\", line 218, in create_subprocess_exec\n",
      "    transport, protocol = await loop.subprocess_exec(\n",
      "  File \"c:\\Users\\Song\\anaconda3\\envs\\aws\\lib\\asyncio\\base_events.py\", line 1681, in subprocess_exec\n",
      "    transport = await self._make_subprocess_transport(\n",
      "  File \"c:\\Users\\Song\\anaconda3\\envs\\aws\\lib\\asyncio\\base_events.py\", line 498, in _make_subprocess_transport\n",
      "    raise NotImplementedError\n",
      "NotImplementedError\n",
      "07/17/2025 10:14:37 AM - Failed to crawl URL 'https://masothue.com/0102345275-cong-ty-co-phan-vimc-logistics' on attempt 3: \n",
      "07/17/2025 10:14:37 AM - Lỗi trong fetch_company_info:\n",
      "Traceback (most recent call last):\n",
      "  File \"f:\\aws\\VPBank_2025\\multiagent\\crawl.py\", line 232, in fetch_company_info\n",
      "    raise ValueError(f\"Không tìm thấy thông tin cho '{company_name}'\")\n",
      "ValueError: Không tìm thấy thông tin cho 'VIMC Logistics'\n"
     ]
    },
    {
     "name": "stdout",
     "output_type": "stream",
     "text": [
      "[Attempt 3] Error: \n",
      "Max retries reached. Skipping.\n",
      "<thinking> Công cụ `fetch_company_info` không tìm thấy thông tin về công ty VIMC Logistics. Tôi sẽ thử lại với cùng công cụ để xem có kết quả"
     ]
    },
    {
     "name": "stderr",
     "output_type": "stream",
     "text": [
      "f:\\aws\\VPBank_2025\\multiagent\\crawl.py:131: RuntimeWarning: This package (`duckduckgo_search`) has been renamed to `ddgs`! Use `pip install ddgs` instead.\n",
      "  with DDGS() as ddgs:\n",
      "07/17/2025 10:14:39 AM - response: https://www.bing.com/search?q=VIMC+Logistics+m%C3%A3+s%E1%BB%91+thu%E1%BA%BF 200\n"
     ]
    },
    {
     "name": "stdout",
     "output_type": "stream",
     "text": [
      " hay không. </thinking> \n",
      "Tool #2: fetch_company_info\n"
     ]
    },
    {
     "name": "stderr",
     "output_type": "stream",
     "text": [
      "07/17/2025 10:14:39 AM - Task exception was never retrieved\n",
      "future: <Task finished name='Task-12' coro=<Connection.run() done, defined at c:\\Users\\Song\\anaconda3\\envs\\aws\\lib\\site-packages\\playwright\\_impl\\_connection.py:303> exception=NotImplementedError()>\n",
      "Traceback (most recent call last):\n",
      "  File \"c:\\Users\\Song\\anaconda3\\envs\\aws\\lib\\site-packages\\playwright\\_impl\\_connection.py\", line 310, in run\n",
      "    await self._transport.connect()\n",
      "  File \"c:\\Users\\Song\\anaconda3\\envs\\aws\\lib\\site-packages\\playwright\\_impl\\_transport.py\", line 133, in connect\n",
      "    raise exc\n",
      "  File \"c:\\Users\\Song\\anaconda3\\envs\\aws\\lib\\site-packages\\playwright\\_impl\\_transport.py\", line 120, in connect\n",
      "    self._proc = await asyncio.create_subprocess_exec(\n",
      "  File \"c:\\Users\\Song\\anaconda3\\envs\\aws\\lib\\asyncio\\subprocess.py\", line 218, in create_subprocess_exec\n",
      "    transport, protocol = await loop.subprocess_exec(\n",
      "  File \"c:\\Users\\Song\\anaconda3\\envs\\aws\\lib\\asyncio\\base_events.py\", line 1681, in subprocess_exec\n",
      "    transport = await self._make_subprocess_transport(\n",
      "  File \"c:\\Users\\Song\\anaconda3\\envs\\aws\\lib\\asyncio\\base_events.py\", line 498, in _make_subprocess_transport\n",
      "    raise NotImplementedError\n",
      "NotImplementedError\n",
      "07/17/2025 10:14:39 AM - Failed to crawl URL 'https://masothue.com/0102345275-cong-ty-co-phan-vimc-logistics' on attempt 1: \n"
     ]
    },
    {
     "name": "stdout",
     "output_type": "stream",
     "text": [
      "[Attempt 1] Error: \n"
     ]
    },
    {
     "name": "stderr",
     "output_type": "stream",
     "text": [
      "07/17/2025 10:14:41 AM - Task exception was never retrieved\n",
      "future: <Task finished name='Task-13' coro=<Connection.run() done, defined at c:\\Users\\Song\\anaconda3\\envs\\aws\\lib\\site-packages\\playwright\\_impl\\_connection.py:303> exception=NotImplementedError()>\n",
      "Traceback (most recent call last):\n",
      "  File \"c:\\Users\\Song\\anaconda3\\envs\\aws\\lib\\site-packages\\playwright\\_impl\\_connection.py\", line 310, in run\n",
      "    await self._transport.connect()\n",
      "  File \"c:\\Users\\Song\\anaconda3\\envs\\aws\\lib\\site-packages\\playwright\\_impl\\_transport.py\", line 133, in connect\n",
      "    raise exc\n",
      "  File \"c:\\Users\\Song\\anaconda3\\envs\\aws\\lib\\site-packages\\playwright\\_impl\\_transport.py\", line 120, in connect\n",
      "    self._proc = await asyncio.create_subprocess_exec(\n",
      "  File \"c:\\Users\\Song\\anaconda3\\envs\\aws\\lib\\asyncio\\subprocess.py\", line 218, in create_subprocess_exec\n",
      "    transport, protocol = await loop.subprocess_exec(\n",
      "  File \"c:\\Users\\Song\\anaconda3\\envs\\aws\\lib\\asyncio\\base_events.py\", line 1681, in subprocess_exec\n",
      "    transport = await self._make_subprocess_transport(\n",
      "  File \"c:\\Users\\Song\\anaconda3\\envs\\aws\\lib\\asyncio\\base_events.py\", line 498, in _make_subprocess_transport\n",
      "    raise NotImplementedError\n",
      "NotImplementedError\n",
      "07/17/2025 10:14:41 AM - Failed to crawl URL 'https://masothue.com/0102345275-cong-ty-co-phan-vimc-logistics' on attempt 2: \n"
     ]
    },
    {
     "name": "stdout",
     "output_type": "stream",
     "text": [
      "[Attempt 2] Error: \n"
     ]
    },
    {
     "name": "stderr",
     "output_type": "stream",
     "text": [
      "07/17/2025 10:14:43 AM - Task exception was never retrieved\n",
      "future: <Task finished name='Task-14' coro=<Connection.run() done, defined at c:\\Users\\Song\\anaconda3\\envs\\aws\\lib\\site-packages\\playwright\\_impl\\_connection.py:303> exception=NotImplementedError()>\n",
      "Traceback (most recent call last):\n",
      "  File \"c:\\Users\\Song\\anaconda3\\envs\\aws\\lib\\site-packages\\playwright\\_impl\\_connection.py\", line 310, in run\n",
      "    await self._transport.connect()\n",
      "  File \"c:\\Users\\Song\\anaconda3\\envs\\aws\\lib\\site-packages\\playwright\\_impl\\_transport.py\", line 133, in connect\n",
      "    raise exc\n",
      "  File \"c:\\Users\\Song\\anaconda3\\envs\\aws\\lib\\site-packages\\playwright\\_impl\\_transport.py\", line 120, in connect\n",
      "    self._proc = await asyncio.create_subprocess_exec(\n",
      "  File \"c:\\Users\\Song\\anaconda3\\envs\\aws\\lib\\asyncio\\subprocess.py\", line 218, in create_subprocess_exec\n",
      "    transport, protocol = await loop.subprocess_exec(\n",
      "  File \"c:\\Users\\Song\\anaconda3\\envs\\aws\\lib\\asyncio\\base_events.py\", line 1681, in subprocess_exec\n",
      "    transport = await self._make_subprocess_transport(\n",
      "  File \"c:\\Users\\Song\\anaconda3\\envs\\aws\\lib\\asyncio\\base_events.py\", line 498, in _make_subprocess_transport\n",
      "    raise NotImplementedError\n",
      "NotImplementedError\n",
      "07/17/2025 10:14:43 AM - Failed to crawl URL 'https://masothue.com/0102345275-cong-ty-co-phan-vimc-logistics' on attempt 3: \n",
      "07/17/2025 10:14:43 AM - Lỗi trong fetch_company_info:\n",
      "Traceback (most recent call last):\n",
      "  File \"f:\\aws\\VPBank_2025\\multiagent\\crawl.py\", line 232, in fetch_company_info\n",
      "    raise ValueError(f\"Không tìm thấy thông tin cho '{company_name}'\")\n",
      "ValueError: Không tìm thấy thông tin cho 'VIMC Logistics'\n"
     ]
    },
    {
     "name": "stdout",
     "output_type": "stream",
     "text": [
      "[Attempt 3] Error: \n",
      "Max retries reached. Skipping.\n",
      "<thinking> Công cụ `fetch_company_info` vẫn không tìm thấy thông tin về công ty VIMC Logistics. Tôi sẽ sử dụng công cụ `get_gg_search` để tìm kiếm thông tin trên Google. </thinking> \n",
      "Tool #3: get_gg_search\n",
      "<thinking> Tôi đã tìm thấy thông tin về công ty VIMC Logistics từ công cụ `get_gg_search`. Dưới đây là thông tin cơ bản về công ty VIMC Logistics: </thinking>\n",
      "\n",
      "**Tên công ty:** VIMC Logistics\n",
      "\n",
      "**Website:** [https://vimclogistics.com.vn/](https://vimclogistics.com.vn/)\n",
      "\n",
      "**Mã số thuế:** Không có thông tin\n",
      "\n",
      "**Địa chỉ:** Thành phố Hồ Chí Minh\n",
      "\n",
      "**Điện thoại:** Không có thông tin\n",
      "\n",
      "**Email:** Không có thông tin\n",
      "\n",
      "**Người đại diện pháp luật:** Không có thông tin\n",
      "\n",
      "**Lĩnh vực kinh doanh:** Vận tải đa phương thức và dịch vụ logistics\n",
      "\n",
      "**Thông tin bổ sung:**\n",
      "- VIMC Logistics là đơn vị thành viên của VIMC, cung cấp dịch vụ logistics toàn diện, kết nối hiệu quả chuỗi cung ứng trong và ngoài nước.\n",
      "\n",
      "Tôi sẽ tiếp tục tìm kiếm thông tin về mã số thuế, điện thoại, email, và người đại diện pháp luật của công ty. </thinking> \n",
      "Tool #4: get_gg_search\n",
      "\n",
      "Tool #5: get_gg_search\n",
      "\n",
      "Tool #6: get_gg_search\n",
      "\n",
      "Tool #7: get_gg_search\n",
      "<thinking> Tôi đã tìm thấy thông tin về mã số thuế, điện thoại, email, và người đại diện pháp luật của công ty VIMC Logistics. Dưới đây là thông tin cơ bản về công ty VIMC Logistics sau khi bổ sung thêm các thông tin này: </thinking>\n",
      "\n",
      "**Tên công ty:** VIMC Logistics\n",
      "\n",
      "**Website:** [https://vimclogistics.com.vn/](https://vimclogistics.com.vn/)\n",
      "\n",
      "**Mã số thuế:** 0102345275\n",
      "\n",
      "**Địa chỉ:** Phòng 806, Tòa nhà Ocean Park, Số 1 phố Đào Duy Anh, Phường Phương Mai, Quận Đống Đa, Thành phố Hà Nội\n",
      "\n",
      "**Điện thoại:** (84-24) 3577 2047 – (84-24) 3577 2048\n",
      "\n",
      "**Email:** info@vimclogistics.vn\n",
      "\n",
      "**Người đại diện pháp luật:** Mai Lê Lor\n",
      "\n",
      "**Lĩnh vực kinh doanh:** Vận tải đa phương thức và dịch vụ logistics\n",
      "\n",
      "**Thông tin bổ sung:**\n",
      "- VIMC Logistics là đơn vị thành viên của VIMC, cung cấp dịch vụ logistics toàn diện, kết nối hiệu quả chuỗi cung ứng trong và ngoài nước."
     ]
    }
   ],
   "source": [
    "simple_agent(\"Hãy viết tờ trình thể hiện đầy đủ nội dung giúp tôi\")"
   ]
  },
  {
   "cell_type": "markdown",
   "id": "d0cad93c",
   "metadata": {},
   "source": [
    "## CHỈNH SỬA"
   ]
  },
  {
   "cell_type": "code",
   "execution_count": 4,
   "id": "16cd52c8",
   "metadata": {},
   "outputs": [
    {
     "name": "stdout",
     "output_type": "stream",
     "text": [
      "Tôi sẽ cập nhật thông tin về ông Mai Lê Lợi vào phần ban lãnh đạo của tờ trình.\n",
      "Tool #7: get_data\n",
      "Bây giờ tôi sẽ cập nhật thông tin về ông Mai Lê Lợi trong phần ban lãnh đạo:\n",
      "Tool #8: create_to_trinh\n",
      "content/fin_analyst/fin_charts/Bảng tài chính tổng hơp.png\n",
      "✅ Ảnh đã được tải từ S3 và chèn vào Word.\n",
      "content/fin_analyst/fin_charts/Cơ cấu vốn.png\n",
      "✅ Ảnh đã được tải từ S3 và chèn vào ô bảng.\n",
      "content/fin_analyst/fin_charts/Cơ cấu tài sản nợ.png\n",
      "✅ Ảnh đã được tải từ S3 và chèn vào ô bảng.\n",
      "content/fin_analyst/fin_charts/Biên lợi nhuận và lợi nhuận.png\n",
      "✅ Ảnh đã được tải từ S3 và chèn vào ô bảng.\n",
      "content/fin_analyst/fin_charts/Phân tích lợi nhuận.png\n",
      "✅ Ảnh đã được tải từ S3 và chèn vào ô bảng.\n",
      "content/fin_analyst/fin_charts/Tài sản và hiệu quả sinh lời.png\n",
      "✅ Ảnh đã được tải từ S3 và chèn vào ô bảng.\n",
      "content/fin_analyst/fin_charts/Vốn chủ sở hữu và khả năng sinh lời.png\n",
      "✅ Ảnh đã được tải từ S3 và chèn vào ô bảng.\n"
     ]
    },
    {
     "name": "stderr",
     "output_type": "stream",
     "text": [
      "100%|██████████| 1/1 [00:06<00:00,  6.07s/it]\n"
     ]
    },
    {
     "name": "stdout",
     "output_type": "stream",
     "text": [
      "✅ JSON uploaded to s3://testworkflow123/totrinh/totrinh.json\n",
      "✅ **Đã cập nhật thành công thông tin về ông Mai Lê Lợi!**\n",
      "\n",
      "## 📝 **Thông tin đã được bổ sung:**\n",
      "\n",
      "**Trong phần Ban lãnh đạo:**\n",
      "- Ông Mai Lê Lợi có **hơn 10 năm kinh nghiệm** trong ngành logistics\n",
      "- Đã đạt được **nhiều giải thưởng danh giá trong và ngoài nước**\n",
      "- Được đánh giá là chuyên gia dày dạn kinh nghiệm với năng lực chuyên môn và tầm nhìn chiến lược\n",
      "\n",
      "**Trong phần Rủi ro:**\n",
      "- Bổ sung yếu tố tích cực về sự lãnh đạo của ông Mai Lê Lợi giúp cân bằng rủi ro quản trị\n",
      "\n",
      "**Trong phần Kết luận:**\n",
      "- Nhấn mạnh sự lãnh đạo kinh nghiệm của ông Mai Lê Lợi là một điểm sáng quan trọng của công ty\n",
      "\n",
      "## 🎯 **Kết quả:**\n",
      "Thông tin về kinh nghiệm và thành tích của ông Mai Lê Lợi đã được tích hợp một cách tự nhiên vào tờ trình, giúp cân bằng đánh giá về năng lực lãnh đạo của công ty. Tuy nhiên, kết luận tổng thể vẫn giữ nguyên mức độ rủi ro do các vấn đề tài chính và quản trị khác vẫn còn tồn tại.\n",
      "\n",
      "Tờ trình đã được cập nhật và lưu thành file **totrinh.pdf** và **totrinh.docx** mới."
     ]
    },
    {
     "data": {
      "text/plain": [
       "AgentResult(stop_reason='end_turn', message={'role': 'assistant', 'content': [{'text': '✅ **Đã cập nhật thành công thông tin về ông Mai Lê Lợi!**\\n\\n## 📝 **Thông tin đã được bổ sung:**\\n\\n**Trong phần Ban lãnh đạo:**\\n- Ông Mai Lê Lợi có **hơn 10 năm kinh nghiệm** trong ngành logistics\\n- Đã đạt được **nhiều giải thưởng danh giá trong và ngoài nước**\\n- Được đánh giá là chuyên gia dày dạn kinh nghiệm với năng lực chuyên môn và tầm nhìn chiến lược\\n\\n**Trong phần Rủi ro:**\\n- Bổ sung yếu tố tích cực về sự lãnh đạo của ông Mai Lê Lợi giúp cân bằng rủi ro quản trị\\n\\n**Trong phần Kết luận:**\\n- Nhấn mạnh sự lãnh đạo kinh nghiệm của ông Mai Lê Lợi là một điểm sáng quan trọng của công ty\\n\\n## 🎯 **Kết quả:**\\nThông tin về kinh nghiệm và thành tích của ông Mai Lê Lợi đã được tích hợp một cách tự nhiên vào tờ trình, giúp cân bằng đánh giá về năng lực lãnh đạo của công ty. Tuy nhiên, kết luận tổng thể vẫn giữ nguyên mức độ rủi ro do các vấn đề tài chính và quản trị khác vẫn còn tồn tại.\\n\\nTờ trình đã được cập nhật và lưu thành file **totrinh.pdf** và **totrinh.docx** mới.'}]}, metrics=EventLoopMetrics(cycle_count=10, tool_metrics={'retrieve': ToolMetrics(tool={'toolUseId': 'tooluse_v-0DT3hxTzS3nN4aFvCqHQ', 'name': 'retrieve', 'input': {'numberOfResults': 10, 'text': 'rủi ro VIMC Logistics vấn đề pháp lý tài chính thách thức'}}, call_count=5, success_count=5, error_count=0, total_time=2.4804866313934326), 'create_to_trinh': ToolMetrics(tool={'toolUseId': 'tooluse_dojmc4BORYmKrlxr9Zj6sA', 'name': 'create_to_trinh', 'input': {'data': '{\\n  \"customer\": \"Công ty Cổ phần VIMC Logistics (mã chứng khoán: VLG) là một doanh nghiệp hoạt động trong lĩnh vực logistics và vận tải đa phương thức tại Việt Nam. Công ty có mã số thuế 0102345275, trụ sở chính tại tầng 4, tòa nhà Ocean Park, số 1 Đào Duy Anh, phường Phương Mai, quận Đống Đa, TP.Hà Nội.\\\\n\\\\nThông tin liên hệ của công ty bao gồm số điện thoại 04-35772047/48 và email info@vimclogistics.vn. Người đại diện pháp luật hiện tại là bà Đinh Thị Việt Hà, đồng thời giữ chức vụ Tổng Giám đốc và thành viên Hội đồng quản trị.\\\\n\\\\nLĩnh vực kinh doanh chính của VIMC Logistics bao gồm: kinh doanh xuất nhập khẩu hàng hóa, môi giới thương mại, đại lý mua bán và ký gửi hàng hóa; vận tải đa phương thức; vận tải hàng hóa, container, hàng hóa siêu trường, siêu trọng bằng đường bộ, đường sắt và đường biển.\",\\n  \\n  \"lich_su_phat_trien\": \"Công ty Cổ phần VIMC Logistics được thành lập vào năm 2007 với tên gọi ban đầu là Công ty Cổ phần Vinalines Logistics Việt Nam. Công ty được thành lập bởi các cổ đông chiến lược có uy tín trong ngành hàng hải và logistics, bao gồm Tổng Công ty Hàng hải Việt Nam, Cảng Hải Phòng, Cảng Sài Gòn, Vosa Việt Nam, Công ty Cổ phần Đại lý vận tải SAFI, Công ty Cổ phần Vận tải biển và Hợp tác Lao động quốc tế, và Công ty Cổ phần Container Phía Nam.\\\\n\\\\nNăm 2021 đánh dấu một bước ngoặt quan trọng trong lịch sử phát triển của công ty khi được đổi tên thành Công ty Cổ phần VIMC Logistics theo Giấy chứng nhận đăng ký doanh nghiệp ngày 24/05/2021. Tổng công ty Hàng Hải Việt Nam hiện là cổ đông nắm cổ phần chi phối của công ty.\\\\n\\\\nTrong suốt hành trình phát triển, VIMC Logistics đã khẳng định vị thế là đơn vị tiên phong trong lĩnh vực vận tải đa phương thức và dịch vụ logistics tại Việt Nam, luôn nỗ lực mang tới khách hàng chất lượng dịch vụ hiệu quả và những giải pháp hướng tới phát triển bền vững.\",\\n  \\n  \"ban_lanh_dao\": \"Cơ cấu tổ chức của VIMC Logistics được xây dựng theo mô hình công ty cổ phần với Hội đồng quản trị và Ban điều hành. Hội đồng quản trị gồm 5 thành viên do ông Mai Lê Lợi làm Chủ tịch. Ông Mai Lê Lợi sinh năm 1973, quê Hồng Gai, Quảng Ninh, là một chuyên gia dày dạn kinh nghiệm trong ngành logistics với hơn 10 năm kinh nghiệm làm việc trong lĩnh vực này. Trong suốt sự nghiệp, ông đã đạt được nhiều giải thưởng danh giá trong và ngoài nước, khẳng định năng lực chuyên môn và tầm nhìn chiến lược trong việc phát triển ngành logistics Việt Nam.\\\\n\\\\nCác thành viên khác trong HĐQT bao gồm bà Dương Thu Hiền (Tỉnh ủy viên, Phó Chủ tịch Thường trực Ủy ban MTTQ Việt Nam), ông Phan Nhân Hải (nhạc sĩ nổi tiếng), ông Nguyễn Quốc Cường (doanh nhân có biệt danh \\\\\"Cường đô la\\\\\"), và bà Đinh Thị Việt Hà (sinh năm 1979).\\\\n\\\\nBan điều hành do bà Đinh Thị Việt Hà làm Tổng Giám đốc, ông Phạm Bá Ngân (sinh năm 1976) làm Phó Tổng Giám đốc. Bà Vũ Thị Thanh Nhàn đảm nhận vai trò Phụ trách quản trị và là người được ủy quyền công bố thông tin. Bà Trần Thị Loan giữ chức vụ Trưởng phòng Tài chính - Kế toán kiêm Kế toán trưởng.\\\\n\\\\nBan Kiểm soát gồm 3 thành viên: bà Vũ Lan Phương (sinh năm 1980, Trưởng BKS), bà Nguyễn Thị Hằng (sinh năm 1944, từng là Bộ trưởng Bộ Lao động - Thương binh và Xã hội), và bà Nguyễn Thị Hà Trang (sinh viên năm cuối ngành Sư phạm Công nghệ).\",\\n  \\n  \"danh_gia_thi_truong\": \"Thị trường logistics và vận tải Việt Nam đang trong giai đoạn phát triển mạnh mẽ, được thúc đẩy bởi sự tăng trưởng của thương mại quốc tế và nhu cầu vận chuyển hàng hóa ngày càng cao. Việt Nam với vị trí địa lý thuận lợi, là cửa ngõ kết nối các nước trong khu vực và thế giới, tạo ra nhiều cơ hội cho các doanh nghiệp logistics.\\\\n\\\\nNgành vận tải đa phương thức đang trở thành xu hướng chủ đạo, đáp ứng nhu cầu tối ưu hóa chi phí và thời gian vận chuyển của khách hàng. Tuy nhiên, thị trường cũng đối mặt với nhiều thách thức như cạnh tranh gay gắt từ các doanh nghiệp trong nước và nước ngoài, yêu cầu ngày càng cao về chất lượng dịch vụ và công nghệ.\\\\n\\\\nVIMC Logistics với lợi thế có cổ đông chiến lược là các doanh nghiệp lớn trong ngành hàng hải và cảng biển, công ty có điều kiện thuận lợi để phát triển dịch vụ logistics tích hợp và mở rộng thị phần. Việc sở hữu mạng lưới đối tác rộng khắp và kinh nghiệm lâu năm trong ngành tạo nên lợi thế cạnh tranh đáng kể.\",\\n  \\n  \"danh_gia_san_pham\": \"VIMC Logistics cung cấp dịch vụ logistics toàn diện với ba lĩnh vực hoạt động chính. Thứ nhất là dịch vụ vận tải đa phương thức bao gồm đường bộ, đường sắt, đường biển và đường hàng không, đáp ứng đa dạng nhu cầu vận chuyển của khách hàng. Thứ hai là dịch vụ tạm nhập tái xuất, hỗ trợ các doanh nghiệp trong hoạt động thương mại quốc tế. Thứ ba là dịch vụ kho ngoại quan, cung cấp giải pháp lưu trữ và bảo quản hàng hóa chuyên nghiệp.\\\\n\\\\nCông ty còn cung cấp các dịch vụ bổ trợ như kinh doanh xuất nhập khẩu hàng hóa, môi giới thương mại, đại lý mua bán và ký gửi hàng hóa. Đặc biệt, VIMC Logistics có khả năng vận chuyển các loại hàng hóa đặc biệt như container, hàng hóa siêu trường và siêu trọng, thể hiện năng lực kỹ thuật và kinh nghiệm chuyên môn cao.\\\\n\\\\nVới vị thế là đơn vị tiên phong trong lĩnh vực vận tải đa phương thức, công ty luôn hướng tới việc cung cấp các giải pháp logistics tối ưu, góp phần nâng cao hiệu quả hoạt động kinh doanh cho khách hàng và xây dựng mối quan hệ hợp tác lâu dài.\",\\n  \\n  \"danh_gia_kiem_toan\": \"Theo thông tin từ báo cáo tài chính, VIMC Logistics hiện chưa thực hiện kiểm toán độc lập cho báo cáo tài chính của mình. Trạng thái kiểm toán được ghi nhận là \\\\\"False\\\\\", nghĩa là các báo cáo tài chính của công ty chưa được kiểm toán bởi đơn vị kiểm toán độc lập.\\\\n\\\\nBáo cáo tài chính của công ty bao gồm đầy đủ các thành phần cơ bản: Bảng Cân đối Kế toán, Báo cáo Kết quả Kinh doanh, Báo cáo Lưu chuyển Tiền tệ và Bản Thuyết minh Báo cáo Tài chính. Tuy nhiên, việc không có ý kiến kiểm toán độc lập có thể ảnh hưởng đến độ tin cậy và tính minh bạch của thông tin tài chính.\\\\n\\\\nĐây là một điểm cần lưu ý trong việc đánh giá rủi ro tín dụng, vì việc thiếu kiểm toán độc lập có thể làm giảm mức độ tin cậy của các số liệu tài chính được công bố, đồng thời không có sự xác nhận từ bên thứ ba về tính chính xác và tuân thủ các chuẩn mực kế toán.\",\\n  \\n  \"tinh_hinh_tai_chinh\": \"Tình hình tài chính của VIMC Logistics trong giai đoạn từ Q2/2024 đến Q1/2025 cho thấy những biến động đáng chú ý. Về quy mô, tổng tài sản của công ty tăng trưởng ổn định từ 212,15 tỷ đồng (Q2/2024) lên 236,16 tỷ đồng (Q1/2025), tăng 11,3% trong vòng 3 quý, thể hiện sự mở rộng quy mô hoạt động.\\\\n\\\\nDoanh thu có sự biến động mạnh, tăng đột biến từ 41,98 tỷ đồng (Q3/2024) lên 62,29 tỷ đồng (Q4/2024), tăng 48%, sau đó giảm nhẹ xuống 60,11 tỷ đồng (Q1/2025). Tuy nhiên, lợi nhuận sau thuế lại có biến động cực kỳ bất thường: từ mức cao 13,88 tỷ đồng (Q3/2024) xuống âm 3,81 tỷ đồng (Q4/2024), rồi phục hồi lên 1,12 tỷ đồng (Q1/2025).\\\\n\\\\nCác chỉ số tài chính quan trọng cho thấy: ROE giảm từ 7,66% (Q3/2024) xuống 0,63% (Q1/2025), ROA từ 6,10% xuống 0,47%. Tỷ lệ nợ tăng dần từ 20,34% lên 24,44% nhưng vẫn ở mức an toàn. Tỷ lệ thanh toán hiện hành duy trì ở mức cao trên 2,9, cho thấy khả năng thanh toán ngắn hạn tốt. Tỷ suất lợi nhuận gộp giảm dần từ 5,43% xuống 3,83%, phản ánh áp lực cạnh tranh và chi phí gia tăng.\",\\n  \\n  \"ruiro\": \"VIMC Logistics đối mặt với nhiều rủi ro cần được quản lý chặt chẽ. Rủi ro tài chính là mối quan tâm hàng đầu với biến động lợi nhuận cực kỳ bất thường, đặc biệt là khoản lỗ 3,81 tỷ đồng trong Q4/2024. Tỷ suất lợi nhuận gộp giảm liên tục cho thấy áp lực về chi phí và cạnh tranh gia tăng. Giải pháp cần tập trung vào tối ưu hóa cơ cấu chi phí, đa dạng hóa dịch vụ và nâng cao giá trị gia tăng.\\\\n\\\\nRủi ro quản trị doanh nghiệp xuất hiện qua việc bà Vũ Thị Thanh Nhàn - người phụ trách quản trị - từng bị truy nã trong vụ án gây thiệt hại 17 tỷ đồng. Điều này có thể ảnh hưởng đến uy tín và khả năng quản lý của công ty. Tuy nhiên, sự hiện diện của ông Mai Lê Lợi với 10 năm kinh nghiệm trong ngành logistics và nhiều giải thưởng danh giá là yếu tố tích cực giúp cân bằng rủi ro quản trị. Giải pháp là cần rà soát lại cơ cấu quản trị, tăng cường giám sát nội bộ và minh bạch hóa hoạt động.\\\\n\\\\nRủi ro về kiểm toán và minh bạch thông tin khi công ty chưa thực hiện kiểm toán độc lập, làm giảm độ tin cậy của báo cáo tài chính. Cần thực hiện kiểm toán độc lập để tăng tính minh bạch và tuân thủ quy định.\\\\n\\\\nRủi ro thị trường từ cạnh tranh gay gắt trong ngành logistics và sự biến động của thương mại quốc tế. Giải pháp là đầu tư công nghệ, nâng cao chất lượng dịch vụ và mở rộng mạng lưới đối tác chiến lược.\",\\n  \\n  \"ketluan\": \"Dựa trên phân tích toàn diện, VIMC Logistics là một doanh nghiệp có tiềm năng trong ngành logistics nhưng đang đối mặt với nhiều thách thức đáng kể. Về mặt tích cực, công ty có nền tảng vững chắc với các cổ đông chiến lược uy tín, kinh nghiệm lâu năm trong ngành và vị thế tốt trên thị trường. Đặc biệt, sự lãnh đạo của ông Mai Lê Lợi với hơn 10 năm kinh nghiệm trong ngành logistics và nhiều giải thưởng danh giá là một điểm sáng quan trọng. Quy mô tài sản tăng trưởng ổn định và khả năng thanh toán ngắn hạn tốt là những điểm mạnh đáng ghi nhận.\\\\n\\\\nTuy nhiên, những rủi ro nghiêm trọng không thể bỏ qua bao gồm: biến động lợi nhuận cực kỳ bất thường với khoản lỗ lớn trong Q4/2024, xu hướng giảm tỷ suất lợi nhuận gộp, vấn đề quản trị với nhân sự có tiền sử pháp lý, và việc thiếu kiểm toán độc lập làm giảm độ tin cậy thông tin tài chính.\\\\n\\\\nKết luận: Với tình hình hiện tại, VIMC Logistics được đánh giá ở mức rủi ro TRUNG BÌNH - CAO. Mặc dù có sự lãnh đạo kinh nghiệm của ông Mai Lê Lợi, nhưng vẫn không khuyến nghị cấp tín dụng trong thời điểm hiện tại cho đến khi công ty khắc phục được các vấn đề về quản trị, thực hiện kiểm toán độc lập và chứng minh khả năng ổn định lợi nhuận trong ít nhất 2-3 quý liên tiếp. Nếu xem xét cấp tín dụng, cần áp dụng các biện pháp đảm bảo nghiêm ngặt và hạn mức tín dụng thấp.\"\\n}'}}, call_count=2, success_count=2, error_count=0, total_time=64.8887767791748), 'get_data': ToolMetrics(tool={'toolUseId': 'tooluse_Ak3rERM-ROesBsapMiStFQ', 'name': 'get_data', 'input': {}}, call_count=1, success_count=1, error_count=0, total_time=0.27492189407348633)}, cycle_durations=[15.914726734161377, 13.957518815994263], traces=[<strands.telemetry.metrics.Trace object at 0x000001FA99EA3BE0>, <strands.telemetry.metrics.Trace object at 0x000001FA99EA3D30>, <strands.telemetry.metrics.Trace object at 0x000001FAF3553C10>, <strands.telemetry.metrics.Trace object at 0x000001FA99668EE0>, <strands.telemetry.metrics.Trace object at 0x000001FA99669420>, <strands.telemetry.metrics.Trace object at 0x000001FA99FD7160>, <strands.telemetry.metrics.Trace object at 0x000001FA99FD63B0>, <strands.telemetry.metrics.Trace object at 0x000001FA9B1FA620>, <strands.telemetry.metrics.Trace object at 0x000001FAF3553C70>, <strands.telemetry.metrics.Trace object at 0x000001FAF0E665C0>], accumulated_usage={'inputTokens': 219103, 'outputTokens': 12005, 'totalTokens': 231108}, accumulated_metrics={'latencyMs': 263169}), state={})"
      ]
     },
     "execution_count": 4,
     "metadata": {},
     "output_type": "execute_result"
    }
   ],
   "source": [
    "simple_agent(\"Hãy cập nhật thêm thông tin ông Mai Lê Lợi có 10 năm kinh nghiệm trong ngành Logistics đạt được nhiều giải thưởng trong và ngoài nước\")"
   ]
  },
  {
   "cell_type": "markdown",
   "id": "fc30a2c9",
   "metadata": {},
   "source": [
    "## Reanalyze"
   ]
  },
  {
   "cell_type": "code",
   "execution_count": 5,
   "id": "1c483a3a",
   "metadata": {},
   "outputs": [
    {
     "name": "stdout",
     "output_type": "stream",
     "text": [
      "Tôi sẽ phân tích lại những thông tin cơ bản của công ty VIMC Logistics bằng cách sử dụng agent chuyên biệt để tìm kiếm thông tin cơ bản.\n",
      "Tool #9: get_basic_info\n",
      "Tôi thấy có một số thông tin khác biệt so với dữ liệu trước đó. Hãy để tôi tìm kiếm thêm thông tin để xác minh:\n",
      "Tool #10: retrieve\n",
      "Dựa trên việc phân tích lại thông tin từ nhiều nguồn, tôi thấy có một số thông tin không nhất quán. Hãy để tôi tổng hợp và phân tích lại thông tin cơ bản chính xác nhất:\n",
      "\n",
      "## 📊 **PHÂN TÍCH LẠI THÔNG TIN CƠ BẢN CÔNG TY VIMC LOGISTICS**\n",
      "\n",
      "### 🏢 **Thông tin chính thức từ dữ liệu đáng tin cậy:**\n",
      "\n",
      "**Tên công ty:** CÔNG TY CỔ PHẦN VIMC LOGISTICS\n",
      "\n",
      "**Mã chứng khoán:** VLG\n",
      "\n",
      "**Mã số thuế:** 0102345275\n",
      "\n",
      "**Địa chỉ:** Có sự khác biệt trong dữ liệu:\n",
      "- Theo dữ liệu chính thức: Tầng 4, tòa nhà Ocean Park, số 1 Đào Duy Anh, phường Phương Mai, quận Đống Đa, TP.Hà Nội\n",
      "- Theo agent cơ bản: Phòng 806, Tòa nhà Ocean Park (có thể là địa chỉ cũ hoặc phòng khác)\n",
      "\n",
      "**Thông tin liên hệ:**\n",
      "- Điện thoại: 04-35772047/48 (hoặc (84-24) 3577 2047/2048)\n",
      "- Email: info@vimclogistics.vn\n",
      "- Website: Có thông tin về https://vimclogistics.com.vn/\n",
      "\n",
      "**Người đại diện pháp luật:** \n",
      "- Theo dữ liệu chính thức: **Bà Đinh Thị Việt Hà** (Tổng Giám đốc)\n",
      "- Theo agent cơ bản: Mai Lê Lor (có thể là lỗi đánh máy của \"Mai Lê Lợi\")\n",
      "\n",
      "### ⚠️ **Những điểm cần làm rõ:**\n",
      "\n",
      "1. **Người đại diện pháp luật:** Có sự khác biệt giữa các nguồn thông tin\n",
      "2. **Địa chỉ cụ thể:** Cần xác định chính xác phòng số\n",
      "3. **Website:** Cần xác minh tính chính xác của website\n",
      "\n",
      "### 🎯 **Thông tin được xác nhận nhất quán:**\n",
      "\n",
      "- **Lĩnh vực kinh doanh:** Vận tải đa phương thức, logistics, xuất nhập khẩu hàng hóa\n",
      "- **Cơ cấu quản trị:** \n",
      "  - Chủ tịch HĐQT: Ông Mai Lê Lợi\n",
      "  - Tổng Giám đốc: Bà Đinh Thị Việt Hà\n",
      "- **Lịch sử:** Tiền thân là Vinalines Logistics, đổi tên năm 2021\n",
      "- **Cổ đông lớn:** Tổng công ty Hàng Hải Việt Nam\n",
      "\n",
      "### 📝 **Khuyến nghị:**\n",
      "\n",
      "Cần cập nhật lại thông tin cơ bản trong tờ trình với những thông tin chính xác nhất, đặc biệt là:\n",
      "1. Xác định rõ người đại diện pháp luật\n",
      "2. Địa chỉ chính xác\n",
      "3. Thông tin website nếu có\n",
      "\n",
      "Bạn có muốn tôi cập nhật lại tờ trình với những thông tin đã được làm rõ này không?"
     ]
    },
    {
     "data": {
      "text/plain": [
       "AgentResult(stop_reason='end_turn', message={'role': 'assistant', 'content': [{'text': 'Dựa trên việc phân tích lại thông tin từ nhiều nguồn, tôi thấy có một số thông tin không nhất quán. Hãy để tôi tổng hợp và phân tích lại thông tin cơ bản chính xác nhất:\\n\\n## 📊 **PHÂN TÍCH LẠI THÔNG TIN CƠ BẢN CÔNG TY VIMC LOGISTICS**\\n\\n### 🏢 **Thông tin chính thức từ dữ liệu đáng tin cậy:**\\n\\n**Tên công ty:** CÔNG TY CỔ PHẦN VIMC LOGISTICS\\n\\n**Mã chứng khoán:** VLG\\n\\n**Mã số thuế:** 0102345275\\n\\n**Địa chỉ:** Có sự khác biệt trong dữ liệu:\\n- Theo dữ liệu chính thức: Tầng 4, tòa nhà Ocean Park, số 1 Đào Duy Anh, phường Phương Mai, quận Đống Đa, TP.Hà Nội\\n- Theo agent cơ bản: Phòng 806, Tòa nhà Ocean Park (có thể là địa chỉ cũ hoặc phòng khác)\\n\\n**Thông tin liên hệ:**\\n- Điện thoại: 04-35772047/48 (hoặc (84-24) 3577 2047/2048)\\n- Email: info@vimclogistics.vn\\n- Website: Có thông tin về https://vimclogistics.com.vn/\\n\\n**Người đại diện pháp luật:** \\n- Theo dữ liệu chính thức: **Bà Đinh Thị Việt Hà** (Tổng Giám đốc)\\n- Theo agent cơ bản: Mai Lê Lor (có thể là lỗi đánh máy của \"Mai Lê Lợi\")\\n\\n### ⚠️ **Những điểm cần làm rõ:**\\n\\n1. **Người đại diện pháp luật:** Có sự khác biệt giữa các nguồn thông tin\\n2. **Địa chỉ cụ thể:** Cần xác định chính xác phòng số\\n3. **Website:** Cần xác minh tính chính xác của website\\n\\n### 🎯 **Thông tin được xác nhận nhất quán:**\\n\\n- **Lĩnh vực kinh doanh:** Vận tải đa phương thức, logistics, xuất nhập khẩu hàng hóa\\n- **Cơ cấu quản trị:** \\n  - Chủ tịch HĐQT: Ông Mai Lê Lợi\\n  - Tổng Giám đốc: Bà Đinh Thị Việt Hà\\n- **Lịch sử:** Tiền thân là Vinalines Logistics, đổi tên năm 2021\\n- **Cổ đông lớn:** Tổng công ty Hàng Hải Việt Nam\\n\\n### 📝 **Khuyến nghị:**\\n\\nCần cập nhật lại thông tin cơ bản trong tờ trình với những thông tin chính xác nhất, đặc biệt là:\\n1. Xác định rõ người đại diện pháp luật\\n2. Địa chỉ chính xác\\n3. Thông tin website nếu có\\n\\nBạn có muốn tôi cập nhật lại tờ trình với những thông tin đã được làm rõ này không?'}]}, metrics=EventLoopMetrics(cycle_count=13, tool_metrics={'retrieve': ToolMetrics(tool={'toolUseId': 'tooluse_M6E6f3SbSu6ZcUkU8NG10A', 'name': 'retrieve', 'input': {'numberOfResults': 10, 'text': 'VIMC Logistics thông tin chính xác tên công ty địa chỉ người đại diện pháp luật Mai Lê Lợi Đinh Thị Việt Hà'}}, call_count=6, success_count=6, error_count=0, total_time=2.942788600921631), 'create_to_trinh': ToolMetrics(tool={'toolUseId': 'tooluse_dojmc4BORYmKrlxr9Zj6sA', 'name': 'create_to_trinh', 'input': {'data': '{\\n  \"customer\": \"Công ty Cổ phần VIMC Logistics (mã chứng khoán: VLG) là một doanh nghiệp hoạt động trong lĩnh vực logistics và vận tải đa phương thức tại Việt Nam. Công ty có mã số thuế 0102345275, trụ sở chính tại tầng 4, tòa nhà Ocean Park, số 1 Đào Duy Anh, phường Phương Mai, quận Đống Đa, TP.Hà Nội.\\\\n\\\\nThông tin liên hệ của công ty bao gồm số điện thoại 04-35772047/48 và email info@vimclogistics.vn. Người đại diện pháp luật hiện tại là bà Đinh Thị Việt Hà, đồng thời giữ chức vụ Tổng Giám đốc và thành viên Hội đồng quản trị.\\\\n\\\\nLĩnh vực kinh doanh chính của VIMC Logistics bao gồm: kinh doanh xuất nhập khẩu hàng hóa, môi giới thương mại, đại lý mua bán và ký gửi hàng hóa; vận tải đa phương thức; vận tải hàng hóa, container, hàng hóa siêu trường, siêu trọng bằng đường bộ, đường sắt và đường biển.\",\\n  \\n  \"lich_su_phat_trien\": \"Công ty Cổ phần VIMC Logistics được thành lập vào năm 2007 với tên gọi ban đầu là Công ty Cổ phần Vinalines Logistics Việt Nam. Công ty được thành lập bởi các cổ đông chiến lược có uy tín trong ngành hàng hải và logistics, bao gồm Tổng Công ty Hàng hải Việt Nam, Cảng Hải Phòng, Cảng Sài Gòn, Vosa Việt Nam, Công ty Cổ phần Đại lý vận tải SAFI, Công ty Cổ phần Vận tải biển và Hợp tác Lao động quốc tế, và Công ty Cổ phần Container Phía Nam.\\\\n\\\\nNăm 2021 đánh dấu một bước ngoặt quan trọng trong lịch sử phát triển của công ty khi được đổi tên thành Công ty Cổ phần VIMC Logistics theo Giấy chứng nhận đăng ký doanh nghiệp ngày 24/05/2021. Tổng công ty Hàng Hải Việt Nam hiện là cổ đông nắm cổ phần chi phối của công ty.\\\\n\\\\nTrong suốt hành trình phát triển, VIMC Logistics đã khẳng định vị thế là đơn vị tiên phong trong lĩnh vực vận tải đa phương thức và dịch vụ logistics tại Việt Nam, luôn nỗ lực mang tới khách hàng chất lượng dịch vụ hiệu quả và những giải pháp hướng tới phát triển bền vững.\",\\n  \\n  \"ban_lanh_dao\": \"Cơ cấu tổ chức của VIMC Logistics được xây dựng theo mô hình công ty cổ phần với Hội đồng quản trị và Ban điều hành. Hội đồng quản trị gồm 5 thành viên do ông Mai Lê Lợi làm Chủ tịch. Ông Mai Lê Lợi sinh năm 1973, quê Hồng Gai, Quảng Ninh, là một chuyên gia dày dạn kinh nghiệm trong ngành logistics với hơn 10 năm kinh nghiệm làm việc trong lĩnh vực này. Trong suốt sự nghiệp, ông đã đạt được nhiều giải thưởng danh giá trong và ngoài nước, khẳng định năng lực chuyên môn và tầm nhìn chiến lược trong việc phát triển ngành logistics Việt Nam.\\\\n\\\\nCác thành viên khác trong HĐQT bao gồm bà Dương Thu Hiền (Tỉnh ủy viên, Phó Chủ tịch Thường trực Ủy ban MTTQ Việt Nam), ông Phan Nhân Hải (nhạc sĩ nổi tiếng), ông Nguyễn Quốc Cường (doanh nhân có biệt danh \\\\\"Cường đô la\\\\\"), và bà Đinh Thị Việt Hà (sinh năm 1979).\\\\n\\\\nBan điều hành do bà Đinh Thị Việt Hà làm Tổng Giám đốc, ông Phạm Bá Ngân (sinh năm 1976) làm Phó Tổng Giám đốc. Bà Vũ Thị Thanh Nhàn đảm nhận vai trò Phụ trách quản trị và là người được ủy quyền công bố thông tin. Bà Trần Thị Loan giữ chức vụ Trưởng phòng Tài chính - Kế toán kiêm Kế toán trưởng.\\\\n\\\\nBan Kiểm soát gồm 3 thành viên: bà Vũ Lan Phương (sinh năm 1980, Trưởng BKS), bà Nguyễn Thị Hằng (sinh năm 1944, từng là Bộ trưởng Bộ Lao động - Thương binh và Xã hội), và bà Nguyễn Thị Hà Trang (sinh viên năm cuối ngành Sư phạm Công nghệ).\",\\n  \\n  \"danh_gia_thi_truong\": \"Thị trường logistics và vận tải Việt Nam đang trong giai đoạn phát triển mạnh mẽ, được thúc đẩy bởi sự tăng trưởng của thương mại quốc tế và nhu cầu vận chuyển hàng hóa ngày càng cao. Việt Nam với vị trí địa lý thuận lợi, là cửa ngõ kết nối các nước trong khu vực và thế giới, tạo ra nhiều cơ hội cho các doanh nghiệp logistics.\\\\n\\\\nNgành vận tải đa phương thức đang trở thành xu hướng chủ đạo, đáp ứng nhu cầu tối ưu hóa chi phí và thời gian vận chuyển của khách hàng. Tuy nhiên, thị trường cũng đối mặt với nhiều thách thức như cạnh tranh gay gắt từ các doanh nghiệp trong nước và nước ngoài, yêu cầu ngày càng cao về chất lượng dịch vụ và công nghệ.\\\\n\\\\nVIMC Logistics với lợi thế có cổ đông chiến lược là các doanh nghiệp lớn trong ngành hàng hải và cảng biển, công ty có điều kiện thuận lợi để phát triển dịch vụ logistics tích hợp và mở rộng thị phần. Việc sở hữu mạng lưới đối tác rộng khắp và kinh nghiệm lâu năm trong ngành tạo nên lợi thế cạnh tranh đáng kể.\",\\n  \\n  \"danh_gia_san_pham\": \"VIMC Logistics cung cấp dịch vụ logistics toàn diện với ba lĩnh vực hoạt động chính. Thứ nhất là dịch vụ vận tải đa phương thức bao gồm đường bộ, đường sắt, đường biển và đường hàng không, đáp ứng đa dạng nhu cầu vận chuyển của khách hàng. Thứ hai là dịch vụ tạm nhập tái xuất, hỗ trợ các doanh nghiệp trong hoạt động thương mại quốc tế. Thứ ba là dịch vụ kho ngoại quan, cung cấp giải pháp lưu trữ và bảo quản hàng hóa chuyên nghiệp.\\\\n\\\\nCông ty còn cung cấp các dịch vụ bổ trợ như kinh doanh xuất nhập khẩu hàng hóa, môi giới thương mại, đại lý mua bán và ký gửi hàng hóa. Đặc biệt, VIMC Logistics có khả năng vận chuyển các loại hàng hóa đặc biệt như container, hàng hóa siêu trường và siêu trọng, thể hiện năng lực kỹ thuật và kinh nghiệm chuyên môn cao.\\\\n\\\\nVới vị thế là đơn vị tiên phong trong lĩnh vực vận tải đa phương thức, công ty luôn hướng tới việc cung cấp các giải pháp logistics tối ưu, góp phần nâng cao hiệu quả hoạt động kinh doanh cho khách hàng và xây dựng mối quan hệ hợp tác lâu dài.\",\\n  \\n  \"danh_gia_kiem_toan\": \"Theo thông tin từ báo cáo tài chính, VIMC Logistics hiện chưa thực hiện kiểm toán độc lập cho báo cáo tài chính của mình. Trạng thái kiểm toán được ghi nhận là \\\\\"False\\\\\", nghĩa là các báo cáo tài chính của công ty chưa được kiểm toán bởi đơn vị kiểm toán độc lập.\\\\n\\\\nBáo cáo tài chính của công ty bao gồm đầy đủ các thành phần cơ bản: Bảng Cân đối Kế toán, Báo cáo Kết quả Kinh doanh, Báo cáo Lưu chuyển Tiền tệ và Bản Thuyết minh Báo cáo Tài chính. Tuy nhiên, việc không có ý kiến kiểm toán độc lập có thể ảnh hưởng đến độ tin cậy và tính minh bạch của thông tin tài chính.\\\\n\\\\nĐây là một điểm cần lưu ý trong việc đánh giá rủi ro tín dụng, vì việc thiếu kiểm toán độc lập có thể làm giảm mức độ tin cậy của các số liệu tài chính được công bố, đồng thời không có sự xác nhận từ bên thứ ba về tính chính xác và tuân thủ các chuẩn mực kế toán.\",\\n  \\n  \"tinh_hinh_tai_chinh\": \"Tình hình tài chính của VIMC Logistics trong giai đoạn từ Q2/2024 đến Q1/2025 cho thấy những biến động đáng chú ý. Về quy mô, tổng tài sản của công ty tăng trưởng ổn định từ 212,15 tỷ đồng (Q2/2024) lên 236,16 tỷ đồng (Q1/2025), tăng 11,3% trong vòng 3 quý, thể hiện sự mở rộng quy mô hoạt động.\\\\n\\\\nDoanh thu có sự biến động mạnh, tăng đột biến từ 41,98 tỷ đồng (Q3/2024) lên 62,29 tỷ đồng (Q4/2024), tăng 48%, sau đó giảm nhẹ xuống 60,11 tỷ đồng (Q1/2025). Tuy nhiên, lợi nhuận sau thuế lại có biến động cực kỳ bất thường: từ mức cao 13,88 tỷ đồng (Q3/2024) xuống âm 3,81 tỷ đồng (Q4/2024), rồi phục hồi lên 1,12 tỷ đồng (Q1/2025).\\\\n\\\\nCác chỉ số tài chính quan trọng cho thấy: ROE giảm từ 7,66% (Q3/2024) xuống 0,63% (Q1/2025), ROA từ 6,10% xuống 0,47%. Tỷ lệ nợ tăng dần từ 20,34% lên 24,44% nhưng vẫn ở mức an toàn. Tỷ lệ thanh toán hiện hành duy trì ở mức cao trên 2,9, cho thấy khả năng thanh toán ngắn hạn tốt. Tỷ suất lợi nhuận gộp giảm dần từ 5,43% xuống 3,83%, phản ánh áp lực cạnh tranh và chi phí gia tăng.\",\\n  \\n  \"ruiro\": \"VIMC Logistics đối mặt với nhiều rủi ro cần được quản lý chặt chẽ. Rủi ro tài chính là mối quan tâm hàng đầu với biến động lợi nhuận cực kỳ bất thường, đặc biệt là khoản lỗ 3,81 tỷ đồng trong Q4/2024. Tỷ suất lợi nhuận gộp giảm liên tục cho thấy áp lực về chi phí và cạnh tranh gia tăng. Giải pháp cần tập trung vào tối ưu hóa cơ cấu chi phí, đa dạng hóa dịch vụ và nâng cao giá trị gia tăng.\\\\n\\\\nRủi ro quản trị doanh nghiệp xuất hiện qua việc bà Vũ Thị Thanh Nhàn - người phụ trách quản trị - từng bị truy nã trong vụ án gây thiệt hại 17 tỷ đồng. Điều này có thể ảnh hưởng đến uy tín và khả năng quản lý của công ty. Tuy nhiên, sự hiện diện của ông Mai Lê Lợi với 10 năm kinh nghiệm trong ngành logistics và nhiều giải thưởng danh giá là yếu tố tích cực giúp cân bằng rủi ro quản trị. Giải pháp là cần rà soát lại cơ cấu quản trị, tăng cường giám sát nội bộ và minh bạch hóa hoạt động.\\\\n\\\\nRủi ro về kiểm toán và minh bạch thông tin khi công ty chưa thực hiện kiểm toán độc lập, làm giảm độ tin cậy của báo cáo tài chính. Cần thực hiện kiểm toán độc lập để tăng tính minh bạch và tuân thủ quy định.\\\\n\\\\nRủi ro thị trường từ cạnh tranh gay gắt trong ngành logistics và sự biến động của thương mại quốc tế. Giải pháp là đầu tư công nghệ, nâng cao chất lượng dịch vụ và mở rộng mạng lưới đối tác chiến lược.\",\\n  \\n  \"ketluan\": \"Dựa trên phân tích toàn diện, VIMC Logistics là một doanh nghiệp có tiềm năng trong ngành logistics nhưng đang đối mặt với nhiều thách thức đáng kể. Về mặt tích cực, công ty có nền tảng vững chắc với các cổ đông chiến lược uy tín, kinh nghiệm lâu năm trong ngành và vị thế tốt trên thị trường. Đặc biệt, sự lãnh đạo của ông Mai Lê Lợi với hơn 10 năm kinh nghiệm trong ngành logistics và nhiều giải thưởng danh giá là một điểm sáng quan trọng. Quy mô tài sản tăng trưởng ổn định và khả năng thanh toán ngắn hạn tốt là những điểm mạnh đáng ghi nhận.\\\\n\\\\nTuy nhiên, những rủi ro nghiêm trọng không thể bỏ qua bao gồm: biến động lợi nhuận cực kỳ bất thường với khoản lỗ lớn trong Q4/2024, xu hướng giảm tỷ suất lợi nhuận gộp, vấn đề quản trị với nhân sự có tiền sử pháp lý, và việc thiếu kiểm toán độc lập làm giảm độ tin cậy thông tin tài chính.\\\\n\\\\nKết luận: Với tình hình hiện tại, VIMC Logistics được đánh giá ở mức rủi ro TRUNG BÌNH - CAO. Mặc dù có sự lãnh đạo kinh nghiệm của ông Mai Lê Lợi, nhưng vẫn không khuyến nghị cấp tín dụng trong thời điểm hiện tại cho đến khi công ty khắc phục được các vấn đề về quản trị, thực hiện kiểm toán độc lập và chứng minh khả năng ổn định lợi nhuận trong ít nhất 2-3 quý liên tiếp. Nếu xem xét cấp tín dụng, cần áp dụng các biện pháp đảm bảo nghiêm ngặt và hạn mức tín dụng thấp.\"\\n}'}}, call_count=2, success_count=2, error_count=0, total_time=64.8887767791748), 'get_data': ToolMetrics(tool={'toolUseId': 'tooluse_Ak3rERM-ROesBsapMiStFQ', 'name': 'get_data', 'input': {}}, call_count=1, success_count=1, error_count=0, total_time=0.27492189407348633), 'get_basic_info': ToolMetrics(tool={'toolUseId': 'tooluse_as_8IIoQQ7G_GWP1QG9vSA', 'name': 'get_basic_info', 'input': {'query': 'thông tin cơ bản công ty VIMC Logistics tên công ty mã số thuế địa chỉ điện thoại email người đại diện pháp luật lĩnh vực kinh doanh'}}, call_count=1, success_count=1, error_count=0, total_time=26.886103630065918)}, cycle_durations=[15.914726734161377, 13.957518815994263, 24.722656965255737], traces=[<strands.telemetry.metrics.Trace object at 0x000001FA99EA3BE0>, <strands.telemetry.metrics.Trace object at 0x000001FA99EA3D30>, <strands.telemetry.metrics.Trace object at 0x000001FAF3553C10>, <strands.telemetry.metrics.Trace object at 0x000001FA99668EE0>, <strands.telemetry.metrics.Trace object at 0x000001FA99669420>, <strands.telemetry.metrics.Trace object at 0x000001FA99FD7160>, <strands.telemetry.metrics.Trace object at 0x000001FA99FD63B0>, <strands.telemetry.metrics.Trace object at 0x000001FA9B1FA620>, <strands.telemetry.metrics.Trace object at 0x000001FAF3553C70>, <strands.telemetry.metrics.Trace object at 0x000001FAF0E665C0>, <strands.telemetry.metrics.Trace object at 0x000001FA9B1F8F70>, <strands.telemetry.metrics.Trace object at 0x000001FAF0E661D0>, <strands.telemetry.metrics.Trace object at 0x000001FA9A0008B0>], accumulated_usage={'inputTokens': 346262, 'outputTokens': 13351, 'totalTokens': 359613}, accumulated_metrics={'latencyMs': 303054}), state={})"
      ]
     },
     "execution_count": 5,
     "metadata": {},
     "output_type": "execute_result"
    }
   ],
   "source": [
    "simple_agent(\"Hãy phân tích lại những thông tin cơ bản của công ty\")"
   ]
  },
  {
   "cell_type": "code",
   "execution_count": 9,
   "id": "8746ce3e",
   "metadata": {},
   "outputs": [
    {
     "name": "stdout",
     "output_type": "stream",
     "text": [
      "Collecting dynamodb_json\n",
      "  Downloading dynamodb_json-1.4.2-py2.py3-none-any.whl.metadata (3.9 kB)\n",
      "Requirement already satisfied: simplejson>=3.10.0 in c:\\users\\song\\anaconda3\\envs\\aws\\lib\\site-packages (from dynamodb_json) (3.20.1)\n",
      "Requirement already satisfied: boto3>=1.4.0 in c:\\users\\song\\anaconda3\\envs\\aws\\lib\\site-packages (from dynamodb_json) (1.38.27)\n",
      "Requirement already satisfied: six in c:\\users\\song\\anaconda3\\envs\\aws\\lib\\site-packages (from dynamodb_json) (1.17.0)\n",
      "Requirement already satisfied: botocore<1.39.0,>=1.38.27 in c:\\users\\song\\anaconda3\\envs\\aws\\lib\\site-packages (from boto3>=1.4.0->dynamodb_json) (1.38.27)\n",
      "Requirement already satisfied: jmespath<2.0.0,>=0.7.1 in c:\\users\\song\\anaconda3\\envs\\aws\\lib\\site-packages (from boto3>=1.4.0->dynamodb_json) (1.0.1)\n",
      "Requirement already satisfied: s3transfer<0.14.0,>=0.13.0 in c:\\users\\song\\anaconda3\\envs\\aws\\lib\\site-packages (from boto3>=1.4.0->dynamodb_json) (0.13.0)\n",
      "Requirement already satisfied: python-dateutil<3.0.0,>=2.1 in c:\\users\\song\\anaconda3\\envs\\aws\\lib\\site-packages (from botocore<1.39.0,>=1.38.27->boto3>=1.4.0->dynamodb_json) (2.9.0.post0)\n",
      "Requirement already satisfied: urllib3!=2.2.0,<3,>=1.25.4 in c:\\users\\song\\anaconda3\\envs\\aws\\lib\\site-packages (from botocore<1.39.0,>=1.38.27->boto3>=1.4.0->dynamodb_json) (2.5.0)\n",
      "Downloading dynamodb_json-1.4.2-py2.py3-none-any.whl (9.5 kB)\n",
      "Installing collected packages: dynamodb_json\n",
      "Successfully installed dynamodb_json-1.4.2\n"
     ]
    }
   ],
   "source": [
    "!pip install dynamodb_json"
   ]
  },
  {
   "cell_type": "code",
   "execution_count": 2,
   "id": "97d48b09",
   "metadata": {},
   "outputs": [
    {
     "name": "stdout",
     "output_type": "stream",
     "text": [
      "Available tables: ['chatbot-history', 'chathistory', 'users']\n",
      "dynamodb.Table(name='chathistory')\n"
     ]
    },
    {
     "name": "stderr",
     "output_type": "stream",
     "text": [
      "defaulted to us-west-2 because no region was specified\n",
      "issue=<https://github.com/strands-agents/sdk-python/issues/238> | this behavior will change in an upcoming release\n"
     ]
    }
   ],
   "source": [
    "from dynamodb import DynamoDBConversationManager, truncate_tool_results, wrapper_callback_handler, system_prompt\n",
    "import uuid\n",
    "from dotenv import load_dotenv\n",
    "import os\n",
    "import boto3\n",
    "from botocore.config import Config as BotocoreConfig\n",
    "from strands.models import BedrockModel\n",
    "from strands.agent.conversation_manager import SlidingWindowConversationManager,SummarizingConversationManager\n",
    "from strands import Agent, tool\n",
    "load_dotenv()\n",
    "access = os.getenv('AWS_ACCESS_KEY')\n",
    "secret = os.getenv('AWS_SECRET_KEY')\n",
    "session_id = '240101'\n",
    "conversation_manager_window_size = 10\n",
    "\n",
    "dynamo_db_conversation_manager = DynamoDBConversationManager(truncate_tools=truncate_tool_results)\n",
    "messages = dynamo_db_conversation_manager.get_messages(session_id)\n",
    "session = boto3.Session(\n",
    "aws_access_key_id= access,\n",
    "aws_secret_access_key= secret,\n",
    "region_name= 'ap-southeast-1'\n",
    "\n",
    ")\n",
    "boto_config = BotocoreConfig(\n",
    "    retries={\"max_attempts\": 3, \"mode\": \"standard\"},\n",
    "    connect_timeout=5,\n",
    "    read_timeout=60\n",
    ")\n",
    "# Create a Bedrock model with the custom session\n",
    "bedrock_model = BedrockModel(\n",
    "    model_id = \"arn:aws:bedrock:ap-southeast-1:389903776084:inference-profile/apac.anthropic.claude-3-5-sonnet-20240620-v1:0\",\n",
    "    boto_session=session,\n",
    "    temperature=0.3,\n",
    "    top_p=0.8,\n",
    "    stop_sequences=[\"###\", \"END\"],\n",
    "    # boto_client_config=boto_config,\n",
    ")\n",
    "strands_conversation_manager = SlidingWindowConversationManager(window_size=conversation_manager_window_size)\n",
    "@tool\n",
    "def weather_forecast(city: str, days: int = 3) -> str:\n",
    "    \"\"\"Get weather forecast for a Ho Chi Minh city.\n",
    "\n",
    "    Args:\n",
    "        city: The name of the city\n",
    "        days: Number of days for the forecast\n",
    "    \"\"\"\n",
    "    return f\"Weather forecast for {city} for the next {days} days...\"\n",
    "callback_handler = wrapper_callback_handler(session_id, dynamo_db_conversation_manager)\n",
    "\n",
    "# Instantiate and run the agent\n",
    "agent = Agent(\n",
    "    tools=[weather_forecast],\n",
    "    system_prompt=system_prompt,\n",
    "    model=bedrock_model,\n",
    "    messages=messages[: len(messages) - 1],\n",
    "    conversation_manager=strands_conversation_manager,\n",
    "    callback_handler=callback_handler)\n",
    "\n"
   ]
  },
  {
   "cell_type": "code",
   "execution_count": 5,
   "id": "a12442e1",
   "metadata": {},
   "outputs": [
    {
     "name": "stdout",
     "output_type": "stream",
     "text": [
      "240101\n"
     ]
    },
    {
     "data": {
      "text/plain": [
       "5"
      ]
     },
     "execution_count": 5,
     "metadata": {},
     "output_type": "execute_result"
    }
   ],
   "source": [
    "dynamo_db_conversation_manager.clear_history('240101')"
   ]
  },
  {
   "cell_type": "code",
   "execution_count": 4,
   "id": "5a8f22a2",
   "metadata": {},
   "outputs": [
    {
     "name": "stdout",
     "output_type": "stream",
     "text": [
      "hi\n",
      "MODEL OUTPUT: Hello\n",
      "MODEL OUTPUT: ! It\n",
      "MODEL OUTPUT: 's\n",
      "MODEL OUTPUT:  nice to meet you\n",
      "MODEL OUTPUT: . Is\n",
      "MODEL OUTPUT:  there anything I\n",
      "MODEL OUTPUT:  can help you with\n",
      "MODEL OUTPUT:  today? Perhaps\n",
      "MODEL OUTPUT:  you\n",
      "MODEL OUTPUT:  have\n",
      "MODEL OUTPUT:  a question or nee\n",
      "MODEL OUTPUT: d some information\n",
      "MODEL OUTPUT:  about a particular\n",
      "MODEL OUTPUT:  topic?\n",
      "MODEL OUTPUT:  I'm here\n",
      "MODEL OUTPUT:  to assist you\n",
      "MODEL OUTPUT:  with\n",
      "MODEL OUTPUT:  a wide range of subjects\n",
      "MODEL OUTPUT: , so\n",
      "MODEL OUTPUT:  please feel\n",
      "MODEL OUTPUT:  free to ask\n",
      "MODEL OUTPUT:  about\n",
      "MODEL OUTPUT:  anything you're curious\n",
      "MODEL OUTPUT:  about.\n",
      "im gay\n",
      "MODEL OUTPUT: I appreciate\n",
      "MODEL OUTPUT:  you sharing that with\n",
      "MODEL OUTPUT:  me. Everyone\n",
      "MODEL OUTPUT: 's\n",
      "MODEL OUTPUT:  identity\n",
      "MODEL OUTPUT:  an\n",
      "MODEL OUTPUT: d orientation are\n",
      "MODEL OUTPUT:  personal\n",
      "MODEL OUTPUT:  an\n",
      "MODEL OUTPUT: d important\n",
      "MODEL OUTPUT:  aspects\n",
      "MODEL OUTPUT:  of who\n",
      "MODEL OUTPUT:  they are. Is\n",
      "MODEL OUTPUT:  there anything specific\n",
      "MODEL OUTPUT:  relate\n",
      "MODEL OUTPUT: d to\n",
      "MODEL OUTPUT:  LGBTQ+\n",
      "MODEL OUTPUT:  topics or\n",
      "MODEL OUTPUT:  resources\n",
      "MODEL OUTPUT:  that\n",
      "MODEL OUTPUT:  you'\n",
      "MODEL OUTPUT: d like to discuss or\n",
      "MODEL OUTPUT:  learn\n",
      "MODEL OUTPUT:  more about? I\n",
      "MODEL OUTPUT: 'm here\n",
      "MODEL OUTPUT:  to provide\n",
      "MODEL OUTPUT:  information\n",
      "MODEL OUTPUT:  or\n",
      "MODEL OUTPUT:  support in\n",
      "MODEL OUTPUT:  any\n",
      "MODEL OUTPUT:  way that\n",
      "MODEL OUTPUT:  might\n",
      "MODEL OUTPUT:  be helpful to\n",
      "MODEL OUTPUT:  you,\n",
      "MODEL OUTPUT:  while\n",
      "MODEL OUTPUT:  always\n",
      "MODEL OUTPUT:  respecting your privacy\n",
      "MODEL OUTPUT:  and individual\n",
      "MODEL OUTPUT:  experience\n",
      "MODEL OUTPUT: .\n",
      "\n"
     ]
    },
    {
     "ename": "ValidationException",
     "evalue": "An error occurred (ValidationException) when calling the ConverseStream operation: The text field in the ContentBlock object at messages.7.content.0 is blank. Add text to the text field, and try again.",
     "output_type": "error",
     "traceback": [
      "\u001b[1;31m---------------------------------------------------------------------------\u001b[0m",
      "\u001b[1;31mValidationException\u001b[0m                       Traceback (most recent call last)",
      "Cell \u001b[1;32mIn[4], line 5\u001b[0m\n\u001b[0;32m      3\u001b[0m dynamo_db_conversation_manager\u001b[38;5;241m.\u001b[39madd_user_message(session_id, user)\n\u001b[0;32m      4\u001b[0m messages \u001b[38;5;241m=\u001b[39m dynamo_db_conversation_manager\u001b[38;5;241m.\u001b[39mget_messages(session_id)\n\u001b[1;32m----> 5\u001b[0m \u001b[43magent\u001b[49m\u001b[43m(\u001b[49m\u001b[43muser\u001b[49m\u001b[43m)\u001b[49m\n",
      "File \u001b[1;32mc:\\Users\\Song\\anaconda3\\envs\\aws\\lib\\site-packages\\strands\\agent\\agent.py:391\u001b[0m, in \u001b[0;36mAgent.__call__\u001b[1;34m(self, prompt, **kwargs)\u001b[0m\n\u001b[0;32m    387\u001b[0m \u001b[38;5;28mself\u001b[39m\u001b[38;5;241m.\u001b[39m_start_agent_trace_span(prompt)\n\u001b[0;32m    389\u001b[0m \u001b[38;5;28;01mtry\u001b[39;00m:\n\u001b[0;32m    390\u001b[0m     \u001b[38;5;66;03m# Run the event loop and get the result\u001b[39;00m\n\u001b[1;32m--> 391\u001b[0m     result \u001b[38;5;241m=\u001b[39m \u001b[38;5;28;43mself\u001b[39;49m\u001b[38;5;241;43m.\u001b[39;49m\u001b[43m_run_loop\u001b[49m\u001b[43m(\u001b[49m\u001b[43mprompt\u001b[49m\u001b[43m,\u001b[49m\u001b[43m \u001b[49m\u001b[43mkwargs\u001b[49m\u001b[43m)\u001b[49m\n\u001b[0;32m    393\u001b[0m     \u001b[38;5;28mself\u001b[39m\u001b[38;5;241m.\u001b[39m_end_agent_trace_span(response\u001b[38;5;241m=\u001b[39mresult)\n\u001b[0;32m    395\u001b[0m     \u001b[38;5;28;01mreturn\u001b[39;00m result\n",
      "File \u001b[1;32mc:\\Users\\Song\\anaconda3\\envs\\aws\\lib\\site-packages\\strands\\agent\\agent.py:521\u001b[0m, in \u001b[0;36mAgent._run_loop\u001b[1;34m(self, prompt, kwargs, supplementary_callback_handler)\u001b[0m\n\u001b[0;32m    518\u001b[0m     \u001b[38;5;28mself\u001b[39m\u001b[38;5;241m.\u001b[39mmessages\u001b[38;5;241m.\u001b[39mappend(new_message)\n\u001b[0;32m    520\u001b[0m     \u001b[38;5;66;03m# Execute the event loop cycle with retry logic for context limits\u001b[39;00m\n\u001b[1;32m--> 521\u001b[0m     \u001b[38;5;28;01mreturn\u001b[39;00m \u001b[38;5;28;43mself\u001b[39;49m\u001b[38;5;241;43m.\u001b[39;49m\u001b[43m_execute_event_loop_cycle\u001b[49m\u001b[43m(\u001b[49m\u001b[43minvocation_callback_handler\u001b[49m\u001b[43m,\u001b[49m\u001b[43m \u001b[49m\u001b[43mkwargs\u001b[49m\u001b[43m)\u001b[49m\n\u001b[0;32m    523\u001b[0m \u001b[38;5;28;01mfinally\u001b[39;00m:\n\u001b[0;32m    524\u001b[0m     \u001b[38;5;28mself\u001b[39m\u001b[38;5;241m.\u001b[39mconversation_manager\u001b[38;5;241m.\u001b[39mapply_management(\u001b[38;5;28mself\u001b[39m)\n",
      "File \u001b[1;32mc:\\Users\\Song\\anaconda3\\envs\\aws\\lib\\site-packages\\strands\\agent\\agent.py:549\u001b[0m, in \u001b[0;36mAgent._execute_event_loop_cycle\u001b[1;34m(self, callback_handler, kwargs)\u001b[0m\n\u001b[0;32m    545\u001b[0m kwargs\u001b[38;5;241m.\u001b[39mpop(\u001b[38;5;124m\"\u001b[39m\u001b[38;5;124magent\u001b[39m\u001b[38;5;124m\"\u001b[39m, \u001b[38;5;28;01mNone\u001b[39;00m)  \u001b[38;5;66;03m# Remove agent to avoid conflicts\u001b[39;00m\n\u001b[0;32m    547\u001b[0m \u001b[38;5;28;01mtry\u001b[39;00m:\n\u001b[0;32m    548\u001b[0m     \u001b[38;5;66;03m# Execute the main event loop cycle\u001b[39;00m\n\u001b[1;32m--> 549\u001b[0m     stop_reason, message, metrics, state \u001b[38;5;241m=\u001b[39m event_loop_cycle(\n\u001b[0;32m    550\u001b[0m         model\u001b[38;5;241m=\u001b[39mmodel,\n\u001b[0;32m    551\u001b[0m         system_prompt\u001b[38;5;241m=\u001b[39msystem_prompt,\n\u001b[0;32m    552\u001b[0m         messages\u001b[38;5;241m=\u001b[39mmessages,  \u001b[38;5;66;03m# will be modified by event_loop_cycle\u001b[39;00m\n\u001b[0;32m    553\u001b[0m         tool_config\u001b[38;5;241m=\u001b[39mtool_config,\n\u001b[0;32m    554\u001b[0m         callback_handler\u001b[38;5;241m=\u001b[39mcallback_handler_override,\n\u001b[0;32m    555\u001b[0m         tool_handler\u001b[38;5;241m=\u001b[39mtool_handler,\n\u001b[0;32m    556\u001b[0m         tool_execution_handler\u001b[38;5;241m=\u001b[39mtool_execution_handler,\n\u001b[0;32m    557\u001b[0m         event_loop_metrics\u001b[38;5;241m=\u001b[39mevent_loop_metrics,\n\u001b[0;32m    558\u001b[0m         agent\u001b[38;5;241m=\u001b[39m\u001b[38;5;28mself\u001b[39m,\n\u001b[0;32m    559\u001b[0m         event_loop_parent_span\u001b[38;5;241m=\u001b[39m\u001b[38;5;28mself\u001b[39m\u001b[38;5;241m.\u001b[39mtrace_span,\n\u001b[0;32m    560\u001b[0m         \u001b[38;5;241m*\u001b[39m\u001b[38;5;241m*\u001b[39mkwargs,\n\u001b[0;32m    561\u001b[0m     )\n\u001b[0;32m    563\u001b[0m     \u001b[38;5;28;01mreturn\u001b[39;00m AgentResult(stop_reason, message, metrics, state)\n\u001b[0;32m    565\u001b[0m \u001b[38;5;28;01mexcept\u001b[39;00m ContextWindowOverflowException \u001b[38;5;28;01mas\u001b[39;00m e:\n\u001b[0;32m    566\u001b[0m     \u001b[38;5;66;03m# Try reducing the context size and retrying\u001b[39;00m\n",
      "File \u001b[1;32mc:\\Users\\Song\\anaconda3\\envs\\aws\\lib\\site-packages\\strands\\event_loop\\event_loop.py:171\u001b[0m, in \u001b[0;36mevent_loop_cycle\u001b[1;34m(model, system_prompt, messages, tool_config, callback_handler, tool_handler, tool_execution_handler, **kwargs)\u001b[0m\n\u001b[0;32m    169\u001b[0m         \u001b[38;5;28;01mif\u001b[39;00m model_invoke_span:\n\u001b[0;32m    170\u001b[0m             tracer\u001b[38;5;241m.\u001b[39mend_span_with_error(model_invoke_span, \u001b[38;5;28mstr\u001b[39m(e), e)\n\u001b[1;32m--> 171\u001b[0m         \u001b[38;5;28;01mraise\u001b[39;00m e\n\u001b[0;32m    173\u001b[0m \u001b[38;5;28;01mtry\u001b[39;00m:\n\u001b[0;32m    174\u001b[0m     \u001b[38;5;66;03m# Add message in trace and mark the end of the stream messages trace\u001b[39;00m\n\u001b[0;32m    175\u001b[0m     stream_trace\u001b[38;5;241m.\u001b[39madd_message(message)\n",
      "File \u001b[1;32mc:\\Users\\Song\\anaconda3\\envs\\aws\\lib\\site-packages\\strands\\event_loop\\event_loop.py:138\u001b[0m, in \u001b[0;36mevent_loop_cycle\u001b[1;34m(model, system_prompt, messages, tool_config, callback_handler, tool_handler, tool_execution_handler, **kwargs)\u001b[0m\n\u001b[0;32m    126\u001b[0m model_invoke_span \u001b[38;5;241m=\u001b[39m tracer\u001b[38;5;241m.\u001b[39mstart_model_invoke_span(\n\u001b[0;32m    127\u001b[0m     parent_span\u001b[38;5;241m=\u001b[39mcycle_span,\n\u001b[0;32m    128\u001b[0m     messages\u001b[38;5;241m=\u001b[39mmessages,\n\u001b[0;32m    129\u001b[0m     model_id\u001b[38;5;241m=\u001b[39mmodel_id,\n\u001b[0;32m    130\u001b[0m )\n\u001b[0;32m    132\u001b[0m \u001b[38;5;28;01mtry\u001b[39;00m:\n\u001b[0;32m    133\u001b[0m     \u001b[38;5;66;03m# TODO: As part of the migration to async-iterator, we will continue moving callback_handler calls up the\u001b[39;00m\n\u001b[0;32m    134\u001b[0m     \u001b[38;5;66;03m#       call stack. At this point, we converted all events that were previously passed to the handler in\u001b[39;00m\n\u001b[0;32m    135\u001b[0m     \u001b[38;5;66;03m#       `stream_messages` into yielded events that now have the \"callback\" key. To maintain backwards\u001b[39;00m\n\u001b[0;32m    136\u001b[0m     \u001b[38;5;66;03m#       compatability, we need to combine the event with kwargs before passing to the handler. This we will\u001b[39;00m\n\u001b[0;32m    137\u001b[0m     \u001b[38;5;66;03m#       revisit when migrating to strongly typed events.\u001b[39;00m\n\u001b[1;32m--> 138\u001b[0m     \u001b[38;5;28;01mfor\u001b[39;00m event \u001b[38;5;129;01min\u001b[39;00m stream_messages(model, system_prompt, messages, tool_config):\n\u001b[0;32m    139\u001b[0m         \u001b[38;5;28;01mif\u001b[39;00m \u001b[38;5;124m\"\u001b[39m\u001b[38;5;124mcallback\u001b[39m\u001b[38;5;124m\"\u001b[39m \u001b[38;5;129;01min\u001b[39;00m event:\n\u001b[0;32m    140\u001b[0m             inputs \u001b[38;5;241m=\u001b[39m {\u001b[38;5;241m*\u001b[39m\u001b[38;5;241m*\u001b[39mevent[\u001b[38;5;124m\"\u001b[39m\u001b[38;5;124mcallback\u001b[39m\u001b[38;5;124m\"\u001b[39m], \u001b[38;5;241m*\u001b[39m\u001b[38;5;241m*\u001b[39m(kwargs \u001b[38;5;28;01mif\u001b[39;00m \u001b[38;5;124m\"\u001b[39m\u001b[38;5;124mdelta\u001b[39m\u001b[38;5;124m\"\u001b[39m \u001b[38;5;129;01min\u001b[39;00m event[\u001b[38;5;124m\"\u001b[39m\u001b[38;5;124mcallback\u001b[39m\u001b[38;5;124m\"\u001b[39m] \u001b[38;5;28;01melse\u001b[39;00m {})}\n",
      "File \u001b[1;32mc:\\Users\\Song\\anaconda3\\envs\\aws\\lib\\site-packages\\strands\\event_loop\\streaming.py:326\u001b[0m, in \u001b[0;36mstream_messages\u001b[1;34m(model, system_prompt, messages, tool_config)\u001b[0m\n\u001b[0;32m    323\u001b[0m tool_specs \u001b[38;5;241m=\u001b[39m [tool[\u001b[38;5;124m\"\u001b[39m\u001b[38;5;124mtoolSpec\u001b[39m\u001b[38;5;124m\"\u001b[39m] \u001b[38;5;28;01mfor\u001b[39;00m tool \u001b[38;5;129;01min\u001b[39;00m tool_config\u001b[38;5;241m.\u001b[39mget(\u001b[38;5;124m\"\u001b[39m\u001b[38;5;124mtools\u001b[39m\u001b[38;5;124m\"\u001b[39m, [])] \u001b[38;5;129;01mor\u001b[39;00m \u001b[38;5;28;01mNone\u001b[39;00m \u001b[38;5;28;01mif\u001b[39;00m tool_config \u001b[38;5;28;01melse\u001b[39;00m \u001b[38;5;28;01mNone\u001b[39;00m\n\u001b[0;32m    325\u001b[0m chunks \u001b[38;5;241m=\u001b[39m model\u001b[38;5;241m.\u001b[39mconverse(messages, tool_specs, system_prompt)\n\u001b[1;32m--> 326\u001b[0m \u001b[38;5;28;01myield from\u001b[39;00m process_stream(chunks, messages)\n",
      "File \u001b[1;32mc:\\Users\\Song\\anaconda3\\envs\\aws\\lib\\site-packages\\strands\\event_loop\\streaming.py:281\u001b[0m, in \u001b[0;36mprocess_stream\u001b[1;34m(chunks, messages)\u001b[0m\n\u001b[0;32m    278\u001b[0m usage: Usage \u001b[38;5;241m=\u001b[39m Usage(inputTokens\u001b[38;5;241m=\u001b[39m\u001b[38;5;241m0\u001b[39m, outputTokens\u001b[38;5;241m=\u001b[39m\u001b[38;5;241m0\u001b[39m, totalTokens\u001b[38;5;241m=\u001b[39m\u001b[38;5;241m0\u001b[39m)\n\u001b[0;32m    279\u001b[0m metrics: Metrics \u001b[38;5;241m=\u001b[39m Metrics(latencyMs\u001b[38;5;241m=\u001b[39m\u001b[38;5;241m0\u001b[39m)\n\u001b[1;32m--> 281\u001b[0m \u001b[38;5;28;01mfor\u001b[39;00m chunk \u001b[38;5;129;01min\u001b[39;00m chunks:\n\u001b[0;32m    282\u001b[0m     \u001b[38;5;28;01myield\u001b[39;00m {\u001b[38;5;124m\"\u001b[39m\u001b[38;5;124mcallback\u001b[39m\u001b[38;5;124m\"\u001b[39m: {\u001b[38;5;124m\"\u001b[39m\u001b[38;5;124mevent\u001b[39m\u001b[38;5;124m\"\u001b[39m: chunk}}\n\u001b[0;32m    284\u001b[0m     \u001b[38;5;28;01mif\u001b[39;00m \u001b[38;5;124m\"\u001b[39m\u001b[38;5;124mmessageStart\u001b[39m\u001b[38;5;124m\"\u001b[39m \u001b[38;5;129;01min\u001b[39;00m chunk:\n",
      "File \u001b[1;32mc:\\Users\\Song\\anaconda3\\envs\\aws\\lib\\site-packages\\strands\\types\\models\\model.py:139\u001b[0m, in \u001b[0;36mModel.converse\u001b[1;34m(self, messages, tool_specs, system_prompt)\u001b[0m\n\u001b[0;32m    136\u001b[0m response \u001b[38;5;241m=\u001b[39m \u001b[38;5;28mself\u001b[39m\u001b[38;5;241m.\u001b[39mstream(request)\n\u001b[0;32m    138\u001b[0m logger\u001b[38;5;241m.\u001b[39mdebug(\u001b[38;5;124m\"\u001b[39m\u001b[38;5;124mgot response from model\u001b[39m\u001b[38;5;124m\"\u001b[39m)\n\u001b[1;32m--> 139\u001b[0m \u001b[38;5;28;01mfor\u001b[39;00m event \u001b[38;5;129;01min\u001b[39;00m response:\n\u001b[0;32m    140\u001b[0m     \u001b[38;5;28;01myield\u001b[39;00m \u001b[38;5;28mself\u001b[39m\u001b[38;5;241m.\u001b[39mformat_chunk(event)\n\u001b[0;32m    142\u001b[0m logger\u001b[38;5;241m.\u001b[39mdebug(\u001b[38;5;124m\"\u001b[39m\u001b[38;5;124mfinished streaming response from model\u001b[39m\u001b[38;5;124m\"\u001b[39m)\n",
      "File \u001b[1;32mc:\\Users\\Song\\anaconda3\\envs\\aws\\lib\\site-packages\\strands\\models\\bedrock.py:384\u001b[0m, in \u001b[0;36mBedrockModel.stream\u001b[1;34m(self, request)\u001b[0m\n\u001b[0;32m    381\u001b[0m     \u001b[38;5;28;01mraise\u001b[39;00m ContextWindowOverflowException(e) \u001b[38;5;28;01mfrom\u001b[39;00m\u001b[38;5;250m \u001b[39m\u001b[38;5;21;01me\u001b[39;00m\n\u001b[0;32m    383\u001b[0m \u001b[38;5;66;03m# Otherwise raise the error\u001b[39;00m\n\u001b[1;32m--> 384\u001b[0m \u001b[38;5;28;01mraise\u001b[39;00m e\n",
      "File \u001b[1;32mc:\\Users\\Song\\anaconda3\\envs\\aws\\lib\\site-packages\\strands\\models\\bedrock.py:345\u001b[0m, in \u001b[0;36mBedrockModel.stream\u001b[1;34m(self, request)\u001b[0m\n\u001b[0;32m    342\u001b[0m \u001b[38;5;28;01mtry\u001b[39;00m:\n\u001b[0;32m    343\u001b[0m     \u001b[38;5;28;01mif\u001b[39;00m streaming:\n\u001b[0;32m    344\u001b[0m         \u001b[38;5;66;03m# Streaming implementation\u001b[39;00m\n\u001b[1;32m--> 345\u001b[0m         response \u001b[38;5;241m=\u001b[39m \u001b[38;5;28mself\u001b[39m\u001b[38;5;241m.\u001b[39mclient\u001b[38;5;241m.\u001b[39mconverse_stream(\u001b[38;5;241m*\u001b[39m\u001b[38;5;241m*\u001b[39mrequest)\n\u001b[0;32m    346\u001b[0m         \u001b[38;5;28;01mfor\u001b[39;00m chunk \u001b[38;5;129;01min\u001b[39;00m response[\u001b[38;5;124m\"\u001b[39m\u001b[38;5;124mstream\u001b[39m\u001b[38;5;124m\"\u001b[39m]:\n\u001b[0;32m    347\u001b[0m             \u001b[38;5;28;01mif\u001b[39;00m (\n\u001b[0;32m    348\u001b[0m                 \u001b[38;5;124m\"\u001b[39m\u001b[38;5;124mmetadata\u001b[39m\u001b[38;5;124m\"\u001b[39m \u001b[38;5;129;01min\u001b[39;00m chunk\n\u001b[0;32m    349\u001b[0m                 \u001b[38;5;129;01mand\u001b[39;00m \u001b[38;5;124m\"\u001b[39m\u001b[38;5;124mtrace\u001b[39m\u001b[38;5;124m\"\u001b[39m \u001b[38;5;129;01min\u001b[39;00m chunk[\u001b[38;5;124m\"\u001b[39m\u001b[38;5;124mmetadata\u001b[39m\u001b[38;5;124m\"\u001b[39m]\n\u001b[0;32m    350\u001b[0m                 \u001b[38;5;129;01mand\u001b[39;00m \u001b[38;5;124m\"\u001b[39m\u001b[38;5;124mguardrail\u001b[39m\u001b[38;5;124m\"\u001b[39m \u001b[38;5;129;01min\u001b[39;00m chunk[\u001b[38;5;124m\"\u001b[39m\u001b[38;5;124mmetadata\u001b[39m\u001b[38;5;124m\"\u001b[39m][\u001b[38;5;124m\"\u001b[39m\u001b[38;5;124mtrace\u001b[39m\u001b[38;5;124m\"\u001b[39m]\n\u001b[0;32m    351\u001b[0m             ):\n",
      "File \u001b[1;32mc:\\Users\\Song\\anaconda3\\envs\\aws\\lib\\site-packages\\botocore\\client.py:595\u001b[0m, in \u001b[0;36mClientCreator._create_api_method.<locals>._api_call\u001b[1;34m(self, *args, **kwargs)\u001b[0m\n\u001b[0;32m    591\u001b[0m     \u001b[38;5;28;01mraise\u001b[39;00m \u001b[38;5;167;01mTypeError\u001b[39;00m(\n\u001b[0;32m    592\u001b[0m         \u001b[38;5;124mf\u001b[39m\u001b[38;5;124m\"\u001b[39m\u001b[38;5;132;01m{\u001b[39;00mpy_operation_name\u001b[38;5;132;01m}\u001b[39;00m\u001b[38;5;124m() only accepts keyword arguments.\u001b[39m\u001b[38;5;124m\"\u001b[39m\n\u001b[0;32m    593\u001b[0m     )\n\u001b[0;32m    594\u001b[0m \u001b[38;5;66;03m# The \"self\" in this scope is referring to the BaseClient.\u001b[39;00m\n\u001b[1;32m--> 595\u001b[0m \u001b[38;5;28;01mreturn\u001b[39;00m \u001b[38;5;28;43mself\u001b[39;49m\u001b[38;5;241;43m.\u001b[39;49m\u001b[43m_make_api_call\u001b[49m\u001b[43m(\u001b[49m\u001b[43moperation_name\u001b[49m\u001b[43m,\u001b[49m\u001b[43m \u001b[49m\u001b[43mkwargs\u001b[49m\u001b[43m)\u001b[49m\n",
      "File \u001b[1;32mc:\\Users\\Song\\anaconda3\\envs\\aws\\lib\\site-packages\\botocore\\context.py:123\u001b[0m, in \u001b[0;36mwith_current_context.<locals>.decorator.<locals>.wrapper\u001b[1;34m(*args, **kwargs)\u001b[0m\n\u001b[0;32m    121\u001b[0m \u001b[38;5;28;01mif\u001b[39;00m hook:\n\u001b[0;32m    122\u001b[0m     hook()\n\u001b[1;32m--> 123\u001b[0m \u001b[38;5;28;01mreturn\u001b[39;00m func(\u001b[38;5;241m*\u001b[39margs, \u001b[38;5;241m*\u001b[39m\u001b[38;5;241m*\u001b[39mkwargs)\n",
      "File \u001b[1;32mc:\\Users\\Song\\anaconda3\\envs\\aws\\lib\\site-packages\\botocore\\client.py:1058\u001b[0m, in \u001b[0;36mBaseClient._make_api_call\u001b[1;34m(self, operation_name, api_params)\u001b[0m\n\u001b[0;32m   1054\u001b[0m     error_code \u001b[38;5;241m=\u001b[39m error_info\u001b[38;5;241m.\u001b[39mget(\u001b[38;5;124m\"\u001b[39m\u001b[38;5;124mQueryErrorCode\u001b[39m\u001b[38;5;124m\"\u001b[39m) \u001b[38;5;129;01mor\u001b[39;00m error_info\u001b[38;5;241m.\u001b[39mget(\n\u001b[0;32m   1055\u001b[0m         \u001b[38;5;124m\"\u001b[39m\u001b[38;5;124mCode\u001b[39m\u001b[38;5;124m\"\u001b[39m\n\u001b[0;32m   1056\u001b[0m     )\n\u001b[0;32m   1057\u001b[0m     error_class \u001b[38;5;241m=\u001b[39m \u001b[38;5;28mself\u001b[39m\u001b[38;5;241m.\u001b[39mexceptions\u001b[38;5;241m.\u001b[39mfrom_code(error_code)\n\u001b[1;32m-> 1058\u001b[0m     \u001b[38;5;28;01mraise\u001b[39;00m error_class(parsed_response, operation_name)\n\u001b[0;32m   1059\u001b[0m \u001b[38;5;28;01melse\u001b[39;00m:\n\u001b[0;32m   1060\u001b[0m     \u001b[38;5;28;01mreturn\u001b[39;00m parsed_response\n",
      "\u001b[1;31mValidationException\u001b[0m: An error occurred (ValidationException) when calling the ConverseStream operation: The text field in the ContentBlock object at messages.7.content.0 is blank. Add text to the text field, and try again."
     ]
    }
   ],
   "source": [
    "while True:\n",
    "    user = input(\"You: \")\n",
    "    dynamo_db_conversation_manager.add_user_message(session_id, user)\n",
    "    messages = dynamo_db_conversation_manager.get_messages(session_id)\n",
    "    agent(user)"
   ]
  },
  {
   "cell_type": "code",
   "execution_count": null,
   "id": "0d045ee6",
   "metadata": {},
   "outputs": [],
   "source": [
    "messages = dynamo_db_conversation_manager.get_messages(session_id)"
   ]
  },
  {
   "cell_type": "code",
   "execution_count": null,
   "id": "4db31e0b",
   "metadata": {},
   "outputs": [
    {
     "data": {
      "text/plain": [
       "[{'content': [{'text': 'hello'}], 'role': 'user'}]"
      ]
     },
     "execution_count": 15,
     "metadata": {},
     "output_type": "execute_result"
    }
   ],
   "source": [
    "messages"
   ]
  }
 ],
 "metadata": {
  "kernelspec": {
   "display_name": "aws",
   "language": "python",
   "name": "python3"
  },
  "language_info": {
   "codemirror_mode": {
    "name": "ipython",
    "version": 3
   },
   "file_extension": ".py",
   "mimetype": "text/x-python",
   "name": "python",
   "nbconvert_exporter": "python",
   "pygments_lexer": "ipython3",
   "version": "3.10.18"
  }
 },
 "nbformat": 4,
 "nbformat_minor": 5
}
