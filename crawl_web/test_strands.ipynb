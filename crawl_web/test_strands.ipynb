{
 "cells": [
  {
   "cell_type": "code",
   "execution_count": 3,
   "id": "25a1d670",
   "metadata": {},
   "outputs": [],
   "source": [
    "import boto3\n",
    "from strands.models import BedrockModel\n",
    "from botocore.config import Config as BotocoreConfig\n",
    "from strands import Agent\n",
    "from pydantic import BaseModel\n",
    "import dotenv\n",
    "import os\n",
    "from strands import Agent, tool\n",
    "# from toool_test import get_cty, get_tc"
   ]
  },
  {
   "cell_type": "code",
   "execution_count": 4,
   "id": "3cf49ed1",
   "metadata": {},
   "outputs": [
    {
     "data": {
      "text/plain": [
       "True"
      ]
     },
     "execution_count": 4,
     "metadata": {},
     "output_type": "execute_result"
    }
   ],
   "source": [
    "dotenv.load_dotenv(\".env\", override=True)"
   ]
  },
  {
   "cell_type": "code",
   "execution_count": 5,
   "id": "f2237e65",
   "metadata": {},
   "outputs": [],
   "source": [
    "# Create a custom boto3 session\n",
    "session = boto3.Session(\n",
    "    aws_access_key_id= os.environ.get('AWS_ACCESS_KEY'),\n",
    "    aws_secret_access_key= os.environ.get('AWS_SECRET_KEY'),\n",
    ")"
   ]
  },
  {
   "cell_type": "code",
   "execution_count": 6,
   "id": "6a52decd",
   "metadata": {},
   "outputs": [
    {
     "name": "stderr",
     "output_type": "stream",
     "text": [
      "defaulted to us-west-2 because no region was specified\n",
      "issue=<https://github.com/strands-agents/sdk-python/issues/238> | this behavior will change in an upcoming release\n"
     ]
    }
   ],
   "source": [
    "boto_config = BotocoreConfig(\n",
    "    retries={\"max_attempts\": 3, \"mode\": \"standard\"},\n",
    "    connect_timeout=5,\n",
    "    read_timeout=60\n",
    ")\n",
    "# Create a Bedrock model with the custom session\n",
    "bedrock_model = BedrockModel(\n",
    "    model_id=\"anthropic.claude-3-5-sonnet-20240620-v1:0\",\n",
    "    boto_session=session,\n",
    "    temperature=0.3,\n",
    "    top_p=0.8,\n",
    "    stop_sequences=[\"###\", \"END\"],\n",
    "    boto_client_config=boto_config,\n",
    ")"
   ]
  },
  {
   "cell_type": "code",
   "execution_count": 7,
   "id": "a43f9817",
   "metadata": {},
   "outputs": [],
   "source": [
    "system_prompt = \"\"\"\n",
    "You are an intelligent personal assistant, specialized formatiing information about companies in Vietnam.\n",
    "\n",
    "You have access to the following tools:\n",
    "- get_cty: Get the general information about company.\n",
    "- get_tc: Get the financial information about company.\n",
    "\n",
    "You give tools the name of pdf file. Your task is to gather data with the following steps:\n",
    "1. Call get_cty to get general information about company\n",
    "2. Call get_tc to get general information about company\n",
    "\n",
    "Instructions:\n",
    "- Respond in a *clear and structured format*.\n",
    "- All output must be in *Vietnamese*.\n",
    "\n",
    "\"\"\""
   ]
  },
  {
   "cell_type": "code",
   "execution_count": 15,
   "id": "e2f64a49",
   "metadata": {},
   "outputs": [
    {
     "ename": "FileNotFoundError",
     "evalue": "[Errno 2] No such file or directory: './pdf/chill.pdf'",
     "output_type": "error",
     "traceback": [
      "\u001b[1;31m---------------------------------------------------------------------------\u001b[0m",
      "\u001b[1;31mFileNotFoundError\u001b[0m                         Traceback (most recent call last)",
      "Cell \u001b[1;32mIn[15], line 1\u001b[0m\n\u001b[1;32m----> 1\u001b[0m \u001b[38;5;28;01mwith\u001b[39;00m \u001b[38;5;28;43mopen\u001b[39;49m\u001b[43m(\u001b[49m\u001b[38;5;124;43m\"\u001b[39;49m\u001b[38;5;124;43m./pdf/chill.pdf\u001b[39;49m\u001b[38;5;124;43m\"\u001b[39;49m\u001b[43m,\u001b[49m\u001b[43m \u001b[49m\u001b[38;5;124;43m\"\u001b[39;49m\u001b[38;5;124;43mrb\u001b[39;49m\u001b[38;5;124;43m\"\u001b[39;49m\u001b[43m)\u001b[49m \u001b[38;5;28;01mas\u001b[39;00m f:\n\u001b[0;32m      2\u001b[0m     pdf_bytes \u001b[38;5;241m=\u001b[39m f\u001b[38;5;241m.\u001b[39mread()\n",
      "File \u001b[1;32mc:\\Users\\Song\\anaconda3\\envs\\aws\\lib\\site-packages\\IPython\\core\\interactiveshell.py:324\u001b[0m, in \u001b[0;36m_modified_open\u001b[1;34m(file, *args, **kwargs)\u001b[0m\n\u001b[0;32m    317\u001b[0m \u001b[38;5;28;01mif\u001b[39;00m file \u001b[38;5;129;01min\u001b[39;00m {\u001b[38;5;241m0\u001b[39m, \u001b[38;5;241m1\u001b[39m, \u001b[38;5;241m2\u001b[39m}:\n\u001b[0;32m    318\u001b[0m     \u001b[38;5;28;01mraise\u001b[39;00m \u001b[38;5;167;01mValueError\u001b[39;00m(\n\u001b[0;32m    319\u001b[0m         \u001b[38;5;124mf\u001b[39m\u001b[38;5;124m\"\u001b[39m\u001b[38;5;124mIPython won\u001b[39m\u001b[38;5;124m'\u001b[39m\u001b[38;5;124mt let you open fd=\u001b[39m\u001b[38;5;132;01m{\u001b[39;00mfile\u001b[38;5;132;01m}\u001b[39;00m\u001b[38;5;124m by default \u001b[39m\u001b[38;5;124m\"\u001b[39m\n\u001b[0;32m    320\u001b[0m         \u001b[38;5;124m\"\u001b[39m\u001b[38;5;124mas it is likely to crash IPython. If you know what you are doing, \u001b[39m\u001b[38;5;124m\"\u001b[39m\n\u001b[0;32m    321\u001b[0m         \u001b[38;5;124m\"\u001b[39m\u001b[38;5;124myou can use builtins\u001b[39m\u001b[38;5;124m'\u001b[39m\u001b[38;5;124m open.\u001b[39m\u001b[38;5;124m\"\u001b[39m\n\u001b[0;32m    322\u001b[0m     )\n\u001b[1;32m--> 324\u001b[0m \u001b[38;5;28;01mreturn\u001b[39;00m io_open(file, \u001b[38;5;241m*\u001b[39margs, \u001b[38;5;241m*\u001b[39m\u001b[38;5;241m*\u001b[39mkwargs)\n",
      "\u001b[1;31mFileNotFoundError\u001b[0m: [Errno 2] No such file or directory: './pdf/chill.pdf'"
     ]
    }
   ],
   "source": [
    "with open(\"./pdf/chill.pdf\", \"rb\") as f:\n",
    "    pdf_bytes = f.read()"
   ]
  },
  {
   "cell_type": "code",
   "execution_count": 12,
   "id": "cb2c5a17",
   "metadata": {},
   "outputs": [],
   "source": [
    "from strands import Agent, tool\n",
    "\n",
    "@tool\n",
    "def get_cty() -> str:\n",
    "    return \"\"\"{\"ten_cong_ty\": \"CÔNG TY CỔ PHẦN TẬP ĐOÀN DUA FAT\",\n",
    "\"ma_chung_khoan\": null,\n",
    "\"dia_chi_tru_so_chinh\": \"Số 15, Liền kề 10, Khu đô thị Xa La, P. Phúc La, Q. Hà Đông, TP Hà Nội, Việt Nam\",\n",
    "\"so_dien_thoai_hoac_email\": null,\n",
    "\"linh_vuc_kinh_doanh_chinh\": \"Phá dỡ các kết cấu công trình và cầu kiện xây dựng\"\n",
    "}\"\"\"\n",
    "\n",
    "@tool\n",
    "def get_tc() -> str:\n",
    "    return \"\"\"{\n",
    "    \"quy\": \"Q1/2025\",\n",
    "    \"tong_tai_san_cuoi_quy\": 3242801930898,\n",
    "    \"loi_nhuan_sau_thue\": -116915411380,\n",
    "    \"loi_nhuan_gop\": -61372849620,\n",
    "    \"von_chu_so_huu\": 119953583407,\n",
    "    \"tong_doanh_thu\": 74478217583,\n",
    "    \"tong_tai_san\": 3242801930898,\n",
    "    \"tong_no\": 3122848347491,\n",
    "    \"gia_von_hang_ban\": 135851067203,\n",
    "    \"loi_nhuan_gop_ve_BH_va_CCDV\": -61372849620,\n",
    "    \"loi_nhuan_tai_chinh\": -53217597991,\n",
    "    \"loi_nhuan_truoc_thue\": -116888181727,\n",
    "    \"tong_tai_san_luu_dong_ngan_han\": 2285669507340,\n",
    "    \"no_ngan_han\": 2524167001622\n",
    "    }\"\"\""
   ]
  },
  {
   "cell_type": "code",
   "execution_count": 19,
   "id": "a3dd2aa5",
   "metadata": {},
   "outputs": [
    {
     "name": "stdout",
     "output_type": "stream",
     "text": [
      "Certainly! I'll use both the get_cty and get_tc tools to retrieve the data for you. Then, I'll help you extract and analyze the information from the results. Let's start by calling both functions:\n",
      "Tool #1: get_cty\n",
      "\n",
      "Tool #2: get_tc\n",
      "\n",
      "\n",
      "Great! I've retrieved the data from both the get_cty and get_tc tools. Now, let's extract and analyze the information from these results.\n",
      "\n",
      "1. Company Information (from get_cty):\n",
      "- Tên công ty (Company Name): CÔNG TY CỔ PHẦN TẬP ĐOÀN DUA FAT\n",
      "- Mã chứng khoán (Stock Code): Not available (null)\n",
      "- Địa chỉ trụ sở chính (Headquarters Address): Số 15, Liền kề 10, Khu đô thị Xa La, P. Phúc La, Q. Hà Đông, TP Hà Nội, Việt Nam\n",
      "- Số điện thoại hoặc email (Phone or Email): Not available (null)\n",
      "- Lĩnh vực kinh doanh chính (Main Business Area): Phá dỡ các kết cấu công trình và cầu kiện xây dựng (Demolition of structures and construction components)\n",
      "\n",
      "2. Financial Information (from get_tc):\n",
      "- Quý (Quarter): Q1/2025\n",
      "- Tổng tài sản cuối quý (Total assets at the end of the quarter): 3,242,801,930,898 VND\n",
      "- Lợi nhuận sau thuế (Net profit after tax): -116,915,411,380 VND\n",
      "- Lợi nhuận gộp (Gross profit): -61,372,849,620 VND\n",
      "- Vốn chủ sở hữu (Owner's equity): 119,953,583,407 VND\n",
      "- Tổng doanh thu (Total revenue): 74,478,217,583 VND\n",
      "- Tổng nợ (Total debt): 3,122,848,347,491 VND\n",
      "- Giá vốn hàng bán (Cost of goods sold): 135,851,067,203 VND\n",
      "- Lợi nhuận tài chính (Financial profit): -53,217,597,991 VND\n",
      "- Lợi nhuận trước thuế (Profit before tax): -116,888,181,727 VND\n",
      "- Tổng tài sản lưu động ngắn hạn (Total current assets): 2,285,669,507,340 VND\n",
      "- Nợ ngắn hạn (Short-term debt): 2,524,167,001,622 VND\n",
      "\n",
      "Analysis:\n",
      "1. The company is operating at a loss in Q1/2025, with negative figures for gross profit, net profit, and profit before tax.\n",
      "2. The company has a high level of debt compared to its equity, indicating a potentially risky financial structure.\n",
      "3. The company's current assets are less than its short-term debt, which might indicate potential liquidity issues.\n",
      "4. The main business area is in demolition and construction, but the company is experiencing significant financial challenges based on the provided data.\n",
      "\n",
      "This extracted and analyzed information gives an overview of the company's structure and financial situation. If you need any specific calculations or further analysis based on these figures, please let me know.\n",
      "\n",
      "Great! I've retrieved the data from both the get_cty and get_tc tools. Now, let's extract and analyze the information from these results.\n",
      "\n",
      "1. Company Information (from get_cty):\n",
      "- Tên công ty (Company Name): CÔNG TY CỔ PHẦN TẬP ĐOÀN DUA FAT\n",
      "- Mã chứng khoán (Stock Code): Not available (null)\n",
      "- Địa chỉ trụ sở chính (Headquarters Address): Số 15, Liền kề 10, Khu đô thị Xa La, P. Phúc La, Q. Hà Đông, TP Hà Nội, Việt Nam\n",
      "- Số điện thoại hoặc email (Phone or Email): Not available (null)\n",
      "- Lĩnh vực kinh doanh chính (Main Business Area): Phá dỡ các kết cấu công trình và cầu kiện xây dựng (Demolition of structures and construction components)\n",
      "\n",
      "2. Financial Information (from get_tc):\n",
      "- Quý (Quarter): Q1/2025\n",
      "- Tổng tài sản cuối quý (Total assets at the end of the quarter): 3,242,801,930,898 VND\n",
      "- Lợi nhuận sau thuế (Net profit after tax): -116,915,411,380 VND\n",
      "- Lợi nhuận gộp (Gross profit): -61,372,849,620 VND\n",
      "- Vốn chủ sở hữu (Owner's equity): 119,953,583,407 VND\n",
      "- Tổng doanh thu (Total revenue): 74,478,217,583 VND\n",
      "- Tổng nợ (Total debt): 3,122,848,347,491 VND\n",
      "- Giá vốn hàng bán (Cost of goods sold): 135,851,067,203 VND\n",
      "- Lợi nhuận tài chính (Financial profit): -53,217,597,991 VND\n",
      "- Lợi nhuận trước thuế (Profit before tax): -116,888,181,727 VND\n",
      "- Tổng tài sản lưu động ngắn hạn (Total current assets): 2,285,669,507,340 VND\n",
      "- Nợ ngắn hạn (Short-term debt): 2,524,167,001,622 VND\n",
      "\n",
      "Analysis:\n",
      "1. The company is operating at a loss in Q1/2025, with negative figures for gross profit, net profit, and profit before tax.\n",
      "2. The company has a high level of debt compared to its equity, indicating a potentially risky financial structure.\n",
      "3. The company's current assets are less than its short-term debt, which might indicate potential liquidity issues.\n",
      "4. The main business area is in demolition and construction, but the company is experiencing significant financial challenges based on the provided data.\n",
      "\n",
      "This extracted and analyzed information gives an overview of the company's structure and financial situation. If you need any specific calculations or further analysis based on these figures, please let me know.\n",
      "\n"
     ]
    }
   ],
   "source": [
    "from pydantic import BaseModel\n",
    "class CtyInfo(BaseModel):\n",
    "    ten_cong_ty: str\n",
    "    linh_vuc_kinh_doanh_chinh: str\n",
    "    dia_chi_tru_so_chinh: str\n",
    "    tong_tai_san_cuoi_quy: int\n",
    "    loi_nhuan_sau_thue: int\n",
    "    loi_nhuan_gop: int\n",
    "\n",
    "agent = Agent(model = bedrock_model, tools=[get_cty, get_tc])\n",
    "\n",
    "result = agent(\"Đầu tiên hãy lấy dữ liệu từ get_cty và get_tc tool sau đó hãy trích xuất dữ liệu\")\n",
    "\n",
    "print(result)"
   ]
  }
 ],
 "metadata": {
  "kernelspec": {
   "display_name": "aws",
   "language": "python",
   "name": "python3"
  },
  "language_info": {
   "codemirror_mode": {
    "name": "ipython",
    "version": 3
   },
   "file_extension": ".py",
   "mimetype": "text/x-python",
   "name": "python",
   "nbconvert_exporter": "python",
   "pygments_lexer": "ipython3",
   "version": "3.10.18"
  }
 },
 "nbformat": 4,
 "nbformat_minor": 5
}
