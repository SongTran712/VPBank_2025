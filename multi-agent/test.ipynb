{
 "cells": [
  {
   "cell_type": "code",
   "execution_count": 3,
   "id": "3a89c3b2",
   "metadata": {},
   "outputs": [
    {
     "name": "stderr",
     "output_type": "stream",
     "text": [
      "07/13/2025 01:00:22 PM - defaulted to us-west-2 because no region was specified\n",
      "07/13/2025 01:00:22 PM - issue=<https://github.com/strands-agents/sdk-python/issues/238> | this behavior will change in an upcoming release\n"
     ]
    }
   ],
   "source": [
    "import boto3\n",
    "from strands.models import BedrockModel\n",
    "from botocore.config import Config as BotocoreConfig\n",
    "from strands import Agent\n",
    "from pydantic import BaseModel\n",
    "import dotenv\n",
    "import os\n",
    "from strands import Agent, tool\n",
    "\n",
    "dotenv.load_dotenv(\".env\", override=True)\n",
    "# Create a custom boto3 session\n",
    "session = boto3.Session(\n",
    "    aws_access_key_id= os.environ.get('AWS_ACCESS_KEY'),\n",
    "    aws_secret_access_key= os.environ.get('AWS_SECRET_KEY'),\n",
    "    # region_name= 'ap-southeast-1'\n",
    "    \n",
    ")\n",
    "boto_config = BotocoreConfig(\n",
    "    retries={\"max_attempts\": 3, \"mode\": \"standard\"},\n",
    "    connect_timeout=5,\n",
    "    read_timeout=60\n",
    ")\n",
    "# Create a Bedrock model with the custom session\n",
    "bedrock_model = BedrockModel(\n",
    "    model_id=\"anthropic.claude-3-5-sonnet-20240620-v1:0\",\n",
    "    boto_session=session,\n",
    "    temperature=0.3,\n",
    "    top_p=0.8,\n",
    "    stop_sequences=[\"###\", \"END\"],\n",
    "    # boto_client_config=boto_config,\n",
    "    \n",
    ")"
   ]
  },
  {
   "cell_type": "code",
   "execution_count": 32,
   "id": "7ed68b97",
   "metadata": {},
   "outputs": [],
   "source": [
    "from strands import Agent\n",
    "\n",
    "agent = Agent(model = bedrock_model)\n"
   ]
  },
  {
   "cell_type": "code",
   "execution_count": 3,
   "id": "fa3e043b",
   "metadata": {},
   "outputs": [],
   "source": [
    "from doc_extr.doc_extr import doc_extr"
   ]
  },
  {
   "cell_type": "code",
   "execution_count": 5,
   "id": "9df5425f",
   "metadata": {},
   "outputs": [
    {
     "name": "stdout",
     "output_type": "stream",
     "text": [
      "[ERROR] Gọi Claude thất bại (lần 1/3): An error occurred (ThrottlingException) when calling the InvokeModel operation (reached max retries: 4): Too many requests, please wait before trying again.\n",
      "[ERROR] Gọi Claude thất bại (lần 1/3): An error occurred (ThrottlingException) when calling the InvokeModel operation (reached max retries: 4): Too many requests, please wait before trying again.\n"
     ]
    }
   ],
   "source": [
    "output = doc_extr('../pdf/vlg')"
   ]
  },
  {
   "cell_type": "code",
   "execution_count": null,
   "id": "235daf59",
   "metadata": {},
   "outputs": [
    {
     "data": {
      "text/plain": [
       "{'company': {'TenCongTy': 'CÔNG TY CỔ PHẦN VIMC LOGISTICS',\n",
       "  'MaChungKhoan': 'VLG',\n",
       "  'DiaChi': 'Phòng 806, tòa nhà Ocean Park, số 1 Đào Duy Anh, phường Phương Mai, quận Đống Đa, TP.Hà Nội, Việt Nam',\n",
       "  'SoDienThoai': '024-35772047/48',\n",
       "  'Email': 'info@vimclogistics.vn',\n",
       "  'LinhVucKinhDoanh': 'Kinh doanh xuất nhập khẩu hàng hóa, môi giới thương mại, đại lý mua bán, ký gửi hàng hóa; Vận tải đa phương thức; vận tải hàng hóa, container, hàng hóa siêu trường, siêu trọng bằng đường bộ, đường sắt, đường biển'},\n",
       " 'bctc': [{'quy': 'Q1/2025',\n",
       "   'tong_tai_san_cuoi_quy': 236156479630,\n",
       "   'loi_nhuan_sau_thue': 1116027647,\n",
       "   'loi_nhuan_gop': 2304572679,\n",
       "   'von_chu_so_huu': 178445053214,\n",
       "   'tong_doanh_thu': 60107916752,\n",
       "   'tong_tai_san': 236156479630,\n",
       "   'tong_no': 57711426416,\n",
       "   'gia_von_hang_ban': 57803344073,\n",
       "   'loi_nhuan_gop_ve_BH_va_CCDV': 2304572679,\n",
       "   'loi_nhuan_tai_chinh': 622690374,\n",
       "   'loi_nhuan_truoc_thue': 1402037633,\n",
       "   'tong_tai_san_luu_dong_ngan_han': 172374527886,\n",
       "   'no_ngan_han': 57711426416},\n",
       "  {'quy': 'Q2/2024',\n",
       "   'tong_tai_san_cuoi_quy': 212146243168,\n",
       "   'loi_nhuan_sau_thue': 10588556972,\n",
       "   'loi_nhuan_gop': 2283265819,\n",
       "   'von_chu_so_huu': 167262603675,\n",
       "   'tong_doanh_thu': 42083671325,\n",
       "   'tong_tai_san': 212146243168,\n",
       "   'tong_no': 44883639493,\n",
       "   'gia_von_hang_ban': 39800405506,\n",
       "   'loi_nhuan_gop_ve_BH_va_CCDV': 2283265819,\n",
       "   'loi_nhuan_tai_chinh': 189638689,\n",
       "   'loi_nhuan_truoc_thue': 13259726458,\n",
       "   'tong_tai_san_luu_dong_ngan_han': 145623535885,\n",
       "   'no_ngan_han': 44883639493},\n",
       "  {'quy': 'Q3/2024',\n",
       "   'tong_tai_san_cuoi_quy': 227375689868,\n",
       "   'loi_nhuan_sau_thue': 13875548792,\n",
       "   'loi_nhuan_gop': 1791245409,\n",
       "   'von_chu_so_huu': 181138152467,\n",
       "   'tong_doanh_thu': 41977528911,\n",
       "   'tong_tai_san': 227375689868,\n",
       "   'tong_no': 46237537401,\n",
       "   'gia_von_hang_ban': 40186283502,\n",
       "   'loi_nhuan_gop_ve_BH_va_CCDV': 1791245409,\n",
       "   'loi_nhuan_tai_chinh': 834803115,\n",
       "   'loi_nhuan_truoc_thue': 17204922944,\n",
       "   'tong_tai_san_luu_dong_ngan_han': 162255806260,\n",
       "   'no_ngan_han': 46237537401},\n",
       "  {'quy': 'Q4/2024',\n",
       "   'tong_tai_san_cuoi_quy': 229773312284,\n",
       "   'loi_nhuan_sau_thue': -3809126900,\n",
       "   'loi_nhuan_gop': 2114408986,\n",
       "   'von_chu_so_huu': 177329025567,\n",
       "   'tong_doanh_thu': 62287700880,\n",
       "   'tong_tai_san': 229773312284,\n",
       "   'tong_no': 52444286717,\n",
       "   'gia_von_hang_ban': 60173291894,\n",
       "   'loi_nhuan_gop_ve_BH_va_CCDV': 2114408986,\n",
       "   'loi_nhuan_tai_chinh': 617879595,\n",
       "   'loi_nhuan_truoc_thue': -513742519,\n",
       "   'tong_tai_san_luu_dong_ngan_han': 164800586261,\n",
       "   'no_ngan_han': 52444286717}]}"
      ]
     },
     "execution_count": 6,
     "metadata": {},
     "output_type": "execute_result"
    }
   ],
   "source": [
    "output"
   ]
  },
  {
   "cell_type": "code",
   "execution_count": 2,
   "id": "523f2e20",
   "metadata": {},
   "outputs": [],
   "source": [
    "output = {'company': {'TenCongTy': 'CÔNG TY CỔ PHẦN VIMC LOGISTICS',\n",
    "  'MaChungKhoan': 'VLG',\n",
    "  'DiaChi': 'Phòng 806, tòa nhà Ocean Park, số 1 Đào Duy Anh, phường Phương Mai, quận Đống Đa, TP.Hà Nội, Việt Nam',\n",
    "  'SoDienThoai': '024-35772047/48',\n",
    "  'Email': 'info@vimclogistics.vn',\n",
    "  'LinhVucKinhDoanh': 'Kinh doanh xuất nhập khẩu hàng hóa, môi giới thương mại, đại lý mua bán, ký gửi hàng hóa; Vận tải đa phương thức; vận tải hàng hóa, container, hàng hóa siêu trường, siêu trọng bằng đường bộ, đường sắt, đường biển'},\n",
    " 'bctc': [{'quy': 'Q1/2025',\n",
    "   'tong_tai_san_cuoi_quy': 236156479630,\n",
    "   'loi_nhuan_sau_thue': 1116027647,\n",
    "   'loi_nhuan_gop': 2304572679,\n",
    "   'von_chu_so_huu': 178445053214,\n",
    "   'tong_doanh_thu': 60107916752,\n",
    "   'tong_tai_san': 236156479630,\n",
    "   'tong_no': 57711426416,\n",
    "   'gia_von_hang_ban': 57803344073,\n",
    "   'loi_nhuan_gop_ve_BH_va_CCDV': 2304572679,\n",
    "   'loi_nhuan_tai_chinh': 622690374,\n",
    "   'loi_nhuan_truoc_thue': 1402037633,\n",
    "   'tong_tai_san_luu_dong_ngan_han': 172374527886,\n",
    "   'no_ngan_han': 57711426416},\n",
    "  {'quy': 'Q2/2024',\n",
    "   'tong_tai_san_cuoi_quy': 212146243168,\n",
    "   'loi_nhuan_sau_thue': 10588556972,\n",
    "   'loi_nhuan_gop': 2283265819,\n",
    "   'von_chu_so_huu': 167262603675,\n",
    "   'tong_doanh_thu': 42083671325,\n",
    "   'tong_tai_san': 212146243168,\n",
    "   'tong_no': 44883639493,\n",
    "   'gia_von_hang_ban': 39800405506,\n",
    "   'loi_nhuan_gop_ve_BH_va_CCDV': 2283265819,\n",
    "   'loi_nhuan_tai_chinh': 189638689,\n",
    "   'loi_nhuan_truoc_thue': 13259726458,\n",
    "   'tong_tai_san_luu_dong_ngan_han': 145623535885,\n",
    "   'no_ngan_han': 44883639493},\n",
    "  {'quy': 'Q3/2024',\n",
    "   'tong_tai_san_cuoi_quy': 227375689868,\n",
    "   'loi_nhuan_sau_thue': 13875548792,\n",
    "   'loi_nhuan_gop': 1791245409,\n",
    "   'von_chu_so_huu': 181138152467,\n",
    "   'tong_doanh_thu': 41977528911,\n",
    "   'tong_tai_san': 227375689868,\n",
    "   'tong_no': 46237537401,\n",
    "   'gia_von_hang_ban': 40186283502,\n",
    "   'loi_nhuan_gop_ve_BH_va_CCDV': 1791245409,\n",
    "   'loi_nhuan_tai_chinh': 834803115,\n",
    "   'loi_nhuan_truoc_thue': 17204922944,\n",
    "   'tong_tai_san_luu_dong_ngan_han': 162255806260,\n",
    "   'no_ngan_han': 46237537401},\n",
    "  {'quy': 'Q4/2024',\n",
    "   'tong_tai_san_cuoi_quy': 229773312284,\n",
    "   'loi_nhuan_sau_thue': -3809126900,\n",
    "   'loi_nhuan_gop': 2114408986,\n",
    "   'von_chu_so_huu': 177329025567,\n",
    "   'tong_doanh_thu': 62287700880,\n",
    "   'tong_tai_san': 229773312284,\n",
    "   'tong_no': 52444286717,\n",
    "   'gia_von_hang_ban': 60173291894,\n",
    "   'loi_nhuan_gop_ve_BH_va_CCDV': 2114408986,\n",
    "   'loi_nhuan_tai_chinh': 617879595,\n",
    "   'loi_nhuan_truoc_thue': -513742519,\n",
    "   'tong_tai_san_luu_dong_ngan_han': 164800586261,\n",
    "   'no_ngan_han': 52444286717}]}"
   ]
  },
  {
   "cell_type": "code",
   "execution_count": 4,
   "id": "bf5bbd5d",
   "metadata": {},
   "outputs": [],
   "source": [
    "from pydantic import BaseModel\n",
    "from typing import List\n",
    "import json\n",
    "from dataclasses import dataclass\n",
    "\n",
    "class CompanyInfo(BaseModel):\n",
    "    ten_cty: str\n",
    "    ma_ck: str\n",
    "    dia_chi: str\n",
    "    so_dt: str\n",
    "    email: str\n",
    "    linhvuckinhdoanh: str\n",
    "\n",
    "@dataclass\n",
    "class BctcItem:\n",
    "    quy: str\n",
    "    tong_tai_san_cuoi_quy: int\n",
    "    loi_nhuan_sau_thue: int\n",
    "    loi_nhuan_gop: int\n",
    "    tong_doanh_thu: int\n",
    "    tong_tai_san: int\n",
    "    tong_no: int\n",
    "    gia_von_hang_ban: int\n",
    "    loi_nhuan_gop_ve_BH_va_CCDV: int\n",
    "    loi_nhuan_tai_chinh: int\n",
    "    loi_nhuan_truoc_thue: int\n",
    "    tong_tai_san_luu_dong_ngan_han: int\n",
    "    no_ngan_han: int\n",
    "\n",
    "class CongTy(BaseModel):\n",
    "    status: bool\n",
    "    companyInfo: CompanyInfo\n",
    "    bctc: List[BctcItem]\n"
   ]
  },
  {
   "cell_type": "code",
   "execution_count": 5,
   "id": "c3d4e86a",
   "metadata": {},
   "outputs": [
    {
     "name": "stdout",
     "output_type": "stream",
     "text": [
      "Certainly! I'll use the CongTy tool to structure and analyze the data, particularly focusing on the financial reports (bctc) and arranging them in chronological order. Let's process this information:\n",
      "Tool #1: CongTy\n"
     ]
    }
   ],
   "source": [
    "from strands import Agent\n",
    "\n",
    "structure_agent = Agent(model =bedrock_model)\n",
    "output = structure_agent.structured_output(CongTy, f\"\"\"\n",
    "Hãy phân tích và sắp xếp dữ liệu lại đặc biệt về dữ liệu báo cáo tài chính, sắp xếp lại theo list các quý ứng với các biến sắp xếp theo chiều tăng dần về thời gian.\n",
    "Trả về status: False khi không trích xuất được đủ trường cho 4 quý\n",
    "{json.dumps(output, ensure_ascii=False)}\n",
    "                                           \"\"\")"
   ]
  },
  {
   "cell_type": "code",
   "execution_count": 14,
   "id": "c98df9ed",
   "metadata": {},
   "outputs": [],
   "source": [
    "from dataclasses import dataclass, asdict\n",
    "json_data = [json.dumps(asdict(item), ensure_ascii=False) for item in output.bctc]\n",
    "\n",
    "# In kết qu"
   ]
  },
  {
   "cell_type": "code",
   "execution_count": null,
   "id": "9ed837f3",
   "metadata": {},
   "outputs": [
    {
     "data": {
      "text/plain": [
       "'[\\'{\"quy\": \"Q2/2024\", \"tong_tai_san_cuoi_quy\": 212146243168, \"loi_nhuan_sau_thue\": 10588556972, \"loi_nhuan_gop\": 2283265819, \"tong_doanh_thu\": 42083671325, \"tong_tai_san\": 212146243168, \"tong_no\": 44883639493, \"gia_von_hang_ban\": 39800405506, \"loi_nhuan_gop_ve_BH_va_CCDV\": 2283265819, \"loi_nhuan_tai_chinh\": 189638689, \"loi_nhuan_truoc_thue\": 13259726458, \"tong_tai_san_luu_dong_ngan_han\": 145623535885, \"no_ngan_han\": 44883639493}\\', \\'{\"quy\": \"Q3/2024\", \"tong_tai_san_cuoi_quy\": 227375689868, \"loi_nhuan_sau_thue\": 13875548792, \"loi_nhuan_gop\": 1791245409, \"tong_doanh_thu\": 41977528911, \"tong_tai_san\": 227375689868, \"tong_no\": 46237537401, \"gia_von_hang_ban\": 40186283502, \"loi_nhuan_gop_ve_BH_va_CCDV\": 1791245409, \"loi_nhuan_tai_chinh\": 834803115, \"loi_nhuan_truoc_thue\": 17204922944, \"tong_tai_san_luu_dong_ngan_han\": 162255806260, \"no_ngan_han\": 46237537401}\\', \\'{\"quy\": \"Q4/2024\", \"tong_tai_san_cuoi_quy\": 229773312284, \"loi_nhuan_sau_thue\": -3809126900, \"loi_nhuan_gop\": 2114408986, \"tong_doanh_thu\": 62287700880, \"tong_tai_san\": 229773312284, \"tong_no\": 52444286717, \"gia_von_hang_ban\": 60173291894, \"loi_nhuan_gop_ve_BH_va_CCDV\": 2114408986, \"loi_nhuan_tai_chinh\": 617879595, \"loi_nhuan_truoc_thue\": -513742519, \"tong_tai_san_luu_dong_ngan_han\": 164800586261, \"no_ngan_han\": 52444286717}\\', \\'{\"quy\": \"Q1/2025\", \"tong_tai_san_cuoi_quy\": 236156479630, \"loi_nhuan_sau_thue\": 1116027647, \"loi_nhuan_gop\": 2304572679, \"tong_doanh_thu\": 60107916752, \"tong_tai_san\": 236156479630, \"tong_no\": 57711426416, \"gia_von_hang_ban\": 57803344073, \"loi_nhuan_gop_ve_BH_va_CCDV\": 2304572679, \"loi_nhuan_tai_chinh\": 622690374, \"loi_nhuan_truoc_thue\": 1402037633, \"tong_tai_san_luu_dong_ngan_han\": 172374527886, \"no_ngan_han\": 57711426416}\\']'"
      ]
     },
     "execution_count": 15,
     "metadata": {},
     "output_type": "execute_result"
    }
   ],
   "source": [
    "str(json_data)"
   ]
  },
  {
   "cell_type": "code",
   "execution_count": null,
   "id": "d65e582f",
   "metadata": {},
   "outputs": [
    {
     "data": {
      "text/plain": [
       "CongTy(status=True, companyInfo=CompanyInfo(ten_cty='CÔNG TY CỔ PHẦN VIMC LOGISTICS', ma_ck='VLG', dia_chi='Phòng 806, tòa nhà Ocean Park, số 1 Đào Duy Anh, phường Phương Mai, quận Đống Đa, TP.Hà Nội, Việt Nam', so_dt='024-35772047/48', email='info@vimclogistics.vn', linhvuckinhdoanh='Kinh doanh xuất nhập khẩu hàng hóa, môi giới thương mại, đại lý mua bán, ký gửi hàng hóa; Vận tải đa phương thức; vận tải hàng hóa, container, hàng hóa siêu trường, siêu trọng bằng đường bộ, đường sắt, đường biển'), bctc=[BctcItem(quy='Q2/2024', tong_tai_san_cuoi_quy=212146243168, loi_nhuan_sau_thue=10588556972, loi_nhuan_gop=2283265819, tong_doanh_thu=42083671325, tong_tai_san=212146243168, tong_no=44883639493, gia_von_hang_ban=39800405506, loi_nhuan_gop_ve_BH_va_CCDV=2283265819, loi_nhuan_tai_chinh=189638689, loi_nhuan_truoc_thue=13259726458, tong_tai_san_luu_dong_ngan_han=145623535885, no_ngan_han=44883639493), BctcItem(quy='Q3/2024', tong_tai_san_cuoi_quy=227375689868, loi_nhuan_sau_thue=13875548792, loi_nhuan_gop=1791245409, tong_doanh_thu=41977528911, tong_tai_san=227375689868, tong_no=46237537401, gia_von_hang_ban=40186283502, loi_nhuan_gop_ve_BH_va_CCDV=1791245409, loi_nhuan_tai_chinh=834803115, loi_nhuan_truoc_thue=17204922944, tong_tai_san_luu_dong_ngan_han=162255806260, no_ngan_han=46237537401), BctcItem(quy='Q4/2024', tong_tai_san_cuoi_quy=229773312284, loi_nhuan_sau_thue=-3809126900, loi_nhuan_gop=2114408986, tong_doanh_thu=62287700880, tong_tai_san=229773312284, tong_no=52444286717, gia_von_hang_ban=60173291894, loi_nhuan_gop_ve_BH_va_CCDV=2114408986, loi_nhuan_tai_chinh=617879595, loi_nhuan_truoc_thue=-513742519, tong_tai_san_luu_dong_ngan_han=164800586261, no_ngan_han=52444286717), BctcItem(quy='Q1/2025', tong_tai_san_cuoi_quy=236156479630, loi_nhuan_sau_thue=1116027647, loi_nhuan_gop=2304572679, tong_doanh_thu=60107916752, tong_tai_san=236156479630, tong_no=57711426416, gia_von_hang_ban=57803344073, loi_nhuan_gop_ve_BH_va_CCDV=2304572679, loi_nhuan_tai_chinh=622690374, loi_nhuan_truoc_thue=1402037633, tong_tai_san_luu_dong_ngan_han=172374527886, no_ngan_han=57711426416)])"
      ]
     },
     "execution_count": 29,
     "metadata": {},
     "output_type": "execute_result"
    }
   ],
   "source": [
    "output"
   ]
  },
  {
   "cell_type": "code",
   "execution_count": 6,
   "id": "f38961c9",
   "metadata": {},
   "outputs": [
    {
     "data": {
      "text/plain": [
       "\"ten_cty='CÔNG TY CỔ PHẦN VIMC LOGISTICS' ma_ck='VLG' dia_chi='Phòng 806, tòa nhà Ocean Park, số 1 Đào Duy Anh, phường Phương Mai, quận Đống Đa, TP.Hà Nội, Việt Nam' so_dt='024-35772047/48' email='info@vimclogistics.vn' linhvuckinhdoanh='Kinh doanh xuất nhập khẩu hàng hóa, môi giới thương mại, đại lý mua bán, ký gửi hàng hóa; Vận tải đa phương thức; vận tải hàng hóa, container, hàng hóa siêu trường, siêu trọng bằng đường bộ, đường sắt, đường biển'\""
      ]
     },
     "execution_count": 6,
     "metadata": {},
     "output_type": "execute_result"
    }
   ],
   "source": [
    "str(output.companyInfo)"
   ]
  },
  {
   "cell_type": "code",
   "execution_count": 7,
   "id": "e3d50eff",
   "metadata": {},
   "outputs": [],
   "source": [
    "from crawl_web.basic_info import CompanyInfoRetriever\n",
    "import sys\n",
    "import os"
   ]
  },
  {
   "cell_type": "code",
   "execution_count": 8,
   "id": "da838626",
   "metadata": {},
   "outputs": [
    {
     "name": "stderr",
     "output_type": "stream",
     "text": [
      "07/13/2025 01:01:14 PM - defaulted to us-west-2 because no region was specified\n",
      "07/13/2025 01:01:14 PM - issue=<https://github.com/strands-agents/sdk-python/issues/238> | this behavior will change in an upcoming release\n"
     ]
    }
   ],
   "source": [
    "company_info_agent = CompanyInfoRetriever()"
   ]
  },
  {
   "cell_type": "code",
   "execution_count": 10,
   "id": "6f1cc2cb",
   "metadata": {},
   "outputs": [
    {
     "name": "stdout",
     "output_type": "stream",
     "text": [
      "Tôi sẽ kiểm tra và cập nhật lại các trường thông tin cho công ty CÔNG TY CỔ PHẦN VIMC LOGISTICS. \n",
      "Tool #4: fetch_company_info\n",
      "\n",
      "\n",
      "Vì không có kết quả từ fetch_company_info, tôi sẽ sử dụng get_gg_search để tìm thêm thông tin.\n",
      "Tool #5: get_gg_search\n"
     ]
    },
    {
     "ename": "KeyboardInterrupt",
     "evalue": "",
     "output_type": "error",
     "traceback": [
      "\u001b[1;31m---------------------------------------------------------------------------\u001b[0m",
      "\u001b[1;31mKeyboardInterrupt\u001b[0m                         Traceback (most recent call last)",
      "Cell \u001b[1;32mIn[10], line 1\u001b[0m\n\u001b[1;32m----> 1\u001b[0m \u001b[43mcompany_info_agent\u001b[49m\u001b[38;5;241;43m.\u001b[39;49m\u001b[43mget_basic_info\u001b[49m\u001b[43m(\u001b[49m\u001b[38;5;124;43mf\u001b[39;49m\u001b[38;5;124;43m\"\"\"\u001b[39;49m\n\u001b[0;32m      2\u001b[0m \u001b[38;5;124;43mHãy kiểm tra và cập nhật lại các trường thông tin này giúp tôi.Nếu thông tin không tìm thấy có thể bỏ trống. \u001b[39;49m\n\u001b[0;32m      3\u001b[0m \u001b[38;5;124;43mChỉ cần cập nhật lại không cần nói rõ thông tin nào giữ, thông tin nào thay đổi.\u001b[39;49m\n\u001b[0;32m      4\u001b[0m \u001b[38;5;132;43;01m{\u001b[39;49;00m\u001b[38;5;28;43mstr\u001b[39;49m\u001b[43m(\u001b[49m\u001b[43moutput\u001b[49m\u001b[38;5;241;43m.\u001b[39;49m\u001b[43mcompanyInfo\u001b[49m\u001b[43m)\u001b[49m\u001b[38;5;132;43;01m}\u001b[39;49;00m\n\u001b[0;32m      5\u001b[0m \u001b[38;5;124;43m                                  \u001b[39;49m\u001b[38;5;124;43m\"\"\"\u001b[39;49m\u001b[43m)\u001b[49m\n",
      "File \u001b[1;32mf:\\aws\\VPBank_2025\\multi-agent\\crawl_web\\basic_info.py:86\u001b[0m, in \u001b[0;36mCompanyInfoRetriever.get_basic_info\u001b[1;34m(self, query)\u001b[0m\n\u001b[0;32m     85\u001b[0m \u001b[38;5;28;01mdef\u001b[39;00m\u001b[38;5;250m \u001b[39m\u001b[38;5;21mget_basic_info\u001b[39m(\u001b[38;5;28mself\u001b[39m, query: \u001b[38;5;28mstr\u001b[39m) \u001b[38;5;241m-\u001b[39m\u001b[38;5;241m>\u001b[39m \u001b[38;5;28mstr\u001b[39m:\n\u001b[1;32m---> 86\u001b[0m     results \u001b[38;5;241m=\u001b[39m \u001b[38;5;28;43mself\u001b[39;49m\u001b[38;5;241;43m.\u001b[39;49m\u001b[43magent\u001b[49m\u001b[43m(\u001b[49m\u001b[43mquery\u001b[49m\u001b[43m)\u001b[49m\n\u001b[0;32m     87\u001b[0m     output \u001b[38;5;241m=\u001b[39m results\u001b[38;5;241m.\u001b[39mmessage\u001b[38;5;241m.\u001b[39mget(\u001b[38;5;124m'\u001b[39m\u001b[38;5;124mcontent\u001b[39m\u001b[38;5;124m'\u001b[39m, [])[\u001b[38;5;241m0\u001b[39m]\u001b[38;5;241m.\u001b[39mget(\u001b[38;5;124m'\u001b[39m\u001b[38;5;124mtext\u001b[39m\u001b[38;5;124m'\u001b[39m, \u001b[38;5;124m'\u001b[39m\u001b[38;5;124m'\u001b[39m)\n\u001b[0;32m     88\u001b[0m     \u001b[38;5;28;01mreturn\u001b[39;00m output\n",
      "File \u001b[1;32mc:\\Users\\Song\\anaconda3\\envs\\aws\\lib\\site-packages\\strands\\agent\\agent.py:391\u001b[0m, in \u001b[0;36mAgent.__call__\u001b[1;34m(self, prompt, **kwargs)\u001b[0m\n\u001b[0;32m    387\u001b[0m \u001b[38;5;28mself\u001b[39m\u001b[38;5;241m.\u001b[39m_start_agent_trace_span(prompt)\n\u001b[0;32m    389\u001b[0m \u001b[38;5;28;01mtry\u001b[39;00m:\n\u001b[0;32m    390\u001b[0m     \u001b[38;5;66;03m# Run the event loop and get the result\u001b[39;00m\n\u001b[1;32m--> 391\u001b[0m     result \u001b[38;5;241m=\u001b[39m \u001b[38;5;28;43mself\u001b[39;49m\u001b[38;5;241;43m.\u001b[39;49m\u001b[43m_run_loop\u001b[49m\u001b[43m(\u001b[49m\u001b[43mprompt\u001b[49m\u001b[43m,\u001b[49m\u001b[43m \u001b[49m\u001b[43mkwargs\u001b[49m\u001b[43m)\u001b[49m\n\u001b[0;32m    393\u001b[0m     \u001b[38;5;28mself\u001b[39m\u001b[38;5;241m.\u001b[39m_end_agent_trace_span(response\u001b[38;5;241m=\u001b[39mresult)\n\u001b[0;32m    395\u001b[0m     \u001b[38;5;28;01mreturn\u001b[39;00m result\n",
      "File \u001b[1;32mc:\\Users\\Song\\anaconda3\\envs\\aws\\lib\\site-packages\\strands\\agent\\agent.py:521\u001b[0m, in \u001b[0;36mAgent._run_loop\u001b[1;34m(self, prompt, kwargs, supplementary_callback_handler)\u001b[0m\n\u001b[0;32m    518\u001b[0m     \u001b[38;5;28mself\u001b[39m\u001b[38;5;241m.\u001b[39mmessages\u001b[38;5;241m.\u001b[39mappend(new_message)\n\u001b[0;32m    520\u001b[0m     \u001b[38;5;66;03m# Execute the event loop cycle with retry logic for context limits\u001b[39;00m\n\u001b[1;32m--> 521\u001b[0m     \u001b[38;5;28;01mreturn\u001b[39;00m \u001b[38;5;28;43mself\u001b[39;49m\u001b[38;5;241;43m.\u001b[39;49m\u001b[43m_execute_event_loop_cycle\u001b[49m\u001b[43m(\u001b[49m\u001b[43minvocation_callback_handler\u001b[49m\u001b[43m,\u001b[49m\u001b[43m \u001b[49m\u001b[43mkwargs\u001b[49m\u001b[43m)\u001b[49m\n\u001b[0;32m    523\u001b[0m \u001b[38;5;28;01mfinally\u001b[39;00m:\n\u001b[0;32m    524\u001b[0m     \u001b[38;5;28mself\u001b[39m\u001b[38;5;241m.\u001b[39mconversation_manager\u001b[38;5;241m.\u001b[39mapply_management(\u001b[38;5;28mself\u001b[39m)\n",
      "File \u001b[1;32mc:\\Users\\Song\\anaconda3\\envs\\aws\\lib\\site-packages\\strands\\agent\\agent.py:549\u001b[0m, in \u001b[0;36mAgent._execute_event_loop_cycle\u001b[1;34m(self, callback_handler, kwargs)\u001b[0m\n\u001b[0;32m    545\u001b[0m kwargs\u001b[38;5;241m.\u001b[39mpop(\u001b[38;5;124m\"\u001b[39m\u001b[38;5;124magent\u001b[39m\u001b[38;5;124m\"\u001b[39m, \u001b[38;5;28;01mNone\u001b[39;00m)  \u001b[38;5;66;03m# Remove agent to avoid conflicts\u001b[39;00m\n\u001b[0;32m    547\u001b[0m \u001b[38;5;28;01mtry\u001b[39;00m:\n\u001b[0;32m    548\u001b[0m     \u001b[38;5;66;03m# Execute the main event loop cycle\u001b[39;00m\n\u001b[1;32m--> 549\u001b[0m     stop_reason, message, metrics, state \u001b[38;5;241m=\u001b[39m event_loop_cycle(\n\u001b[0;32m    550\u001b[0m         model\u001b[38;5;241m=\u001b[39mmodel,\n\u001b[0;32m    551\u001b[0m         system_prompt\u001b[38;5;241m=\u001b[39msystem_prompt,\n\u001b[0;32m    552\u001b[0m         messages\u001b[38;5;241m=\u001b[39mmessages,  \u001b[38;5;66;03m# will be modified by event_loop_cycle\u001b[39;00m\n\u001b[0;32m    553\u001b[0m         tool_config\u001b[38;5;241m=\u001b[39mtool_config,\n\u001b[0;32m    554\u001b[0m         callback_handler\u001b[38;5;241m=\u001b[39mcallback_handler_override,\n\u001b[0;32m    555\u001b[0m         tool_handler\u001b[38;5;241m=\u001b[39mtool_handler,\n\u001b[0;32m    556\u001b[0m         tool_execution_handler\u001b[38;5;241m=\u001b[39mtool_execution_handler,\n\u001b[0;32m    557\u001b[0m         event_loop_metrics\u001b[38;5;241m=\u001b[39mevent_loop_metrics,\n\u001b[0;32m    558\u001b[0m         agent\u001b[38;5;241m=\u001b[39m\u001b[38;5;28mself\u001b[39m,\n\u001b[0;32m    559\u001b[0m         event_loop_parent_span\u001b[38;5;241m=\u001b[39m\u001b[38;5;28mself\u001b[39m\u001b[38;5;241m.\u001b[39mtrace_span,\n\u001b[0;32m    560\u001b[0m         \u001b[38;5;241m*\u001b[39m\u001b[38;5;241m*\u001b[39mkwargs,\n\u001b[0;32m    561\u001b[0m     )\n\u001b[0;32m    563\u001b[0m     \u001b[38;5;28;01mreturn\u001b[39;00m AgentResult(stop_reason, message, metrics, state)\n\u001b[0;32m    565\u001b[0m \u001b[38;5;28;01mexcept\u001b[39;00m ContextWindowOverflowException \u001b[38;5;28;01mas\u001b[39;00m e:\n\u001b[0;32m    566\u001b[0m     \u001b[38;5;66;03m# Try reducing the context size and retrying\u001b[39;00m\n",
      "File \u001b[1;32mc:\\Users\\Song\\anaconda3\\envs\\aws\\lib\\site-packages\\strands\\event_loop\\event_loop.py:201\u001b[0m, in \u001b[0;36mevent_loop_cycle\u001b[1;34m(model, system_prompt, messages, tool_config, callback_handler, tool_handler, tool_execution_handler, **kwargs)\u001b[0m\n\u001b[0;32m    195\u001b[0m         \u001b[38;5;28;01mraise\u001b[39;00m EventLoopException(\n\u001b[0;32m    196\u001b[0m             \u001b[38;5;167;01mException\u001b[39;00m(\u001b[38;5;124m\"\u001b[39m\u001b[38;5;124mModel requested tool use but no tool config provided\u001b[39m\u001b[38;5;124m\"\u001b[39m),\n\u001b[0;32m    197\u001b[0m             kwargs[\u001b[38;5;124m\"\u001b[39m\u001b[38;5;124mrequest_state\u001b[39m\u001b[38;5;124m\"\u001b[39m],\n\u001b[0;32m    198\u001b[0m         )\n\u001b[0;32m    200\u001b[0m     \u001b[38;5;66;03m# Handle tool execution\u001b[39;00m\n\u001b[1;32m--> 201\u001b[0m     \u001b[38;5;28;01mreturn\u001b[39;00m \u001b[43m_handle_tool_execution\u001b[49m\u001b[43m(\u001b[49m\n\u001b[0;32m    202\u001b[0m \u001b[43m        \u001b[49m\u001b[43mstop_reason\u001b[49m\u001b[43m,\u001b[49m\n\u001b[0;32m    203\u001b[0m \u001b[43m        \u001b[49m\u001b[43mmessage\u001b[49m\u001b[43m,\u001b[49m\n\u001b[0;32m    204\u001b[0m \u001b[43m        \u001b[49m\u001b[43mmodel\u001b[49m\u001b[43m,\u001b[49m\n\u001b[0;32m    205\u001b[0m \u001b[43m        \u001b[49m\u001b[43msystem_prompt\u001b[49m\u001b[43m,\u001b[49m\n\u001b[0;32m    206\u001b[0m \u001b[43m        \u001b[49m\u001b[43mmessages\u001b[49m\u001b[43m,\u001b[49m\n\u001b[0;32m    207\u001b[0m \u001b[43m        \u001b[49m\u001b[43mtool_config\u001b[49m\u001b[43m,\u001b[49m\n\u001b[0;32m    208\u001b[0m \u001b[43m        \u001b[49m\u001b[43mtool_handler\u001b[49m\u001b[43m,\u001b[49m\n\u001b[0;32m    209\u001b[0m \u001b[43m        \u001b[49m\u001b[43mcallback_handler\u001b[49m\u001b[43m,\u001b[49m\n\u001b[0;32m    210\u001b[0m \u001b[43m        \u001b[49m\u001b[43mtool_execution_handler\u001b[49m\u001b[43m,\u001b[49m\n\u001b[0;32m    211\u001b[0m \u001b[43m        \u001b[49m\u001b[43mevent_loop_metrics\u001b[49m\u001b[43m,\u001b[49m\n\u001b[0;32m    212\u001b[0m \u001b[43m        \u001b[49m\u001b[43mcycle_trace\u001b[49m\u001b[43m,\u001b[49m\n\u001b[0;32m    213\u001b[0m \u001b[43m        \u001b[49m\u001b[43mcycle_span\u001b[49m\u001b[43m,\u001b[49m\n\u001b[0;32m    214\u001b[0m \u001b[43m        \u001b[49m\u001b[43mcycle_start_time\u001b[49m\u001b[43m,\u001b[49m\n\u001b[0;32m    215\u001b[0m \u001b[43m        \u001b[49m\u001b[43mkwargs\u001b[49m\u001b[43m,\u001b[49m\n\u001b[0;32m    216\u001b[0m \u001b[43m    \u001b[49m\u001b[43m)\u001b[49m\n\u001b[0;32m    218\u001b[0m \u001b[38;5;66;03m# End the cycle and return results\u001b[39;00m\n\u001b[0;32m    219\u001b[0m event_loop_metrics\u001b[38;5;241m.\u001b[39mend_cycle(cycle_start_time, cycle_trace, attributes)\n",
      "File \u001b[1;32mc:\\Users\\Song\\anaconda3\\envs\\aws\\lib\\site-packages\\strands\\event_loop\\event_loop.py:394\u001b[0m, in \u001b[0;36m_handle_tool_execution\u001b[1;34m(stop_reason, message, model, system_prompt, messages, tool_config, tool_handler, callback_handler, tool_execution_handler, event_loop_metrics, cycle_trace, cycle_span, cycle_start_time, kwargs)\u001b[0m\n\u001b[0;32m    391\u001b[0m     event_loop_metrics\u001b[38;5;241m.\u001b[39mend_cycle(cycle_start_time, cycle_trace)\n\u001b[0;32m    392\u001b[0m     \u001b[38;5;28;01mreturn\u001b[39;00m stop_reason, message, event_loop_metrics, kwargs[\u001b[38;5;124m\"\u001b[39m\u001b[38;5;124mrequest_state\u001b[39m\u001b[38;5;124m\"\u001b[39m]\n\u001b[1;32m--> 394\u001b[0m \u001b[38;5;28;01mreturn\u001b[39;00m recurse_event_loop(\n\u001b[0;32m    395\u001b[0m     model\u001b[38;5;241m=\u001b[39mmodel,\n\u001b[0;32m    396\u001b[0m     system_prompt\u001b[38;5;241m=\u001b[39msystem_prompt,\n\u001b[0;32m    397\u001b[0m     messages\u001b[38;5;241m=\u001b[39mmessages,\n\u001b[0;32m    398\u001b[0m     tool_config\u001b[38;5;241m=\u001b[39mtool_config,\n\u001b[0;32m    399\u001b[0m     callback_handler\u001b[38;5;241m=\u001b[39mcallback_handler,\n\u001b[0;32m    400\u001b[0m     tool_handler\u001b[38;5;241m=\u001b[39mtool_handler,\n\u001b[0;32m    401\u001b[0m     \u001b[38;5;241m*\u001b[39m\u001b[38;5;241m*\u001b[39mkwargs,\n\u001b[0;32m    402\u001b[0m )\n",
      "File \u001b[1;32mc:\\Users\\Song\\anaconda3\\envs\\aws\\lib\\site-packages\\strands\\event_loop\\event_loop.py:290\u001b[0m, in \u001b[0;36mrecurse_event_loop\u001b[1;34m(**kwargs)\u001b[0m\n\u001b[0;32m    282\u001b[0m callback_handler(start\u001b[38;5;241m=\u001b[39m\u001b[38;5;28;01mTrue\u001b[39;00m)\n\u001b[0;32m    284\u001b[0m \u001b[38;5;66;03m# Make recursive call\u001b[39;00m\n\u001b[0;32m    285\u001b[0m (\n\u001b[0;32m    286\u001b[0m     recursive_stop_reason,\n\u001b[0;32m    287\u001b[0m     recursive_message,\n\u001b[0;32m    288\u001b[0m     recursive_event_loop_metrics,\n\u001b[0;32m    289\u001b[0m     recursive_request_state,\n\u001b[1;32m--> 290\u001b[0m ) \u001b[38;5;241m=\u001b[39m event_loop_cycle(\u001b[38;5;241m*\u001b[39m\u001b[38;5;241m*\u001b[39mkwargs)\n\u001b[0;32m    292\u001b[0m recursive_trace\u001b[38;5;241m.\u001b[39mend()\n\u001b[0;32m    294\u001b[0m \u001b[38;5;28;01mreturn\u001b[39;00m (\n\u001b[0;32m    295\u001b[0m     recursive_stop_reason,\n\u001b[0;32m    296\u001b[0m     recursive_message,\n\u001b[0;32m    297\u001b[0m     recursive_event_loop_metrics,\n\u001b[0;32m    298\u001b[0m     recursive_request_state,\n\u001b[0;32m    299\u001b[0m )\n",
      "File \u001b[1;32mc:\\Users\\Song\\anaconda3\\envs\\aws\\lib\\site-packages\\strands\\event_loop\\event_loop.py:201\u001b[0m, in \u001b[0;36mevent_loop_cycle\u001b[1;34m(model, system_prompt, messages, tool_config, callback_handler, tool_handler, tool_execution_handler, **kwargs)\u001b[0m\n\u001b[0;32m    195\u001b[0m         \u001b[38;5;28;01mraise\u001b[39;00m EventLoopException(\n\u001b[0;32m    196\u001b[0m             \u001b[38;5;167;01mException\u001b[39;00m(\u001b[38;5;124m\"\u001b[39m\u001b[38;5;124mModel requested tool use but no tool config provided\u001b[39m\u001b[38;5;124m\"\u001b[39m),\n\u001b[0;32m    197\u001b[0m             kwargs[\u001b[38;5;124m\"\u001b[39m\u001b[38;5;124mrequest_state\u001b[39m\u001b[38;5;124m\"\u001b[39m],\n\u001b[0;32m    198\u001b[0m         )\n\u001b[0;32m    200\u001b[0m     \u001b[38;5;66;03m# Handle tool execution\u001b[39;00m\n\u001b[1;32m--> 201\u001b[0m     \u001b[38;5;28;01mreturn\u001b[39;00m \u001b[43m_handle_tool_execution\u001b[49m\u001b[43m(\u001b[49m\n\u001b[0;32m    202\u001b[0m \u001b[43m        \u001b[49m\u001b[43mstop_reason\u001b[49m\u001b[43m,\u001b[49m\n\u001b[0;32m    203\u001b[0m \u001b[43m        \u001b[49m\u001b[43mmessage\u001b[49m\u001b[43m,\u001b[49m\n\u001b[0;32m    204\u001b[0m \u001b[43m        \u001b[49m\u001b[43mmodel\u001b[49m\u001b[43m,\u001b[49m\n\u001b[0;32m    205\u001b[0m \u001b[43m        \u001b[49m\u001b[43msystem_prompt\u001b[49m\u001b[43m,\u001b[49m\n\u001b[0;32m    206\u001b[0m \u001b[43m        \u001b[49m\u001b[43mmessages\u001b[49m\u001b[43m,\u001b[49m\n\u001b[0;32m    207\u001b[0m \u001b[43m        \u001b[49m\u001b[43mtool_config\u001b[49m\u001b[43m,\u001b[49m\n\u001b[0;32m    208\u001b[0m \u001b[43m        \u001b[49m\u001b[43mtool_handler\u001b[49m\u001b[43m,\u001b[49m\n\u001b[0;32m    209\u001b[0m \u001b[43m        \u001b[49m\u001b[43mcallback_handler\u001b[49m\u001b[43m,\u001b[49m\n\u001b[0;32m    210\u001b[0m \u001b[43m        \u001b[49m\u001b[43mtool_execution_handler\u001b[49m\u001b[43m,\u001b[49m\n\u001b[0;32m    211\u001b[0m \u001b[43m        \u001b[49m\u001b[43mevent_loop_metrics\u001b[49m\u001b[43m,\u001b[49m\n\u001b[0;32m    212\u001b[0m \u001b[43m        \u001b[49m\u001b[43mcycle_trace\u001b[49m\u001b[43m,\u001b[49m\n\u001b[0;32m    213\u001b[0m \u001b[43m        \u001b[49m\u001b[43mcycle_span\u001b[49m\u001b[43m,\u001b[49m\n\u001b[0;32m    214\u001b[0m \u001b[43m        \u001b[49m\u001b[43mcycle_start_time\u001b[49m\u001b[43m,\u001b[49m\n\u001b[0;32m    215\u001b[0m \u001b[43m        \u001b[49m\u001b[43mkwargs\u001b[49m\u001b[43m,\u001b[49m\n\u001b[0;32m    216\u001b[0m \u001b[43m    \u001b[49m\u001b[43m)\u001b[49m\n\u001b[0;32m    218\u001b[0m \u001b[38;5;66;03m# End the cycle and return results\u001b[39;00m\n\u001b[0;32m    219\u001b[0m event_loop_metrics\u001b[38;5;241m.\u001b[39mend_cycle(cycle_start_time, cycle_trace, attributes)\n",
      "File \u001b[1;32mc:\\Users\\Song\\anaconda3\\envs\\aws\\lib\\site-packages\\strands\\event_loop\\event_loop.py:394\u001b[0m, in \u001b[0;36m_handle_tool_execution\u001b[1;34m(stop_reason, message, model, system_prompt, messages, tool_config, tool_handler, callback_handler, tool_execution_handler, event_loop_metrics, cycle_trace, cycle_span, cycle_start_time, kwargs)\u001b[0m\n\u001b[0;32m    391\u001b[0m     event_loop_metrics\u001b[38;5;241m.\u001b[39mend_cycle(cycle_start_time, cycle_trace)\n\u001b[0;32m    392\u001b[0m     \u001b[38;5;28;01mreturn\u001b[39;00m stop_reason, message, event_loop_metrics, kwargs[\u001b[38;5;124m\"\u001b[39m\u001b[38;5;124mrequest_state\u001b[39m\u001b[38;5;124m\"\u001b[39m]\n\u001b[1;32m--> 394\u001b[0m \u001b[38;5;28;01mreturn\u001b[39;00m recurse_event_loop(\n\u001b[0;32m    395\u001b[0m     model\u001b[38;5;241m=\u001b[39mmodel,\n\u001b[0;32m    396\u001b[0m     system_prompt\u001b[38;5;241m=\u001b[39msystem_prompt,\n\u001b[0;32m    397\u001b[0m     messages\u001b[38;5;241m=\u001b[39mmessages,\n\u001b[0;32m    398\u001b[0m     tool_config\u001b[38;5;241m=\u001b[39mtool_config,\n\u001b[0;32m    399\u001b[0m     callback_handler\u001b[38;5;241m=\u001b[39mcallback_handler,\n\u001b[0;32m    400\u001b[0m     tool_handler\u001b[38;5;241m=\u001b[39mtool_handler,\n\u001b[0;32m    401\u001b[0m     \u001b[38;5;241m*\u001b[39m\u001b[38;5;241m*\u001b[39mkwargs,\n\u001b[0;32m    402\u001b[0m )\n",
      "File \u001b[1;32mc:\\Users\\Song\\anaconda3\\envs\\aws\\lib\\site-packages\\strands\\event_loop\\event_loop.py:290\u001b[0m, in \u001b[0;36mrecurse_event_loop\u001b[1;34m(**kwargs)\u001b[0m\n\u001b[0;32m    282\u001b[0m callback_handler(start\u001b[38;5;241m=\u001b[39m\u001b[38;5;28;01mTrue\u001b[39;00m)\n\u001b[0;32m    284\u001b[0m \u001b[38;5;66;03m# Make recursive call\u001b[39;00m\n\u001b[0;32m    285\u001b[0m (\n\u001b[0;32m    286\u001b[0m     recursive_stop_reason,\n\u001b[0;32m    287\u001b[0m     recursive_message,\n\u001b[0;32m    288\u001b[0m     recursive_event_loop_metrics,\n\u001b[0;32m    289\u001b[0m     recursive_request_state,\n\u001b[1;32m--> 290\u001b[0m ) \u001b[38;5;241m=\u001b[39m event_loop_cycle(\u001b[38;5;241m*\u001b[39m\u001b[38;5;241m*\u001b[39mkwargs)\n\u001b[0;32m    292\u001b[0m recursive_trace\u001b[38;5;241m.\u001b[39mend()\n\u001b[0;32m    294\u001b[0m \u001b[38;5;28;01mreturn\u001b[39;00m (\n\u001b[0;32m    295\u001b[0m     recursive_stop_reason,\n\u001b[0;32m    296\u001b[0m     recursive_message,\n\u001b[0;32m    297\u001b[0m     recursive_event_loop_metrics,\n\u001b[0;32m    298\u001b[0m     recursive_request_state,\n\u001b[0;32m    299\u001b[0m )\n",
      "File \u001b[1;32mc:\\Users\\Song\\anaconda3\\envs\\aws\\lib\\site-packages\\strands\\event_loop\\event_loop.py:138\u001b[0m, in \u001b[0;36mevent_loop_cycle\u001b[1;34m(model, system_prompt, messages, tool_config, callback_handler, tool_handler, tool_execution_handler, **kwargs)\u001b[0m\n\u001b[0;32m    126\u001b[0m model_invoke_span \u001b[38;5;241m=\u001b[39m tracer\u001b[38;5;241m.\u001b[39mstart_model_invoke_span(\n\u001b[0;32m    127\u001b[0m     parent_span\u001b[38;5;241m=\u001b[39mcycle_span,\n\u001b[0;32m    128\u001b[0m     messages\u001b[38;5;241m=\u001b[39mmessages,\n\u001b[0;32m    129\u001b[0m     model_id\u001b[38;5;241m=\u001b[39mmodel_id,\n\u001b[0;32m    130\u001b[0m )\n\u001b[0;32m    132\u001b[0m \u001b[38;5;28;01mtry\u001b[39;00m:\n\u001b[0;32m    133\u001b[0m     \u001b[38;5;66;03m# TODO: As part of the migration to async-iterator, we will continue moving callback_handler calls up the\u001b[39;00m\n\u001b[0;32m    134\u001b[0m     \u001b[38;5;66;03m#       call stack. At this point, we converted all events that were previously passed to the handler in\u001b[39;00m\n\u001b[0;32m    135\u001b[0m     \u001b[38;5;66;03m#       `stream_messages` into yielded events that now have the \"callback\" key. To maintain backwards\u001b[39;00m\n\u001b[0;32m    136\u001b[0m     \u001b[38;5;66;03m#       compatability, we need to combine the event with kwargs before passing to the handler. This we will\u001b[39;00m\n\u001b[0;32m    137\u001b[0m     \u001b[38;5;66;03m#       revisit when migrating to strongly typed events.\u001b[39;00m\n\u001b[1;32m--> 138\u001b[0m     \u001b[38;5;28;01mfor\u001b[39;00m event \u001b[38;5;129;01min\u001b[39;00m stream_messages(model, system_prompt, messages, tool_config):\n\u001b[0;32m    139\u001b[0m         \u001b[38;5;28;01mif\u001b[39;00m \u001b[38;5;124m\"\u001b[39m\u001b[38;5;124mcallback\u001b[39m\u001b[38;5;124m\"\u001b[39m \u001b[38;5;129;01min\u001b[39;00m event:\n\u001b[0;32m    140\u001b[0m             inputs \u001b[38;5;241m=\u001b[39m {\u001b[38;5;241m*\u001b[39m\u001b[38;5;241m*\u001b[39mevent[\u001b[38;5;124m\"\u001b[39m\u001b[38;5;124mcallback\u001b[39m\u001b[38;5;124m\"\u001b[39m], \u001b[38;5;241m*\u001b[39m\u001b[38;5;241m*\u001b[39m(kwargs \u001b[38;5;28;01mif\u001b[39;00m \u001b[38;5;124m\"\u001b[39m\u001b[38;5;124mdelta\u001b[39m\u001b[38;5;124m\"\u001b[39m \u001b[38;5;129;01min\u001b[39;00m event[\u001b[38;5;124m\"\u001b[39m\u001b[38;5;124mcallback\u001b[39m\u001b[38;5;124m\"\u001b[39m] \u001b[38;5;28;01melse\u001b[39;00m {})}\n",
      "File \u001b[1;32mc:\\Users\\Song\\anaconda3\\envs\\aws\\lib\\site-packages\\strands\\event_loop\\streaming.py:326\u001b[0m, in \u001b[0;36mstream_messages\u001b[1;34m(model, system_prompt, messages, tool_config)\u001b[0m\n\u001b[0;32m    323\u001b[0m tool_specs \u001b[38;5;241m=\u001b[39m [tool[\u001b[38;5;124m\"\u001b[39m\u001b[38;5;124mtoolSpec\u001b[39m\u001b[38;5;124m\"\u001b[39m] \u001b[38;5;28;01mfor\u001b[39;00m tool \u001b[38;5;129;01min\u001b[39;00m tool_config\u001b[38;5;241m.\u001b[39mget(\u001b[38;5;124m\"\u001b[39m\u001b[38;5;124mtools\u001b[39m\u001b[38;5;124m\"\u001b[39m, [])] \u001b[38;5;129;01mor\u001b[39;00m \u001b[38;5;28;01mNone\u001b[39;00m \u001b[38;5;28;01mif\u001b[39;00m tool_config \u001b[38;5;28;01melse\u001b[39;00m \u001b[38;5;28;01mNone\u001b[39;00m\n\u001b[0;32m    325\u001b[0m chunks \u001b[38;5;241m=\u001b[39m model\u001b[38;5;241m.\u001b[39mconverse(messages, tool_specs, system_prompt)\n\u001b[1;32m--> 326\u001b[0m \u001b[38;5;28;01myield from\u001b[39;00m process_stream(chunks, messages)\n",
      "File \u001b[1;32mc:\\Users\\Song\\anaconda3\\envs\\aws\\lib\\site-packages\\strands\\event_loop\\streaming.py:281\u001b[0m, in \u001b[0;36mprocess_stream\u001b[1;34m(chunks, messages)\u001b[0m\n\u001b[0;32m    278\u001b[0m usage: Usage \u001b[38;5;241m=\u001b[39m Usage(inputTokens\u001b[38;5;241m=\u001b[39m\u001b[38;5;241m0\u001b[39m, outputTokens\u001b[38;5;241m=\u001b[39m\u001b[38;5;241m0\u001b[39m, totalTokens\u001b[38;5;241m=\u001b[39m\u001b[38;5;241m0\u001b[39m)\n\u001b[0;32m    279\u001b[0m metrics: Metrics \u001b[38;5;241m=\u001b[39m Metrics(latencyMs\u001b[38;5;241m=\u001b[39m\u001b[38;5;241m0\u001b[39m)\n\u001b[1;32m--> 281\u001b[0m \u001b[38;5;28;01mfor\u001b[39;00m chunk \u001b[38;5;129;01min\u001b[39;00m chunks:\n\u001b[0;32m    282\u001b[0m     \u001b[38;5;28;01myield\u001b[39;00m {\u001b[38;5;124m\"\u001b[39m\u001b[38;5;124mcallback\u001b[39m\u001b[38;5;124m\"\u001b[39m: {\u001b[38;5;124m\"\u001b[39m\u001b[38;5;124mevent\u001b[39m\u001b[38;5;124m\"\u001b[39m: chunk}}\n\u001b[0;32m    284\u001b[0m     \u001b[38;5;28;01mif\u001b[39;00m \u001b[38;5;124m\"\u001b[39m\u001b[38;5;124mmessageStart\u001b[39m\u001b[38;5;124m\"\u001b[39m \u001b[38;5;129;01min\u001b[39;00m chunk:\n",
      "File \u001b[1;32mc:\\Users\\Song\\anaconda3\\envs\\aws\\lib\\site-packages\\strands\\types\\models\\model.py:139\u001b[0m, in \u001b[0;36mModel.converse\u001b[1;34m(self, messages, tool_specs, system_prompt)\u001b[0m\n\u001b[0;32m    136\u001b[0m response \u001b[38;5;241m=\u001b[39m \u001b[38;5;28mself\u001b[39m\u001b[38;5;241m.\u001b[39mstream(request)\n\u001b[0;32m    138\u001b[0m logger\u001b[38;5;241m.\u001b[39mdebug(\u001b[38;5;124m\"\u001b[39m\u001b[38;5;124mgot response from model\u001b[39m\u001b[38;5;124m\"\u001b[39m)\n\u001b[1;32m--> 139\u001b[0m \u001b[38;5;28;01mfor\u001b[39;00m event \u001b[38;5;129;01min\u001b[39;00m response:\n\u001b[0;32m    140\u001b[0m     \u001b[38;5;28;01myield\u001b[39;00m \u001b[38;5;28mself\u001b[39m\u001b[38;5;241m.\u001b[39mformat_chunk(event)\n\u001b[0;32m    142\u001b[0m logger\u001b[38;5;241m.\u001b[39mdebug(\u001b[38;5;124m\"\u001b[39m\u001b[38;5;124mfinished streaming response from model\u001b[39m\u001b[38;5;124m\"\u001b[39m)\n",
      "File \u001b[1;32mc:\\Users\\Song\\anaconda3\\envs\\aws\\lib\\site-packages\\strands\\models\\bedrock.py:345\u001b[0m, in \u001b[0;36mBedrockModel.stream\u001b[1;34m(self, request)\u001b[0m\n\u001b[0;32m    342\u001b[0m \u001b[38;5;28;01mtry\u001b[39;00m:\n\u001b[0;32m    343\u001b[0m     \u001b[38;5;28;01mif\u001b[39;00m streaming:\n\u001b[0;32m    344\u001b[0m         \u001b[38;5;66;03m# Streaming implementation\u001b[39;00m\n\u001b[1;32m--> 345\u001b[0m         response \u001b[38;5;241m=\u001b[39m \u001b[38;5;28mself\u001b[39m\u001b[38;5;241m.\u001b[39mclient\u001b[38;5;241m.\u001b[39mconverse_stream(\u001b[38;5;241m*\u001b[39m\u001b[38;5;241m*\u001b[39mrequest)\n\u001b[0;32m    346\u001b[0m         \u001b[38;5;28;01mfor\u001b[39;00m chunk \u001b[38;5;129;01min\u001b[39;00m response[\u001b[38;5;124m\"\u001b[39m\u001b[38;5;124mstream\u001b[39m\u001b[38;5;124m\"\u001b[39m]:\n\u001b[0;32m    347\u001b[0m             \u001b[38;5;28;01mif\u001b[39;00m (\n\u001b[0;32m    348\u001b[0m                 \u001b[38;5;124m\"\u001b[39m\u001b[38;5;124mmetadata\u001b[39m\u001b[38;5;124m\"\u001b[39m \u001b[38;5;129;01min\u001b[39;00m chunk\n\u001b[0;32m    349\u001b[0m                 \u001b[38;5;129;01mand\u001b[39;00m \u001b[38;5;124m\"\u001b[39m\u001b[38;5;124mtrace\u001b[39m\u001b[38;5;124m\"\u001b[39m \u001b[38;5;129;01min\u001b[39;00m chunk[\u001b[38;5;124m\"\u001b[39m\u001b[38;5;124mmetadata\u001b[39m\u001b[38;5;124m\"\u001b[39m]\n\u001b[0;32m    350\u001b[0m                 \u001b[38;5;129;01mand\u001b[39;00m \u001b[38;5;124m\"\u001b[39m\u001b[38;5;124mguardrail\u001b[39m\u001b[38;5;124m\"\u001b[39m \u001b[38;5;129;01min\u001b[39;00m chunk[\u001b[38;5;124m\"\u001b[39m\u001b[38;5;124mmetadata\u001b[39m\u001b[38;5;124m\"\u001b[39m][\u001b[38;5;124m\"\u001b[39m\u001b[38;5;124mtrace\u001b[39m\u001b[38;5;124m\"\u001b[39m]\n\u001b[0;32m    351\u001b[0m             ):\n",
      "File \u001b[1;32mc:\\Users\\Song\\anaconda3\\envs\\aws\\lib\\site-packages\\botocore\\client.py:595\u001b[0m, in \u001b[0;36mClientCreator._create_api_method.<locals>._api_call\u001b[1;34m(self, *args, **kwargs)\u001b[0m\n\u001b[0;32m    591\u001b[0m     \u001b[38;5;28;01mraise\u001b[39;00m \u001b[38;5;167;01mTypeError\u001b[39;00m(\n\u001b[0;32m    592\u001b[0m         \u001b[38;5;124mf\u001b[39m\u001b[38;5;124m\"\u001b[39m\u001b[38;5;132;01m{\u001b[39;00mpy_operation_name\u001b[38;5;132;01m}\u001b[39;00m\u001b[38;5;124m() only accepts keyword arguments.\u001b[39m\u001b[38;5;124m\"\u001b[39m\n\u001b[0;32m    593\u001b[0m     )\n\u001b[0;32m    594\u001b[0m \u001b[38;5;66;03m# The \"self\" in this scope is referring to the BaseClient.\u001b[39;00m\n\u001b[1;32m--> 595\u001b[0m \u001b[38;5;28;01mreturn\u001b[39;00m \u001b[38;5;28;43mself\u001b[39;49m\u001b[38;5;241;43m.\u001b[39;49m\u001b[43m_make_api_call\u001b[49m\u001b[43m(\u001b[49m\u001b[43moperation_name\u001b[49m\u001b[43m,\u001b[49m\u001b[43m \u001b[49m\u001b[43mkwargs\u001b[49m\u001b[43m)\u001b[49m\n",
      "File \u001b[1;32mc:\\Users\\Song\\anaconda3\\envs\\aws\\lib\\site-packages\\botocore\\context.py:123\u001b[0m, in \u001b[0;36mwith_current_context.<locals>.decorator.<locals>.wrapper\u001b[1;34m(*args, **kwargs)\u001b[0m\n\u001b[0;32m    121\u001b[0m \u001b[38;5;28;01mif\u001b[39;00m hook:\n\u001b[0;32m    122\u001b[0m     hook()\n\u001b[1;32m--> 123\u001b[0m \u001b[38;5;28;01mreturn\u001b[39;00m func(\u001b[38;5;241m*\u001b[39margs, \u001b[38;5;241m*\u001b[39m\u001b[38;5;241m*\u001b[39mkwargs)\n",
      "File \u001b[1;32mc:\\Users\\Song\\anaconda3\\envs\\aws\\lib\\site-packages\\botocore\\client.py:1040\u001b[0m, in \u001b[0;36mBaseClient._make_api_call\u001b[1;34m(self, operation_name, api_params)\u001b[0m\n\u001b[0;32m   1036\u001b[0m     maybe_compress_request(\n\u001b[0;32m   1037\u001b[0m         \u001b[38;5;28mself\u001b[39m\u001b[38;5;241m.\u001b[39mmeta\u001b[38;5;241m.\u001b[39mconfig, request_dict, operation_model\n\u001b[0;32m   1038\u001b[0m     )\n\u001b[0;32m   1039\u001b[0m     apply_request_checksum(request_dict)\n\u001b[1;32m-> 1040\u001b[0m     http, parsed_response \u001b[38;5;241m=\u001b[39m \u001b[38;5;28;43mself\u001b[39;49m\u001b[38;5;241;43m.\u001b[39;49m\u001b[43m_make_request\u001b[49m\u001b[43m(\u001b[49m\n\u001b[0;32m   1041\u001b[0m \u001b[43m        \u001b[49m\u001b[43moperation_model\u001b[49m\u001b[43m,\u001b[49m\u001b[43m \u001b[49m\u001b[43mrequest_dict\u001b[49m\u001b[43m,\u001b[49m\u001b[43m \u001b[49m\u001b[43mrequest_context\u001b[49m\n\u001b[0;32m   1042\u001b[0m \u001b[43m    \u001b[49m\u001b[43m)\u001b[49m\n\u001b[0;32m   1044\u001b[0m \u001b[38;5;28mself\u001b[39m\u001b[38;5;241m.\u001b[39mmeta\u001b[38;5;241m.\u001b[39mevents\u001b[38;5;241m.\u001b[39memit(\n\u001b[0;32m   1045\u001b[0m     \u001b[38;5;124mf\u001b[39m\u001b[38;5;124m'\u001b[39m\u001b[38;5;124mafter-call.\u001b[39m\u001b[38;5;132;01m{\u001b[39;00mservice_id\u001b[38;5;132;01m}\u001b[39;00m\u001b[38;5;124m.\u001b[39m\u001b[38;5;132;01m{\u001b[39;00moperation_name\u001b[38;5;132;01m}\u001b[39;00m\u001b[38;5;124m'\u001b[39m,\n\u001b[0;32m   1046\u001b[0m     http_response\u001b[38;5;241m=\u001b[39mhttp,\n\u001b[1;32m   (...)\u001b[0m\n\u001b[0;32m   1049\u001b[0m     context\u001b[38;5;241m=\u001b[39mrequest_context,\n\u001b[0;32m   1050\u001b[0m )\n\u001b[0;32m   1052\u001b[0m \u001b[38;5;28;01mif\u001b[39;00m http\u001b[38;5;241m.\u001b[39mstatus_code \u001b[38;5;241m>\u001b[39m\u001b[38;5;241m=\u001b[39m \u001b[38;5;241m300\u001b[39m:\n",
      "File \u001b[1;32mc:\\Users\\Song\\anaconda3\\envs\\aws\\lib\\site-packages\\botocore\\client.py:1064\u001b[0m, in \u001b[0;36mBaseClient._make_request\u001b[1;34m(self, operation_model, request_dict, request_context)\u001b[0m\n\u001b[0;32m   1062\u001b[0m \u001b[38;5;28;01mdef\u001b[39;00m\u001b[38;5;250m \u001b[39m\u001b[38;5;21m_make_request\u001b[39m(\u001b[38;5;28mself\u001b[39m, operation_model, request_dict, request_context):\n\u001b[0;32m   1063\u001b[0m     \u001b[38;5;28;01mtry\u001b[39;00m:\n\u001b[1;32m-> 1064\u001b[0m         \u001b[38;5;28;01mreturn\u001b[39;00m \u001b[38;5;28;43mself\u001b[39;49m\u001b[38;5;241;43m.\u001b[39;49m\u001b[43m_endpoint\u001b[49m\u001b[38;5;241;43m.\u001b[39;49m\u001b[43mmake_request\u001b[49m\u001b[43m(\u001b[49m\u001b[43moperation_model\u001b[49m\u001b[43m,\u001b[49m\u001b[43m \u001b[49m\u001b[43mrequest_dict\u001b[49m\u001b[43m)\u001b[49m\n\u001b[0;32m   1065\u001b[0m     \u001b[38;5;28;01mexcept\u001b[39;00m \u001b[38;5;167;01mException\u001b[39;00m \u001b[38;5;28;01mas\u001b[39;00m e:\n\u001b[0;32m   1066\u001b[0m         \u001b[38;5;28mself\u001b[39m\u001b[38;5;241m.\u001b[39mmeta\u001b[38;5;241m.\u001b[39mevents\u001b[38;5;241m.\u001b[39memit(\n\u001b[0;32m   1067\u001b[0m             \u001b[38;5;124mf\u001b[39m\u001b[38;5;124m'\u001b[39m\u001b[38;5;124mafter-call-error.\u001b[39m\u001b[38;5;132;01m{\u001b[39;00m\u001b[38;5;28mself\u001b[39m\u001b[38;5;241m.\u001b[39m_service_model\u001b[38;5;241m.\u001b[39mservice_id\u001b[38;5;241m.\u001b[39mhyphenize()\u001b[38;5;132;01m}\u001b[39;00m\u001b[38;5;124m.\u001b[39m\u001b[38;5;132;01m{\u001b[39;00moperation_model\u001b[38;5;241m.\u001b[39mname\u001b[38;5;132;01m}\u001b[39;00m\u001b[38;5;124m'\u001b[39m,\n\u001b[0;32m   1068\u001b[0m             exception\u001b[38;5;241m=\u001b[39me,\n\u001b[0;32m   1069\u001b[0m             context\u001b[38;5;241m=\u001b[39mrequest_context,\n\u001b[0;32m   1070\u001b[0m         )\n",
      "File \u001b[1;32mc:\\Users\\Song\\anaconda3\\envs\\aws\\lib\\site-packages\\botocore\\endpoint.py:119\u001b[0m, in \u001b[0;36mEndpoint.make_request\u001b[1;34m(self, operation_model, request_dict)\u001b[0m\n\u001b[0;32m    113\u001b[0m \u001b[38;5;28;01mdef\u001b[39;00m\u001b[38;5;250m \u001b[39m\u001b[38;5;21mmake_request\u001b[39m(\u001b[38;5;28mself\u001b[39m, operation_model, request_dict):\n\u001b[0;32m    114\u001b[0m     logger\u001b[38;5;241m.\u001b[39mdebug(\n\u001b[0;32m    115\u001b[0m         \u001b[38;5;124m\"\u001b[39m\u001b[38;5;124mMaking request for \u001b[39m\u001b[38;5;132;01m%s\u001b[39;00m\u001b[38;5;124m with params: \u001b[39m\u001b[38;5;132;01m%s\u001b[39;00m\u001b[38;5;124m\"\u001b[39m,\n\u001b[0;32m    116\u001b[0m         operation_model,\n\u001b[0;32m    117\u001b[0m         request_dict,\n\u001b[0;32m    118\u001b[0m     )\n\u001b[1;32m--> 119\u001b[0m     \u001b[38;5;28;01mreturn\u001b[39;00m \u001b[38;5;28;43mself\u001b[39;49m\u001b[38;5;241;43m.\u001b[39;49m\u001b[43m_send_request\u001b[49m\u001b[43m(\u001b[49m\u001b[43mrequest_dict\u001b[49m\u001b[43m,\u001b[49m\u001b[43m \u001b[49m\u001b[43moperation_model\u001b[49m\u001b[43m)\u001b[49m\n",
      "File \u001b[1;32mc:\\Users\\Song\\anaconda3\\envs\\aws\\lib\\site-packages\\botocore\\endpoint.py:216\u001b[0m, in \u001b[0;36mEndpoint._send_request\u001b[1;34m(self, request_dict, operation_model)\u001b[0m\n\u001b[0;32m    214\u001b[0m     \u001b[38;5;66;03m# Create a new request when retried (including a new signature).\u001b[39;00m\n\u001b[0;32m    215\u001b[0m     request \u001b[38;5;241m=\u001b[39m \u001b[38;5;28mself\u001b[39m\u001b[38;5;241m.\u001b[39mcreate_request(request_dict, operation_model)\n\u001b[1;32m--> 216\u001b[0m     success_response, exception \u001b[38;5;241m=\u001b[39m \u001b[38;5;28;43mself\u001b[39;49m\u001b[38;5;241;43m.\u001b[39;49m\u001b[43m_get_response\u001b[49m\u001b[43m(\u001b[49m\n\u001b[0;32m    217\u001b[0m \u001b[43m        \u001b[49m\u001b[43mrequest\u001b[49m\u001b[43m,\u001b[49m\u001b[43m \u001b[49m\u001b[43moperation_model\u001b[49m\u001b[43m,\u001b[49m\u001b[43m \u001b[49m\u001b[43mcontext\u001b[49m\n\u001b[0;32m    218\u001b[0m \u001b[43m    \u001b[49m\u001b[43m)\u001b[49m\n\u001b[0;32m    219\u001b[0m \u001b[38;5;28;01mif\u001b[39;00m (\n\u001b[0;32m    220\u001b[0m     success_response \u001b[38;5;129;01mis\u001b[39;00m \u001b[38;5;129;01mnot\u001b[39;00m \u001b[38;5;28;01mNone\u001b[39;00m\n\u001b[0;32m    221\u001b[0m     \u001b[38;5;129;01mand\u001b[39;00m \u001b[38;5;124m'\u001b[39m\u001b[38;5;124mResponseMetadata\u001b[39m\u001b[38;5;124m'\u001b[39m \u001b[38;5;129;01min\u001b[39;00m success_response[\u001b[38;5;241m1\u001b[39m]\n\u001b[0;32m    222\u001b[0m ):\n\u001b[0;32m    223\u001b[0m     \u001b[38;5;66;03m# We want to share num retries, not num attempts.\u001b[39;00m\n\u001b[0;32m    224\u001b[0m     total_retries \u001b[38;5;241m=\u001b[39m attempts \u001b[38;5;241m-\u001b[39m \u001b[38;5;241m1\u001b[39m\n",
      "File \u001b[1;32mc:\\Users\\Song\\anaconda3\\envs\\aws\\lib\\site-packages\\botocore\\endpoint.py:239\u001b[0m, in \u001b[0;36mEndpoint._get_response\u001b[1;34m(self, request, operation_model, context)\u001b[0m\n\u001b[0;32m    233\u001b[0m \u001b[38;5;28;01mdef\u001b[39;00m\u001b[38;5;250m \u001b[39m\u001b[38;5;21m_get_response\u001b[39m(\u001b[38;5;28mself\u001b[39m, request, operation_model, context):\n\u001b[0;32m    234\u001b[0m     \u001b[38;5;66;03m# This will return a tuple of (success_response, exception)\u001b[39;00m\n\u001b[0;32m    235\u001b[0m     \u001b[38;5;66;03m# and success_response is itself a tuple of\u001b[39;00m\n\u001b[0;32m    236\u001b[0m     \u001b[38;5;66;03m# (http_response, parsed_dict).\u001b[39;00m\n\u001b[0;32m    237\u001b[0m     \u001b[38;5;66;03m# If an exception occurs then the success_response is None.\u001b[39;00m\n\u001b[0;32m    238\u001b[0m     \u001b[38;5;66;03m# If no exception occurs then exception is None.\u001b[39;00m\n\u001b[1;32m--> 239\u001b[0m     success_response, exception \u001b[38;5;241m=\u001b[39m \u001b[38;5;28;43mself\u001b[39;49m\u001b[38;5;241;43m.\u001b[39;49m\u001b[43m_do_get_response\u001b[49m\u001b[43m(\u001b[49m\n\u001b[0;32m    240\u001b[0m \u001b[43m        \u001b[49m\u001b[43mrequest\u001b[49m\u001b[43m,\u001b[49m\u001b[43m \u001b[49m\u001b[43moperation_model\u001b[49m\u001b[43m,\u001b[49m\u001b[43m \u001b[49m\u001b[43mcontext\u001b[49m\n\u001b[0;32m    241\u001b[0m \u001b[43m    \u001b[49m\u001b[43m)\u001b[49m\n\u001b[0;32m    242\u001b[0m     kwargs_to_emit \u001b[38;5;241m=\u001b[39m {\n\u001b[0;32m    243\u001b[0m         \u001b[38;5;124m'\u001b[39m\u001b[38;5;124mresponse_dict\u001b[39m\u001b[38;5;124m'\u001b[39m: \u001b[38;5;28;01mNone\u001b[39;00m,\n\u001b[0;32m    244\u001b[0m         \u001b[38;5;124m'\u001b[39m\u001b[38;5;124mparsed_response\u001b[39m\u001b[38;5;124m'\u001b[39m: \u001b[38;5;28;01mNone\u001b[39;00m,\n\u001b[0;32m    245\u001b[0m         \u001b[38;5;124m'\u001b[39m\u001b[38;5;124mcontext\u001b[39m\u001b[38;5;124m'\u001b[39m: context,\n\u001b[0;32m    246\u001b[0m         \u001b[38;5;124m'\u001b[39m\u001b[38;5;124mexception\u001b[39m\u001b[38;5;124m'\u001b[39m: exception,\n\u001b[0;32m    247\u001b[0m     }\n\u001b[0;32m    248\u001b[0m     \u001b[38;5;28;01mif\u001b[39;00m success_response \u001b[38;5;129;01mis\u001b[39;00m \u001b[38;5;129;01mnot\u001b[39;00m \u001b[38;5;28;01mNone\u001b[39;00m:\n",
      "File \u001b[1;32mc:\\Users\\Song\\anaconda3\\envs\\aws\\lib\\site-packages\\botocore\\endpoint.py:279\u001b[0m, in \u001b[0;36mEndpoint._do_get_response\u001b[1;34m(self, request, operation_model, context)\u001b[0m\n\u001b[0;32m    277\u001b[0m     http_response \u001b[38;5;241m=\u001b[39m first_non_none_response(responses)\n\u001b[0;32m    278\u001b[0m     \u001b[38;5;28;01mif\u001b[39;00m http_response \u001b[38;5;129;01mis\u001b[39;00m \u001b[38;5;28;01mNone\u001b[39;00m:\n\u001b[1;32m--> 279\u001b[0m         http_response \u001b[38;5;241m=\u001b[39m \u001b[38;5;28;43mself\u001b[39;49m\u001b[38;5;241;43m.\u001b[39;49m\u001b[43m_send\u001b[49m\u001b[43m(\u001b[49m\u001b[43mrequest\u001b[49m\u001b[43m)\u001b[49m\n\u001b[0;32m    280\u001b[0m \u001b[38;5;28;01mexcept\u001b[39;00m HTTPClientError \u001b[38;5;28;01mas\u001b[39;00m e:\n\u001b[0;32m    281\u001b[0m     \u001b[38;5;28;01mreturn\u001b[39;00m (\u001b[38;5;28;01mNone\u001b[39;00m, e)\n",
      "File \u001b[1;32mc:\\Users\\Song\\anaconda3\\envs\\aws\\lib\\site-packages\\botocore\\endpoint.py:383\u001b[0m, in \u001b[0;36mEndpoint._send\u001b[1;34m(self, request)\u001b[0m\n\u001b[0;32m    382\u001b[0m \u001b[38;5;28;01mdef\u001b[39;00m\u001b[38;5;250m \u001b[39m\u001b[38;5;21m_send\u001b[39m(\u001b[38;5;28mself\u001b[39m, request):\n\u001b[1;32m--> 383\u001b[0m     \u001b[38;5;28;01mreturn\u001b[39;00m \u001b[38;5;28;43mself\u001b[39;49m\u001b[38;5;241;43m.\u001b[39;49m\u001b[43mhttp_session\u001b[49m\u001b[38;5;241;43m.\u001b[39;49m\u001b[43msend\u001b[49m\u001b[43m(\u001b[49m\u001b[43mrequest\u001b[49m\u001b[43m)\u001b[49m\n",
      "File \u001b[1;32mc:\\Users\\Song\\anaconda3\\envs\\aws\\lib\\site-packages\\botocore\\httpsession.py:464\u001b[0m, in \u001b[0;36mURLLib3Session.send\u001b[1;34m(self, request)\u001b[0m\n\u001b[0;32m    461\u001b[0m     conn\u001b[38;5;241m.\u001b[39mproxy_headers[\u001b[38;5;124m'\u001b[39m\u001b[38;5;124mhost\u001b[39m\u001b[38;5;124m'\u001b[39m] \u001b[38;5;241m=\u001b[39m host\n\u001b[0;32m    463\u001b[0m request_target \u001b[38;5;241m=\u001b[39m \u001b[38;5;28mself\u001b[39m\u001b[38;5;241m.\u001b[39m_get_request_target(request\u001b[38;5;241m.\u001b[39murl, proxy_url)\n\u001b[1;32m--> 464\u001b[0m urllib_response \u001b[38;5;241m=\u001b[39m \u001b[43mconn\u001b[49m\u001b[38;5;241;43m.\u001b[39;49m\u001b[43murlopen\u001b[49m\u001b[43m(\u001b[49m\n\u001b[0;32m    465\u001b[0m \u001b[43m    \u001b[49m\u001b[43mmethod\u001b[49m\u001b[38;5;241;43m=\u001b[39;49m\u001b[43mrequest\u001b[49m\u001b[38;5;241;43m.\u001b[39;49m\u001b[43mmethod\u001b[49m\u001b[43m,\u001b[49m\n\u001b[0;32m    466\u001b[0m \u001b[43m    \u001b[49m\u001b[43murl\u001b[49m\u001b[38;5;241;43m=\u001b[39;49m\u001b[43mrequest_target\u001b[49m\u001b[43m,\u001b[49m\n\u001b[0;32m    467\u001b[0m \u001b[43m    \u001b[49m\u001b[43mbody\u001b[49m\u001b[38;5;241;43m=\u001b[39;49m\u001b[43mrequest\u001b[49m\u001b[38;5;241;43m.\u001b[39;49m\u001b[43mbody\u001b[49m\u001b[43m,\u001b[49m\n\u001b[0;32m    468\u001b[0m \u001b[43m    \u001b[49m\u001b[43mheaders\u001b[49m\u001b[38;5;241;43m=\u001b[39;49m\u001b[43mrequest\u001b[49m\u001b[38;5;241;43m.\u001b[39;49m\u001b[43mheaders\u001b[49m\u001b[43m,\u001b[49m\n\u001b[0;32m    469\u001b[0m \u001b[43m    \u001b[49m\u001b[43mretries\u001b[49m\u001b[38;5;241;43m=\u001b[39;49m\u001b[43mRetry\u001b[49m\u001b[43m(\u001b[49m\u001b[38;5;28;43;01mFalse\u001b[39;49;00m\u001b[43m)\u001b[49m\u001b[43m,\u001b[49m\n\u001b[0;32m    470\u001b[0m \u001b[43m    \u001b[49m\u001b[43massert_same_host\u001b[49m\u001b[38;5;241;43m=\u001b[39;49m\u001b[38;5;28;43;01mFalse\u001b[39;49;00m\u001b[43m,\u001b[49m\n\u001b[0;32m    471\u001b[0m \u001b[43m    \u001b[49m\u001b[43mpreload_content\u001b[49m\u001b[38;5;241;43m=\u001b[39;49m\u001b[38;5;28;43;01mFalse\u001b[39;49;00m\u001b[43m,\u001b[49m\n\u001b[0;32m    472\u001b[0m \u001b[43m    \u001b[49m\u001b[43mdecode_content\u001b[49m\u001b[38;5;241;43m=\u001b[39;49m\u001b[38;5;28;43;01mFalse\u001b[39;49;00m\u001b[43m,\u001b[49m\n\u001b[0;32m    473\u001b[0m \u001b[43m    \u001b[49m\u001b[43mchunked\u001b[49m\u001b[38;5;241;43m=\u001b[39;49m\u001b[38;5;28;43mself\u001b[39;49m\u001b[38;5;241;43m.\u001b[39;49m\u001b[43m_chunked\u001b[49m\u001b[43m(\u001b[49m\u001b[43mrequest\u001b[49m\u001b[38;5;241;43m.\u001b[39;49m\u001b[43mheaders\u001b[49m\u001b[43m)\u001b[49m\u001b[43m,\u001b[49m\n\u001b[0;32m    474\u001b[0m \u001b[43m\u001b[49m\u001b[43m)\u001b[49m\n\u001b[0;32m    476\u001b[0m http_response \u001b[38;5;241m=\u001b[39m botocore\u001b[38;5;241m.\u001b[39mawsrequest\u001b[38;5;241m.\u001b[39mAWSResponse(\n\u001b[0;32m    477\u001b[0m     request\u001b[38;5;241m.\u001b[39murl,\n\u001b[0;32m    478\u001b[0m     urllib_response\u001b[38;5;241m.\u001b[39mstatus,\n\u001b[0;32m    479\u001b[0m     urllib_response\u001b[38;5;241m.\u001b[39mheaders,\n\u001b[0;32m    480\u001b[0m     urllib_response,\n\u001b[0;32m    481\u001b[0m )\n\u001b[0;32m    483\u001b[0m \u001b[38;5;28;01mif\u001b[39;00m \u001b[38;5;129;01mnot\u001b[39;00m request\u001b[38;5;241m.\u001b[39mstream_output:\n\u001b[0;32m    484\u001b[0m     \u001b[38;5;66;03m# Cause the raw stream to be exhausted immediately. We do it\u001b[39;00m\n\u001b[0;32m    485\u001b[0m     \u001b[38;5;66;03m# this way instead of using preload_content because\u001b[39;00m\n\u001b[0;32m    486\u001b[0m     \u001b[38;5;66;03m# preload_content will never buffer chunked responses\u001b[39;00m\n",
      "File \u001b[1;32mc:\\Users\\Song\\anaconda3\\envs\\aws\\lib\\site-packages\\urllib3\\connectionpool.py:787\u001b[0m, in \u001b[0;36mHTTPConnectionPool.urlopen\u001b[1;34m(self, method, url, body, headers, retries, redirect, assert_same_host, timeout, pool_timeout, release_conn, chunked, body_pos, preload_content, decode_content, **response_kw)\u001b[0m\n\u001b[0;32m    784\u001b[0m response_conn \u001b[38;5;241m=\u001b[39m conn \u001b[38;5;28;01mif\u001b[39;00m \u001b[38;5;129;01mnot\u001b[39;00m release_conn \u001b[38;5;28;01melse\u001b[39;00m \u001b[38;5;28;01mNone\u001b[39;00m\n\u001b[0;32m    786\u001b[0m \u001b[38;5;66;03m# Make the request on the HTTPConnection object\u001b[39;00m\n\u001b[1;32m--> 787\u001b[0m response \u001b[38;5;241m=\u001b[39m \u001b[38;5;28mself\u001b[39m\u001b[38;5;241m.\u001b[39m_make_request(\n\u001b[0;32m    788\u001b[0m     conn,\n\u001b[0;32m    789\u001b[0m     method,\n\u001b[0;32m    790\u001b[0m     url,\n\u001b[0;32m    791\u001b[0m     timeout\u001b[38;5;241m=\u001b[39mtimeout_obj,\n\u001b[0;32m    792\u001b[0m     body\u001b[38;5;241m=\u001b[39mbody,\n\u001b[0;32m    793\u001b[0m     headers\u001b[38;5;241m=\u001b[39mheaders,\n\u001b[0;32m    794\u001b[0m     chunked\u001b[38;5;241m=\u001b[39mchunked,\n\u001b[0;32m    795\u001b[0m     retries\u001b[38;5;241m=\u001b[39mretries,\n\u001b[0;32m    796\u001b[0m     response_conn\u001b[38;5;241m=\u001b[39mresponse_conn,\n\u001b[0;32m    797\u001b[0m     preload_content\u001b[38;5;241m=\u001b[39mpreload_content,\n\u001b[0;32m    798\u001b[0m     decode_content\u001b[38;5;241m=\u001b[39mdecode_content,\n\u001b[0;32m    799\u001b[0m     \u001b[38;5;241m*\u001b[39m\u001b[38;5;241m*\u001b[39mresponse_kw,\n\u001b[0;32m    800\u001b[0m )\n\u001b[0;32m    802\u001b[0m \u001b[38;5;66;03m# Everything went great!\u001b[39;00m\n\u001b[0;32m    803\u001b[0m clean_exit \u001b[38;5;241m=\u001b[39m \u001b[38;5;28;01mTrue\u001b[39;00m\n",
      "File \u001b[1;32mc:\\Users\\Song\\anaconda3\\envs\\aws\\lib\\site-packages\\urllib3\\connectionpool.py:534\u001b[0m, in \u001b[0;36mHTTPConnectionPool._make_request\u001b[1;34m(self, conn, method, url, body, headers, retries, timeout, chunked, response_conn, preload_content, decode_content, enforce_content_length)\u001b[0m\n\u001b[0;32m    532\u001b[0m \u001b[38;5;66;03m# Receive the response from the server\u001b[39;00m\n\u001b[0;32m    533\u001b[0m \u001b[38;5;28;01mtry\u001b[39;00m:\n\u001b[1;32m--> 534\u001b[0m     response \u001b[38;5;241m=\u001b[39m \u001b[43mconn\u001b[49m\u001b[38;5;241;43m.\u001b[39;49m\u001b[43mgetresponse\u001b[49m\u001b[43m(\u001b[49m\u001b[43m)\u001b[49m\n\u001b[0;32m    535\u001b[0m \u001b[38;5;28;01mexcept\u001b[39;00m (BaseSSLError, \u001b[38;5;167;01mOSError\u001b[39;00m) \u001b[38;5;28;01mas\u001b[39;00m e:\n\u001b[0;32m    536\u001b[0m     \u001b[38;5;28mself\u001b[39m\u001b[38;5;241m.\u001b[39m_raise_timeout(err\u001b[38;5;241m=\u001b[39me, url\u001b[38;5;241m=\u001b[39murl, timeout_value\u001b[38;5;241m=\u001b[39mread_timeout)\n",
      "File \u001b[1;32mc:\\Users\\Song\\anaconda3\\envs\\aws\\lib\\site-packages\\urllib3\\connection.py:565\u001b[0m, in \u001b[0;36mHTTPConnection.getresponse\u001b[1;34m(self)\u001b[0m\n\u001b[0;32m    562\u001b[0m _shutdown \u001b[38;5;241m=\u001b[39m \u001b[38;5;28mgetattr\u001b[39m(\u001b[38;5;28mself\u001b[39m\u001b[38;5;241m.\u001b[39msock, \u001b[38;5;124m\"\u001b[39m\u001b[38;5;124mshutdown\u001b[39m\u001b[38;5;124m\"\u001b[39m, \u001b[38;5;28;01mNone\u001b[39;00m)\n\u001b[0;32m    564\u001b[0m \u001b[38;5;66;03m# Get the response from http.client.HTTPConnection\u001b[39;00m\n\u001b[1;32m--> 565\u001b[0m httplib_response \u001b[38;5;241m=\u001b[39m \u001b[38;5;28;43msuper\u001b[39;49m\u001b[43m(\u001b[49m\u001b[43m)\u001b[49m\u001b[38;5;241;43m.\u001b[39;49m\u001b[43mgetresponse\u001b[49m\u001b[43m(\u001b[49m\u001b[43m)\u001b[49m\n\u001b[0;32m    567\u001b[0m \u001b[38;5;28;01mtry\u001b[39;00m:\n\u001b[0;32m    568\u001b[0m     assert_header_parsing(httplib_response\u001b[38;5;241m.\u001b[39mmsg)\n",
      "File \u001b[1;32mc:\\Users\\Song\\anaconda3\\envs\\aws\\lib\\http\\client.py:1375\u001b[0m, in \u001b[0;36mHTTPConnection.getresponse\u001b[1;34m(self)\u001b[0m\n\u001b[0;32m   1373\u001b[0m \u001b[38;5;28;01mtry\u001b[39;00m:\n\u001b[0;32m   1374\u001b[0m     \u001b[38;5;28;01mtry\u001b[39;00m:\n\u001b[1;32m-> 1375\u001b[0m         \u001b[43mresponse\u001b[49m\u001b[38;5;241;43m.\u001b[39;49m\u001b[43mbegin\u001b[49m\u001b[43m(\u001b[49m\u001b[43m)\u001b[49m\n\u001b[0;32m   1376\u001b[0m     \u001b[38;5;28;01mexcept\u001b[39;00m \u001b[38;5;167;01mConnectionError\u001b[39;00m:\n\u001b[0;32m   1377\u001b[0m         \u001b[38;5;28mself\u001b[39m\u001b[38;5;241m.\u001b[39mclose()\n",
      "File \u001b[1;32mc:\\Users\\Song\\anaconda3\\envs\\aws\\lib\\http\\client.py:318\u001b[0m, in \u001b[0;36mHTTPResponse.begin\u001b[1;34m(self)\u001b[0m\n\u001b[0;32m    316\u001b[0m \u001b[38;5;66;03m# read until we get a non-100 response\u001b[39;00m\n\u001b[0;32m    317\u001b[0m \u001b[38;5;28;01mwhile\u001b[39;00m \u001b[38;5;28;01mTrue\u001b[39;00m:\n\u001b[1;32m--> 318\u001b[0m     version, status, reason \u001b[38;5;241m=\u001b[39m \u001b[38;5;28;43mself\u001b[39;49m\u001b[38;5;241;43m.\u001b[39;49m\u001b[43m_read_status\u001b[49m\u001b[43m(\u001b[49m\u001b[43m)\u001b[49m\n\u001b[0;32m    319\u001b[0m     \u001b[38;5;28;01mif\u001b[39;00m status \u001b[38;5;241m!=\u001b[39m CONTINUE:\n\u001b[0;32m    320\u001b[0m         \u001b[38;5;28;01mbreak\u001b[39;00m\n",
      "File \u001b[1;32mc:\\Users\\Song\\anaconda3\\envs\\aws\\lib\\http\\client.py:279\u001b[0m, in \u001b[0;36mHTTPResponse._read_status\u001b[1;34m(self)\u001b[0m\n\u001b[0;32m    278\u001b[0m \u001b[38;5;28;01mdef\u001b[39;00m\u001b[38;5;250m \u001b[39m\u001b[38;5;21m_read_status\u001b[39m(\u001b[38;5;28mself\u001b[39m):\n\u001b[1;32m--> 279\u001b[0m     line \u001b[38;5;241m=\u001b[39m \u001b[38;5;28mstr\u001b[39m(\u001b[38;5;28;43mself\u001b[39;49m\u001b[38;5;241;43m.\u001b[39;49m\u001b[43mfp\u001b[49m\u001b[38;5;241;43m.\u001b[39;49m\u001b[43mreadline\u001b[49m\u001b[43m(\u001b[49m\u001b[43m_MAXLINE\u001b[49m\u001b[43m \u001b[49m\u001b[38;5;241;43m+\u001b[39;49m\u001b[43m \u001b[49m\u001b[38;5;241;43m1\u001b[39;49m\u001b[43m)\u001b[49m, \u001b[38;5;124m\"\u001b[39m\u001b[38;5;124miso-8859-1\u001b[39m\u001b[38;5;124m\"\u001b[39m)\n\u001b[0;32m    280\u001b[0m     \u001b[38;5;28;01mif\u001b[39;00m \u001b[38;5;28mlen\u001b[39m(line) \u001b[38;5;241m>\u001b[39m _MAXLINE:\n\u001b[0;32m    281\u001b[0m         \u001b[38;5;28;01mraise\u001b[39;00m LineTooLong(\u001b[38;5;124m\"\u001b[39m\u001b[38;5;124mstatus line\u001b[39m\u001b[38;5;124m\"\u001b[39m)\n",
      "File \u001b[1;32mc:\\Users\\Song\\anaconda3\\envs\\aws\\lib\\socket.py:717\u001b[0m, in \u001b[0;36mSocketIO.readinto\u001b[1;34m(self, b)\u001b[0m\n\u001b[0;32m    715\u001b[0m \u001b[38;5;28;01mwhile\u001b[39;00m \u001b[38;5;28;01mTrue\u001b[39;00m:\n\u001b[0;32m    716\u001b[0m     \u001b[38;5;28;01mtry\u001b[39;00m:\n\u001b[1;32m--> 717\u001b[0m         \u001b[38;5;28;01mreturn\u001b[39;00m \u001b[38;5;28;43mself\u001b[39;49m\u001b[38;5;241;43m.\u001b[39;49m\u001b[43m_sock\u001b[49m\u001b[38;5;241;43m.\u001b[39;49m\u001b[43mrecv_into\u001b[49m\u001b[43m(\u001b[49m\u001b[43mb\u001b[49m\u001b[43m)\u001b[49m\n\u001b[0;32m    718\u001b[0m     \u001b[38;5;28;01mexcept\u001b[39;00m timeout:\n\u001b[0;32m    719\u001b[0m         \u001b[38;5;28mself\u001b[39m\u001b[38;5;241m.\u001b[39m_timeout_occurred \u001b[38;5;241m=\u001b[39m \u001b[38;5;28;01mTrue\u001b[39;00m\n",
      "File \u001b[1;32mc:\\Users\\Song\\anaconda3\\envs\\aws\\lib\\ssl.py:1307\u001b[0m, in \u001b[0;36mSSLSocket.recv_into\u001b[1;34m(self, buffer, nbytes, flags)\u001b[0m\n\u001b[0;32m   1303\u001b[0m     \u001b[38;5;28;01mif\u001b[39;00m flags \u001b[38;5;241m!=\u001b[39m \u001b[38;5;241m0\u001b[39m:\n\u001b[0;32m   1304\u001b[0m         \u001b[38;5;28;01mraise\u001b[39;00m \u001b[38;5;167;01mValueError\u001b[39;00m(\n\u001b[0;32m   1305\u001b[0m           \u001b[38;5;124m\"\u001b[39m\u001b[38;5;124mnon-zero flags not allowed in calls to recv_into() on \u001b[39m\u001b[38;5;132;01m%s\u001b[39;00m\u001b[38;5;124m\"\u001b[39m \u001b[38;5;241m%\u001b[39m\n\u001b[0;32m   1306\u001b[0m           \u001b[38;5;28mself\u001b[39m\u001b[38;5;241m.\u001b[39m\u001b[38;5;18m__class__\u001b[39m)\n\u001b[1;32m-> 1307\u001b[0m     \u001b[38;5;28;01mreturn\u001b[39;00m \u001b[38;5;28;43mself\u001b[39;49m\u001b[38;5;241;43m.\u001b[39;49m\u001b[43mread\u001b[49m\u001b[43m(\u001b[49m\u001b[43mnbytes\u001b[49m\u001b[43m,\u001b[49m\u001b[43m \u001b[49m\u001b[43mbuffer\u001b[49m\u001b[43m)\u001b[49m\n\u001b[0;32m   1308\u001b[0m \u001b[38;5;28;01melse\u001b[39;00m:\n\u001b[0;32m   1309\u001b[0m     \u001b[38;5;28;01mreturn\u001b[39;00m \u001b[38;5;28msuper\u001b[39m()\u001b[38;5;241m.\u001b[39mrecv_into(buffer, nbytes, flags)\n",
      "File \u001b[1;32mc:\\Users\\Song\\anaconda3\\envs\\aws\\lib\\ssl.py:1163\u001b[0m, in \u001b[0;36mSSLSocket.read\u001b[1;34m(self, len, buffer)\u001b[0m\n\u001b[0;32m   1161\u001b[0m \u001b[38;5;28;01mtry\u001b[39;00m:\n\u001b[0;32m   1162\u001b[0m     \u001b[38;5;28;01mif\u001b[39;00m buffer \u001b[38;5;129;01mis\u001b[39;00m \u001b[38;5;129;01mnot\u001b[39;00m \u001b[38;5;28;01mNone\u001b[39;00m:\n\u001b[1;32m-> 1163\u001b[0m         \u001b[38;5;28;01mreturn\u001b[39;00m \u001b[38;5;28;43mself\u001b[39;49m\u001b[38;5;241;43m.\u001b[39;49m\u001b[43m_sslobj\u001b[49m\u001b[38;5;241;43m.\u001b[39;49m\u001b[43mread\u001b[49m\u001b[43m(\u001b[49m\u001b[38;5;28;43mlen\u001b[39;49m\u001b[43m,\u001b[49m\u001b[43m \u001b[49m\u001b[43mbuffer\u001b[49m\u001b[43m)\u001b[49m\n\u001b[0;32m   1164\u001b[0m     \u001b[38;5;28;01melse\u001b[39;00m:\n\u001b[0;32m   1165\u001b[0m         \u001b[38;5;28;01mreturn\u001b[39;00m \u001b[38;5;28mself\u001b[39m\u001b[38;5;241m.\u001b[39m_sslobj\u001b[38;5;241m.\u001b[39mread(\u001b[38;5;28mlen\u001b[39m)\n",
      "\u001b[1;31mKeyboardInterrupt\u001b[0m: "
     ]
    }
   ],
   "source": [
    "company_info_agent.get_basic_info(f\"\"\"\n",
    "Hãy kiểm tra và cập nhật lại các trường thông tin này giúp tôi.Nếu thông tin không tìm thấy có thể bỏ trống. \n",
    "Chỉ cần cập nhật lại không cần nói rõ thông tin nào giữ, thông tin nào thay đổi.\n",
    "{str(output.companyInfo)}\n",
    "                                  \"\"\")"
   ]
  }
 ],
 "metadata": {
  "kernelspec": {
   "display_name": "aws",
   "language": "python",
   "name": "python3"
  },
  "language_info": {
   "codemirror_mode": {
    "name": "ipython",
    "version": 3
   },
   "file_extension": ".py",
   "mimetype": "text/x-python",
   "name": "python",
   "nbconvert_exporter": "python",
   "pygments_lexer": "ipython3",
   "version": "3.10.18"
  }
 },
 "nbformat": 4,
 "nbformat_minor": 5
}
